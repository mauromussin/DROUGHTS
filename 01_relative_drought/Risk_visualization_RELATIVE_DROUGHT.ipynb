{
 "cells": [
  {
   "cell_type": "markdown",
   "id": "a2968329-883c-47cd-a3c2-7b29f1db56f0",
   "metadata": {},
   "source": [
    "# Relative Drought hazard and risk visualization\n",
    "\n",
    "Click [![Binder](https://mybinder.org/badge_logo.svg)](https://mybinder.org/v2/gh/CLIMAAX/DROUGHTS/HEAD?labpath=01_relative_drought%2Risk_visualization_RELATIVE_DROUGHT.ipynb) to launch this workflow on MyBinder. "
   ]
  },
  {
   "cell_type": "markdown",
   "id": "de0122b0",
   "metadata": {},
   "source": [
    "## Aims of the workflow\n",
    "\n",
    "This workflow aims for vizualising and exploring the relative drought risk. It includes maps of relative drought risk at NUTS3 for different European countries.\n",
    "\n",
    ":::{caution}\n",
    "The workflow is not applicable to the following countries, as they do not have NUTS3 level: Montenegro (ME), Cyprus (CY), Malta (MT), Lithuania (LI), Luxemburg (LU); or to Iceland (IS) due to missing exposure data.\n",
    ":::\n",
    "\n"
   ]
  },
  {
   "cell_type": "markdown",
   "id": "1fb27a2d-47f5-4163-8154-b7bc9d3a7c1e",
   "metadata": {},
   "source": [
    "## Preliminaries\n",
    "\n",
    "### Load libraries\n",
    "\n",
    ":::{admonition} Find more info about the libraries used in this workflow here\n",
    ":class: hint dropdown\n",
    "\n",
    "- [os](https://docs.python.org/3/library/os.html) - To create directories and work with files\n",
    "- [urllib](https://docs.python.org/3/library/urllib.html), [pooch](https://www.fatiando.org/pooch/latest/index.html) - To access to online resources\n",
    "- [pandas](https://pandas.pydata.org/docs/user_guide/index.html) - To create and manage data frames (tables) in Python\n",
    "- [geopandas](https://geopandas.org/en/stable/docs.html) - Extend pandas to store and manipulate spatial data\n",
    "- [plotly](https://plotly.com/python/) - For dynamic and interactive plotting\n",
    ":::"
   ]
  },
  {
   "cell_type": "code",
   "execution_count": 1,
   "id": "07ddd159-9069-4c5e-a2d2-455d75a0a86a",
   "metadata": {},
   "outputs": [],
   "source": [
    "import os\n",
    "import urllib\n",
    "import pooch\n",
    "os.environ['USE_PYGEOS'] = '0'\n",
    "import pandas as pd\n",
    "import geopandas as gpd\n",
    "import plotly.express as px\n",
    "import plotly.graph_objects as go"
   ]
  },
  {
   "cell_type": "markdown",
   "id": "7c030412-3dd3-416e-b73e-788229edcb90",
   "metadata": {},
   "source": [
    "### Define working environment and global parameters\n",
    "This workflow relies on pre-proceessed data. The user will define the path to the data folder and the code below will create a folder for outputs.\n"
   ]
  },
  {
   "cell_type": "code",
   "execution_count": 2,
   "id": "920ffaf0-7650-4279-86bc-40165551053f",
   "metadata": {},
   "outputs": [],
   "source": [
    "# Set working environment\n",
    "workflow_folder = \"./sample_data_nuts3\""
   ]
  },
  {
   "cell_type": "markdown",
   "id": "3e3d80d8-2027-45bd-ba08-57069aaf2945",
   "metadata": {},
   "source": [
    "### Access to sample dataset\n",
    "\n",
    "Load the file registry for the `droughtrisk_sample_nuts3` dataset in the CLIMAAX cloud storage with pooch."
   ]
  },
  {
   "cell_type": "code",
   "execution_count": 3,
   "id": "b2618b18-94f7-4f4c-ab1c-c9182c4e85ec",
   "metadata": {},
   "outputs": [],
   "source": [
    "sample_data_pooch = pooch.create(\n",
    "    path=workflow_folder,\n",
    "    base_url=\"https://object-store.os-api.cci1.ecmwf.int/climaax/droughtrisk_sample_nuts3/\"\n",
    ")\n",
    "sample_data_pooch.load_registry(\"files_registry.txt\")"
   ]
  },
  {
   "cell_type": "markdown",
   "id": "20ca2816-fc4e-45f8-8f98-c613b5043360",
   "metadata": {},
   "source": [
    "If any files requested below were downloaded before, pooch will inspect the local file contents and skip the download if the contents match expectations."
   ]
  },
  {
   "cell_type": "markdown",
   "id": "2b71ff12-cc8d-45ff-9b62-cdeb6e0304fe",
   "metadata": {},
   "source": [
    "### Load NUTS3 spatial data and define regions of interest\n",
    "\n",
    "NUTS3 data is available in various resolutions: 1:1M (`01M`), 1:3M (`03M`), 1:10M (`10M`), 1:20M (`20M`) and 1:60M (`60M`)."
   ]
  },
  {
   "cell_type": "code",
   "execution_count": 4,
   "id": "db7c9b63-4298-4970-83e5-e36ea29a3809",
   "metadata": {},
   "outputs": [],
   "source": [
    "nuts3_resolution = \"10M\"\n",
    "\n",
    "nuts = None\n",
    "while nuts is None:\n",
    "    try:\n",
    "        nuts = gpd.read_file(\n",
    "            'https://gisco-services.ec.europa.eu/distribution/v2/nuts/geojson/'\n",
    "            f'NUTS_RG_{nuts3_resolution}_2021_4326_LEVL_3.geojson'\n",
    "        )\n",
    "    except urllib.error.HTTPError as e:\n",
    "        # Retry download for 503 errors\n",
    "        if e.code != 503:\n",
    "            raise e\n",
    "\n",
    "nuts['Location'] = nuts['CNTR_CODE'] + ': ' + nuts['NAME_LATN']\n",
    "nuts = nuts.set_index('Location')"
   ]
  },
  {
   "cell_type": "markdown",
   "id": "0aaaccfc-cf8e-46ba-a440-2c689c4892a9",
   "metadata": {},
   "source": [
    "### Select country codes"
   ]
  },
  {
   "cell_type": "code",
   "execution_count": null,
   "id": "b179b9fa-a2f9-4537-9c83-0124003d2931",
   "metadata": {},
   "outputs": [],
   "source": [
    "print(\"Choose country code from: \", nuts['CNTR_CODE'].unique())"
   ]
  },
  {
   "cell_type": "code",
   "execution_count": null,
   "id": "0d217173-87a4-471a-8789-c902e06d49e7",
   "metadata": {},
   "outputs": [],
   "source": [
    "# set country code\n",
    "ccode = \"IT\" # choose from the country codes printed above"
   ]
  },
  {
   "cell_type": "code",
   "execution_count": null,
   "id": "892b83fc-e377-4868-85c7-a7574ac7b3df",
   "metadata": {},
   "outputs": [],
   "source": [
    "# validate country selection and subset regions\n",
    "if not nuts['CNTR_CODE'].str.contains(ccode).any():\n",
    "    print(\"Country code: \", ccode, \" is not valid; please choose a valid country code.\")\n",
    "else:\n",
    "    nuts = nuts.query('CNTR_CODE in @ccode')"
   ]
  },
  {
   "cell_type": "markdown",
   "id": "d75c4193-feb7-4595-812d-24d8c6a7645a",
   "metadata": {},
   "source": [
    "### Loading hazard data and concatenate historic with future datasets\n",
    "Hazard data is provided in the format required at the NUTS3 level for EU countries in the sample_data folder: e.g. \"droughthazard_ES_historic.csv\". The workflow for calculating the hazard data is available in the Hazard Assessment notebook."
   ]
  },
  {
   "cell_type": "code",
   "execution_count": null,
   "id": "77dda686-ae8a-4fff-891d-483233fe7eab",
   "metadata": {},
   "outputs": [],
   "source": [
    "# Load the CSV files into a DataFrame\n",
    "\n",
    "# Set scenarios to be loaded #####\n",
    "\n",
    "data = ['historic',  'ssp126_nf', 'ssp126_ff',  'ssp370_nf', 'ssp370_ff', 'ssp585_nf', 'ssp585_ff']\n",
    "# complete list: 'historic',  'ssp126_nf', 'ssp126_ff',  'ssp370_nf', 'ssp370_ff', 'ssp585_nf', 'ssp585_ff'\n",
    "\n",
    "count = 0\n",
    "\n",
    "for d in data:\n",
    "    df_file = sample_data_pooch.fetch(f\"outputs_hazards/droughthazard_{ccode}_{d}.csv\")\n",
    "    df = pd.read_csv(df_file)\n",
    "    # Print the first 5 rows of the DataFrame\n",
    "    df['data']=f\"{d}\" #create a new column with the data specification\n",
    "\n",
    "    if count == 0:\n",
    "        df_ =  df\n",
    "        count = 1\n",
    "    else:\n",
    "        df_ = pd.concat([df_, df], axis=0) #concatenate the  data in a single dataframe"
   ]
  },
  {
   "cell_type": "markdown",
   "id": "bb35cfa6-d6f7-48fb-a056-aa94414a4f6f",
   "metadata": {},
   "source": [
    "### Choose the focal (NUTS2) area"
   ]
  },
  {
   "cell_type": "code",
   "execution_count": null,
   "id": "51df6a42-587f-47af-ba91-b5358b41f729",
   "metadata": {},
   "outputs": [],
   "source": [
    "#create a group column for the NUTS2 regions\n",
    "df_['NUTS2'] = df_['NUTS_ID'].str.slice(0,4)\n",
    "\n",
    "# list NUTS2 region:\n",
    "print(\"Choose nuts2 region from: \", df_['NUTS2'].unique())"
   ]
  },
  {
   "cell_type": "code",
   "execution_count": null,
   "id": "c8dbe38a-4789-41fb-a41a-aea73caf5c04",
   "metadata": {},
   "outputs": [],
   "source": [
    "# Set the focal area\n",
    "focal = 'ITF1'  # choose from the nuts2 printed above\n"
   ]
  },
  {
   "cell_type": "markdown",
   "id": "cc226388-4397-44ee-a5f4-12838e9d0019",
   "metadata": {},
   "source": [
    "### Loading drought risk data and concatenate historic risk and with future risk datasets\n",
    "Drought risk data is provided in the format required at the NUTS3 level for EU countries in the sample_data folder: e.g. \"droughtrisk_ES_historic.csv\". The workflow for calculating the hazard data is available in the Drought Risk assessment notebook."
   ]
  },
  {
   "cell_type": "code",
   "execution_count": null,
   "id": "5415d150-a822-45dd-9776-cec4f88d17dd",
   "metadata": {},
   "outputs": [],
   "source": [
    "count = 0\n",
    "\n",
    "for d in data:\n",
    "    df_file = sample_data_pooch.fetch(f\"outputs/droughtrisk_{ccode}_{d}.csv\")\n",
    "    df = pd.read_csv(df_file)\n",
    "    # Print the first 5 rows of the DataFrame\n",
    "    df['data']=f\"{d}\" #create a new column with the data specification\n",
    "    if count == 0:\n",
    "        df_ = df\n",
    "        count = 1\n",
    "    else:\n",
    "        df_ = pd.concat([df_, df], axis=0) #concatenate the  data in a single dataframe\n",
    "\n",
    "loc_ = pd.DataFrame(nuts[['NUTS_ID']])\n",
    "loc_['Location'] = list(pd.DataFrame(nuts[['NUTS_ID']]).index)\n",
    "df_ = loc_.merge(df_, on='NUTS_ID')"
   ]
  },
  {
   "cell_type": "code",
   "execution_count": null,
   "id": "3c1fcc97-df82-4531-9902-d7bf6d05a196",
   "metadata": {},
   "outputs": [],
   "source": [
    "# Subset dataset for the focal area\n",
    "focal_area = df_['NUTS_ID'].str.slice(0,4) == focal\n",
    "df_focal_area = df_[focal_area][[\"NUTS_ID\", \"wasp_raw_mean\", \"wasp_raw_q25\", 'wasp_raw_median', \"wasp_raw_q75\", \"wasp_raw_count\", \"hazard_raw\", 'data']]"
   ]
  },
  {
   "cell_type": "markdown",
   "id": "c0732148-d3dc-4cea-8f93-0bbb140294ce",
   "metadata": {},
   "source": [
    "## What is the relative drought risk in each NUTS3 of the selected country?\n",
    "\n",
    "This map allows to compare the drought risk category between NUTS3 regions within a selected country. It also allows to see how the relative drought risk category of the regions changes in relation to each other in the different datasets (e.g. historical, ssp126 near future, ssp126 far future, etc.).\n",
    "\n",
    ":::{note}\n",
    "Results on risk category for each region are always relative to the other regions considered in the workflow (here: country level) and therefore should not be considered as absolute risk level. This means that a region showing a higher projected risk score relative to the historical baseline, does not necessarily experience higher drought risk, rather it is more at risk relative to other areas in its country. Please refer to the risk assessment workflow for more details on how drought risk is calculated.\n",
    ":::"
   ]
  },
  {
   "cell_type": "code",
   "execution_count": null,
   "id": "f6bc58f5-d5b4-4109-8f04-17e406517a7e",
   "metadata": {
    "slideshow": {
     "slide_type": ""
    },
    "tags": []
   },
   "outputs": [],
   "source": [
    "x_nuts, y_nuts = gpd.GeoSeries(nuts.geometry).unary_union.centroid.xy\n",
    "\n",
    "# Update time ref.\n",
    "df_['data'] = df_['data'].replace({\"_nf\": \", 2050\", \"_ff\": \", 2080\"}, regex=True)\n",
    "\n",
    "fig = px.choropleth_mapbox(df_, geojson=nuts.geometry, locations='Location', color='risk_cat',\\\n",
    "                  animation_frame = 'data', color_continuous_scale=\"reds\", range_color = [1,5],\\\n",
    "                           mapbox_style=\"open-street-map\")\n",
    "\n",
    "# Customize line properties for selected polygons\n",
    "fig.update_geos(fitbounds=\"locations\", visible=False)\n",
    "\n",
    "fig.update_layout(title=\"Current and projected drought risk\",\n",
    "                  mapbox_center = {\"lat\": list(y_nuts)[0], \"lon\": list(x_nuts)[0]},\n",
    "                  mapbox_zoom=4,\n",
    "                  height=700,\n",
    "                 coloraxis_colorbar=dict(\n",
    "                    title= \"Risk category\",\n",
    "                    tickvals = [1, 2, 3, 4, 5],\n",
    "                    ticktext = [1, 2, 3, 4, 5]\n",
    "                 ))\n",
    "\n",
    "fig.show()"
   ]
  },
  {
   "cell_type": "markdown",
   "id": "c9dc4a6b-7f5f-4090-ac1c-5ee29b68afe4",
   "metadata": {},
   "source": [
    "## How do the relative drought risk for the NUTS3 change in the future?\n",
    "\n",
    "The relative drought risk in each NUTS3 under different scenario can be benchmarked against the risk of neighboring areas.\n",
    "\n",
    ":::{note}\n",
    "Results on risk category for each region are always relative to the other regions considered in the workflow (here: country level) and therefore should not be considered as absolute risk level. This means that a region showing a higher projected risk score relative to the historical baseline, does not necessarily experience higher drought risk, rather it is more at risk relative to other areas in its country. Please refer to the risk assessment workflow for more details on how drought risk is calculated.\n",
    ":::"
   ]
  },
  {
   "cell_type": "code",
   "execution_count": null,
   "id": "0e76010e-a28b-4c00-a383-34d019436205",
   "metadata": {},
   "outputs": [],
   "source": [
    "print('Line chart for historic and future relative drought risk in the focal area (NUTS2)')\n",
    "\n",
    "###maybe make it costumizabe for users to choose what to chose on the x axis###\n",
    "df_['NUTS2'] = df_['NUTS_ID'].str.slice(0,4)\n",
    "df_focal_area = df_[df_['NUTS2'] == focal]\n",
    "nmes = nuts.loc[nuts['NUTS_ID'].str.slice(0,4) == focal, ['NUTS_ID', 'NAME_LATN', 'NUTS_NAME']]\n",
    "df_focal_area = df_focal_area.merge(nmes, on='NUTS_ID')\n",
    "\n",
    "fig4 = go.Figure()\n",
    "\n",
    "for nuts3_ in df_focal_area['NAME_LATN'].unique():\n",
    "    df_focal_area_ = df_focal_area.loc[df_focal_area['NAME_LATN'] == nuts3_, ]\n",
    "    fig4.add_trace(go.Bar(\n",
    "      x = [df_focal_area_['data'],\n",
    "           df_focal_area_['NAME_LATN']],\n",
    "      y = df_focal_area_['risk_raw'],\n",
    "      name = nuts3_\n",
    "    ))\n",
    "\n",
    "fig4.show()"
   ]
  },
  {
   "cell_type": "markdown",
   "id": "2f6709b0-c671-418e-97ff-463c6eb23d26",
   "metadata": {},
   "source": [
    "## How do the absolute drought hazard (WASP value) for the NUTS3 change in the future?\n",
    "\n",
    "Compare the WASP values (median, q25 and q75) between NUTS3 level for historic and future scenarios in the focal (NUTS2) area. Absolute higher values mean more severe precipitation deficit for a region compared to the others in the same dataset. Drought hazard metrics are absolute and comparable among datasets, and can thus help users to understand if changes on relative drough risk of NUTS3 regions are accompanied by an increasing drought hazard. Changes in exposure and vulnerability  also affect drought risk, and users are encouraged to carefully select exposure and vulnerability indicators, adapting them to their regional context and data availability. For more detailes on how these values are calculated, please see the Hazard Assessment notebook."
   ]
  },
  {
   "cell_type": "code",
   "execution_count": null,
   "id": "94ff23f0-b96b-4297-a260-3171985c0f8b",
   "metadata": {},
   "outputs": [],
   "source": [
    "fig = go.Figure()\n",
    "\n",
    "# change WASP values in absolute values\n",
    "# needed in order to simplify the visualization\n",
    "df_focal_area['wasp_raw_mean'] = abs(df_focal_area['wasp_raw_mean'])\n",
    "df_focal_area['wasp_raw_median']= abs(df_focal_area['wasp_raw_median'])\n",
    "df_focal_area['wasp_raw_q75']= abs(df_focal_area['wasp_raw_q75'])\n",
    "df_focal_area['wasp_raw_q25']= abs(df_focal_area['wasp_raw_q25'])\n",
    "\n",
    "fig.add_trace(go.Bar(\n",
    "  x = [df_focal_area['NAME_LATN'],\n",
    "       df_focal_area['data']],\n",
    "  y = df_focal_area['wasp_raw_median'],\n",
    "  marker_color = '#8CAED2',\n",
    "  name = \"Median\"\n",
    "))\n",
    "\n",
    "fig.add_trace(go.Scatter(\n",
    "  x = [df_focal_area['NAME_LATN'],\n",
    "       df_focal_area['data']],\n",
    "  y = df_focal_area['wasp_raw_q25'],\n",
    "  name = \"Quantile-75%\",\n",
    "  marker_color = \"#9cbd7e\",\n",
    "  mode = \"markers\"\n",
    "))\n",
    "\n",
    "fig.add_trace(go.Scatter(\n",
    "  x = [df_focal_area['NAME_LATN'],\n",
    "       df_focal_area['data']],\n",
    "  y = df_focal_area['wasp_raw_q75'],\n",
    "  name = \"Quantile-25%\",\n",
    "  marker_color = \"#e4bace\",\n",
    "  mode = \"markers\"\n",
    "))\n",
    "\n",
    "fig.update_layout(title=\"WASP Indices values for historic and future scenarios\",\n",
    "                 xaxis=dict(\n",
    "                 tickangle=90,  # Rotate the labels by 45 degrees\n",
    "                 tickfont=dict(\n",
    "                      size=10  # Adjust font size\n",
    "                  )))\n",
    "\n",
    "fig.show()"
   ]
  },
  {
   "cell_type": "markdown",
   "id": "d64892be-f4ce-4591-b3e4-c566fbb43843",
   "metadata": {},
   "source": [
    "## Conclusions\n",
    "\n",
    "The above workflow is used to visualise the relative drought hazard and drought risk of European NUTS3 regions within a selected country and a focal NUTS2 area. The change in drought hazard and relative (not absolute, see warning above) drought risk between different NUTS3 regions can be compared between different scenarios and timeframes. \n",
    "\n",
    "Preprocessed data at European NUTS3 level is available for the following scenarios:\n",
    "- historical (1981-2015)\n",
    "- SSP1-RCP2.6 near future (2031-2060)\n",
    "- SSP1-RCP2.6 far future (2071-2100)\n",
    "- SSP3-RCP7.0 near future (2031-2060)\n",
    "- SSP3-RCP2.0 far future (2071-2100)\n",
    "- SSP5-RCP8.5 near future (2031-2060)\n",
    "- SSP5-RCP8.5 far future (2071-2100)"
   ]
  },
  {
   "cell_type": "markdown",
   "id": "5a5a2ce2-93e6-4aa7-ba83-bff0f28b00f4",
   "metadata": {},
   "source": [
    "## Contributors\n",
    "The workflow has beend developed by [Silvia Artuso](https://iiasa.ac.at/staff/silvia-artuso) and [Dor Fridman](https://iiasa.ac.at/staff/dor-fridman) from [IIASA's Water Security Research Group](https://iiasa.ac.at/programs/biodiversity-and-natural-resources-bnr/water-security), and supported by [Michaela Bachmann](https://iiasa.ac.at/staff/michaela-bachmann) from [IIASA's Systemic Risk and Reslience Research Group](https://iiasa.ac.at/programs/advancing-systems-analysis-asa/systemic-risk-and-resilience)."
   ]
  }
 ],
 "metadata": {
  "kernelspec": {
   "display_name": "Python 3 (ipykernel)",
   "language": "python",
   "name": "python3"
  },
  "language_info": {
   "codemirror_mode": {
    "name": "ipython",
    "version": 3
   },
   "file_extension": ".py",
   "mimetype": "text/x-python",
   "name": "python",
   "nbconvert_exporter": "python",
   "pygments_lexer": "ipython3",
   "version": "3.8.10"
  }
 },
 "nbformat": 4,
 "nbformat_minor": 5
}
