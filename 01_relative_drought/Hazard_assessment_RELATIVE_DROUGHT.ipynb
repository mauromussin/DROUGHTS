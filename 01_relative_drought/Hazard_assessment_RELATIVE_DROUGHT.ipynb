{
 "cells": [
  {
   "cell_type": "markdown",
   "id": "114c11c0-af34-4523-92fb-9a0d62cd518b",
   "metadata": {
    "tags": []
   },
   "source": [
    "# Hazard assessment for relative drought\n",
    "\n",
    "Click [![Binder](https://mybinder.org/badge_logo.svg)](https://mybinder.org/v2/gh/CLIMAAX/DROUGHTS/HEAD?labpath=01_relative_drought%2Hazard_assessment_RELATIVE_DROUGHT.ipynb) to launch this workflow on MyBinder. "
   ]
  },
  {
   "cell_type": "markdown",
   "id": "3f3b8a4d-966a-41f5-9e15-421fea4ae651",
   "metadata": {},
   "source": [
    "In this workflow drought hazard (dH) for a given region is estimated as the probability of exceedance the median of regional (e.g., EU level) severe precipitation deficits for an historical reference period (e.g. 1979-2019) or for a future projection period (e.g. 2015-2100). The methodology used here was developed and applied globally by Carrão et al. (2016) $^1$.\n",
    "\n",
    "Workflow on how to quantify drough risk as the product of drought hazard, exposure and vulnerability can be found in the Risk_assessement notebook. Visualization tools based on preprocessed results for both drought hazard and drought risk can be found in Risk_visualization notebook.\n",
    " \n",
    "Below is a description of the data and tools used to calculate drought hazard, both for the historic period and for future scenarios, and the outputs of this workflow.\n",
    "\n",
    "\n",
    "![hazard.png](images/hazard.png)"
   ]
  },
  {
   "cell_type": "markdown",
   "id": "7c707b10",
   "metadata": {},
   "source": [
    "### Input files\n",
    "\n",
    "This workflows requires monthly total precipitation for each NUTS3 region during the historical reference period or future projection period in a selected country.\n",
    "\n",
    "Pre-processed data is available for the historic workflow as well as future projections. For the historic workflow, we used GSWP3-W5E5 global meteorological forcing data processed for ISIMIP3a, sets on a 0.5°x0.5°C global grid and at daily time steps for the historical period of 1979-2019 (https://doi.org/10.48364/ISIMIP.982724.2). For the future projections, we used the ISIMIP3b bias-adjusted atmospheric climate input data, available for 5 CMIP6 global climate models (GFDL-ESM4, IPSL-CM6A-LR, MPI-ESM1-2-HR, MRI-ESM2-0, UKESM1-0-LL), and three SSP-RCPs combinations (SSP126, SSP370, SSP585) (https://doi.org/10.48364/ISIMIP.842396.1). In this case, we used an ensemble average of the five different global climate model for each of the three SSP-RCPs combinations.\n",
    "\n",
    "\n",
    ":::{note}\n",
    "The expected data format is a table where each row represents the total precipitation in mm for a month/year combination, and each column represents an area of interest (e.g. NUTS3 region). The first column contains the date in this format YYYY-MM-DD. The **title of the first columns has to be 'timing' and the rest of the titles have to be the codes of the areas of interest (e.g. NUTS3), which have to be identical to the codes as they appear in the NUTS3 spatial data from the <a href = \"https://ec.europa.eu/eurostat/en/web/nuts/background\">European Commission</a>**.\n",
    ":::\n",
    "\n",
    "Tables with precipitation data were created for each dataset (historic and future projections) and saved as separate .csv files. Furthermore, for each of the selected SSP-RCPs combinations (SSP126, SSP370, SSP585) we created separate input files for the years 2015-2050 (near-future) and 2050-2080 (far-future). Users can either use our pre-processed data or choose to use their own precipitation data for calculating the drought hazard."
   ]
  },
  {
   "cell_type": "markdown",
   "id": "4ee36081",
   "metadata": {},
   "source": [
    "### Methodology\n",
    "\n",
    "We use the weighted anomaly of standardized precipitation (WASP) index to define the severity of precipitation deficit. The WASP-index takes into account the annual seasonality of the precipitation cycle and is computed by summing weighted standardized monthly precipitation anomalies (see Eq. 1). Where $P_{n,m}$ is each region's monthly precipitation, $T_m$ is a monthly threshold defining precipitation severity, and $T_A$ is an annual threshold for precipitation severity. The thresholds are defined by dividing multi-annual monthly observed rain using the 'Fisher-jenks' classification algorithm $^2$. \n",
    "\n",
    "Eq. 1:\n",
    "\n",
    "$$WASP_j = \\Sigma_{P_{n,m} < T_m}^{P_{n,m} >= T_m}( \\frac{P_{n,m} - T_m}{T_m})*\\frac{T_m}{T_A}$$\n"
   ]
  },
  {
   "cell_type": "markdown",
   "id": "eecad8da",
   "metadata": {},
   "source": [
    "### Limitation\n",
    "\n",
    "For future scenarios, model uncertainity is not taken into account as we used an average of 5 different CMIP6 global climate models (GFDL-ESM4, IPSL-CM6A-LR, MPI-ESM1-2-HR, MRI-ESM2-0, UKESM1-0-LL) for each of the three SSP-RCPs combinations (SSP126, SSP370, SSP585). We recommended that users explore model uncertainty on our workflow on their own."
   ]
  },
  {
   "cell_type": "markdown",
   "id": "6cf6c3e8",
   "metadata": {},
   "source": [
    "## Workflow implementation\n",
    "\n",
    "### Load libraries\n",
    "\n",
    ":::{admonition} Find more info about the libraries used in this workflow here\n",
    ":class: hint dropdown\n",
    "\n",
    "- [os](https://docs.python.org/3/library/os.html) - To create directories and work with files\n",
    "- [urllib](https://docs.python.org/3/library/urllib.html), [pooch](https://www.fatiando.org/pooch/latest/index.html) - To access and download online resources\n",
    "- [pandas](https://pandas.pydata.org/docs/user_guide/index.html) - To create and manage data frames (tables) in Python\n",
    "- [geopandas](https://geopandas.org/en/stable/docs.html) - Extend pandas to store and manipulate spatial data\n",
    "- [numpy](https://numpy.org/doc/stable/) - For basic math tools and operations\n",
    "- [scipy](https://scipy.org/) - Provide advanced mathematical tools and optimization capacities \n",
    "- [jenkspy](https://github.com/mthh/jenkspy) - To apply Fisher-Jenks alogrithm \n",
    "- [json](https://docs.python.org/3/library/json.html) - To load, store and manipuilate JSON objects\n",
    "- [pyproj](https://pyproj4.github.io/pyproj/stable/) - An interface to a geographic projections and transformations library\n",
    "- [matplotlib](https://matplotlib.org/) - For plotting\n",
    "- [plotly](https://plotly.com/python/) - For dynamic and interactive plotting\n",
    "- [datetime](https://docs.python.org/3/library/datetime.html) - For handling dates in Python\n",
    ":::"
   ]
  },
  {
   "cell_type": "code",
   "execution_count": 10,
   "id": "d06a2286",
   "metadata": {},
   "outputs": [],
   "source": [
    "import os\n",
    "import urllib\n",
    "import pooch\n",
    "os.environ['USE_PYGEOS'] = '0'\n",
    "import pandas as pd\n",
    "import geopandas as gpd\n",
    "import numpy as np\n",
    "import scipy\n",
    "import jenkspy\n",
    "import json\n",
    "import pyproj\n",
    "import plotly.express as px\n",
    "import matplotlib.pyplot as plt\n",
    "from datetime import datetime\n",
    "from datetime import date"
   ]
  },
  {
   "cell_type": "markdown",
   "id": "7b5b9ec1",
   "metadata": {},
   "source": [
    "### Define working environment and global parameters\n",
    "\n",
    "This workflow relies on pre-processed data. The user will define the path to the data folder and the code below would create a folder for outputs."
   ]
  },
  {
   "cell_type": "code",
   "execution_count": 17,
   "id": "2ad5f46f",
   "metadata": {},
   "outputs": [],
   "source": [
    "# Set working environment\n",
    "workflow_folder = './sample_data_nuts3/'\n",
    "\n",
    "# Define scenario 0: historic; 1: SSP1-2.6; 2: SSP3-7.0. 3: SSP5-8.5\n",
    "scn = 0\n",
    "\n",
    "# Define time (applicable only for the future): 0: near-future (2050); 1: far-future (2080)\n",
    "time = 0\n",
    "\n",
    "pattern = \"historic\"\n",
    "pattern_h = \"historic\"\n",
    "if scn != 0:\n",
    "    pattern_h = ['ssp126', 'ssp370', 'ssp585'][scn - 1]\n",
    "    pattern = ['ssp126', 'ssp370', 'ssp585'][scn - 1] + '_' + ['nf', 'ff'][time]\n",
    "\n",
    "# debug if folder does not exist - issue an error to check path\n",
    "\n",
    "# Create outputs folder\n",
    "name_output_folder = 'outputs_hazards'\n",
    "os.makedirs(os.path.join(workflow_folder, name_output_folder), exist_ok=True)"
   ]
  },
  {
   "cell_type": "markdown",
   "id": "0481754f-dcaa-48e1-925e-a7a78752903b",
   "metadata": {},
   "source": [
    "### Access to sample dataset\n",
    "\n",
    "Load the file registry for the `droughtrisk_sample_nuts3` dataset in the CLIMAAX cloud storage with pooch."
   ]
  },
  {
   "cell_type": "code",
   "execution_count": 12,
   "id": "65de35cd-098c-480d-b829-3757fbc5dc06",
   "metadata": {},
   "outputs": [],
   "source": [
    "sample_data_pooch = pooch.create(\n",
    "    path=workflow_folder,\n",
    "    base_url=\"https://object-store.os-api.cci1.ecmwf.int/climaax/droughtrisk_sample_nuts3/\"\n",
    ")\n",
    "sample_data_pooch.load_registry(\"files_registry.txt\")"
   ]
  },
  {
   "cell_type": "markdown",
   "id": "cccc203b",
   "metadata": {},
   "source": [
    "If any files requested below were downloaded before, pooch will inspect the local file contents and skip the download if the contents match expectations.\n",
    "\n",
    "### Choose country code\n",
    "\n",
    "Choose country code from:  \n",
    "'HR', 'DE', 'BG', 'AT', 'AL', 'BE', 'ES', 'CH', 'CZ', 'EL', 'FR', 'FI', 'EE', 'DK', 'CY', 'HU', 'NL', 'NO', 'LV', 'LT', 'IS', 'MK', 'MT', 'IT', 'TR', 'PL', 'RO', 'SE', 'RS', 'PT', 'IE', 'UK', 'ME', 'LU', 'SK', 'SI' ,'LI'"
   ]
  },
  {
   "cell_type": "code",
   "execution_count": 13,
   "id": "4e5b6ff7",
   "metadata": {},
   "outputs": [],
   "source": [
    "ccode = \"AL\""
   ]
  },
  {
   "cell_type": "markdown",
   "id": "50eb7d4d",
   "metadata": {},
   "source": [
    "### Load and visualize precipitation data"
   ]
  },
  {
   "cell_type": "code",
   "execution_count": 22,
   "id": "636f561d",
   "metadata": {},
   "outputs": [
    {
     "name": "stdout",
     "output_type": "stream",
     "text": [
      "Analyzing drought hazard. This process may take few minutes...\n",
      "\n",
      "\n",
      "         timing     BG423     BG424     BG425     CH011     CH012     CH013  \\\n",
      "0    1901-01-31  0.000102  0.000090  0.000074  0.000264  0.000257  0.000101   \n",
      "1    1901-02-28  0.000098  0.000064  0.000018  0.000184  0.000138  0.000063   \n",
      "2    1901-03-31  0.000101  0.000089  0.000077  0.000323  0.000581  0.000117   \n",
      "3    1901-04-30  0.000130  0.000081  0.000058  0.000557  0.000655  0.000201   \n",
      "4    1901-05-31  0.000132  0.000108  0.000060  0.000112  0.000176  0.000054   \n",
      "...         ...       ...       ...       ...       ...       ...       ...   \n",
      "1424 2019-09-30  0.000078  0.000078  0.000028  0.000112  0.000191  0.000035   \n",
      "1425 2019-10-31  0.000078  0.000111  0.000108  0.000384  0.000535  0.000137   \n",
      "1426 2019-11-30  0.000290  0.000420  0.000261  0.000449  0.000689  0.000181   \n",
      "1427 2019-12-31  0.000153  0.000146  0.000096  0.000493  0.000523  0.000178   \n",
      "1428        NaT       NaN       NaN       NaN       NaN       NaN       NaN   \n",
      "\n",
      "         CH021     CH022     CH023  ...     UKK43     UKL11     UKL12  \\\n",
      "0     0.000353  0.000137  0.000061  ...  0.000311  0.000056  0.000216   \n",
      "1     0.000246  0.000087  0.000053  ...  0.000172  0.000044  0.000140   \n",
      "2     0.000664  0.000195  0.000086  ...  0.000265  0.000065  0.000238   \n",
      "3     0.000985  0.000329  0.000172  ...  0.000309  0.000045  0.000170   \n",
      "4     0.000201  0.000047  0.000027  ...  0.000121  0.000028  0.000073   \n",
      "...        ...       ...       ...  ...       ...       ...       ...   \n",
      "1424  0.000250  0.000081  0.000045  ...  0.000434  0.000091  0.000319   \n",
      "1425  0.000677  0.000219  0.000111  ...  0.000553  0.000118  0.000351   \n",
      "1426  0.000680  0.000232  0.000073  ...  0.000553  0.000090  0.000298   \n",
      "1427  0.000573  0.000257  0.000080  ...  0.000526  0.000069  0.000271   \n",
      "1428       NaN       NaN       NaN  ...       NaN       NaN       NaN   \n",
      "\n",
      "         UKL13     UKL14     UKL15     UKL16     ITG2F     BE329     NO060  \n",
      "0     0.000247  0.000438  0.000131  0.000092  0.000064  0.000026  0.001742  \n",
      "1     0.000177  0.000229  0.000075  0.000054  0.000089  0.000026  0.002528  \n",
      "2     0.000270  0.000394  0.000117  0.000084  0.000074  0.000068  0.001707  \n",
      "3     0.000205  0.000360  0.000136  0.000098  0.000005  0.000053  0.000927  \n",
      "4     0.000096  0.000119  0.000042  0.000028  0.000062  0.000021  0.000496  \n",
      "...        ...       ...       ...       ...       ...       ...       ...  \n",
      "1424  0.000395  0.000581  0.000213  0.000151  0.000020  0.000031  0.004026  \n",
      "1425  0.000380  0.000682  0.000248  0.000177  0.000052  0.000072  0.001998  \n",
      "1426  0.000348  0.000676  0.000227  0.000152  0.000258  0.000046  0.001545  \n",
      "1427  0.000314  0.000608  0.000247  0.000170  0.000151  0.000063  0.003614  \n",
      "1428       NaN       NaN       NaN       NaN       NaN       NaN       NaN  \n",
      "\n",
      "[1429 rows x 1497 columns]\n"
     ]
    },
    {
     "ename": "NameError",
     "evalue": "name 'z' is not defined",
     "output_type": "error",
     "traceback": [
      "\u001b[1;31m---------------------------------------------------------------------------\u001b[0m",
      "\u001b[1;31mNameError\u001b[0m                                 Traceback (most recent call last)",
      "\u001b[1;32m~\\AppData\\Local\\Temp/ipykernel_100588/3619008114.py\u001b[0m in \u001b[0;36m<module>\u001b[1;34m\u001b[0m\n\u001b[0;32m     13\u001b[0m \u001b[1;31m#precip = pd.concat([precip.iloc[:, 0], precip.iloc[:, 1:].reindex(sorted(precip.columns[1:]), axis=1)], axis=1)\u001b[0m\u001b[1;33m\u001b[0m\u001b[1;33m\u001b[0m\u001b[1;33m\u001b[0m\u001b[0m\n\u001b[0;32m     14\u001b[0m \u001b[0mprint\u001b[0m\u001b[1;33m(\u001b[0m\u001b[0mprecip\u001b[0m\u001b[1;33m)\u001b[0m\u001b[1;33m\u001b[0m\u001b[1;33m\u001b[0m\u001b[0m\n\u001b[1;32m---> 15\u001b[1;33m \u001b[0mprint\u001b[0m\u001b[1;33m(\u001b[0m\u001b[0mz\u001b[0m\u001b[1;33m)\u001b[0m\u001b[1;33m\u001b[0m\u001b[1;33m\u001b[0m\u001b[0m\n\u001b[0m\u001b[0;32m     16\u001b[0m \u001b[1;31m# sort precip alphabetical order\u001b[0m\u001b[1;33m\u001b[0m\u001b[1;33m\u001b[0m\u001b[1;33m\u001b[0m\u001b[0m\n\u001b[0;32m     17\u001b[0m \u001b[1;31m# time  subset\u001b[0m\u001b[1;33m\u001b[0m\u001b[1;33m\u001b[0m\u001b[1;33m\u001b[0m\u001b[0m\n",
      "\u001b[1;31mNameError\u001b[0m: name 'z' is not defined"
     ]
    }
   ],
   "source": [
    "# Download precipitation data for selected scenario\n",
    "precip_file = sample_data_pooch.fetch(f\"drought_hazard_{pattern_h}.csv\")\n",
    "\n",
    "print(\"Analyzing drought hazard. This process may take few minutes...\")\n",
    "print('\\n')\n",
    "\n",
    "# Load precipitation data\n",
    "precip = pd.read_csv(precip_file)\n",
    "# Convert timing column to datetime\n",
    "precip['timing'] = pd.to_datetime(precip['timing'], format='%Y-%m-%d')\n",
    "#'%b-%Y'\n",
    "\n",
    "# sort precip alphabetical order\n",
    "precip = pd.concat([precip.iloc[:, 0], precip.iloc[:, 1:].reindex(sorted(precip.columns[1:]), axis=1)], axis=1)\n",
    "# sort precip alphabetical order\n",
    "# time  subset\n",
    "\n",
    "if scn != 0:\n",
    "    if time == 0:\n",
    "        precip = precip.loc[(precip['timing'].dt.date >= date(2020,1,1)) & (precip['timing'].dt.date  < date(2060,1,1)), :]\n",
    "    else:\n",
    "        precip = precip.loc[(precip['timing'].dt.date >= date(2060,1,1)) & (precip['timing'].dt.date  < date(2100,1,1)), :]\n",
    "else:\n",
    "    precip = precip.loc[(precip['timing'].dt.date >= date(1979,1,1)) & (precip['timing'].dt.date  < date(2020,1,1)), :]\n",
    "\n",
    "# col_subset aims to extract the relevant results\n",
    "precip = precip.reset_index()\n",
    "\n",
    "col_subset = list(precip.columns.str.contains(ccode))\n",
    "col_subset[1] = True\n",
    "precip = precip.loc[:, col_subset]\n",
    "\n",
    "# clean NaN rows & missing columns\n",
    "precip = precip.loc[~np.array(precip.isna().all(axis = 1)),:]\n",
    "\n",
    "drop_regions = []\n",
    "\n",
    "# missing data in columns\n",
    "col_subset = np.array(precip.isna().all(axis = 0))\n",
    "drop_regions += list(precip.columns[col_subset])\n",
    "precip = precip.loc[:, ~col_subset]\n",
    "\n",
    "regions = precip.columns[1:]\n",
    "output = pd.DataFrame(regions, columns = ['NUTS_ID'])\n",
    "\n",
    "print(\"The following regions are dropped due to missing data: \"+ str(drop_regions))\n",
    "print('\\n')\n",
    "print('Input precipitation data (top 3 rows): ')\n",
    "print(precip.head(3))"
   ]
  },
  {
   "cell_type": "markdown",
   "id": "4fd605c8",
   "metadata": {},
   "source": [
    "### Calculate WASP Index (Weighted Anomaly Standardized Precipitation) monthly threshold"
   ]
  },
  {
   "cell_type": "code",
   "execution_count": 15,
   "id": "27ccf421",
   "metadata": {},
   "outputs": [
    {
     "name": "stdout",
     "output_type": "stream",
     "text": [
      "        timing     AL011     AL012     AL013     AL014     AL015     AL021  \\\n",
      "0   2020-01-31  0.000220  0.000073  0.000197  0.000130  0.000377  0.000199   \n",
      "1   2020-02-29  0.000279  0.000100  0.000245  0.000160  0.000459  0.000255   \n",
      "2   2020-03-31  0.000258  0.000082  0.000235  0.000150  0.000418  0.000224   \n",
      "3   2020-04-30  0.000233  0.000077  0.000204  0.000127  0.000340  0.000221   \n",
      "4   2020-05-31  0.000165  0.000048  0.000145  0.000086  0.000218  0.000155   \n",
      "..         ...       ...       ...       ...       ...       ...       ...   \n",
      "475 2059-08-31  0.000066  0.000011  0.000079  0.000034  0.000111  0.000041   \n",
      "476 2059-09-30  0.000134  0.000035  0.000135  0.000070  0.000246  0.000115   \n",
      "477 2059-10-31  0.000142  0.000047  0.000139  0.000085  0.000297  0.000121   \n",
      "478 2059-11-30  0.000247  0.000080  0.000225  0.000141  0.000407  0.000229   \n",
      "479 2059-12-31  0.000329  0.000106  0.000299  0.000187  0.000572  0.000311   \n",
      "\n",
      "        AL022     AL031     AL032     AL033     AL034     AL035  \n",
      "0    0.000187  0.000174  0.000174  0.000278  0.000230  0.000245  \n",
      "1    0.000242  0.000231  0.000218  0.000394  0.000300  0.000343  \n",
      "2    0.000208  0.000188  0.000179  0.000299  0.000249  0.000249  \n",
      "3    0.000188  0.000160  0.000148  0.000231  0.000241  0.000182  \n",
      "4    0.000123  0.000104  0.000096  0.000139  0.000171  0.000104  \n",
      "..        ...       ...       ...       ...       ...       ...  \n",
      "475  0.000030  0.000019  0.000016  0.000025  0.000042  0.000017  \n",
      "476  0.000101  0.000089  0.000093  0.000150  0.000127  0.000127  \n",
      "477  0.000131  0.000098  0.000118  0.000141  0.000118  0.000133  \n",
      "478  0.000204  0.000207  0.000203  0.000345  0.000294  0.000285  \n",
      "479  0.000283  0.000285  0.000276  0.000503  0.000409  0.000428  \n",
      "\n",
      "[480 rows x 13 columns]\n"
     ]
    },
    {
     "ename": "NameError",
     "evalue": "name 'z' is not defined",
     "output_type": "error",
     "traceback": [
      "\u001b[1;31m---------------------------------------------------------------------------\u001b[0m",
      "\u001b[1;31mNameError\u001b[0m                                 Traceback (most recent call last)",
      "\u001b[1;32m~\\AppData\\Local\\Temp/ipykernel_100588/762247047.py\u001b[0m in \u001b[0;36m<module>\u001b[1;34m\u001b[0m\n\u001b[0;32m      6\u001b[0m \u001b[1;31m# prepare output for drought event index - WASP_j- list of lists wasp = [[rid1], [rid2], ...]\u001b[0m\u001b[1;33m\u001b[0m\u001b[1;33m\u001b[0m\u001b[1;33m\u001b[0m\u001b[0m\n\u001b[0;32m      7\u001b[0m \u001b[0mprint\u001b[0m\u001b[1;33m(\u001b[0m\u001b[0mdrought_class\u001b[0m\u001b[1;33m)\u001b[0m\u001b[1;33m\u001b[0m\u001b[1;33m\u001b[0m\u001b[0m\n\u001b[1;32m----> 8\u001b[1;33m \u001b[0mprint\u001b[0m\u001b[1;33m(\u001b[0m\u001b[0mz\u001b[0m\u001b[1;33m)\u001b[0m\u001b[1;33m\u001b[0m\u001b[1;33m\u001b[0m\u001b[0m\n\u001b[0m\u001b[0;32m      9\u001b[0m \u001b[0mfile_path_tm\u001b[0m \u001b[1;33m=\u001b[0m \u001b[0mos\u001b[0m\u001b[1;33m.\u001b[0m\u001b[0mpath\u001b[0m\u001b[1;33m.\u001b[0m\u001b[0mjoin\u001b[0m\u001b[1;33m(\u001b[0m\u001b[0mworkflow_folder\u001b[0m\u001b[1;33m,\u001b[0m \u001b[0mname_output_folder\u001b[0m\u001b[1;33m,\u001b[0m \u001b[1;34mf'tm_hist_{ccode}.csv'\u001b[0m\u001b[1;33m)\u001b[0m\u001b[1;33m\u001b[0m\u001b[1;33m\u001b[0m\u001b[0m\n\u001b[0;32m     10\u001b[0m \u001b[0mload_thresholds\u001b[0m \u001b[1;33m=\u001b[0m \u001b[0mos\u001b[0m\u001b[1;33m.\u001b[0m\u001b[0mpath\u001b[0m\u001b[1;33m.\u001b[0m\u001b[0misfile\u001b[0m\u001b[1;33m(\u001b[0m\u001b[0mfile_path_tm\u001b[0m\u001b[1;33m)\u001b[0m\u001b[1;33m\u001b[0m\u001b[1;33m\u001b[0m\u001b[0m\n",
      "\u001b[1;31mNameError\u001b[0m: name 'z' is not defined"
     ]
    }
   ],
   "source": [
    "# create empty arrays and tables for intermediate and final results\n",
    "WASP = []\n",
    "WASP_global = []\n",
    "drought_class = precip.copy()\n",
    "\n",
    "# prepare output for drought event index - WASP_j- list of lists wasp = [[rid1], [rid2], ...]\n",
    "file_path_tm = os.path.join(workflow_folder, name_output_folder, f'tm_hist_{ccode}.csv')\n",
    "load_thresholds = os.path.isfile(file_path_tm)\n",
    "\n",
    "if load_thresholds:\n",
    "    # load pre-calculated arrays for annual and monthly water deficit thresholds\n",
    "    t_m = pd.read_csv(os.path.join(workflow_folder, name_output_folder, f'tm_hist_{ccode}.csv'))\n",
    "    t_a = list(pd.read_csv(os.path.join(workflow_folder, name_output_folder, f'ta_hist_{ccode}.csv')).t_a)\n",
    "    \n",
    "else:\n",
    "    # empty array for the monthly water deficit thresholds\n",
    "    t_m = pd.DataFrame(np.tile([0], (12, len(precip.columns) - 1)))\n",
    "    \n",
    "for i in range(1, len(precip.columns)):\n",
    "\n",
    "    # For every NUTS3 out of all regions - do the following:\n",
    "\n",
    "    for mon_ in range(1, 13):\n",
    "        # For every month out of all all months (January, ..., December) - do the following:\n",
    "\n",
    "        # calculate monthly drought threshold -\\\n",
    "            # using a division of the data into to clusters with the Jenks' (Natural breaks) algorithm\n",
    "        r_idx = precip.index[precip.timing.dt.month == mon_].tolist()\n",
    "        if not load_thresholds:\n",
    "            t_m_last = jenkspy.jenks_breaks(precip.iloc[r_idx, i], n_classes = 2)[1]\n",
    "            t_m.iloc[mon_ - 1, i - 1] = t_m_last\n",
    "\n",
    "\n",
    "        # Define every month with water deficity (precipitation < threshold) as a drought month\n",
    "        drought_class.iloc[r_idx, i] = (drought_class.iloc[r_idx, i] < t_m.iloc[mon_ - 1, i - 1]).astype(int)\n",
    "\n",
    "    # calculate annual water deficit threshold\n",
    "    if not load_thresholds:\n",
    "        t_a = list(t_m.sum(axis = 0))\n",
    "\n",
    "    t_m0 = t_m.iloc[:, i - 1]\n",
    "    t_a0 = t_a[i-1]\n",
    "    # calculate droughts' magnitude and duration using the WASP indicator\n",
    "    WASP_tmp = []\n",
    "    first_true=0\n",
    "    index = []\n",
    "    for k in range(1, len(precip)):\n",
    "        # for every row (ordered month-year combinations):\n",
    "            # check if drought month -> calculate drought accumulated magnitude (over 1+ months)\n",
    "        if drought_class.iloc[k, i]== 1:\n",
    "            # In case of a drought month\n",
    "            # calculate monthly WASP index\n",
    "            index = int(drought_class.timing.dt.month[k] - 1)\n",
    "            # WASP monthly index: [(precipitation - month_threshold)/month_threshold)]*[month_threshold/annual_treshold]\n",
    "            WASP_last=((precip.iloc[k,i] - t_m0[index])/t_m0[index])* (t_m0[index]/t_a0)\n",
    "\n",
    "            if first_true==0:\n",
    "                # if this is the first month in a drought event:\n",
    "                # append calculated monthly wasp to WASP array.\n",
    "                WASP_tmp.append(WASP_last)\n",
    "                first_true=1\n",
    "            else:\n",
    "                # if this is NOT the first month in a drought event:\n",
    "                # add the calculated monthly wasp to last element in the WASP array (accumulative drought).\n",
    "                WASP_tmp[-1]=WASP_tmp[-1] + WASP_last\n",
    "            WASP_global.append(WASP_last)\n",
    "        else:\n",
    "            # check if not drought month - do not calculate WASP\n",
    "            first_true=0\n",
    "    WASP.append(np.array(WASP_tmp))\n",
    "\n",
    "if not load_thresholds:\n",
    "    if not type(t_a) == 'list':\n",
    "        t_a = [t_a]\n",
    "    # save calculated water deficit thershold\n",
    "    t_m.to_csv(os.path.join(workflow_folder, name_output_folder, f'tm_hist_{ccode}.csv'),\\\n",
    "              index = False)\n",
    "    pd.DataFrame({'t_a': t_a}).to_csv(os.path.join(workflow_folder, name_output_folder, f'ta_hist_{ccode}.csv'),\\\n",
    "                                    index = False)"
   ]
  },
  {
   "cell_type": "code",
   "execution_count": 9,
   "id": "ad44b5d1",
   "metadata": {},
   "outputs": [
    {
     "name": "stdout",
     "output_type": "stream",
     "text": [
      ">>>>> Drought hazard is completed.\n",
      ">>>>> Drought hazard indices were saved.\n"
     ]
    }
   ],
   "source": [
    "dH = []\n",
    "WASP = np.array(WASP, dtype=object)\n",
    "# calculate global median deficit severity -\n",
    "    # set drought hazard (dH) as the probability of exceeding the global median water deficit.\n",
    "\n",
    "median_global_wasp = np.nanmedian(WASP_global)\n",
    "\n",
    "# calculate dH per region i\n",
    "for i in range(WASP.shape[0]):\n",
    "    # The more negative the WASP index, the more severe is the deficit event, so\n",
    "    # probability of exceedence the severity is 1 - np.nansum(WASP[i] >= median_global_wasp) / len(WASP[i])\n",
    "    if len(WASP[i]) > 0:\n",
    "        # set minimum drought hazard as 0.05 to prevent the allocation of 0.0 to the regions with lowest hazard\n",
    "        dH.append(np.maximum(round(1 - np.nansum(WASP[i] >= median_global_wasp) / len(WASP[i]), 3), 0.05))\n",
    "    else:\n",
    "        dH.append(0.05)\n",
    "\n",
    "\n",
    "# https://agupubs.onlinelibrary.wiley.com/doi/pdf/10.1029/2004GL020901 - WASP Indicator description\n",
    "\n",
    "output['wasp_raw_mean'] = [np.nan_to_num(np.nanmean(x), 0) for x in WASP]\n",
    "output['wasp_raw_q25'] = [np.nan_to_num(np.nanquantile(x, q = 0.25), 0) for x in WASP]\n",
    "output['wasp_raw_median'] = [np.nan_to_num(np.nanmedian(x), 0) for x in WASP]\n",
    "output['wasp_raw_q75'] = [np.nan_to_num(np.nanquantile(x, q = 0.75), 0) for x in WASP]\n",
    "output['wasp_raw_count'] = [x.shape[0] for x in WASP]\n",
    "\n",
    "output['hazard_raw'] = dH\n",
    "print('>>>>> Drought hazard is completed.')\n",
    "\n",
    "output.to_csv(os.path.join(workflow_folder, name_output_folder, f'droughthazard_{ccode}_{pattern}.csv'),\\\n",
    "              index = False)\n",
    "print('>>>>> Drought hazard indices were saved.')"
   ]
  },
  {
   "cell_type": "markdown",
   "id": "1bd6a645",
   "metadata": {},
   "source": [
    "## Conclusions\n",
    "\n",
    "The above workflow calculates the drought hazard (dH) index that can be used as an input to calculate drought risk in the workflow described in the file Risk_Assessment.ipynb. \n",
    "\n",
    "Users can use the WASP raw values as a measure of absolute drought hazard for the selected regions. Comparing WASP values of different NUTS3 regions of the selected country will help users understand how drought hazard might change in the future. Examples on how to do this can be found in the visualization workflow."
   ]
  },
  {
   "cell_type": "markdown",
   "id": "58a12200-0053-4e52-945e-844b6ad72543",
   "metadata": {},
   "source": [
    "## Contributors\n",
    "\n",
    "The workflow has beend developed by [Silvia Artuso](https://iiasa.ac.at/staff/silvia-artuso) and [Dor Fridman](https://iiasa.ac.at/staff/dor-fridman) from [IIASA's Water Security Research Group](https://iiasa.ac.at/programs/biodiversity-and-natural-resources-bnr/water-security), and supported by [Michaela Bachmann](https://iiasa.ac.at/staff/michaela-bachmann) from [IIASA's Systemic Risk and Reslience Research Group](https://iiasa.ac.at/programs/advancing-systems-analysis-asa/systemic-risk-and-resilience)."
   ]
  },
  {
   "cell_type": "markdown",
   "id": "7c6adf00",
   "metadata": {},
   "source": [
    "## References\n",
    "\n",
    "[1] Carrão, H., Naumann, G., & Barbosa, P. (2016). Mapping global patterns of drought risk: An empirical framework based on sub-national estimates of hazard, exposure and vulnerability. *Global Environmental Change*, 39, 108-124."
   ]
  }
 ],
 "metadata": {
  "kernelspec": {
   "display_name": "Python 3 (ipykernel)",
   "language": "python",
   "name": "python3"
  },
  "language_info": {
   "codemirror_mode": {
    "name": "ipython",
    "version": 3
   },
   "file_extension": ".py",
   "mimetype": "text/x-python",
   "name": "python",
   "nbconvert_exporter": "python",
   "pygments_lexer": "ipython3",
   "version": "3.8.10"
  }
 },
 "nbformat": 4,
 "nbformat_minor": 5
}
