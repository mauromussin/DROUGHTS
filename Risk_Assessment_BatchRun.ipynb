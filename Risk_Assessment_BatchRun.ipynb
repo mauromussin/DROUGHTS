{
 "cells": [
  {
   "cell_type": "markdown",
   "id": "4a61404c",
   "metadata": {
    "tags": []
   },
   "source": [
    "# Advanced droughts workflow\n",
    "\n",
    "Click [![Binder](https://mybinder.org/badge_logo.svg)](https://mybinder.org/v2/gh/CLIMAAX/DROUGHTS/main?labpath=DROUGHTS_notebook_1.ipynb) to launch this workflow on MyBinder. "
   ]
  },
  {
   "cell_type": "markdown",
   "id": "5f76860f",
   "metadata": {},
   "source": [
    "# About droughts and droughts' risks"
   ]
  },
  {
   "cell_type": "markdown",
   "id": "6c2b5d20",
   "metadata": {},
   "source": [
    "## What is a drought?\n",
    "\n",
    "Simply stated, drought is ‘the extreme persistence of precipitation deficit over a specific region for a specific period of time’ $^1$. Droughts are often classified into three main types different by their severity, impacts, and time scales:\n",
    "\n",
    "1. <ins>Meteorological drought</ins> is often caused by short-term precipitation deficiency and its impacts highly depend on its timing. For example, lack of rain during the sprouting phase in rain-fed agriculture could lead to crop failure. \n",
    "2. <ins>Agricultural drought</ins> is a medium-term phenomenon, characterized by reduced soil moisture content and is caused by a prolonged period of meterological drought. \n",
    "3. On the long-term, <ins>hydrological drought</ins> is characterized by lower stream flow, reduced water level in water bodies, and may affect groundwater storage. \n",
    "\n",
    "The cascade between drought types is goverened by the severity (i.e., magnitude), duration, and spatio-temporal distribution of drought events.\n",
    "\n",
    "## What is drought risk?\n",
    "\n",
    "Drought risk is a measure for quantifying the likelyhood of a meaningfull impact from drought-event(s)\n",
    "on human population, its economic activity and assets, and the environment. The risk for an impact depends on the <ins>drought hazard</ins>, <ins>exposure</ins>, and the <ins>vulnerability</ins> to droughts. <ins>Hazard</ins> measures the magnitude, duration, and timing of drougt events. <ins>Exposure</ins> to droughts represent the spatial distribution of drought relative to distribution of potentially impactful systems, e.g., location of cultivated land, wetlands, etc. Finally, <ins>vulnerability</ins> stands for the level of impact expected for a given system during a given event, and is affected by the systems' intrinsic attributes. For example, fields with drought-resistent crops varities would be less vulnerable to droughts.\n"
   ]
  },
  {
   "cell_type": "markdown",
   "id": "2096c862-1b27-4fcf-bfd2-d85c5d3e3b22",
   "metadata": {
    "tags": [],
    "user_expressions": []
   },
   "source": [
    "## How do we assess drought risk?\n",
    "\n",
    "There are many different metrics to assess drought risk, which account for at least one of the risk factors: hazard, exposure and vulnerability.\n",
    "\n",
    "This workflow quantifies drought risk as the product of drought hazard, exposure and vulnerability. The methodology used here was developed and applied globally by Carrão et al. (2016) $^2$. The result of this workflow is a risk map showing the relative drought risk of different spatial units (i.e., subnational administrative regions) from a larger region (i.e., the European Union). Regional drought risk scores are on a scale of 0 to 1, with 0 representing the lowest risk and 1 the highest. The workflows takes each risk determinant (i.e. hazard, exposure and vulnerability) and normalised it taking into account its maximum and minimum values across all sub-national administrative regions. Thus, the results of this drought risk workflow are relative to the sample of geographic regions used for normalisation. The proposed risk scale is not a measure of absolute losses or actual damage, but a relative comparison of drought risk between the input regions. Therefore, the resulting data and mapping can help users to assess in which sub-administrative units within a jurisdictions the drought risk is or will be higher, allowing for better resouce allocation and better coordination within and between different levels of government.\n",
    "\n",
    "Below is a description of the data and tools used to calculate drought hazard, exposure and vulnerability, both for the historic period and for future scenarios, and the outputs of this workflow. \n",
    "\n",
    "For the future scenarios, we decided to follow the SSP-RCPs combinations as in the IPCC 6th assessment report (https://www.ipcc.ch/assessment-report/ar6/).\n",
    "\n",
    "More expert users can find a more detailed and technical explanation on how hazard, exposure and vulnerability are quantified in the colored text boxes. \n",
    "\n",
    "\n",
    "## Datasets (historic and future projections)\n",
    "\n",
    "In this workflow the following data is used:\n",
    "\n",
    "\n",
    "#### Spatial units: \n",
    "\n",
    "We used GeoJSON maps of NUTS2 and NUTS3 regions to define the selected spacial units, which can be downloaded at this link https://gisco-services.ec.europa.eu/distribution/v2/nuts/geojson/\n",
    "\n",
    "\n",
    "### Hazard data and methods:\n",
    "\n",
    "Drought hazard (dH) for a given region is estimated as the probability of exceedance the median of regional (e.g., EU level) severe precipitation deficits for an historical reference period (e.g. 1979-2019) or for a future projection period (e.g. 2015-2100).\n",
    "\n",
    "For estimating drought hazard, this workflows requires monthly total precipitation for each NUTS2 or NUTS3 region during the historical reference period or future projection period. Usually, these are observation-based or simulated time-series of gridded precipitation data. In the historic workflow, we used GSWP3 and W5E5 global meteorological forcing data processed for ISIMIP3a, sets on a 0.5°x0.5°C global grid and at daily time steps for the historical period of 1979-2019 (https://doi.org/10.48364/ISIMIP.982724.2). For the future projections, we used the ISIMIP3b bias-adjusted atmospheric climate input data, available for 5 CMIP6 global climate models (GFDL-ESM4, IPSL-CM6A-LR, MPI-ESM1-2-HR, MRI-ESM2-0, UKESM1-0-LL), and three SSP-RCPs combinations (SSP126, SSP370, SSP585) (https://doi.org/10.48364/ISIMIP.842396.1). There is no minimum requirement for the length of the precipitation record in this workflow, but as individual drought events can last for months or even years, we recommend that at least several decades are included.\n",
    "\n",
    "Processing these data is performed by applying Geographic Information System (GIS) techniques, to extract an aggregated value (e.g., total precipitation) of the data points located within each area of interest (e.g., NUTS2 region). Zonal statistics is widely used for that purpose, and it was the method used in our data processing.\n",
    "\n",
    "Point, observation-based datasets are an alternative data source, usually collected by meteorological station networks. One can choose the data collected in one or more (e.g., average) representative station per area of interest to construct a NUTS2 level dataset. \n",
    "\n",
    "Our workflow expects a table where each row represents the total precipitation in mm for a month/year combination, and each column represents an area of interest (e.g. NUTS2 region). The first column contains the date in this format YYYY-MM-DD. The **title of the first columns has to be 'timing' and the rest of the titles have to be the codes of the areas of interest (e.g. NUTS2), which have to be identical to the codes as they appear in the NUTS2 or NUTS3 spatial data from the [European Commission](https://ec.europa.eu/eurostat/en/web/nuts/background)**.\n",
    "\n",
    "A pre-processed table with precipitation data for European countries at NUTS3 level is already provided, which can be fed directly into the workflow (see sample_data folder).\n",
    "\n",
    "Precipitation data are then analysed by calculating precipitation deficit events for each region and measuring their severity using the weighted anomaly of standardised precipitation (WASP) index. The result is a list of drought events and their severity for each selected region (e.g. NUTS3 regions) for the reference period, which is then compared with the median of severe precipitation deficits for the same period for all regions considered (e.g. EU level) to calculate the probability (dH) of each region being affected by a drought event (i.e. exceeding the EU median of severe precipitation deficits). For more details on the how the WASP index is calculated see the colored box below.\n",
    "\n",
    "<div class=\"alert alert-block alert-warning\">\n",
    "<b>Quantifying drought hazard</b> \n",
    "Drought hazard (dH) for a given region is estimated as the probability of exceedance the median of regional (e.g., EU level) severe precipitation deficits for an specified time reference period (historic or future).\n",
    "\n",
    "A severe precipitation deficity is calculated using the weighted anomaly of standardized precipitation (WASP) index. This index accounts for precipitation seasonal patterns and is computed by summing weighted and standardized monthly precipitation anomalies $^3$.\n",
    "\n",
    "We use the weighted anomaly of standardized precipitation (WASP) index to define the severity of precipitation deficit. The WASP-index takes into account the annual seasonality of precipitation cycle and is computed by summing weighted standardized monthly precipitation anomalies (see Eq. 1). Where $P_{n,m}$ is each region's monthly precipitation, $T_m$ is a monthly treshold defining precipitation severity, and $T_A$ is an annual threshold for precipitation severity. The thresholds are defined by dividing multi-annual monthly observed rain using the 'Fisher-jenks' classigication algorithm $^4$. \n",
    "\n",
    "Eq. 1: $$WASP_j = \\Sigma_{P_{n,m} < T_m}^{P_{n,m} >= T_m}( \\frac{P_{n,m} - T_m}{T_m})*\\frac{T_m}{T_A}$$\n",
    "</div>\n",
    "\n",
    "### Exposure data and methods:\n",
    "\n",
    "Drought exposure (dE) indicates the potential losses from different types of drought hazards in different geographical regions. In general, exposure data identifies and quantifies the different types of physical entities on the ground, including built assets, infrastructure, agricultural land, people, livestock, etc. that can be affected by drought (e.g. the number of cars does not count).\n",
    "\n",
    "Quantyfing drought exposure utilizes a non-compensatory model to account for the spatial distribution of a potential impact for crops and livestock, competition on water (e.g., for industrial uses represented by the water stress indicator), and human direct need (e.g., for drinking represneted by population size). More information can be found in the dropdown box below.\n",
    "\n",
    "In this workflow we used the following data (provided in the exposure sample file):\n",
    "\n",
    "#### Historic\n",
    "\n",
    "| Data item | Description | Format and processing | Source |\n",
    "| :-: | :- | :- | :-: |\n",
    "| Cropland | Harvested land represents the exposure of agricultural activity to droughts. SPAM is a global crop distribution model covering 42 crops and four different technologies available for 2010 (latest). The model outputs include both harvested and physical cropland. | 5 arc-minutes crop-specific grid. All grids are to be summed and aggregated (using Zonal Statistics) per area of interest. | https://mapspam.info/ |\n",
    "| Livestock density | Livestock density represents the exposure of animal husbandry systems to droughts. The Gridded Livestock of the World maps (GLW) show the density of eight different livestock animals in 2010 and 2015. | 5 arc-minutes animal-specific grid. All grids are to be summed and aggregated (using Zonal Statistics) per area of interest. | https://www.fao.org/livestock-systems/global-distributions/en/ |\n",
    "| Competition on water | The water stress indicator is a proxy for competition on water, as it accounts for both multi-sectoral water demand, relative to the abundance of water. Values higher than 0.4 indicate on severe water stress and a high competition on water resources. |  The Water Futures and Solution initiative provided multimodel current and future water stress estimates at 0.5 degree spatial resolution. This gridded data can be extracted to the relevant NUTS2 by using GIS techniques, like zonal statistics. | https://pure.iiasa.ac.at/id/eprint/13008/ |\n",
    "| Human direct need | Population counts represent the basic drinking water requirements across regions. Considering a similar economic and social context, these counts can also indicate the toal doemtic water demand. Global gridded population products are available at high resolution and multiple years, yet for the scope of the EU, a data from EUROSTAT is readily available.| EUROSTAT data is available as tabular format for the NUTS2 regions.| https://ec.europa.eu/eurostat/ |\n",
    "\n",
    "#### Future\n",
    "\n",
    "| Data item | Description | Format and processing | Source |\n",
    "| :-: | :- | :- | :-: |\n",
    "| Cropland | Cropland landcover under different Shared Socio Economic Pathways (SSPs) is a downscaled dataset of the integrated assessment model (IAM) GCAM. | The grid-cell area of a 30 arc-seconds land use grid, was summed for all cropland cells and aggregated (using Zonal Statistics) per area of interest. | [Zhang, Cheng, and Wu, 2023](https://www.nature.com/articles/s41597-023-02637-7#Sec1) |\n",
    "| Competition on water | The water stress indicator is a proxy for competition on water, as it accounts for both multi-sectoral water demand, relative to the abundance of water. Values higher than 0.4 indicate on severe water stress and a high competition on water resources. |  Aqueduct v.4 provides global water-stress estimates at sub-catchment scale.  We have rasterized the water stress and water withdrawal, and calculated a weighted average water stress per unit of interest. | https://www.wri.org/data/aqueduct-global-maps-40-data |\n",
    "| Human direct need | Population counts represent the basic drinking water requirements across regions. Considering a similar economic and social context, these counts can also indicate the total domestic water demand. Global gridded population products are available at high resolution and multiple years, and for this analysis - the rural and urban populations grid from Global CWatM were used.| Global CWatM provides rural and urban population grids at a spatial resolution of 5 arc-minutes. | - |\n",
    "\n",
    "\n",
    "The algorithm expects a table in which each row represent an area of interest, and each column a variable. The **first column contains the codes of the area of interest (e.g., NUTS2), which have to be identical to the codes as they appear in the NUTS2 spatial data from the [European Commision](https://ec.europa.eu/eurostat/en/web/nuts/background)**.\n",
    "\n",
    "Depending on the region of interest, other indicators may also be relevant for estimating drought exposure. We recommend that users research the most relevant factors in the region that may be exposed to drought before starting the analysis. \n",
    "\n",
    "\n",
    "\n",
    "<div class=\"alert alert-block alert-warning\">\n",
    "<b>Quantyfing drought exposure</b> uses a non-compensatory model to account for the spatial distribution of potential impacts on crops and livestock, competition for water (e.g. for industrial uses represented by the water stress indicator) and direct human demand (e.g. for drinking water represented by population size). We apply a <ins>Data Envelopment Analysis</ins> (DEA) to determine the relative exposure of each region to drought.\n",
    "\n",
    "<ins>Data Envelopment Analysis (DEA) $^5$</ins>\n",
    "\n",
    "Data Envelopment Analysis (DEA) has been widely used to assess the efficiency of decision making units (DMUs) in many areas of organisational performance improvement, such as financial institutions, manufacturing companies, hospitals, airlines and government agencies. In the same way that DEA estimates the relative efficiency of DMUs, it can also be used to quantify the relative exposure of a region (in this case the DMUs) to drought from a multidimensional set of indicators.\n",
    "\n",
    "DEA works with a set of multiple inputs and outputs. In our case, the regions are only described by inputs, the indicators, so a dummy output can be used which has a unit value, i.e. all outputs are the same and equal, e.g. 1000. The efficiency of each region is then estimated as a weighted sum of outputs divided by a weighted sum of inputs, where all efficiencies are constrained to lie between zero and one. An optimisation algorithm is used for the weights to achieve the highest efficiency.\n",
    "\n",
    "The exposure raw data is normalized using a linear transformation, as described in Eq. 2:\n",
    "\n",
    "Eq. 2: $$Z_i = \\frac{X_i - X_{min}}{X_{max} - X_{min}}$$\n",
    "</div>\n",
    "\n",
    "\n",
    "### Vulnerability data and methods:\n",
    "\n",
    "Vulnerability data describes the elements that make a system susceptible to a natural hazard, which vary depending on the type of hazard and the nature of the system. However, there are some generic indicators such as poverty, health status, economic inequality and aspects of governance, which apply to all types of exposed parts and therefore remain constant despite changes in the type of hazard that pose a risk.\n",
    "\n",
    "In this workflow, the selection of proxy indicators representing the economic, social, and infrastructural factors of drought vulnerability in each geographic location follows the criteria defined by Naumann et al. (2014): the indicator has to represent a quantitative or qualitative aspect of vulnerability factors to drought (generic or specific to some exposed element), and public data need to be freely available at the global scale.\n",
    "\n",
    "Drought vulnerability is calculated by combining indicators for each factor (economic, social and infrastructure) for each region with a non-compensatory model, as done for exposure, and then aggregating the DEA results for the three factors to obtain a drought vulnerability (dV) score (see colored box below for more details).\n",
    "\n",
    "Examples of indicators that we can find at a subnational resolution and that are included in the vulnerability sample file provided: \n",
    "\n",
    "#### Historic\n",
    "\n",
    "| Variable prefix | Data item | Description | Format and processing | Correlation with Vulnerability | Source |\n",
    "| :-: | :- | :- | :- | :-: | :-: |\n",
    "| Economic_ | Energy use per person  | Per capita energy consumption. This dataset is produced annually by U.S. Energy Information Administration (EIA), and it is available per region and per country. | Data is available as tabular format at the country level, expressed in kilowatt-hours per capita, for years 1965-2022. | - | https://ourworldindata.org/grapher/per-capita-energy-use |\n",
    "| Economic_ | Agriculture value added on the GDP| Describes the value added on the GDP (in percentage) of agriculture, forestry, and fishing. | Data is available as tabular format at the country level. | + | https://data.worldbank.org  |\n",
    "| Economic_ | GDP per capita (current US dollar) | Gross domestic product (GDP) is a monetary measure of the market value of all the final goods and services produced in a specific time period by a country or countries. | Data is available as tabular format at the country level, expressed in current US dollar. | - | https://ec.europa.eu/eurostat/web/main/data/database |\n",
    "| Economic_ | Poverty headcount ratio at 2.15 dollars a day (PPP) | Cross-country comparison of key poverty and inequality indicators. Data are based on primary household survey data obtained from government statistical agencies and World Bank country departments. | Data is available as tabular format at the country level, as percentage of total population. | + |  https://data.worldbank.org |\n",
    "| Social_ | Rural population | Percentage of total population in a country or region that lives in rural areas. | Data is available as tabular format at the country level. | + | https://data.worldbank.org |\n",
    "| Social_ | Safely managed drinking water services | The indicator is computed as the number of people who use safely managed drinking water services and expressed as the percentage of total population. | Data is available as tabular format at the country level for years 2000-2022. | - | https://data.worldbank.org |\n",
    "| Social_ | Life expectancy at birth (years) | Life expectancy is a statistical measure of the estimate of the span of a life.  | Data is available as tabular format at the country level, expressed in years, for years 1960-2021. | - | https://ec.europa.eu/eurostat/web/main/data/database |\n",
    "| Social_ | Population ages 15–64 | Data show the percentage of total population between age 15 and 64 (working age) for each region and country. | Data is available as tabular format at the country level for years 1960-2022. | - | https://data.worldbank.org |\n",
    "| Social_ | Refugee population by country or territory of asylum | Number of people in a  country or territory of asylum which was registerd as a refugee. | Data is available as tabular format at the country level for years 1960-2022. | + | https://data.worldbank.org |\n",
    "| Social_ | Government Effectiveness | Government Effectivenesse is one of the indicators used by the Worldwide Governance Indicators (WGI) project,that features six aggregate governance indicators for over 200 countries and territories over the period 1996–2022. Government effectiveness captures perceptions of the quality of public services, the quality of the civil service and the degree of its independence from political pressures, the quality of policy formulation and implementation, and the credibility of the government's commitment to such policies. | The six aggregate indicators are reported in tabular format in two ways: (1) in their standard normal units, ranging from approximately -2.5 to 2.5, and (2) in percentile rank terms from 0 to 100, with higher values corresponding to better outcomes. | + | https://www.gu.se/en/quality-government/qog-data/data-downloads/european-quality-of-government-index\n",
    "| Social_ | Management of Water related Disasters | Self reporting on national compliance with the SDG 6.5.1 targets: Management of water-related disasters (3.1e). | The data represents the percent of compliance between 0-100, and is given at a country scale in a tabular format for the year 2020. | - | http://iwrmdataportal.unepdhi.org/country-reports | \n",
    "| Infrast_ | Agricultural irrigated land (percentage of total agricultural land) | Agricultural land is the combination of crop (arable) and grazing land. Data show the percentage of total agricultural land area which is irrigated (i.e. purposely provided with water), including land irrigated by controlled flooding. | EUROSTAT data is available as tabular format at the NUTS2 level. | - | https://ec.europa.eu/eurostat/web/main/data/database\n",
    "| Infrast_ | Road density | The Global Roads Inventory Project is a harmonized global dataset of aproximately 60 geospatial datasets on road infrastructure collected for 2018. This dataset includes 5 road types: highways/ primary/ secondary/ tertiary/ local roads. |  5 arc-minutes grid. All grids are to be summed and aggregated (using Zonal Statistics) per area of interest. | - | https://www.globio.info/download-grip-dataset\n",
    "\n",
    "#### Future\n",
    "\n",
    " Variable prefix | Data item | Description | Format and processing | Correlation with Vulnerability | Source |\n",
    "| :-: | :- | :- | :- | :-: | :-: |\n",
    "| Economic_ | GDP per capita (current US dollar) | Gross domestic product (GDP) is a monetary measure of the market value of all the final goods and services produced in a specific time period by a country or countries. | Data is available as global grids at a 30 arc-secondes resolution. | - | [Wang and Fubao, 2022](https://zenodo.org/records/5880037) |\n",
    "| Economic_ | Poverty headcount ratio at 3.2 dollars a day (PPP) | Cross-country comparison of key poverty and inequality indicators. Data are based on primary household survey data obtained from government statistical agencies and World Bank country departments. | Data is available as tabular format at the country level, as percentage of total population. | + | [Rao et al., 2019](https://zenodo.org/records/5880037)|\n",
    "| Social_ | Rural population | Percentage of total population in a country or region that lives in rural areas. | Data is available as global grids at a 30 arc-secondes resolution from Global CWatM. The share of rural population was calculated by dividing the rural by the total population counts. | + | - |\n",
    "| Social_ | Population ages 15–64 | Data show the percentage of total population between age 15 and 64 (working age) for each region and country. | Data is available as tabular format at the country level from the IIASA SSP database. | - | [Samir and Lutz, 2014](https://doi.org/10.1016/j.gloenvcha.2014.06.004) |\n",
    "\n",
    "The algorithm expects a table in which each row represent an area of interest, and each column a variable. **Each variable has to be named with a prefix according to the factor, i.e. Social_ Economic_ or Infrast_, followed by a number or the name of the variable. The first column contains the codes of the area of interest (e.g., NUTS2), which have to be identical to the codes as they appear in the NUTS2 spatial data from the European Commision.**\n",
    "\n",
    "As for exposure, the indicators listed here are a suggestion based on the most common proxies for economic, social, and infrastructural factors of drought vulnerability in each geographic location. We recommend that users research the most relevant factors in the region that make it vulnerable to drought before starting the analysis.\n",
    "\n",
    "<div class=\"alert alert-block alert-warning\">\n",
    "<b>Quantifying drought vulnerability</b> Vulnerability to drought is computed as a 2-step composite model that derives from the aggregation of proxy indicators representing the economic, social, and infrastructural factors of vulnerability at each geographic location. \n",
    "\n",
    "In the first step, indicators for each factor (i.e. economic, social and infrastructural) are combined using a DEA model (see above), as similar as for drought exposure. In the second step, individual factors resulting from independent DEA analyses are arithmetically aggregated (using the simple mean) into a composite model of drought vulnerability (dV):\n",
    "\n",
    "Eq. 3: $$dv_i = \\frac{Soc_i + Econ_i + Infr_i}{3}$$\n",
    "\n",
    "where Soc$_i$, Econ$_i$, and Infr$_i$ are the social, economic and infrastructural vulnerability factors for geographic location (or region) $i$.\n",
    "\n",
    "The normalization of the vulnerability indicator is also done using a linear transformation (see Eq. 2), and it accounts to the correlation of the indicator with drought vulberability. In case of negative correlation (e.g., GDP per capita), the normalized score is estimated as $1 - Z_i$.\n",
    "</div>\n",
    "\n",
    "\n"
   ]
  },
  {
   "cell_type": "markdown",
   "id": "ce4ea887-31e9-4663-8790-74189e64ac61",
   "metadata": {
    "toc-hr-collapsed": true
   },
   "source": [
    "# Workflow implementation"
   ]
  },
  {
   "cell_type": "markdown",
   "id": "5c7f97fe-2578-4ce9-b4c7-1fe40214f045",
   "metadata": {
    "tags": []
   },
   "source": [
    "### Load libraries\n",
    "\n",
    "In this notebook we will use the following Python libraries:\n",
    "- [os](https://docs.python.org/3/library/os.html) - To create directories and work with files\n",
    "- [urllib](https://docs.python.org/3/library/urllib.html) - To access to online resources\n",
    "- [pandas](https://pandas.pydata.org/docs/user_guide/index.html) - To create and manage data frames (tables) in Python\n",
    "- [geopandas](https://geopandas.org/en/stable/docs.html) - Extend pandas to store and manipulate spatial data\n",
    "- [numpy](https://numpy.org/doc/stable/) - For basic math tools and operations\n",
    "- [scipy](https://scipy.org/) - Provide advanced mathematical tools and optimization capacities \n",
    "- [jenkspy](https://github.com/mthh/jenkspy) - To apply Fisher-Jenks alogrithm \n",
    "- [json](https://docs.python.org/3/library/json.html) - To load, store and manipuilate JSON objects\n",
    "- [pyproj](https://pyproj4.github.io/pyproj/stable/) - An interface to a geographic projections and transformations library\n",
    "- [matplotlib](https://matplotlib.org/) - For plotting\n",
    "- [plotly](https://plotly.com/python/) - For dynamic and interactive plotting\n",
    "- [datetime](https://docs.python.org/3/library/datetime.html) - For handling dates in Python"
   ]
  },
  {
   "cell_type": "code",
   "execution_count": 26,
   "id": "79e25ef6-9a3b-4d42-a2b5-d787c2b70878",
   "metadata": {
    "scrolled": false
   },
   "outputs": [],
   "source": [
    "# lOAD LIBRARIES\n",
    "import os\n",
    "import urllib\n",
    "os.environ['USE_PYGEOS'] = '0'\n",
    "import pandas as pd\n",
    "import geopandas as gpd\n",
    "import numpy as np\n",
    "import scipy\n",
    "import jenkspy\n",
    "import json\n",
    "import pyproj\n",
    "import plotly.express as px\n",
    "import matplotlib.pyplot as plt\n",
    "from datetime import datetime\n",
    "from datetime import date\n",
    "\n",
    "# READ SCRIPTS\n",
    "# adapted from https://github.com/metjush/envelopment-py/tree/master used for DEA \n",
    "from envelopmentpy.envelopment import *\n",
    "\n",
    "# Function for calculating drought hazard indices\n",
    "%run DROUGHTS_functions.ipynb\n"
   ]
  },
  {
   "cell_type": "code",
   "execution_count": 27,
   "id": "9a393839",
   "metadata": {
    "scrolled": false
   },
   "outputs": [],
   "source": [
    "# function to create and save results\n",
    "def saveResults(nuts, pattern, pattern_h, pth, pth_h, t_m, t_a, loud = False):\n",
    "    regions = nuts['NUTS_ID']\n",
    "    # Load precipitation data\n",
    "    if loud:\n",
    "        print(\"Analyzing drought hazard. This process may take few minutes...\")\n",
    "        print('\\n')\n",
    "    precip = pd.read_csv(os.path.join(workflow_folder, \"drought_hazard_{}.csv\".format(pattern_h)))\n",
    "    # convert timing column to datetime\n",
    "    precip['timing'] = pd.to_datetime(precip['timing'], format = '%Y-%m-%d') \n",
    "    #'%b-%Y'\n",
    "    \n",
    "    \n",
    "    # time  subset\n",
    "\n",
    "    if pattern != 'historic':\n",
    "        if \"_nf\" in pattern:\n",
    "            precip = precip.loc[(precip['timing'].dt.date >= date(2020,1,1)) & (precip['timing'].dt.date  < date(2060,1,1)), :]\n",
    "        else:\n",
    "            precip = precip.loc[(precip['timing'].dt.date >= date(2060,1,1)) & (precip['timing'].dt.date  < date(2100,1,1)), :]\n",
    "    else:\n",
    "        precip = precip.loc[(precip['timing'].dt.date >= date(1979,1,1)) & (precip['timing'].dt.date  < date(2020,1,1)), :]\n",
    "\n",
    "    # col_subset aims to extract the relevant results\n",
    "    precip = precip.reset_index()\n",
    "\n",
    "    col_subset = list(precip.columns.str.contains(ccode))\n",
    "    col_subset[1] = True\n",
    "    precip = precip.loc[:, col_subset]\n",
    "\n",
    "    # clean NaN rows & missing columns\n",
    "    precip = precip.loc[~np.array(precip.isna().all(axis = 1)),:]\n",
    "\n",
    "    drop_regions = []\n",
    "\n",
    "    # missing data in columns\n",
    "    col_subset = np.array(precip.isna().all(axis = 0))\n",
    "    drop_regions += list(precip.columns[col_subset])\n",
    "    precip = precip.loc[:, ~col_subset]\n",
    "\n",
    "    # missing data column in data\n",
    "    col_subset =  np.isin(regions,precip.columns)\n",
    "    drop_regions += list(regions[~col_subset])\n",
    "    #regions = regions[col_subset]\n",
    "    \n",
    "    regions = precip.columns[1:]\n",
    "\n",
    "    output = pd.DataFrame(regions, columns = ['NUTS_ID'])\n",
    "\n",
    "    # print head of the table\n",
    "    #print(\"The WASP_glob following regions are dropped due to missing data: \"+ str(drop_regions))\n",
    "    #print('\\n')\n",
    "    #print('Input precipitation data (top 3 rows): ')\n",
    "    #print(precip.head(3))\n",
    "\n",
    "    #print('\\n')\n",
    "    # create empty arrays and tables for intermediate and final results\n",
    "    WASP = []\n",
    "    WASP_global = []\n",
    "    drought_class = precip.copy()\n",
    "    \n",
    "    if pattern == 'historic':\n",
    "            # empty array for the monthly water deficit thresholds\n",
    "            t_m = pd.DataFrame(np.tile([0], (12, len(precip.columns) - 1)))\n",
    "            \n",
    "    # prepare output for drought event index - WASP_j- list of lists wasp = [[rid1], [rid2], ...]\n",
    "    for i in range(1, len(precip.columns)):\n",
    "        # For every NUTS3 out of all regions - do the following:\n",
    "        \n",
    "        for mon_ in range(1, 13):\n",
    "            # For every month out of all all months (January, ..., December) - do the following:\n",
    "            \n",
    "            # calculcate monthly drought threshold -\\\n",
    "                # using a division of the data into to clusters with the Jenks' (Natural breaks) algorithm\n",
    "            r_idx = precip.index[precip.timing.dt.month == mon_].tolist()\n",
    "            if pattern == 'historic':\n",
    "                t_m_last = jenkspy.jenks_breaks(precip.iloc[r_idx, i], n_classes = 2)[1]\n",
    "                t_m.iloc[mon_ - 1, i - 1] = t_m_last\n",
    "\n",
    "            # Define every month with water deficity (precipitation < threshold) as a drought month\n",
    "\n",
    "            drought_class.iloc[r_idx, i] = (drought_class.iloc[r_idx, i] < t_m.iloc[mon_ - 1, i - 1]).astype(int)\n",
    "\n",
    "            # calculate annual water deficit threshold\n",
    "            if pattern == 'historic':\n",
    "                t_a = list(t_m.sum(axis = 0))\n",
    "                \n",
    "        t_m0 = t_m.iloc[:, i - 1]\n",
    "        t_a0 = t_a[i-1]\n",
    "        # calculate droughts' magnitude and duration using the WASP indicator\n",
    "        WASP_tmp = []\n",
    "        first_true=0\n",
    "        index = []\n",
    "        for k in range(1, len(precip)):\n",
    "            # for evary row (ordered month-year combinations):\n",
    "                # check if droguht month -> calculate drought accumulated magnitude (over 1+ months)\n",
    "            if drought_class.iloc[k, i]== 1:\n",
    "                # In case of a drought month.\n",
    "                # calculate monthly WASP index\n",
    "                index = int(drought_class.timing.dt.month[k] - 1)\n",
    "                # WASP monthly index: [(precipitation - month_threshold)/month_threshold)]*[month_threshold/annual_treshold]\n",
    "                WASP_last=((precip.iloc[k,i] - t_m0[index])/t_m0[index])* (t_m0[index]/t_a0)\n",
    "\n",
    "                if first_true==0:\n",
    "                    # if this is the first month in a drought event:\n",
    "                    # append calculated monthly wasp to WASP array.\n",
    "                    WASP_tmp.append(WASP_last)\n",
    "                    first_true=1\n",
    "                else:\n",
    "                    # if this is NOT the first month in a drought event:\n",
    "                    # add the calculated monthly wasp to last element in the WASP array (accumulative drought).\n",
    "                    WASP_tmp[-1]=WASP_tmp[-1] + WASP_last\n",
    "                WASP_global.append(WASP_last)\n",
    "            else:\n",
    "                # check if not drought month - do not calculate WASP\n",
    "                first_true=0\n",
    "        WASP.append(np.array(WASP_tmp))\n",
    "        \n",
    "    dH = []\n",
    "    WASP = np.array(WASP, dtype=object)\n",
    "\n",
    "     # calculate global median deficit severity - \n",
    "      # set drought hazard (dH) as the probability of exceeding the global median water deficit.\n",
    "\n",
    "    median_global_wasp = np.nanmedian(WASP_global)\n",
    "      \n",
    "    # calculate dH per region i\n",
    "    for i in range(WASP.shape[0]):\n",
    "        # The more negative the WASP index, the more severe is the deficit event, so \n",
    "        # probability of exceedence the severity is 1 - np.nansum(WASP[i] >= median_global_wasp) / len(WASP[i])\n",
    "        if len(WASP[i]) > 0:\n",
    "            dH.append(round(1 - np.nansum(WASP[i] >= median_global_wasp) / len(WASP[i]), 3))\n",
    "        else:\n",
    "             dH.append(0.)\n",
    "    \n",
    "    output['wasp_raw_mean'] = [np.nanmean(x) for x in WASP]\n",
    "    output['wasp_raw_q25'] = [np.nanquantile(x, q = 0.25) for x in WASP]\n",
    "    output['wasp_raw_median'] = [np.nanmedian(x) for x in WASP]\n",
    "    output['wasp_raw_q75'] = [np.nanquantile(x, q = 0.75) for x in WASP]\n",
    "    output['wasp_raw_count'] = [x.shape[0] for x in WASP]\n",
    "\n",
    "    output['hazard_raw'] = dH\n",
    "    \n",
    "\n",
    "    output.to_csv(os.path.join(pth_h, 'droughthazard_{}_{}.csv'.format(ccode, pattern)), index = False)\n",
    "    if loud:\n",
    "        print('>>>>> Drought hazard indices were saved.')\n",
    "        print('\\n')\n",
    "\n",
    "        \n",
    "    # exposure\n",
    "    evaluateDEA = False\n",
    "    if loud:\n",
    "        print(\"Analyzing drought exposure. This process may take few minutes...\")\n",
    "        print('\\n')\n",
    "    exposure = pd.read_csv(os.path.join(workflow_folder, \"drought_exposure_{}.csv\".format(pattern)))\n",
    "    # take out country statistics for stretching\n",
    "    # np.array (0: min, 1: max; NUTS_ID..+variables)\n",
    "    exposure = exposure.query('NUTS_ID.str.contains(@ccode)') # see how to use ^ to only use the beginning\n",
    "    cnt_range = pd.Series(index=['min','max'],data=[exposure.min(),exposure.max()]) \n",
    "    exposure = exposure.query('NUTS_ID in @regions')\n",
    "    # Normalize the exposure using a min-max strech.\n",
    "    cols = exposure.columns[1:]\n",
    "\n",
    "    for varname in cols:\n",
    "        # save maximum and minimum values\n",
    "        mx_exposure = cnt_range[1][varname]#np.nanmax(exposure[varname])\n",
    "        mn_exposure = cnt_range[0][varname]#np.nanmin(exposure[varname])\n",
    "\n",
    "        # stretch values between 0 -1\n",
    "        exposure.loc[:, varname] = np.maximum((exposure.loc[:, varname] - mn_exposure)/(mx_exposure - mn_exposure), 0.01)\n",
    "\n",
    "\n",
    "    # load exposure and sort to match nuts['NUTS_ID'] order\n",
    "    sorterIndex = dict(zip(nuts['NUTS_ID'], range(len(nuts['NUTS_ID']))))\n",
    "    exposure['sort_col'] = exposure['NUTS_ID'].map(sorterIndex)\n",
    "    exposure.sort_values(['sort_col'],\n",
    "            ascending = [True], inplace = True)\n",
    "    exposure = exposure.drop(columns='sort_col')\n",
    "\n",
    "    # show data\n",
    "\n",
    "    # set DEA(loud = True) to print optimization status/details\n",
    "    dea_e = DEA(np.array([1.] * len(regions)).reshape(len(regions),1),\\\n",
    "        exposure.to_numpy()[:,1:],\\\n",
    "     loud = False)  # we use a dummy factor for the input\n",
    "    dea_e.name_units(regions)\n",
    "\n",
    "    # returns a list with regional efficiencies\n",
    "    dE = dea_e.fit()\n",
    "    if evaluateDEA:\n",
    "        dEmax = exposure.iloc[:,1:].max(axis = 1)\n",
    "        print(\"plot max vs DEA:\")\n",
    "        fig = px.scatter(x=list(dEmax), y=dE,\\\n",
    "                         title = 'Evaluate exposure\\'s DEA',\\\n",
    "                        labels={\n",
    "                             \"x\": \"Maximum exposure\",\n",
    "                             \"y\": \"DEA\"\n",
    "                         })\n",
    "        fig.show()\n",
    "\n",
    "    output['exposure_raw'] = dE\n",
    "    if loud:\n",
    "        print('>>>>> Drought exposure is completed.')\n",
    "        print('\\n')\n",
    "    # vulnerability\n",
    "     \n",
    "        print(\"Analyzing drought vulnerability. This process may take few minutes...\")\n",
    "        print('\\n')\n",
    "    vulnerability = pd.read_csv(os.path.join(workflow_folder, \"drought_vulnerability_{}.csv\".format(pattern)))\n",
    "\n",
    "    # take out country statistics for stretching\n",
    "    # np.array (0: min, 1: max; NUTS_ID..+variables)\n",
    "    vulnerability = vulnerability.query('NUTS_ID.str.contains(@ccode)') # see how to use ^ to only use the beginning\n",
    "    cnt_range = pd.Series(index=['min','max'],data=[vulnerability.min(),vulnerability.max()]) \n",
    "\n",
    "\n",
    "    vulnerability = vulnerability.query('NUTS_ID in @regions')\n",
    "\n",
    "\n",
    "    cols = vulnerability.columns[1:]\n",
    "    #if loud:\n",
    "    #print(\"Define correlation's directions for the following indicators: \", list(cols))\n",
    "\n",
    "\n",
    "    # Pre-define the correlation's direction between exposure and drought risk\n",
    "    # The example shows that: \n",
    "        # corellation of the rural population share with vulnerability is positive (True, below), i.e., \n",
    "         # rural regions are more vulneravle to droughts\n",
    "        # correlation of the gdp/capitawith vulnerability is negative (False, below)\n",
    "\n",
    "    corelDirection = [True, False] \n",
    "\n",
    "    # get vulnebrability factors, e.g., Social, Economic, Infrast\n",
    "    def sclt(x): \n",
    "        return(x[0])\n",
    "    factorsString = list(cols.str.split('_').map(sclt).drop_duplicates())\n",
    "\n",
    "    # Normalize the exposure using a min-max strech.\n",
    "\n",
    "\n",
    "    for varname in cols:\n",
    "        # save maximum and minimum values\n",
    "        mx_vulnerability = cnt_range[1][varname]#np.nanmax(vulnerability[varname])\n",
    "        mn_vulnerability = cnt_range[0][varname]#np.nanmin(vulnerability[varname])\n",
    "\n",
    "        # stretch values between 0 -1\n",
    "        if corelDirection[list(cols.values).index(varname)]:\n",
    "            # positive correlation between vulnerability indicator and vulnerability\n",
    "            vulnerability.loc[:, varname] = np.maximum((vulnerability.loc[:, varname] - mn_vulnerability)/(mx_vulnerability - mn_vulnerability), 0.01)\n",
    "        else:\n",
    "            # negative correlation between vulnerability indicator and vulnerability\n",
    "            vulnerability.loc[:, varname] = np.maximum(1 - (vulnerability.loc[:, varname] - mn_vulnerability)/(mx_vulnerability - mn_vulnerability), 0.01)\n",
    "\n",
    "\n",
    "    # load exposure and sort to match nuts['NUTS_ID'] order\n",
    "    sorterIndex = dict(zip(nuts['NUTS_ID'], range(len(nuts['NUTS_ID']))))\n",
    "    vulnerability['sort_col'] = vulnerability['NUTS_ID'].map(sorterIndex)\n",
    "    vulnerability.sort_values(['sort_col'],\n",
    "            ascending = [True], inplace = True)\n",
    "    vulnerability = vulnerability.drop(columns='sort_col')\n",
    "\n",
    "    # filter the data based on the regions\n",
    "    row_subset = np.isin(vulnerability['NUTS_ID'], regions)\n",
    "    vulnerability = vulnerability.loc[row_subset, :]\n",
    "\n",
    "    #show the data\n",
    "    #print('Input vulnerability data (top 3 rows): ')\n",
    "    #print(vulnerability.head(3))\n",
    "\n",
    "    #print('\\n')\n",
    "\n",
    "    # summarise and write file\n",
    "    #calculate dV\n",
    "    #this is done in a two step process including a DEA; for more info see XX\n",
    "    d_v = []   \n",
    "\n",
    "    for fac_ in factorsString:\n",
    "        #for each factor category, i.e. economy, social or infrastructure, do the following:\n",
    "        d_v_max = []\n",
    "        print(\">>>>> Analyzing the '\" + fac_ + \"' factors\")\n",
    "        #select the indicators for each factor category\n",
    "        factor_subset = vulnerability.loc[:, vulnerability.columns.str.contains(fac_)]\n",
    "        dea_v = DEA(np.array([1.] * len(regions)).reshape(len(regions),1),\\\n",
    "                    factor_subset.to_numpy()[:, 1:],\\\n",
    "              loud = False)\n",
    "        dea_v.name_units(regions)\n",
    "        #d_v_max.append()\n",
    "        d_v_last = dea_v.fit()  \n",
    "        d_v.append(d_v_last)\n",
    "        if evaluateDEA:\n",
    "            dVmax = factor_subset.iloc[:,1:].max(axis = 1)\n",
    "            print(\"plot max vs DEA:\")\n",
    "            fig = px.scatter(x=list(dVmax), y=d_v_last,\\\n",
    "                             title = 'Evaluate vulnerabiliy\\'s DEA ({})'.format(fac_),\\\n",
    "                        labels={\n",
    "                             \"x\": \"Maximum vulnerabiliy\",\n",
    "                             \"y\": \"DEA\"\n",
    "                         })\n",
    "            fig.show()\n",
    "\n",
    "    # returns three lists with regional efficiencies for each factor\n",
    "    d_v = np.array(d_v).reshape(len(factorsString), len(regions))\n",
    "\n",
    "    #calculate dV\n",
    "    dV = np.nanmean(d_v, axis = 0)\n",
    "    output['vulnerability_raw'] = dV\n",
    "    if loud:\n",
    "        print('>>>>> Drought vulnerability is completed.')\n",
    "        print('\\n')\n",
    "    # Risk = Hazard * Exposure * Vulnerability\n",
    "\n",
    "    R = []\n",
    "\n",
    "    for i in range(0, len(regions)):\n",
    "            R_last = round(dH[i] * dE[i] * dV[i], 3)\n",
    "            R.append(R_last)\n",
    "    \n",
    "    output['risk_raw'] = R\n",
    "\n",
    "    # categorized risk and merge results with the spatial data\n",
    "    output['risk_cat'] = [(int(np.ceil(x * 5))) for x in output['risk_raw']]\n",
    "    # keep index\n",
    "\n",
    "    nuts = nuts.merge(output, on='NUTS_ID')\n",
    "    nuts_idx = nuts['NUTS_ID']\n",
    "    nuts = nuts.set_index(nuts_idx)\n",
    "    output.to_csv(os.path.join(workflow_folder, 'outputs', 'droughtrisk_{}_{}.csv'.format(ccode, pattern)), index = False)\n",
    "    if pattern == 'historic':\n",
    "        return t_m, t_a"
   ]
  },
  {
   "cell_type": "markdown",
   "id": "3e2d1b5f",
   "metadata": {},
   "source": [
    "### Define working environment and global parameters\n",
    "This workflow relies on pre-proceessed data. The user will define the path to the data folder and the code below would create a folder for outputs.\n"
   ]
  },
  {
   "cell_type": "code",
   "execution_count": 28,
   "id": "3674cd8c",
   "metadata": {},
   "outputs": [],
   "source": [
    "# Set working environment\n",
    "\n",
    "workflow_folder = './sample_data_nuts3/'\n",
    "\n",
    "# Define scenario 0: historic; 1: SSP1-2.6; 2: SSP3-7.0. 3: SSP5-8.5\n",
    "\n",
    "scn = 1\n",
    "\n",
    "# Define time (applicible only for the future): 0: near-future (2050); 1: far-future (2080)\n",
    "time = 0\n",
    "\n",
    "\n",
    "    \n",
    "\n",
    "# debug if folder does not exist - issue an error to check path\n",
    "\n",
    "# create outputs folder\n",
    "if not os.path.exists(os.path.join(workflow_folder, 'outputs')):\n",
    "    os.makedirs(os.path.join(workflow_folder, 'outputs'))\n",
    "\n",
    "if not os.path.exists(os.path.join(workflow_folder, 'outputs_hazards')):\n",
    "    os.makedirs(os.path.join(workflow_folder, 'outputs_hazards'))"
   ]
  },
  {
   "cell_type": "markdown",
   "id": "a7874ea8",
   "metadata": {},
   "source": [
    "Load NUTS3 spatial data and define regions of interest"
   ]
  },
  {
   "cell_type": "code",
   "execution_count": 29,
   "id": "33d0fa8e",
   "metadata": {},
   "outputs": [
    {
     "name": "stdout",
     "output_type": "stream",
     "text": [
      "Load NUTS3 map with three sample regions\n",
      "Choose country code from:  ['HR' 'DE' 'BG' 'AT' 'AL' 'BE' 'ES' 'CH' 'CZ' 'EL' 'FR' 'FI' 'EE' 'DK'\n",
      " 'CY' 'HU' 'NL' 'NO' 'LV' 'LT' 'IS' 'MK' 'MT' 'IT' 'TR' 'PL' 'RO' 'SE'\n",
      " 'RS' 'PT' 'IE' 'UK' 'ME' 'LU' 'SK' 'SI' 'LI']\n"
     ]
    }
   ],
   "source": [
    "# load nuts3 spatial data\n",
    "print('Load NUTS3 map with three sample regions')\n",
    "json_nuts_path = 'https://gisco-services.ec.europa.eu/distribution/v2/nuts/geojson/NUTS_RG_01M_2021_4326_LEVL_3.geojson'\n",
    "nuts_ = load_nuts_json(json_nuts_path)\n",
    "pth = os.path.join(workflow_folder, 'outputs')\n",
    "pth_h = os.path.join(workflow_folder, 'outputs_hazards')\n",
    "# set country = 0 to map all Europe\n",
    "#nuts['NUTS_ID2'] = nuts['NUTS_ID'].str.slice(0,4)\n",
    "\n",
    "print(\"Choose country code from: \", nuts_['CNTR_CODE'].unique())\n"
   ]
  },
  {
   "cell_type": "code",
   "execution_count": 30,
   "id": "bd0b81b2",
   "metadata": {
    "scrolled": false
   },
   "outputs": [
    {
     "name": "stdout",
     "output_type": "stream",
     "text": [
      "############# EL _ historic ############# \n",
      "\n",
      ">>>>> Analyzing the 'overall' factors\n",
      "############# EL _ ssp126_nf _ 0 ############# \n",
      "\n",
      ">>>>> Analyzing the 'Overall' factors\n",
      "############# EL _ ssp126_ff _ 1 ############# \n",
      "\n",
      ">>>>> Analyzing the 'Overall' factors\n",
      "############# EL _ ssp370_nf _ 0 ############# \n",
      "\n",
      ">>>>> Analyzing the 'Overall' factors\n",
      "############# EL _ ssp370_ff _ 1 ############# \n",
      "\n",
      ">>>>> Analyzing the 'Overall' factors\n",
      "############# EL _ ssp585_nf _ 0 ############# \n",
      "\n",
      ">>>>> Analyzing the 'Overall' factors\n",
      "############# EL _ ssp585_ff _ 1 ############# \n",
      "\n",
      ">>>>> Analyzing the 'Overall' factors\n",
      "############# LV _ historic ############# \n",
      "\n",
      ">>>>> Analyzing the 'overall' factors\n",
      "############# LV _ ssp126_nf _ 0 ############# \n",
      "\n",
      ">>>>> Analyzing the 'Overall' factors\n",
      "############# LV _ ssp126_ff _ 1 ############# \n",
      "\n",
      ">>>>> Analyzing the 'Overall' factors\n",
      "############# LV _ ssp370_nf _ 0 ############# \n",
      "\n",
      ">>>>> Analyzing the 'Overall' factors\n",
      "############# LV _ ssp370_ff _ 1 ############# \n",
      "\n",
      ">>>>> Analyzing the 'Overall' factors\n",
      "############# LV _ ssp585_nf _ 0 ############# \n",
      "\n",
      ">>>>> Analyzing the 'Overall' factors\n",
      "############# LV _ ssp585_ff _ 1 ############# \n",
      "\n",
      ">>>>> Analyzing the 'Overall' factors\n",
      "############# IS _ historic ############# \n",
      "\n"
     ]
    },
    {
     "name": "stderr",
     "output_type": "stream",
     "text": [
      "c:\\users\\dof19\\appdata\\local\\programs\\python\\python38\\lib\\site-packages\\numpy\\lib\\nanfunctions.py:1216: RuntimeWarning: Mean of empty slice\n",
      "  return np.nanmean(a, axis, out=out, keepdims=keepdims)\n"
     ]
    },
    {
     "name": "stdout",
     "output_type": "stream",
     "text": [
      ">>>>> Analyzing the 'overall' factors\n",
      "############# IS _ ssp126_nf _ 0 ############# \n",
      "\n"
     ]
    },
    {
     "name": "stderr",
     "output_type": "stream",
     "text": [
      "c:\\users\\dof19\\appdata\\local\\programs\\python\\python38\\lib\\site-packages\\numpy\\lib\\nanfunctions.py:1216: RuntimeWarning: Mean of empty slice\n",
      "  return np.nanmean(a, axis, out=out, keepdims=keepdims)\n"
     ]
    },
    {
     "name": "stdout",
     "output_type": "stream",
     "text": [
      ">>>>> Analyzing the 'Overall' factors\n",
      "############# IS _ ssp126_ff _ 1 ############# \n",
      "\n"
     ]
    },
    {
     "name": "stderr",
     "output_type": "stream",
     "text": [
      "c:\\users\\dof19\\appdata\\local\\programs\\python\\python38\\lib\\site-packages\\numpy\\lib\\nanfunctions.py:1216: RuntimeWarning: Mean of empty slice\n",
      "  return np.nanmean(a, axis, out=out, keepdims=keepdims)\n"
     ]
    },
    {
     "name": "stdout",
     "output_type": "stream",
     "text": [
      ">>>>> Analyzing the 'Overall' factors\n",
      "############# IS _ ssp370_nf _ 0 ############# \n",
      "\n"
     ]
    },
    {
     "name": "stderr",
     "output_type": "stream",
     "text": [
      "c:\\users\\dof19\\appdata\\local\\programs\\python\\python38\\lib\\site-packages\\numpy\\lib\\nanfunctions.py:1216: RuntimeWarning: Mean of empty slice\n",
      "  return np.nanmean(a, axis, out=out, keepdims=keepdims)\n"
     ]
    },
    {
     "name": "stdout",
     "output_type": "stream",
     "text": [
      ">>>>> Analyzing the 'Overall' factors\n",
      "############# IS _ ssp370_ff _ 1 ############# \n",
      "\n"
     ]
    },
    {
     "name": "stderr",
     "output_type": "stream",
     "text": [
      "c:\\users\\dof19\\appdata\\local\\programs\\python\\python38\\lib\\site-packages\\numpy\\lib\\nanfunctions.py:1216: RuntimeWarning: Mean of empty slice\n",
      "  return np.nanmean(a, axis, out=out, keepdims=keepdims)\n"
     ]
    },
    {
     "name": "stdout",
     "output_type": "stream",
     "text": [
      ">>>>> Analyzing the 'Overall' factors\n",
      "############# IS _ ssp585_nf _ 0 ############# \n",
      "\n"
     ]
    },
    {
     "name": "stderr",
     "output_type": "stream",
     "text": [
      "c:\\users\\dof19\\appdata\\local\\programs\\python\\python38\\lib\\site-packages\\numpy\\lib\\nanfunctions.py:1216: RuntimeWarning: Mean of empty slice\n",
      "  return np.nanmean(a, axis, out=out, keepdims=keepdims)\n"
     ]
    },
    {
     "name": "stdout",
     "output_type": "stream",
     "text": [
      ">>>>> Analyzing the 'Overall' factors\n",
      "############# IS _ ssp585_ff _ 1 ############# \n",
      "\n"
     ]
    },
    {
     "name": "stderr",
     "output_type": "stream",
     "text": [
      "c:\\users\\dof19\\appdata\\local\\programs\\python\\python38\\lib\\site-packages\\numpy\\lib\\nanfunctions.py:1216: RuntimeWarning: Mean of empty slice\n",
      "  return np.nanmean(a, axis, out=out, keepdims=keepdims)\n"
     ]
    },
    {
     "name": "stdout",
     "output_type": "stream",
     "text": [
      ">>>>> Analyzing the 'Overall' factors\n",
      "############# HR _ historic ############# \n",
      "\n",
      ">>>>> Analyzing the 'overall' factors\n",
      "############# HR _ ssp126_nf _ 0 ############# \n",
      "\n"
     ]
    },
    {
     "name": "stderr",
     "output_type": "stream",
     "text": [
      "C:\\Users\\dof19\\AppData\\Local\\Temp/ipykernel_3628/1044944513.py:136: RuntimeWarning: Mean of empty slice\n",
      "  output['wasp_raw_mean'] = [np.nanmean(x) for x in WASP]\n",
      "c:\\users\\dof19\\appdata\\local\\programs\\python\\python38\\lib\\site-packages\\numpy\\lib\\nanfunctions.py:1559: RuntimeWarning: Mean of empty slice\n",
      "  return np.nanmean(a, axis, out=out, keepdims=keepdims)\n",
      "c:\\users\\dof19\\appdata\\local\\programs\\python\\python38\\lib\\site-packages\\numpy\\lib\\nanfunctions.py:1216: RuntimeWarning: Mean of empty slice\n",
      "  return np.nanmean(a, axis, out=out, keepdims=keepdims)\n",
      "c:\\users\\dof19\\appdata\\local\\programs\\python\\python38\\lib\\site-packages\\numpy\\lib\\nanfunctions.py:1559: RuntimeWarning: Mean of empty slice\n",
      "  return np.nanmean(a, axis, out=out, keepdims=keepdims)\n"
     ]
    },
    {
     "name": "stdout",
     "output_type": "stream",
     "text": [
      ">>>>> Analyzing the 'Overall' factors\n",
      "############# HR _ ssp126_ff _ 1 ############# \n",
      "\n"
     ]
    },
    {
     "name": "stderr",
     "output_type": "stream",
     "text": [
      "C:\\Users\\dof19\\AppData\\Local\\Temp/ipykernel_3628/1044944513.py:136: RuntimeWarning: Mean of empty slice\n",
      "  output['wasp_raw_mean'] = [np.nanmean(x) for x in WASP]\n",
      "c:\\users\\dof19\\appdata\\local\\programs\\python\\python38\\lib\\site-packages\\numpy\\lib\\nanfunctions.py:1559: RuntimeWarning: Mean of empty slice\n",
      "  return np.nanmean(a, axis, out=out, keepdims=keepdims)\n",
      "c:\\users\\dof19\\appdata\\local\\programs\\python\\python38\\lib\\site-packages\\numpy\\lib\\nanfunctions.py:1216: RuntimeWarning: Mean of empty slice\n",
      "  return np.nanmean(a, axis, out=out, keepdims=keepdims)\n",
      "c:\\users\\dof19\\appdata\\local\\programs\\python\\python38\\lib\\site-packages\\numpy\\lib\\nanfunctions.py:1559: RuntimeWarning: Mean of empty slice\n",
      "  return np.nanmean(a, axis, out=out, keepdims=keepdims)\n"
     ]
    },
    {
     "name": "stdout",
     "output_type": "stream",
     "text": [
      ">>>>> Analyzing the 'Overall' factors\n",
      "############# HR _ ssp370_nf _ 0 ############# \n",
      "\n"
     ]
    },
    {
     "name": "stderr",
     "output_type": "stream",
     "text": [
      "C:\\Users\\dof19\\AppData\\Local\\Temp/ipykernel_3628/1044944513.py:136: RuntimeWarning: Mean of empty slice\n",
      "  output['wasp_raw_mean'] = [np.nanmean(x) for x in WASP]\n",
      "c:\\users\\dof19\\appdata\\local\\programs\\python\\python38\\lib\\site-packages\\numpy\\lib\\nanfunctions.py:1559: RuntimeWarning: Mean of empty slice\n",
      "  return np.nanmean(a, axis, out=out, keepdims=keepdims)\n",
      "c:\\users\\dof19\\appdata\\local\\programs\\python\\python38\\lib\\site-packages\\numpy\\lib\\nanfunctions.py:1216: RuntimeWarning: Mean of empty slice\n",
      "  return np.nanmean(a, axis, out=out, keepdims=keepdims)\n",
      "c:\\users\\dof19\\appdata\\local\\programs\\python\\python38\\lib\\site-packages\\numpy\\lib\\nanfunctions.py:1559: RuntimeWarning: Mean of empty slice\n",
      "  return np.nanmean(a, axis, out=out, keepdims=keepdims)\n"
     ]
    },
    {
     "name": "stdout",
     "output_type": "stream",
     "text": [
      ">>>>> Analyzing the 'Overall' factors\n",
      "############# HR _ ssp370_ff _ 1 ############# \n",
      "\n",
      ">>>>> Analyzing the 'Overall' factors\n",
      "############# HR _ ssp585_nf _ 0 ############# \n",
      "\n"
     ]
    },
    {
     "name": "stderr",
     "output_type": "stream",
     "text": [
      "C:\\Users\\dof19\\AppData\\Local\\Temp/ipykernel_3628/1044944513.py:136: RuntimeWarning: Mean of empty slice\n",
      "  output['wasp_raw_mean'] = [np.nanmean(x) for x in WASP]\n",
      "c:\\users\\dof19\\appdata\\local\\programs\\python\\python38\\lib\\site-packages\\numpy\\lib\\nanfunctions.py:1559: RuntimeWarning: Mean of empty slice\n",
      "  return np.nanmean(a, axis, out=out, keepdims=keepdims)\n",
      "c:\\users\\dof19\\appdata\\local\\programs\\python\\python38\\lib\\site-packages\\numpy\\lib\\nanfunctions.py:1216: RuntimeWarning: Mean of empty slice\n",
      "  return np.nanmean(a, axis, out=out, keepdims=keepdims)\n",
      "c:\\users\\dof19\\appdata\\local\\programs\\python\\python38\\lib\\site-packages\\numpy\\lib\\nanfunctions.py:1559: RuntimeWarning: Mean of empty slice\n",
      "  return np.nanmean(a, axis, out=out, keepdims=keepdims)\n"
     ]
    },
    {
     "name": "stdout",
     "output_type": "stream",
     "text": [
      ">>>>> Analyzing the 'Overall' factors\n",
      "############# HR _ ssp585_ff _ 1 ############# \n",
      "\n"
     ]
    },
    {
     "name": "stderr",
     "output_type": "stream",
     "text": [
      "C:\\Users\\dof19\\AppData\\Local\\Temp/ipykernel_3628/1044944513.py:136: RuntimeWarning: Mean of empty slice\n",
      "  output['wasp_raw_mean'] = [np.nanmean(x) for x in WASP]\n",
      "c:\\users\\dof19\\appdata\\local\\programs\\python\\python38\\lib\\site-packages\\numpy\\lib\\nanfunctions.py:1559: RuntimeWarning: Mean of empty slice\n",
      "  return np.nanmean(a, axis, out=out, keepdims=keepdims)\n",
      "c:\\users\\dof19\\appdata\\local\\programs\\python\\python38\\lib\\site-packages\\numpy\\lib\\nanfunctions.py:1216: RuntimeWarning: Mean of empty slice\n",
      "  return np.nanmean(a, axis, out=out, keepdims=keepdims)\n",
      "c:\\users\\dof19\\appdata\\local\\programs\\python\\python38\\lib\\site-packages\\numpy\\lib\\nanfunctions.py:1559: RuntimeWarning: Mean of empty slice\n",
      "  return np.nanmean(a, axis, out=out, keepdims=keepdims)\n"
     ]
    },
    {
     "name": "stdout",
     "output_type": "stream",
     "text": [
      ">>>>> Analyzing the 'Overall' factors\n",
      "############# DE _ historic ############# \n",
      "\n",
      ">>>>> Analyzing the 'overall' factors\n",
      "############# DE _ ssp126_nf _ 0 ############# \n",
      "\n"
     ]
    },
    {
     "name": "stderr",
     "output_type": "stream",
     "text": [
      "C:\\Users\\dof19\\AppData\\Local\\Temp/ipykernel_3628/1044944513.py:136: RuntimeWarning: Mean of empty slice\n",
      "  output['wasp_raw_mean'] = [np.nanmean(x) for x in WASP]\n",
      "c:\\users\\dof19\\appdata\\local\\programs\\python\\python38\\lib\\site-packages\\numpy\\lib\\nanfunctions.py:1559: RuntimeWarning: Mean of empty slice\n",
      "  return np.nanmean(a, axis, out=out, keepdims=keepdims)\n",
      "c:\\users\\dof19\\appdata\\local\\programs\\python\\python38\\lib\\site-packages\\numpy\\lib\\nanfunctions.py:1216: RuntimeWarning: Mean of empty slice\n",
      "  return np.nanmean(a, axis, out=out, keepdims=keepdims)\n",
      "c:\\users\\dof19\\appdata\\local\\programs\\python\\python38\\lib\\site-packages\\numpy\\lib\\nanfunctions.py:1559: RuntimeWarning: Mean of empty slice\n",
      "  return np.nanmean(a, axis, out=out, keepdims=keepdims)\n"
     ]
    },
    {
     "name": "stdout",
     "output_type": "stream",
     "text": [
      ">>>>> Analyzing the 'Overall' factors\n",
      "############# DE _ ssp126_ff _ 1 ############# \n",
      "\n"
     ]
    },
    {
     "name": "stderr",
     "output_type": "stream",
     "text": [
      "C:\\Users\\dof19\\AppData\\Local\\Temp/ipykernel_3628/1044944513.py:136: RuntimeWarning: Mean of empty slice\n",
      "  output['wasp_raw_mean'] = [np.nanmean(x) for x in WASP]\n",
      "c:\\users\\dof19\\appdata\\local\\programs\\python\\python38\\lib\\site-packages\\numpy\\lib\\nanfunctions.py:1559: RuntimeWarning: Mean of empty slice\n",
      "  return np.nanmean(a, axis, out=out, keepdims=keepdims)\n",
      "c:\\users\\dof19\\appdata\\local\\programs\\python\\python38\\lib\\site-packages\\numpy\\lib\\nanfunctions.py:1216: RuntimeWarning: Mean of empty slice\n",
      "  return np.nanmean(a, axis, out=out, keepdims=keepdims)\n",
      "c:\\users\\dof19\\appdata\\local\\programs\\python\\python38\\lib\\site-packages\\numpy\\lib\\nanfunctions.py:1559: RuntimeWarning: Mean of empty slice\n",
      "  return np.nanmean(a, axis, out=out, keepdims=keepdims)\n"
     ]
    },
    {
     "name": "stdout",
     "output_type": "stream",
     "text": [
      ">>>>> Analyzing the 'Overall' factors\n",
      "############# DE _ ssp370_nf _ 0 ############# \n",
      "\n"
     ]
    },
    {
     "name": "stderr",
     "output_type": "stream",
     "text": [
      "C:\\Users\\dof19\\AppData\\Local\\Temp/ipykernel_3628/1044944513.py:136: RuntimeWarning: Mean of empty slice\n",
      "  output['wasp_raw_mean'] = [np.nanmean(x) for x in WASP]\n",
      "c:\\users\\dof19\\appdata\\local\\programs\\python\\python38\\lib\\site-packages\\numpy\\lib\\nanfunctions.py:1559: RuntimeWarning: Mean of empty slice\n",
      "  return np.nanmean(a, axis, out=out, keepdims=keepdims)\n",
      "c:\\users\\dof19\\appdata\\local\\programs\\python\\python38\\lib\\site-packages\\numpy\\lib\\nanfunctions.py:1216: RuntimeWarning: Mean of empty slice\n",
      "  return np.nanmean(a, axis, out=out, keepdims=keepdims)\n",
      "c:\\users\\dof19\\appdata\\local\\programs\\python\\python38\\lib\\site-packages\\numpy\\lib\\nanfunctions.py:1559: RuntimeWarning: Mean of empty slice\n",
      "  return np.nanmean(a, axis, out=out, keepdims=keepdims)\n"
     ]
    },
    {
     "name": "stdout",
     "output_type": "stream",
     "text": [
      ">>>>> Analyzing the 'Overall' factors\n",
      "############# DE _ ssp370_ff _ 1 ############# \n",
      "\n"
     ]
    },
    {
     "name": "stderr",
     "output_type": "stream",
     "text": [
      "C:\\Users\\dof19\\AppData\\Local\\Temp/ipykernel_3628/1044944513.py:136: RuntimeWarning: Mean of empty slice\n",
      "  output['wasp_raw_mean'] = [np.nanmean(x) for x in WASP]\n",
      "c:\\users\\dof19\\appdata\\local\\programs\\python\\python38\\lib\\site-packages\\numpy\\lib\\nanfunctions.py:1559: RuntimeWarning: Mean of empty slice\n",
      "  return np.nanmean(a, axis, out=out, keepdims=keepdims)\n",
      "c:\\users\\dof19\\appdata\\local\\programs\\python\\python38\\lib\\site-packages\\numpy\\lib\\nanfunctions.py:1216: RuntimeWarning: Mean of empty slice\n",
      "  return np.nanmean(a, axis, out=out, keepdims=keepdims)\n",
      "c:\\users\\dof19\\appdata\\local\\programs\\python\\python38\\lib\\site-packages\\numpy\\lib\\nanfunctions.py:1559: RuntimeWarning: Mean of empty slice\n",
      "  return np.nanmean(a, axis, out=out, keepdims=keepdims)\n"
     ]
    },
    {
     "name": "stdout",
     "output_type": "stream",
     "text": [
      ">>>>> Analyzing the 'Overall' factors\n",
      "############# DE _ ssp585_nf _ 0 ############# \n",
      "\n"
     ]
    },
    {
     "name": "stderr",
     "output_type": "stream",
     "text": [
      "C:\\Users\\dof19\\AppData\\Local\\Temp/ipykernel_3628/1044944513.py:136: RuntimeWarning: Mean of empty slice\n",
      "  output['wasp_raw_mean'] = [np.nanmean(x) for x in WASP]\n",
      "c:\\users\\dof19\\appdata\\local\\programs\\python\\python38\\lib\\site-packages\\numpy\\lib\\nanfunctions.py:1559: RuntimeWarning: Mean of empty slice\n",
      "  return np.nanmean(a, axis, out=out, keepdims=keepdims)\n",
      "c:\\users\\dof19\\appdata\\local\\programs\\python\\python38\\lib\\site-packages\\numpy\\lib\\nanfunctions.py:1216: RuntimeWarning: Mean of empty slice\n",
      "  return np.nanmean(a, axis, out=out, keepdims=keepdims)\n",
      "c:\\users\\dof19\\appdata\\local\\programs\\python\\python38\\lib\\site-packages\\numpy\\lib\\nanfunctions.py:1559: RuntimeWarning: Mean of empty slice\n",
      "  return np.nanmean(a, axis, out=out, keepdims=keepdims)\n"
     ]
    },
    {
     "name": "stdout",
     "output_type": "stream",
     "text": [
      ">>>>> Analyzing the 'Overall' factors\n",
      "############# DE _ ssp585_ff _ 1 ############# \n",
      "\n"
     ]
    },
    {
     "name": "stderr",
     "output_type": "stream",
     "text": [
      "C:\\Users\\dof19\\AppData\\Local\\Temp/ipykernel_3628/1044944513.py:136: RuntimeWarning: Mean of empty slice\n",
      "  output['wasp_raw_mean'] = [np.nanmean(x) for x in WASP]\n",
      "c:\\users\\dof19\\appdata\\local\\programs\\python\\python38\\lib\\site-packages\\numpy\\lib\\nanfunctions.py:1559: RuntimeWarning: Mean of empty slice\n",
      "  return np.nanmean(a, axis, out=out, keepdims=keepdims)\n",
      "c:\\users\\dof19\\appdata\\local\\programs\\python\\python38\\lib\\site-packages\\numpy\\lib\\nanfunctions.py:1216: RuntimeWarning: Mean of empty slice\n",
      "  return np.nanmean(a, axis, out=out, keepdims=keepdims)\n",
      "c:\\users\\dof19\\appdata\\local\\programs\\python\\python38\\lib\\site-packages\\numpy\\lib\\nanfunctions.py:1559: RuntimeWarning: Mean of empty slice\n",
      "  return np.nanmean(a, axis, out=out, keepdims=keepdims)\n"
     ]
    },
    {
     "name": "stdout",
     "output_type": "stream",
     "text": [
      ">>>>> Analyzing the 'Overall' factors\n",
      "############# BG _ historic ############# \n",
      "\n",
      ">>>>> Analyzing the 'overall' factors\n",
      "############# BG _ ssp126_nf _ 0 ############# \n",
      "\n",
      ">>>>> Analyzing the 'Overall' factors\n",
      "############# BG _ ssp126_ff _ 1 ############# \n",
      "\n",
      ">>>>> Analyzing the 'Overall' factors\n",
      "############# BG _ ssp370_nf _ 0 ############# \n",
      "\n",
      ">>>>> Analyzing the 'Overall' factors\n",
      "############# BG _ ssp370_ff _ 1 ############# \n",
      "\n",
      ">>>>> Analyzing the 'Overall' factors\n",
      "############# BG _ ssp585_nf _ 0 ############# \n",
      "\n",
      ">>>>> Analyzing the 'Overall' factors\n",
      "############# BG _ ssp585_ff _ 1 ############# \n",
      "\n",
      ">>>>> Analyzing the 'Overall' factors\n",
      "############# AT _ historic ############# \n",
      "\n",
      ">>>>> Analyzing the 'overall' factors\n",
      "############# AT _ ssp126_nf _ 0 ############# \n",
      "\n",
      ">>>>> Analyzing the 'Overall' factors\n",
      "############# AT _ ssp126_ff _ 1 ############# \n",
      "\n",
      ">>>>> Analyzing the 'Overall' factors\n",
      "############# AT _ ssp370_nf _ 0 ############# \n",
      "\n",
      ">>>>> Analyzing the 'Overall' factors\n",
      "############# AT _ ssp370_ff _ 1 ############# \n",
      "\n",
      ">>>>> Analyzing the 'Overall' factors\n",
      "############# AT _ ssp585_nf _ 0 ############# \n",
      "\n",
      ">>>>> Analyzing the 'Overall' factors\n",
      "############# AT _ ssp585_ff _ 1 ############# \n",
      "\n",
      ">>>>> Analyzing the 'Overall' factors\n",
      "############# AL _ historic ############# \n",
      "\n",
      ">>>>> Analyzing the 'overall' factors\n",
      "############# AL _ ssp126_nf _ 0 ############# \n",
      "\n"
     ]
    },
    {
     "name": "stderr",
     "output_type": "stream",
     "text": [
      "C:\\Users\\dof19\\AppData\\Local\\Temp/ipykernel_3628/1044944513.py:136: RuntimeWarning: Mean of empty slice\n",
      "  output['wasp_raw_mean'] = [np.nanmean(x) for x in WASP]\n",
      "c:\\users\\dof19\\appdata\\local\\programs\\python\\python38\\lib\\site-packages\\numpy\\lib\\nanfunctions.py:1559: RuntimeWarning: Mean of empty slice\n",
      "  return np.nanmean(a, axis, out=out, keepdims=keepdims)\n",
      "c:\\users\\dof19\\appdata\\local\\programs\\python\\python38\\lib\\site-packages\\numpy\\lib\\nanfunctions.py:1216: RuntimeWarning: Mean of empty slice\n",
      "  return np.nanmean(a, axis, out=out, keepdims=keepdims)\n",
      "c:\\users\\dof19\\appdata\\local\\programs\\python\\python38\\lib\\site-packages\\numpy\\lib\\nanfunctions.py:1559: RuntimeWarning: Mean of empty slice\n",
      "  return np.nanmean(a, axis, out=out, keepdims=keepdims)\n"
     ]
    },
    {
     "name": "stdout",
     "output_type": "stream",
     "text": [
      ">>>>> Analyzing the 'Overall' factors\n",
      "############# AL _ ssp126_ff _ 1 ############# \n",
      "\n",
      ">>>>> Analyzing the 'Overall' factors\n",
      "############# AL _ ssp370_nf _ 0 ############# \n",
      "\n",
      ">>>>> Analyzing the 'Overall' factors\n",
      "############# AL _ ssp370_ff _ 1 ############# \n",
      "\n",
      ">>>>> Analyzing the 'Overall' factors\n",
      "############# AL _ ssp585_nf _ 0 ############# \n",
      "\n"
     ]
    },
    {
     "name": "stderr",
     "output_type": "stream",
     "text": [
      "C:\\Users\\dof19\\AppData\\Local\\Temp/ipykernel_3628/1044944513.py:136: RuntimeWarning: Mean of empty slice\n",
      "  output['wasp_raw_mean'] = [np.nanmean(x) for x in WASP]\n",
      "c:\\users\\dof19\\appdata\\local\\programs\\python\\python38\\lib\\site-packages\\numpy\\lib\\nanfunctions.py:1559: RuntimeWarning: Mean of empty slice\n",
      "  return np.nanmean(a, axis, out=out, keepdims=keepdims)\n",
      "c:\\users\\dof19\\appdata\\local\\programs\\python\\python38\\lib\\site-packages\\numpy\\lib\\nanfunctions.py:1216: RuntimeWarning: Mean of empty slice\n",
      "  return np.nanmean(a, axis, out=out, keepdims=keepdims)\n",
      "c:\\users\\dof19\\appdata\\local\\programs\\python\\python38\\lib\\site-packages\\numpy\\lib\\nanfunctions.py:1559: RuntimeWarning: Mean of empty slice\n",
      "  return np.nanmean(a, axis, out=out, keepdims=keepdims)\n"
     ]
    },
    {
     "name": "stdout",
     "output_type": "stream",
     "text": [
      ">>>>> Analyzing the 'Overall' factors\n",
      "############# AL _ ssp585_ff _ 1 ############# \n",
      "\n",
      ">>>>> Analyzing the 'Overall' factors\n",
      "############# BE _ historic ############# \n",
      "\n",
      ">>>>> Analyzing the 'overall' factors\n",
      "############# BE _ ssp126_nf _ 0 ############# \n",
      "\n",
      ">>>>> Analyzing the 'Overall' factors\n",
      "############# BE _ ssp126_ff _ 1 ############# \n",
      "\n",
      ">>>>> Analyzing the 'Overall' factors\n",
      "############# BE _ ssp370_nf _ 0 ############# \n",
      "\n",
      ">>>>> Analyzing the 'Overall' factors\n",
      "############# BE _ ssp370_ff _ 1 ############# \n",
      "\n",
      ">>>>> Analyzing the 'Overall' factors\n",
      "############# BE _ ssp585_nf _ 0 ############# \n",
      "\n",
      ">>>>> Analyzing the 'Overall' factors\n",
      "############# BE _ ssp585_ff _ 1 ############# \n",
      "\n",
      ">>>>> Analyzing the 'Overall' factors\n",
      "############# ES _ historic ############# \n",
      "\n"
     ]
    },
    {
     "name": "stderr",
     "output_type": "stream",
     "text": [
      "C:\\Users\\dof19\\AppData\\Local\\Temp/ipykernel_3628/1044944513.py:171: SettingWithCopyWarning: \n",
      "A value is trying to be set on a copy of a slice from a DataFrame.\n",
      "Try using .loc[row_indexer,col_indexer] = value instead\n",
      "\n",
      "See the caveats in the documentation: https://pandas.pydata.org/pandas-docs/stable/user_guide/indexing.html#returning-a-view-versus-a-copy\n",
      "  exposure.loc[:, varname] = np.maximum((exposure.loc[:, varname] - mn_exposure)/(mx_exposure - mn_exposure), 0.01)\n",
      "C:\\Users\\dof19\\AppData\\Local\\Temp/ipykernel_3628/1044944513.py:176: SettingWithCopyWarning: \n",
      "A value is trying to be set on a copy of a slice from a DataFrame.\n",
      "Try using .loc[row_indexer,col_indexer] = value instead\n",
      "\n",
      "See the caveats in the documentation: https://pandas.pydata.org/pandas-docs/stable/user_guide/indexing.html#returning-a-view-versus-a-copy\n",
      "  exposure['sort_col'] = exposure['NUTS_ID'].map(sorterIndex)\n",
      "C:\\Users\\dof19\\AppData\\Local\\Temp/ipykernel_3628/1044944513.py:177: SettingWithCopyWarning: \n",
      "A value is trying to be set on a copy of a slice from a DataFrame\n",
      "\n",
      "See the caveats in the documentation: https://pandas.pydata.org/pandas-docs/stable/user_guide/indexing.html#returning-a-view-versus-a-copy\n",
      "  exposure.sort_values(['sort_col'],\n",
      "C:\\Users\\dof19\\AppData\\Local\\Temp/ipykernel_3628/1044944513.py:250: SettingWithCopyWarning: \n",
      "A value is trying to be set on a copy of a slice from a DataFrame.\n",
      "Try using .loc[row_indexer,col_indexer] = value instead\n",
      "\n",
      "See the caveats in the documentation: https://pandas.pydata.org/pandas-docs/stable/user_guide/indexing.html#returning-a-view-versus-a-copy\n",
      "  vulnerability.loc[:, varname] = np.maximum((vulnerability.loc[:, varname] - mn_vulnerability)/(mx_vulnerability - mn_vulnerability), 0.01)\n",
      "C:\\Users\\dof19\\AppData\\Local\\Temp/ipykernel_3628/1044944513.py:253: SettingWithCopyWarning: \n",
      "A value is trying to be set on a copy of a slice from a DataFrame.\n",
      "Try using .loc[row_indexer,col_indexer] = value instead\n",
      "\n",
      "See the caveats in the documentation: https://pandas.pydata.org/pandas-docs/stable/user_guide/indexing.html#returning-a-view-versus-a-copy\n",
      "  vulnerability.loc[:, varname] = np.maximum(1 - (vulnerability.loc[:, varname] - mn_vulnerability)/(mx_vulnerability - mn_vulnerability), 0.01)\n",
      "C:\\Users\\dof19\\AppData\\Local\\Temp/ipykernel_3628/1044944513.py:258: SettingWithCopyWarning: \n",
      "A value is trying to be set on a copy of a slice from a DataFrame.\n",
      "Try using .loc[row_indexer,col_indexer] = value instead\n",
      "\n",
      "See the caveats in the documentation: https://pandas.pydata.org/pandas-docs/stable/user_guide/indexing.html#returning-a-view-versus-a-copy\n",
      "  vulnerability['sort_col'] = vulnerability['NUTS_ID'].map(sorterIndex)\n",
      "C:\\Users\\dof19\\AppData\\Local\\Temp/ipykernel_3628/1044944513.py:259: SettingWithCopyWarning: \n",
      "A value is trying to be set on a copy of a slice from a DataFrame\n",
      "\n",
      "See the caveats in the documentation: https://pandas.pydata.org/pandas-docs/stable/user_guide/indexing.html#returning-a-view-versus-a-copy\n",
      "  vulnerability.sort_values(['sort_col'],\n"
     ]
    },
    {
     "name": "stdout",
     "output_type": "stream",
     "text": [
      ">>>>> Analyzing the 'overall' factors\n",
      "############# ES _ ssp126_nf _ 0 ############# \n",
      "\n"
     ]
    },
    {
     "name": "stderr",
     "output_type": "stream",
     "text": [
      "C:\\Users\\dof19\\AppData\\Local\\Temp/ipykernel_3628/1044944513.py:136: RuntimeWarning: Mean of empty slice\n",
      "  output['wasp_raw_mean'] = [np.nanmean(x) for x in WASP]\n",
      "c:\\users\\dof19\\appdata\\local\\programs\\python\\python38\\lib\\site-packages\\numpy\\lib\\nanfunctions.py:1559: RuntimeWarning: Mean of empty slice\n",
      "  return np.nanmean(a, axis, out=out, keepdims=keepdims)\n",
      "c:\\users\\dof19\\appdata\\local\\programs\\python\\python38\\lib\\site-packages\\numpy\\lib\\nanfunctions.py:1216: RuntimeWarning: Mean of empty slice\n",
      "  return np.nanmean(a, axis, out=out, keepdims=keepdims)\n",
      "c:\\users\\dof19\\appdata\\local\\programs\\python\\python38\\lib\\site-packages\\numpy\\lib\\nanfunctions.py:1559: RuntimeWarning: Mean of empty slice\n",
      "  return np.nanmean(a, axis, out=out, keepdims=keepdims)\n",
      "C:\\Users\\dof19\\AppData\\Local\\Temp/ipykernel_3628/1044944513.py:171: SettingWithCopyWarning: \n",
      "A value is trying to be set on a copy of a slice from a DataFrame.\n",
      "Try using .loc[row_indexer,col_indexer] = value instead\n",
      "\n",
      "See the caveats in the documentation: https://pandas.pydata.org/pandas-docs/stable/user_guide/indexing.html#returning-a-view-versus-a-copy\n",
      "  exposure.loc[:, varname] = np.maximum((exposure.loc[:, varname] - mn_exposure)/(mx_exposure - mn_exposure), 0.01)\n",
      "C:\\Users\\dof19\\AppData\\Local\\Temp/ipykernel_3628/1044944513.py:176: SettingWithCopyWarning: \n",
      "A value is trying to be set on a copy of a slice from a DataFrame.\n",
      "Try using .loc[row_indexer,col_indexer] = value instead\n",
      "\n",
      "See the caveats in the documentation: https://pandas.pydata.org/pandas-docs/stable/user_guide/indexing.html#returning-a-view-versus-a-copy\n",
      "  exposure['sort_col'] = exposure['NUTS_ID'].map(sorterIndex)\n",
      "C:\\Users\\dof19\\AppData\\Local\\Temp/ipykernel_3628/1044944513.py:177: SettingWithCopyWarning: \n",
      "A value is trying to be set on a copy of a slice from a DataFrame\n",
      "\n",
      "See the caveats in the documentation: https://pandas.pydata.org/pandas-docs/stable/user_guide/indexing.html#returning-a-view-versus-a-copy\n",
      "  exposure.sort_values(['sort_col'],\n",
      "C:\\Users\\dof19\\AppData\\Local\\Temp/ipykernel_3628/1044944513.py:250: SettingWithCopyWarning: \n",
      "A value is trying to be set on a copy of a slice from a DataFrame.\n",
      "Try using .loc[row_indexer,col_indexer] = value instead\n",
      "\n",
      "See the caveats in the documentation: https://pandas.pydata.org/pandas-docs/stable/user_guide/indexing.html#returning-a-view-versus-a-copy\n",
      "  vulnerability.loc[:, varname] = np.maximum((vulnerability.loc[:, varname] - mn_vulnerability)/(mx_vulnerability - mn_vulnerability), 0.01)\n",
      "C:\\Users\\dof19\\AppData\\Local\\Temp/ipykernel_3628/1044944513.py:253: SettingWithCopyWarning: \n",
      "A value is trying to be set on a copy of a slice from a DataFrame.\n",
      "Try using .loc[row_indexer,col_indexer] = value instead\n",
      "\n",
      "See the caveats in the documentation: https://pandas.pydata.org/pandas-docs/stable/user_guide/indexing.html#returning-a-view-versus-a-copy\n",
      "  vulnerability.loc[:, varname] = np.maximum(1 - (vulnerability.loc[:, varname] - mn_vulnerability)/(mx_vulnerability - mn_vulnerability), 0.01)\n",
      "C:\\Users\\dof19\\AppData\\Local\\Temp/ipykernel_3628/1044944513.py:258: SettingWithCopyWarning: \n",
      "A value is trying to be set on a copy of a slice from a DataFrame.\n",
      "Try using .loc[row_indexer,col_indexer] = value instead\n",
      "\n",
      "See the caveats in the documentation: https://pandas.pydata.org/pandas-docs/stable/user_guide/indexing.html#returning-a-view-versus-a-copy\n",
      "  vulnerability['sort_col'] = vulnerability['NUTS_ID'].map(sorterIndex)\n",
      "C:\\Users\\dof19\\AppData\\Local\\Temp/ipykernel_3628/1044944513.py:259: SettingWithCopyWarning: \n",
      "A value is trying to be set on a copy of a slice from a DataFrame\n",
      "\n",
      "See the caveats in the documentation: https://pandas.pydata.org/pandas-docs/stable/user_guide/indexing.html#returning-a-view-versus-a-copy\n",
      "  vulnerability.sort_values(['sort_col'],\n"
     ]
    },
    {
     "name": "stdout",
     "output_type": "stream",
     "text": [
      ">>>>> Analyzing the 'Overall' factors\n",
      "############# ES _ ssp126_ff _ 1 ############# \n",
      "\n"
     ]
    },
    {
     "name": "stderr",
     "output_type": "stream",
     "text": [
      "C:\\Users\\dof19\\AppData\\Local\\Temp/ipykernel_3628/1044944513.py:136: RuntimeWarning: Mean of empty slice\n",
      "  output['wasp_raw_mean'] = [np.nanmean(x) for x in WASP]\n",
      "c:\\users\\dof19\\appdata\\local\\programs\\python\\python38\\lib\\site-packages\\numpy\\lib\\nanfunctions.py:1559: RuntimeWarning: Mean of empty slice\n",
      "  return np.nanmean(a, axis, out=out, keepdims=keepdims)\n",
      "c:\\users\\dof19\\appdata\\local\\programs\\python\\python38\\lib\\site-packages\\numpy\\lib\\nanfunctions.py:1216: RuntimeWarning: Mean of empty slice\n",
      "  return np.nanmean(a, axis, out=out, keepdims=keepdims)\n",
      "c:\\users\\dof19\\appdata\\local\\programs\\python\\python38\\lib\\site-packages\\numpy\\lib\\nanfunctions.py:1559: RuntimeWarning: Mean of empty slice\n",
      "  return np.nanmean(a, axis, out=out, keepdims=keepdims)\n",
      "C:\\Users\\dof19\\AppData\\Local\\Temp/ipykernel_3628/1044944513.py:171: SettingWithCopyWarning: \n",
      "A value is trying to be set on a copy of a slice from a DataFrame.\n",
      "Try using .loc[row_indexer,col_indexer] = value instead\n",
      "\n",
      "See the caveats in the documentation: https://pandas.pydata.org/pandas-docs/stable/user_guide/indexing.html#returning-a-view-versus-a-copy\n",
      "  exposure.loc[:, varname] = np.maximum((exposure.loc[:, varname] - mn_exposure)/(mx_exposure - mn_exposure), 0.01)\n",
      "C:\\Users\\dof19\\AppData\\Local\\Temp/ipykernel_3628/1044944513.py:176: SettingWithCopyWarning: \n",
      "A value is trying to be set on a copy of a slice from a DataFrame.\n",
      "Try using .loc[row_indexer,col_indexer] = value instead\n",
      "\n",
      "See the caveats in the documentation: https://pandas.pydata.org/pandas-docs/stable/user_guide/indexing.html#returning-a-view-versus-a-copy\n",
      "  exposure['sort_col'] = exposure['NUTS_ID'].map(sorterIndex)\n",
      "C:\\Users\\dof19\\AppData\\Local\\Temp/ipykernel_3628/1044944513.py:177: SettingWithCopyWarning: \n",
      "A value is trying to be set on a copy of a slice from a DataFrame\n",
      "\n",
      "See the caveats in the documentation: https://pandas.pydata.org/pandas-docs/stable/user_guide/indexing.html#returning-a-view-versus-a-copy\n",
      "  exposure.sort_values(['sort_col'],\n",
      "C:\\Users\\dof19\\AppData\\Local\\Temp/ipykernel_3628/1044944513.py:250: SettingWithCopyWarning: \n",
      "A value is trying to be set on a copy of a slice from a DataFrame.\n",
      "Try using .loc[row_indexer,col_indexer] = value instead\n",
      "\n",
      "See the caveats in the documentation: https://pandas.pydata.org/pandas-docs/stable/user_guide/indexing.html#returning-a-view-versus-a-copy\n",
      "  vulnerability.loc[:, varname] = np.maximum((vulnerability.loc[:, varname] - mn_vulnerability)/(mx_vulnerability - mn_vulnerability), 0.01)\n",
      "C:\\Users\\dof19\\AppData\\Local\\Temp/ipykernel_3628/1044944513.py:253: SettingWithCopyWarning: \n",
      "A value is trying to be set on a copy of a slice from a DataFrame.\n",
      "Try using .loc[row_indexer,col_indexer] = value instead\n",
      "\n",
      "See the caveats in the documentation: https://pandas.pydata.org/pandas-docs/stable/user_guide/indexing.html#returning-a-view-versus-a-copy\n",
      "  vulnerability.loc[:, varname] = np.maximum(1 - (vulnerability.loc[:, varname] - mn_vulnerability)/(mx_vulnerability - mn_vulnerability), 0.01)\n",
      "C:\\Users\\dof19\\AppData\\Local\\Temp/ipykernel_3628/1044944513.py:258: SettingWithCopyWarning: \n",
      "A value is trying to be set on a copy of a slice from a DataFrame.\n",
      "Try using .loc[row_indexer,col_indexer] = value instead\n",
      "\n",
      "See the caveats in the documentation: https://pandas.pydata.org/pandas-docs/stable/user_guide/indexing.html#returning-a-view-versus-a-copy\n",
      "  vulnerability['sort_col'] = vulnerability['NUTS_ID'].map(sorterIndex)\n",
      "C:\\Users\\dof19\\AppData\\Local\\Temp/ipykernel_3628/1044944513.py:259: SettingWithCopyWarning: \n",
      "A value is trying to be set on a copy of a slice from a DataFrame\n",
      "\n",
      "See the caveats in the documentation: https://pandas.pydata.org/pandas-docs/stable/user_guide/indexing.html#returning-a-view-versus-a-copy\n",
      "  vulnerability.sort_values(['sort_col'],\n"
     ]
    },
    {
     "name": "stdout",
     "output_type": "stream",
     "text": [
      ">>>>> Analyzing the 'Overall' factors\n",
      "############# ES _ ssp370_nf _ 0 ############# \n",
      "\n"
     ]
    },
    {
     "name": "stderr",
     "output_type": "stream",
     "text": [
      "C:\\Users\\dof19\\AppData\\Local\\Temp/ipykernel_3628/1044944513.py:136: RuntimeWarning: Mean of empty slice\n",
      "  output['wasp_raw_mean'] = [np.nanmean(x) for x in WASP]\n",
      "c:\\users\\dof19\\appdata\\local\\programs\\python\\python38\\lib\\site-packages\\numpy\\lib\\nanfunctions.py:1559: RuntimeWarning: Mean of empty slice\n",
      "  return np.nanmean(a, axis, out=out, keepdims=keepdims)\n",
      "c:\\users\\dof19\\appdata\\local\\programs\\python\\python38\\lib\\site-packages\\numpy\\lib\\nanfunctions.py:1216: RuntimeWarning: Mean of empty slice\n",
      "  return np.nanmean(a, axis, out=out, keepdims=keepdims)\n",
      "c:\\users\\dof19\\appdata\\local\\programs\\python\\python38\\lib\\site-packages\\numpy\\lib\\nanfunctions.py:1559: RuntimeWarning: Mean of empty slice\n",
      "  return np.nanmean(a, axis, out=out, keepdims=keepdims)\n",
      "C:\\Users\\dof19\\AppData\\Local\\Temp/ipykernel_3628/1044944513.py:171: SettingWithCopyWarning: \n",
      "A value is trying to be set on a copy of a slice from a DataFrame.\n",
      "Try using .loc[row_indexer,col_indexer] = value instead\n",
      "\n",
      "See the caveats in the documentation: https://pandas.pydata.org/pandas-docs/stable/user_guide/indexing.html#returning-a-view-versus-a-copy\n",
      "  exposure.loc[:, varname] = np.maximum((exposure.loc[:, varname] - mn_exposure)/(mx_exposure - mn_exposure), 0.01)\n",
      "C:\\Users\\dof19\\AppData\\Local\\Temp/ipykernel_3628/1044944513.py:176: SettingWithCopyWarning: \n",
      "A value is trying to be set on a copy of a slice from a DataFrame.\n",
      "Try using .loc[row_indexer,col_indexer] = value instead\n",
      "\n",
      "See the caveats in the documentation: https://pandas.pydata.org/pandas-docs/stable/user_guide/indexing.html#returning-a-view-versus-a-copy\n",
      "  exposure['sort_col'] = exposure['NUTS_ID'].map(sorterIndex)\n",
      "C:\\Users\\dof19\\AppData\\Local\\Temp/ipykernel_3628/1044944513.py:177: SettingWithCopyWarning: \n",
      "A value is trying to be set on a copy of a slice from a DataFrame\n",
      "\n",
      "See the caveats in the documentation: https://pandas.pydata.org/pandas-docs/stable/user_guide/indexing.html#returning-a-view-versus-a-copy\n",
      "  exposure.sort_values(['sort_col'],\n",
      "C:\\Users\\dof19\\AppData\\Local\\Temp/ipykernel_3628/1044944513.py:250: SettingWithCopyWarning: \n",
      "A value is trying to be set on a copy of a slice from a DataFrame.\n",
      "Try using .loc[row_indexer,col_indexer] = value instead\n",
      "\n",
      "See the caveats in the documentation: https://pandas.pydata.org/pandas-docs/stable/user_guide/indexing.html#returning-a-view-versus-a-copy\n",
      "  vulnerability.loc[:, varname] = np.maximum((vulnerability.loc[:, varname] - mn_vulnerability)/(mx_vulnerability - mn_vulnerability), 0.01)\n",
      "C:\\Users\\dof19\\AppData\\Local\\Temp/ipykernel_3628/1044944513.py:253: SettingWithCopyWarning: \n",
      "A value is trying to be set on a copy of a slice from a DataFrame.\n",
      "Try using .loc[row_indexer,col_indexer] = value instead\n",
      "\n",
      "See the caveats in the documentation: https://pandas.pydata.org/pandas-docs/stable/user_guide/indexing.html#returning-a-view-versus-a-copy\n",
      "  vulnerability.loc[:, varname] = np.maximum(1 - (vulnerability.loc[:, varname] - mn_vulnerability)/(mx_vulnerability - mn_vulnerability), 0.01)\n",
      "C:\\Users\\dof19\\AppData\\Local\\Temp/ipykernel_3628/1044944513.py:258: SettingWithCopyWarning: \n",
      "A value is trying to be set on a copy of a slice from a DataFrame.\n",
      "Try using .loc[row_indexer,col_indexer] = value instead\n",
      "\n",
      "See the caveats in the documentation: https://pandas.pydata.org/pandas-docs/stable/user_guide/indexing.html#returning-a-view-versus-a-copy\n",
      "  vulnerability['sort_col'] = vulnerability['NUTS_ID'].map(sorterIndex)\n",
      "C:\\Users\\dof19\\AppData\\Local\\Temp/ipykernel_3628/1044944513.py:259: SettingWithCopyWarning: \n",
      "A value is trying to be set on a copy of a slice from a DataFrame\n",
      "\n",
      "See the caveats in the documentation: https://pandas.pydata.org/pandas-docs/stable/user_guide/indexing.html#returning-a-view-versus-a-copy\n",
      "  vulnerability.sort_values(['sort_col'],\n"
     ]
    },
    {
     "name": "stdout",
     "output_type": "stream",
     "text": [
      ">>>>> Analyzing the 'Overall' factors\n",
      "############# ES _ ssp370_ff _ 1 ############# \n",
      "\n"
     ]
    },
    {
     "name": "stderr",
     "output_type": "stream",
     "text": [
      "C:\\Users\\dof19\\AppData\\Local\\Temp/ipykernel_3628/1044944513.py:136: RuntimeWarning: Mean of empty slice\n",
      "  output['wasp_raw_mean'] = [np.nanmean(x) for x in WASP]\n",
      "c:\\users\\dof19\\appdata\\local\\programs\\python\\python38\\lib\\site-packages\\numpy\\lib\\nanfunctions.py:1559: RuntimeWarning: Mean of empty slice\n",
      "  return np.nanmean(a, axis, out=out, keepdims=keepdims)\n",
      "c:\\users\\dof19\\appdata\\local\\programs\\python\\python38\\lib\\site-packages\\numpy\\lib\\nanfunctions.py:1216: RuntimeWarning: Mean of empty slice\n",
      "  return np.nanmean(a, axis, out=out, keepdims=keepdims)\n",
      "c:\\users\\dof19\\appdata\\local\\programs\\python\\python38\\lib\\site-packages\\numpy\\lib\\nanfunctions.py:1559: RuntimeWarning: Mean of empty slice\n",
      "  return np.nanmean(a, axis, out=out, keepdims=keepdims)\n",
      "C:\\Users\\dof19\\AppData\\Local\\Temp/ipykernel_3628/1044944513.py:171: SettingWithCopyWarning: \n",
      "A value is trying to be set on a copy of a slice from a DataFrame.\n",
      "Try using .loc[row_indexer,col_indexer] = value instead\n",
      "\n",
      "See the caveats in the documentation: https://pandas.pydata.org/pandas-docs/stable/user_guide/indexing.html#returning-a-view-versus-a-copy\n",
      "  exposure.loc[:, varname] = np.maximum((exposure.loc[:, varname] - mn_exposure)/(mx_exposure - mn_exposure), 0.01)\n",
      "C:\\Users\\dof19\\AppData\\Local\\Temp/ipykernel_3628/1044944513.py:176: SettingWithCopyWarning: \n",
      "A value is trying to be set on a copy of a slice from a DataFrame.\n",
      "Try using .loc[row_indexer,col_indexer] = value instead\n",
      "\n",
      "See the caveats in the documentation: https://pandas.pydata.org/pandas-docs/stable/user_guide/indexing.html#returning-a-view-versus-a-copy\n",
      "  exposure['sort_col'] = exposure['NUTS_ID'].map(sorterIndex)\n",
      "C:\\Users\\dof19\\AppData\\Local\\Temp/ipykernel_3628/1044944513.py:177: SettingWithCopyWarning: \n",
      "A value is trying to be set on a copy of a slice from a DataFrame\n",
      "\n",
      "See the caveats in the documentation: https://pandas.pydata.org/pandas-docs/stable/user_guide/indexing.html#returning-a-view-versus-a-copy\n",
      "  exposure.sort_values(['sort_col'],\n",
      "C:\\Users\\dof19\\AppData\\Local\\Temp/ipykernel_3628/1044944513.py:250: SettingWithCopyWarning: \n",
      "A value is trying to be set on a copy of a slice from a DataFrame.\n",
      "Try using .loc[row_indexer,col_indexer] = value instead\n",
      "\n",
      "See the caveats in the documentation: https://pandas.pydata.org/pandas-docs/stable/user_guide/indexing.html#returning-a-view-versus-a-copy\n",
      "  vulnerability.loc[:, varname] = np.maximum((vulnerability.loc[:, varname] - mn_vulnerability)/(mx_vulnerability - mn_vulnerability), 0.01)\n",
      "C:\\Users\\dof19\\AppData\\Local\\Temp/ipykernel_3628/1044944513.py:253: SettingWithCopyWarning: \n",
      "A value is trying to be set on a copy of a slice from a DataFrame.\n",
      "Try using .loc[row_indexer,col_indexer] = value instead\n",
      "\n",
      "See the caveats in the documentation: https://pandas.pydata.org/pandas-docs/stable/user_guide/indexing.html#returning-a-view-versus-a-copy\n",
      "  vulnerability.loc[:, varname] = np.maximum(1 - (vulnerability.loc[:, varname] - mn_vulnerability)/(mx_vulnerability - mn_vulnerability), 0.01)\n",
      "C:\\Users\\dof19\\AppData\\Local\\Temp/ipykernel_3628/1044944513.py:258: SettingWithCopyWarning: \n",
      "A value is trying to be set on a copy of a slice from a DataFrame.\n",
      "Try using .loc[row_indexer,col_indexer] = value instead\n",
      "\n",
      "See the caveats in the documentation: https://pandas.pydata.org/pandas-docs/stable/user_guide/indexing.html#returning-a-view-versus-a-copy\n",
      "  vulnerability['sort_col'] = vulnerability['NUTS_ID'].map(sorterIndex)\n",
      "C:\\Users\\dof19\\AppData\\Local\\Temp/ipykernel_3628/1044944513.py:259: SettingWithCopyWarning: \n",
      "A value is trying to be set on a copy of a slice from a DataFrame\n",
      "\n",
      "See the caveats in the documentation: https://pandas.pydata.org/pandas-docs/stable/user_guide/indexing.html#returning-a-view-versus-a-copy\n",
      "  vulnerability.sort_values(['sort_col'],\n"
     ]
    },
    {
     "name": "stdout",
     "output_type": "stream",
     "text": [
      ">>>>> Analyzing the 'Overall' factors\n",
      "############# ES _ ssp585_nf _ 0 ############# \n",
      "\n"
     ]
    },
    {
     "name": "stderr",
     "output_type": "stream",
     "text": [
      "C:\\Users\\dof19\\AppData\\Local\\Temp/ipykernel_3628/1044944513.py:136: RuntimeWarning: Mean of empty slice\n",
      "  output['wasp_raw_mean'] = [np.nanmean(x) for x in WASP]\n",
      "c:\\users\\dof19\\appdata\\local\\programs\\python\\python38\\lib\\site-packages\\numpy\\lib\\nanfunctions.py:1559: RuntimeWarning: Mean of empty slice\n",
      "  return np.nanmean(a, axis, out=out, keepdims=keepdims)\n",
      "c:\\users\\dof19\\appdata\\local\\programs\\python\\python38\\lib\\site-packages\\numpy\\lib\\nanfunctions.py:1216: RuntimeWarning: Mean of empty slice\n",
      "  return np.nanmean(a, axis, out=out, keepdims=keepdims)\n",
      "c:\\users\\dof19\\appdata\\local\\programs\\python\\python38\\lib\\site-packages\\numpy\\lib\\nanfunctions.py:1559: RuntimeWarning: Mean of empty slice\n",
      "  return np.nanmean(a, axis, out=out, keepdims=keepdims)\n",
      "C:\\Users\\dof19\\AppData\\Local\\Temp/ipykernel_3628/1044944513.py:171: SettingWithCopyWarning: \n",
      "A value is trying to be set on a copy of a slice from a DataFrame.\n",
      "Try using .loc[row_indexer,col_indexer] = value instead\n",
      "\n",
      "See the caveats in the documentation: https://pandas.pydata.org/pandas-docs/stable/user_guide/indexing.html#returning-a-view-versus-a-copy\n",
      "  exposure.loc[:, varname] = np.maximum((exposure.loc[:, varname] - mn_exposure)/(mx_exposure - mn_exposure), 0.01)\n",
      "C:\\Users\\dof19\\AppData\\Local\\Temp/ipykernel_3628/1044944513.py:176: SettingWithCopyWarning: \n",
      "A value is trying to be set on a copy of a slice from a DataFrame.\n",
      "Try using .loc[row_indexer,col_indexer] = value instead\n",
      "\n",
      "See the caveats in the documentation: https://pandas.pydata.org/pandas-docs/stable/user_guide/indexing.html#returning-a-view-versus-a-copy\n",
      "  exposure['sort_col'] = exposure['NUTS_ID'].map(sorterIndex)\n",
      "C:\\Users\\dof19\\AppData\\Local\\Temp/ipykernel_3628/1044944513.py:177: SettingWithCopyWarning: \n",
      "A value is trying to be set on a copy of a slice from a DataFrame\n",
      "\n",
      "See the caveats in the documentation: https://pandas.pydata.org/pandas-docs/stable/user_guide/indexing.html#returning-a-view-versus-a-copy\n",
      "  exposure.sort_values(['sort_col'],\n",
      "C:\\Users\\dof19\\AppData\\Local\\Temp/ipykernel_3628/1044944513.py:250: SettingWithCopyWarning: \n",
      "A value is trying to be set on a copy of a slice from a DataFrame.\n",
      "Try using .loc[row_indexer,col_indexer] = value instead\n",
      "\n",
      "See the caveats in the documentation: https://pandas.pydata.org/pandas-docs/stable/user_guide/indexing.html#returning-a-view-versus-a-copy\n",
      "  vulnerability.loc[:, varname] = np.maximum((vulnerability.loc[:, varname] - mn_vulnerability)/(mx_vulnerability - mn_vulnerability), 0.01)\n",
      "C:\\Users\\dof19\\AppData\\Local\\Temp/ipykernel_3628/1044944513.py:253: SettingWithCopyWarning: \n",
      "A value is trying to be set on a copy of a slice from a DataFrame.\n",
      "Try using .loc[row_indexer,col_indexer] = value instead\n",
      "\n",
      "See the caveats in the documentation: https://pandas.pydata.org/pandas-docs/stable/user_guide/indexing.html#returning-a-view-versus-a-copy\n",
      "  vulnerability.loc[:, varname] = np.maximum(1 - (vulnerability.loc[:, varname] - mn_vulnerability)/(mx_vulnerability - mn_vulnerability), 0.01)\n",
      "C:\\Users\\dof19\\AppData\\Local\\Temp/ipykernel_3628/1044944513.py:258: SettingWithCopyWarning: \n",
      "A value is trying to be set on a copy of a slice from a DataFrame.\n",
      "Try using .loc[row_indexer,col_indexer] = value instead\n",
      "\n",
      "See the caveats in the documentation: https://pandas.pydata.org/pandas-docs/stable/user_guide/indexing.html#returning-a-view-versus-a-copy\n",
      "  vulnerability['sort_col'] = vulnerability['NUTS_ID'].map(sorterIndex)\n",
      "C:\\Users\\dof19\\AppData\\Local\\Temp/ipykernel_3628/1044944513.py:259: SettingWithCopyWarning: \n",
      "A value is trying to be set on a copy of a slice from a DataFrame\n",
      "\n",
      "See the caveats in the documentation: https://pandas.pydata.org/pandas-docs/stable/user_guide/indexing.html#returning-a-view-versus-a-copy\n",
      "  vulnerability.sort_values(['sort_col'],\n"
     ]
    },
    {
     "name": "stdout",
     "output_type": "stream",
     "text": [
      ">>>>> Analyzing the 'Overall' factors\n",
      "############# ES _ ssp585_ff _ 1 ############# \n",
      "\n"
     ]
    },
    {
     "name": "stderr",
     "output_type": "stream",
     "text": [
      "C:\\Users\\dof19\\AppData\\Local\\Temp/ipykernel_3628/1044944513.py:171: SettingWithCopyWarning: \n",
      "A value is trying to be set on a copy of a slice from a DataFrame.\n",
      "Try using .loc[row_indexer,col_indexer] = value instead\n",
      "\n",
      "See the caveats in the documentation: https://pandas.pydata.org/pandas-docs/stable/user_guide/indexing.html#returning-a-view-versus-a-copy\n",
      "  exposure.loc[:, varname] = np.maximum((exposure.loc[:, varname] - mn_exposure)/(mx_exposure - mn_exposure), 0.01)\n",
      "C:\\Users\\dof19\\AppData\\Local\\Temp/ipykernel_3628/1044944513.py:176: SettingWithCopyWarning: \n",
      "A value is trying to be set on a copy of a slice from a DataFrame.\n",
      "Try using .loc[row_indexer,col_indexer] = value instead\n",
      "\n",
      "See the caveats in the documentation: https://pandas.pydata.org/pandas-docs/stable/user_guide/indexing.html#returning-a-view-versus-a-copy\n",
      "  exposure['sort_col'] = exposure['NUTS_ID'].map(sorterIndex)\n",
      "C:\\Users\\dof19\\AppData\\Local\\Temp/ipykernel_3628/1044944513.py:177: SettingWithCopyWarning: \n",
      "A value is trying to be set on a copy of a slice from a DataFrame\n",
      "\n",
      "See the caveats in the documentation: https://pandas.pydata.org/pandas-docs/stable/user_guide/indexing.html#returning-a-view-versus-a-copy\n",
      "  exposure.sort_values(['sort_col'],\n",
      "C:\\Users\\dof19\\AppData\\Local\\Temp/ipykernel_3628/1044944513.py:250: SettingWithCopyWarning: \n",
      "A value is trying to be set on a copy of a slice from a DataFrame.\n",
      "Try using .loc[row_indexer,col_indexer] = value instead\n",
      "\n",
      "See the caveats in the documentation: https://pandas.pydata.org/pandas-docs/stable/user_guide/indexing.html#returning-a-view-versus-a-copy\n",
      "  vulnerability.loc[:, varname] = np.maximum((vulnerability.loc[:, varname] - mn_vulnerability)/(mx_vulnerability - mn_vulnerability), 0.01)\n",
      "C:\\Users\\dof19\\AppData\\Local\\Temp/ipykernel_3628/1044944513.py:253: SettingWithCopyWarning: \n",
      "A value is trying to be set on a copy of a slice from a DataFrame.\n",
      "Try using .loc[row_indexer,col_indexer] = value instead\n",
      "\n",
      "See the caveats in the documentation: https://pandas.pydata.org/pandas-docs/stable/user_guide/indexing.html#returning-a-view-versus-a-copy\n",
      "  vulnerability.loc[:, varname] = np.maximum(1 - (vulnerability.loc[:, varname] - mn_vulnerability)/(mx_vulnerability - mn_vulnerability), 0.01)\n",
      "C:\\Users\\dof19\\AppData\\Local\\Temp/ipykernel_3628/1044944513.py:258: SettingWithCopyWarning: \n",
      "A value is trying to be set on a copy of a slice from a DataFrame.\n",
      "Try using .loc[row_indexer,col_indexer] = value instead\n",
      "\n",
      "See the caveats in the documentation: https://pandas.pydata.org/pandas-docs/stable/user_guide/indexing.html#returning-a-view-versus-a-copy\n",
      "  vulnerability['sort_col'] = vulnerability['NUTS_ID'].map(sorterIndex)\n",
      "C:\\Users\\dof19\\AppData\\Local\\Temp/ipykernel_3628/1044944513.py:259: SettingWithCopyWarning: \n",
      "A value is trying to be set on a copy of a slice from a DataFrame\n",
      "\n",
      "See the caveats in the documentation: https://pandas.pydata.org/pandas-docs/stable/user_guide/indexing.html#returning-a-view-versus-a-copy\n",
      "  vulnerability.sort_values(['sort_col'],\n"
     ]
    },
    {
     "name": "stdout",
     "output_type": "stream",
     "text": [
      ">>>>> Analyzing the 'Overall' factors\n",
      "############# CH _ historic ############# \n",
      "\n",
      ">>>>> Analyzing the 'overall' factors\n",
      "############# CH _ ssp126_nf _ 0 ############# \n",
      "\n",
      ">>>>> Analyzing the 'Overall' factors\n",
      "############# CH _ ssp126_ff _ 1 ############# \n",
      "\n",
      ">>>>> Analyzing the 'Overall' factors\n",
      "############# CH _ ssp370_nf _ 0 ############# \n",
      "\n",
      ">>>>> Analyzing the 'Overall' factors\n",
      "############# CH _ ssp370_ff _ 1 ############# \n",
      "\n",
      ">>>>> Analyzing the 'Overall' factors\n",
      "############# CH _ ssp585_nf _ 0 ############# \n",
      "\n",
      ">>>>> Analyzing the 'Overall' factors\n",
      "############# CH _ ssp585_ff _ 1 ############# \n",
      "\n",
      ">>>>> Analyzing the 'Overall' factors\n",
      "############# CZ _ historic ############# \n",
      "\n",
      ">>>>> Analyzing the 'overall' factors\n",
      "############# CZ _ ssp126_nf _ 0 ############# \n",
      "\n",
      ">>>>> Analyzing the 'Overall' factors\n",
      "############# CZ _ ssp126_ff _ 1 ############# \n",
      "\n",
      ">>>>> Analyzing the 'Overall' factors\n",
      "############# CZ _ ssp370_nf _ 0 ############# \n",
      "\n",
      ">>>>> Analyzing the 'Overall' factors\n",
      "############# CZ _ ssp370_ff _ 1 ############# \n",
      "\n",
      ">>>>> Analyzing the 'Overall' factors\n",
      "############# CZ _ ssp585_nf _ 0 ############# \n",
      "\n",
      ">>>>> Analyzing the 'Overall' factors\n",
      "############# CZ _ ssp585_ff _ 1 ############# \n",
      "\n",
      ">>>>> Analyzing the 'Overall' factors\n",
      "############# FR _ historic ############# \n",
      "\n",
      ">>>>> Analyzing the 'overall' factors\n",
      "############# FR _ ssp126_nf _ 0 ############# \n",
      "\n",
      ">>>>> Analyzing the 'Overall' factors\n",
      "############# FR _ ssp126_ff _ 1 ############# \n",
      "\n",
      ">>>>> Analyzing the 'Overall' factors\n",
      "############# FR _ ssp370_nf _ 0 ############# \n",
      "\n",
      ">>>>> Analyzing the 'Overall' factors\n",
      "############# FR _ ssp370_ff _ 1 ############# \n",
      "\n",
      ">>>>> Analyzing the 'Overall' factors\n",
      "############# FR _ ssp585_nf _ 0 ############# \n",
      "\n",
      ">>>>> Analyzing the 'Overall' factors\n",
      "############# FR _ ssp585_ff _ 1 ############# \n",
      "\n",
      ">>>>> Analyzing the 'Overall' factors\n",
      "############# FI _ historic ############# \n",
      "\n",
      ">>>>> Analyzing the 'overall' factors\n",
      "############# FI _ ssp126_nf _ 0 ############# \n",
      "\n"
     ]
    },
    {
     "name": "stderr",
     "output_type": "stream",
     "text": [
      "C:\\Users\\dof19\\AppData\\Local\\Temp/ipykernel_3628/1044944513.py:136: RuntimeWarning: Mean of empty slice\n",
      "  output['wasp_raw_mean'] = [np.nanmean(x) for x in WASP]\n",
      "c:\\users\\dof19\\appdata\\local\\programs\\python\\python38\\lib\\site-packages\\numpy\\lib\\nanfunctions.py:1559: RuntimeWarning: Mean of empty slice\n",
      "  return np.nanmean(a, axis, out=out, keepdims=keepdims)\n",
      "c:\\users\\dof19\\appdata\\local\\programs\\python\\python38\\lib\\site-packages\\numpy\\lib\\nanfunctions.py:1216: RuntimeWarning: Mean of empty slice\n",
      "  return np.nanmean(a, axis, out=out, keepdims=keepdims)\n",
      "c:\\users\\dof19\\appdata\\local\\programs\\python\\python38\\lib\\site-packages\\numpy\\lib\\nanfunctions.py:1559: RuntimeWarning: Mean of empty slice\n",
      "  return np.nanmean(a, axis, out=out, keepdims=keepdims)\n"
     ]
    },
    {
     "name": "stdout",
     "output_type": "stream",
     "text": [
      ">>>>> Analyzing the 'Overall' factors\n",
      "############# FI _ ssp126_ff _ 1 ############# \n",
      "\n"
     ]
    },
    {
     "name": "stderr",
     "output_type": "stream",
     "text": [
      "C:\\Users\\dof19\\AppData\\Local\\Temp/ipykernel_3628/1044944513.py:136: RuntimeWarning: Mean of empty slice\n",
      "  output['wasp_raw_mean'] = [np.nanmean(x) for x in WASP]\n",
      "c:\\users\\dof19\\appdata\\local\\programs\\python\\python38\\lib\\site-packages\\numpy\\lib\\nanfunctions.py:1559: RuntimeWarning: Mean of empty slice\n",
      "  return np.nanmean(a, axis, out=out, keepdims=keepdims)\n",
      "c:\\users\\dof19\\appdata\\local\\programs\\python\\python38\\lib\\site-packages\\numpy\\lib\\nanfunctions.py:1216: RuntimeWarning: Mean of empty slice\n",
      "  return np.nanmean(a, axis, out=out, keepdims=keepdims)\n",
      "c:\\users\\dof19\\appdata\\local\\programs\\python\\python38\\lib\\site-packages\\numpy\\lib\\nanfunctions.py:1559: RuntimeWarning: Mean of empty slice\n",
      "  return np.nanmean(a, axis, out=out, keepdims=keepdims)\n"
     ]
    },
    {
     "name": "stdout",
     "output_type": "stream",
     "text": [
      ">>>>> Analyzing the 'Overall' factors\n",
      "############# FI _ ssp370_nf _ 0 ############# \n",
      "\n"
     ]
    },
    {
     "name": "stderr",
     "output_type": "stream",
     "text": [
      "C:\\Users\\dof19\\AppData\\Local\\Temp/ipykernel_3628/1044944513.py:136: RuntimeWarning: Mean of empty slice\n",
      "  output['wasp_raw_mean'] = [np.nanmean(x) for x in WASP]\n",
      "c:\\users\\dof19\\appdata\\local\\programs\\python\\python38\\lib\\site-packages\\numpy\\lib\\nanfunctions.py:1559: RuntimeWarning: Mean of empty slice\n",
      "  return np.nanmean(a, axis, out=out, keepdims=keepdims)\n",
      "c:\\users\\dof19\\appdata\\local\\programs\\python\\python38\\lib\\site-packages\\numpy\\lib\\nanfunctions.py:1216: RuntimeWarning: Mean of empty slice\n",
      "  return np.nanmean(a, axis, out=out, keepdims=keepdims)\n",
      "c:\\users\\dof19\\appdata\\local\\programs\\python\\python38\\lib\\site-packages\\numpy\\lib\\nanfunctions.py:1559: RuntimeWarning: Mean of empty slice\n",
      "  return np.nanmean(a, axis, out=out, keepdims=keepdims)\n"
     ]
    },
    {
     "name": "stdout",
     "output_type": "stream",
     "text": [
      ">>>>> Analyzing the 'Overall' factors\n",
      "############# FI _ ssp370_ff _ 1 ############# \n",
      "\n"
     ]
    },
    {
     "name": "stderr",
     "output_type": "stream",
     "text": [
      "C:\\Users\\dof19\\AppData\\Local\\Temp/ipykernel_3628/1044944513.py:136: RuntimeWarning: Mean of empty slice\n",
      "  output['wasp_raw_mean'] = [np.nanmean(x) for x in WASP]\n",
      "c:\\users\\dof19\\appdata\\local\\programs\\python\\python38\\lib\\site-packages\\numpy\\lib\\nanfunctions.py:1559: RuntimeWarning: Mean of empty slice\n",
      "  return np.nanmean(a, axis, out=out, keepdims=keepdims)\n",
      "c:\\users\\dof19\\appdata\\local\\programs\\python\\python38\\lib\\site-packages\\numpy\\lib\\nanfunctions.py:1216: RuntimeWarning: Mean of empty slice\n",
      "  return np.nanmean(a, axis, out=out, keepdims=keepdims)\n",
      "c:\\users\\dof19\\appdata\\local\\programs\\python\\python38\\lib\\site-packages\\numpy\\lib\\nanfunctions.py:1559: RuntimeWarning: Mean of empty slice\n",
      "  return np.nanmean(a, axis, out=out, keepdims=keepdims)\n"
     ]
    },
    {
     "name": "stdout",
     "output_type": "stream",
     "text": [
      ">>>>> Analyzing the 'Overall' factors\n",
      "############# FI _ ssp585_nf _ 0 ############# \n",
      "\n"
     ]
    },
    {
     "name": "stderr",
     "output_type": "stream",
     "text": [
      "C:\\Users\\dof19\\AppData\\Local\\Temp/ipykernel_3628/1044944513.py:136: RuntimeWarning: Mean of empty slice\n",
      "  output['wasp_raw_mean'] = [np.nanmean(x) for x in WASP]\n",
      "c:\\users\\dof19\\appdata\\local\\programs\\python\\python38\\lib\\site-packages\\numpy\\lib\\nanfunctions.py:1559: RuntimeWarning: Mean of empty slice\n",
      "  return np.nanmean(a, axis, out=out, keepdims=keepdims)\n",
      "c:\\users\\dof19\\appdata\\local\\programs\\python\\python38\\lib\\site-packages\\numpy\\lib\\nanfunctions.py:1216: RuntimeWarning: Mean of empty slice\n",
      "  return np.nanmean(a, axis, out=out, keepdims=keepdims)\n",
      "c:\\users\\dof19\\appdata\\local\\programs\\python\\python38\\lib\\site-packages\\numpy\\lib\\nanfunctions.py:1559: RuntimeWarning: Mean of empty slice\n",
      "  return np.nanmean(a, axis, out=out, keepdims=keepdims)\n"
     ]
    },
    {
     "name": "stdout",
     "output_type": "stream",
     "text": [
      ">>>>> Analyzing the 'Overall' factors\n",
      "############# FI _ ssp585_ff _ 1 ############# \n",
      "\n"
     ]
    },
    {
     "name": "stderr",
     "output_type": "stream",
     "text": [
      "C:\\Users\\dof19\\AppData\\Local\\Temp/ipykernel_3628/1044944513.py:136: RuntimeWarning: Mean of empty slice\n",
      "  output['wasp_raw_mean'] = [np.nanmean(x) for x in WASP]\n",
      "c:\\users\\dof19\\appdata\\local\\programs\\python\\python38\\lib\\site-packages\\numpy\\lib\\nanfunctions.py:1559: RuntimeWarning: Mean of empty slice\n",
      "  return np.nanmean(a, axis, out=out, keepdims=keepdims)\n",
      "c:\\users\\dof19\\appdata\\local\\programs\\python\\python38\\lib\\site-packages\\numpy\\lib\\nanfunctions.py:1216: RuntimeWarning: Mean of empty slice\n",
      "  return np.nanmean(a, axis, out=out, keepdims=keepdims)\n",
      "c:\\users\\dof19\\appdata\\local\\programs\\python\\python38\\lib\\site-packages\\numpy\\lib\\nanfunctions.py:1559: RuntimeWarning: Mean of empty slice\n",
      "  return np.nanmean(a, axis, out=out, keepdims=keepdims)\n"
     ]
    },
    {
     "name": "stdout",
     "output_type": "stream",
     "text": [
      ">>>>> Analyzing the 'Overall' factors\n",
      "############# EE _ historic ############# \n",
      "\n",
      ">>>>> Analyzing the 'overall' factors\n",
      "############# EE _ ssp126_nf _ 0 ############# \n",
      "\n"
     ]
    },
    {
     "name": "stderr",
     "output_type": "stream",
     "text": [
      "C:\\Users\\dof19\\AppData\\Local\\Temp/ipykernel_3628/1044944513.py:136: RuntimeWarning: Mean of empty slice\n",
      "  output['wasp_raw_mean'] = [np.nanmean(x) for x in WASP]\n",
      "c:\\users\\dof19\\appdata\\local\\programs\\python\\python38\\lib\\site-packages\\numpy\\lib\\nanfunctions.py:1559: RuntimeWarning: Mean of empty slice\n",
      "  return np.nanmean(a, axis, out=out, keepdims=keepdims)\n",
      "c:\\users\\dof19\\appdata\\local\\programs\\python\\python38\\lib\\site-packages\\numpy\\lib\\nanfunctions.py:1216: RuntimeWarning: Mean of empty slice\n",
      "  return np.nanmean(a, axis, out=out, keepdims=keepdims)\n",
      "c:\\users\\dof19\\appdata\\local\\programs\\python\\python38\\lib\\site-packages\\numpy\\lib\\nanfunctions.py:1559: RuntimeWarning: Mean of empty slice\n",
      "  return np.nanmean(a, axis, out=out, keepdims=keepdims)\n"
     ]
    },
    {
     "name": "stdout",
     "output_type": "stream",
     "text": [
      ">>>>> Analyzing the 'Overall' factors\n",
      "############# EE _ ssp126_ff _ 1 ############# \n",
      "\n"
     ]
    },
    {
     "name": "stderr",
     "output_type": "stream",
     "text": [
      "C:\\Users\\dof19\\AppData\\Local\\Temp/ipykernel_3628/1044944513.py:136: RuntimeWarning: Mean of empty slice\n",
      "  output['wasp_raw_mean'] = [np.nanmean(x) for x in WASP]\n",
      "c:\\users\\dof19\\appdata\\local\\programs\\python\\python38\\lib\\site-packages\\numpy\\lib\\nanfunctions.py:1559: RuntimeWarning: Mean of empty slice\n",
      "  return np.nanmean(a, axis, out=out, keepdims=keepdims)\n",
      "c:\\users\\dof19\\appdata\\local\\programs\\python\\python38\\lib\\site-packages\\numpy\\lib\\nanfunctions.py:1216: RuntimeWarning: Mean of empty slice\n",
      "  return np.nanmean(a, axis, out=out, keepdims=keepdims)\n",
      "c:\\users\\dof19\\appdata\\local\\programs\\python\\python38\\lib\\site-packages\\numpy\\lib\\nanfunctions.py:1559: RuntimeWarning: Mean of empty slice\n",
      "  return np.nanmean(a, axis, out=out, keepdims=keepdims)\n"
     ]
    },
    {
     "name": "stdout",
     "output_type": "stream",
     "text": [
      ">>>>> Analyzing the 'Overall' factors\n",
      "############# EE _ ssp370_nf _ 0 ############# \n",
      "\n"
     ]
    },
    {
     "name": "stderr",
     "output_type": "stream",
     "text": [
      "C:\\Users\\dof19\\AppData\\Local\\Temp/ipykernel_3628/1044944513.py:136: RuntimeWarning: Mean of empty slice\n",
      "  output['wasp_raw_mean'] = [np.nanmean(x) for x in WASP]\n",
      "c:\\users\\dof19\\appdata\\local\\programs\\python\\python38\\lib\\site-packages\\numpy\\lib\\nanfunctions.py:1559: RuntimeWarning: Mean of empty slice\n",
      "  return np.nanmean(a, axis, out=out, keepdims=keepdims)\n",
      "c:\\users\\dof19\\appdata\\local\\programs\\python\\python38\\lib\\site-packages\\numpy\\lib\\nanfunctions.py:1216: RuntimeWarning: Mean of empty slice\n",
      "  return np.nanmean(a, axis, out=out, keepdims=keepdims)\n",
      "c:\\users\\dof19\\appdata\\local\\programs\\python\\python38\\lib\\site-packages\\numpy\\lib\\nanfunctions.py:1559: RuntimeWarning: Mean of empty slice\n",
      "  return np.nanmean(a, axis, out=out, keepdims=keepdims)\n"
     ]
    },
    {
     "name": "stdout",
     "output_type": "stream",
     "text": [
      ">>>>> Analyzing the 'Overall' factors\n",
      "############# EE _ ssp370_ff _ 1 ############# \n",
      "\n"
     ]
    },
    {
     "name": "stderr",
     "output_type": "stream",
     "text": [
      "C:\\Users\\dof19\\AppData\\Local\\Temp/ipykernel_3628/1044944513.py:136: RuntimeWarning: Mean of empty slice\n",
      "  output['wasp_raw_mean'] = [np.nanmean(x) for x in WASP]\n",
      "c:\\users\\dof19\\appdata\\local\\programs\\python\\python38\\lib\\site-packages\\numpy\\lib\\nanfunctions.py:1559: RuntimeWarning: Mean of empty slice\n",
      "  return np.nanmean(a, axis, out=out, keepdims=keepdims)\n",
      "c:\\users\\dof19\\appdata\\local\\programs\\python\\python38\\lib\\site-packages\\numpy\\lib\\nanfunctions.py:1216: RuntimeWarning: Mean of empty slice\n",
      "  return np.nanmean(a, axis, out=out, keepdims=keepdims)\n",
      "c:\\users\\dof19\\appdata\\local\\programs\\python\\python38\\lib\\site-packages\\numpy\\lib\\nanfunctions.py:1559: RuntimeWarning: Mean of empty slice\n",
      "  return np.nanmean(a, axis, out=out, keepdims=keepdims)\n"
     ]
    },
    {
     "name": "stdout",
     "output_type": "stream",
     "text": [
      ">>>>> Analyzing the 'Overall' factors\n",
      "############# EE _ ssp585_nf _ 0 ############# \n",
      "\n"
     ]
    },
    {
     "name": "stderr",
     "output_type": "stream",
     "text": [
      "C:\\Users\\dof19\\AppData\\Local\\Temp/ipykernel_3628/1044944513.py:136: RuntimeWarning: Mean of empty slice\n",
      "  output['wasp_raw_mean'] = [np.nanmean(x) for x in WASP]\n",
      "c:\\users\\dof19\\appdata\\local\\programs\\python\\python38\\lib\\site-packages\\numpy\\lib\\nanfunctions.py:1559: RuntimeWarning: Mean of empty slice\n",
      "  return np.nanmean(a, axis, out=out, keepdims=keepdims)\n",
      "c:\\users\\dof19\\appdata\\local\\programs\\python\\python38\\lib\\site-packages\\numpy\\lib\\nanfunctions.py:1216: RuntimeWarning: Mean of empty slice\n",
      "  return np.nanmean(a, axis, out=out, keepdims=keepdims)\n",
      "c:\\users\\dof19\\appdata\\local\\programs\\python\\python38\\lib\\site-packages\\numpy\\lib\\nanfunctions.py:1559: RuntimeWarning: Mean of empty slice\n",
      "  return np.nanmean(a, axis, out=out, keepdims=keepdims)\n"
     ]
    },
    {
     "name": "stdout",
     "output_type": "stream",
     "text": [
      ">>>>> Analyzing the 'Overall' factors\n",
      "############# EE _ ssp585_ff _ 1 ############# \n",
      "\n"
     ]
    },
    {
     "name": "stderr",
     "output_type": "stream",
     "text": [
      "C:\\Users\\dof19\\AppData\\Local\\Temp/ipykernel_3628/1044944513.py:136: RuntimeWarning: Mean of empty slice\n",
      "  output['wasp_raw_mean'] = [np.nanmean(x) for x in WASP]\n",
      "c:\\users\\dof19\\appdata\\local\\programs\\python\\python38\\lib\\site-packages\\numpy\\lib\\nanfunctions.py:1559: RuntimeWarning: Mean of empty slice\n",
      "  return np.nanmean(a, axis, out=out, keepdims=keepdims)\n",
      "c:\\users\\dof19\\appdata\\local\\programs\\python\\python38\\lib\\site-packages\\numpy\\lib\\nanfunctions.py:1216: RuntimeWarning: Mean of empty slice\n",
      "  return np.nanmean(a, axis, out=out, keepdims=keepdims)\n",
      "c:\\users\\dof19\\appdata\\local\\programs\\python\\python38\\lib\\site-packages\\numpy\\lib\\nanfunctions.py:1559: RuntimeWarning: Mean of empty slice\n",
      "  return np.nanmean(a, axis, out=out, keepdims=keepdims)\n"
     ]
    },
    {
     "name": "stdout",
     "output_type": "stream",
     "text": [
      ">>>>> Analyzing the 'Overall' factors\n",
      "############# DK _ historic ############# \n",
      "\n",
      ">>>>> Analyzing the 'overall' factors\n",
      "############# DK _ ssp126_nf _ 0 ############# \n",
      "\n",
      ">>>>> Analyzing the 'Overall' factors\n",
      "############# DK _ ssp126_ff _ 1 ############# \n",
      "\n",
      ">>>>> Analyzing the 'Overall' factors\n",
      "############# DK _ ssp370_nf _ 0 ############# \n",
      "\n",
      ">>>>> Analyzing the 'Overall' factors\n",
      "############# DK _ ssp370_ff _ 1 ############# \n",
      "\n",
      ">>>>> Analyzing the 'Overall' factors\n",
      "############# DK _ ssp585_nf _ 0 ############# \n",
      "\n",
      ">>>>> Analyzing the 'Overall' factors\n",
      "############# DK _ ssp585_ff _ 1 ############# \n",
      "\n",
      ">>>>> Analyzing the 'Overall' factors\n",
      "############# HU _ historic ############# \n",
      "\n",
      ">>>>> Analyzing the 'overall' factors\n",
      "############# HU _ ssp126_nf _ 0 ############# \n",
      "\n",
      ">>>>> Analyzing the 'Overall' factors\n",
      "############# HU _ ssp126_ff _ 1 ############# \n",
      "\n",
      ">>>>> Analyzing the 'Overall' factors\n",
      "############# HU _ ssp370_nf _ 0 ############# \n",
      "\n",
      ">>>>> Analyzing the 'Overall' factors\n",
      "############# HU _ ssp370_ff _ 1 ############# \n",
      "\n",
      ">>>>> Analyzing the 'Overall' factors\n",
      "############# HU _ ssp585_nf _ 0 ############# \n",
      "\n",
      ">>>>> Analyzing the 'Overall' factors\n",
      "############# HU _ ssp585_ff _ 1 ############# \n",
      "\n",
      ">>>>> Analyzing the 'Overall' factors\n",
      "############# NL _ historic ############# \n",
      "\n",
      ">>>>> Analyzing the 'overall' factors\n",
      "############# NL _ ssp126_nf _ 0 ############# \n",
      "\n"
     ]
    },
    {
     "name": "stderr",
     "output_type": "stream",
     "text": [
      "C:\\Users\\dof19\\AppData\\Local\\Temp/ipykernel_3628/1044944513.py:136: RuntimeWarning: Mean of empty slice\n",
      "  output['wasp_raw_mean'] = [np.nanmean(x) for x in WASP]\n",
      "c:\\users\\dof19\\appdata\\local\\programs\\python\\python38\\lib\\site-packages\\numpy\\lib\\nanfunctions.py:1559: RuntimeWarning: Mean of empty slice\n",
      "  return np.nanmean(a, axis, out=out, keepdims=keepdims)\n",
      "c:\\users\\dof19\\appdata\\local\\programs\\python\\python38\\lib\\site-packages\\numpy\\lib\\nanfunctions.py:1216: RuntimeWarning: Mean of empty slice\n",
      "  return np.nanmean(a, axis, out=out, keepdims=keepdims)\n",
      "c:\\users\\dof19\\appdata\\local\\programs\\python\\python38\\lib\\site-packages\\numpy\\lib\\nanfunctions.py:1559: RuntimeWarning: Mean of empty slice\n",
      "  return np.nanmean(a, axis, out=out, keepdims=keepdims)\n"
     ]
    },
    {
     "name": "stdout",
     "output_type": "stream",
     "text": [
      ">>>>> Analyzing the 'Overall' factors\n",
      "############# NL _ ssp126_ff _ 1 ############# \n",
      "\n"
     ]
    },
    {
     "name": "stderr",
     "output_type": "stream",
     "text": [
      "C:\\Users\\dof19\\AppData\\Local\\Temp/ipykernel_3628/1044944513.py:136: RuntimeWarning: Mean of empty slice\n",
      "  output['wasp_raw_mean'] = [np.nanmean(x) for x in WASP]\n",
      "c:\\users\\dof19\\appdata\\local\\programs\\python\\python38\\lib\\site-packages\\numpy\\lib\\nanfunctions.py:1559: RuntimeWarning: Mean of empty slice\n",
      "  return np.nanmean(a, axis, out=out, keepdims=keepdims)\n",
      "c:\\users\\dof19\\appdata\\local\\programs\\python\\python38\\lib\\site-packages\\numpy\\lib\\nanfunctions.py:1216: RuntimeWarning: Mean of empty slice\n",
      "  return np.nanmean(a, axis, out=out, keepdims=keepdims)\n",
      "c:\\users\\dof19\\appdata\\local\\programs\\python\\python38\\lib\\site-packages\\numpy\\lib\\nanfunctions.py:1559: RuntimeWarning: Mean of empty slice\n",
      "  return np.nanmean(a, axis, out=out, keepdims=keepdims)\n"
     ]
    },
    {
     "name": "stdout",
     "output_type": "stream",
     "text": [
      ">>>>> Analyzing the 'Overall' factors\n",
      "############# NL _ ssp370_nf _ 0 ############# \n",
      "\n"
     ]
    },
    {
     "name": "stderr",
     "output_type": "stream",
     "text": [
      "C:\\Users\\dof19\\AppData\\Local\\Temp/ipykernel_3628/1044944513.py:136: RuntimeWarning: Mean of empty slice\n",
      "  output['wasp_raw_mean'] = [np.nanmean(x) for x in WASP]\n",
      "c:\\users\\dof19\\appdata\\local\\programs\\python\\python38\\lib\\site-packages\\numpy\\lib\\nanfunctions.py:1559: RuntimeWarning: Mean of empty slice\n",
      "  return np.nanmean(a, axis, out=out, keepdims=keepdims)\n",
      "c:\\users\\dof19\\appdata\\local\\programs\\python\\python38\\lib\\site-packages\\numpy\\lib\\nanfunctions.py:1216: RuntimeWarning: Mean of empty slice\n",
      "  return np.nanmean(a, axis, out=out, keepdims=keepdims)\n",
      "c:\\users\\dof19\\appdata\\local\\programs\\python\\python38\\lib\\site-packages\\numpy\\lib\\nanfunctions.py:1559: RuntimeWarning: Mean of empty slice\n",
      "  return np.nanmean(a, axis, out=out, keepdims=keepdims)\n"
     ]
    },
    {
     "name": "stdout",
     "output_type": "stream",
     "text": [
      ">>>>> Analyzing the 'Overall' factors\n",
      "############# NL _ ssp370_ff _ 1 ############# \n",
      "\n"
     ]
    },
    {
     "name": "stderr",
     "output_type": "stream",
     "text": [
      "C:\\Users\\dof19\\AppData\\Local\\Temp/ipykernel_3628/1044944513.py:136: RuntimeWarning: Mean of empty slice\n",
      "  output['wasp_raw_mean'] = [np.nanmean(x) for x in WASP]\n",
      "c:\\users\\dof19\\appdata\\local\\programs\\python\\python38\\lib\\site-packages\\numpy\\lib\\nanfunctions.py:1559: RuntimeWarning: Mean of empty slice\n",
      "  return np.nanmean(a, axis, out=out, keepdims=keepdims)\n",
      "c:\\users\\dof19\\appdata\\local\\programs\\python\\python38\\lib\\site-packages\\numpy\\lib\\nanfunctions.py:1216: RuntimeWarning: Mean of empty slice\n",
      "  return np.nanmean(a, axis, out=out, keepdims=keepdims)\n",
      "c:\\users\\dof19\\appdata\\local\\programs\\python\\python38\\lib\\site-packages\\numpy\\lib\\nanfunctions.py:1559: RuntimeWarning: Mean of empty slice\n",
      "  return np.nanmean(a, axis, out=out, keepdims=keepdims)\n"
     ]
    },
    {
     "name": "stdout",
     "output_type": "stream",
     "text": [
      ">>>>> Analyzing the 'Overall' factors\n",
      "############# NL _ ssp585_nf _ 0 ############# \n",
      "\n"
     ]
    },
    {
     "name": "stderr",
     "output_type": "stream",
     "text": [
      "C:\\Users\\dof19\\AppData\\Local\\Temp/ipykernel_3628/1044944513.py:136: RuntimeWarning: Mean of empty slice\n",
      "  output['wasp_raw_mean'] = [np.nanmean(x) for x in WASP]\n",
      "c:\\users\\dof19\\appdata\\local\\programs\\python\\python38\\lib\\site-packages\\numpy\\lib\\nanfunctions.py:1559: RuntimeWarning: Mean of empty slice\n",
      "  return np.nanmean(a, axis, out=out, keepdims=keepdims)\n",
      "c:\\users\\dof19\\appdata\\local\\programs\\python\\python38\\lib\\site-packages\\numpy\\lib\\nanfunctions.py:1216: RuntimeWarning: Mean of empty slice\n",
      "  return np.nanmean(a, axis, out=out, keepdims=keepdims)\n",
      "c:\\users\\dof19\\appdata\\local\\programs\\python\\python38\\lib\\site-packages\\numpy\\lib\\nanfunctions.py:1559: RuntimeWarning: Mean of empty slice\n",
      "  return np.nanmean(a, axis, out=out, keepdims=keepdims)\n"
     ]
    },
    {
     "name": "stdout",
     "output_type": "stream",
     "text": [
      ">>>>> Analyzing the 'Overall' factors\n",
      "############# NL _ ssp585_ff _ 1 ############# \n",
      "\n"
     ]
    },
    {
     "name": "stderr",
     "output_type": "stream",
     "text": [
      "C:\\Users\\dof19\\AppData\\Local\\Temp/ipykernel_3628/1044944513.py:136: RuntimeWarning: Mean of empty slice\n",
      "  output['wasp_raw_mean'] = [np.nanmean(x) for x in WASP]\n",
      "c:\\users\\dof19\\appdata\\local\\programs\\python\\python38\\lib\\site-packages\\numpy\\lib\\nanfunctions.py:1559: RuntimeWarning: Mean of empty slice\n",
      "  return np.nanmean(a, axis, out=out, keepdims=keepdims)\n",
      "c:\\users\\dof19\\appdata\\local\\programs\\python\\python38\\lib\\site-packages\\numpy\\lib\\nanfunctions.py:1216: RuntimeWarning: Mean of empty slice\n",
      "  return np.nanmean(a, axis, out=out, keepdims=keepdims)\n",
      "c:\\users\\dof19\\appdata\\local\\programs\\python\\python38\\lib\\site-packages\\numpy\\lib\\nanfunctions.py:1559: RuntimeWarning: Mean of empty slice\n",
      "  return np.nanmean(a, axis, out=out, keepdims=keepdims)\n"
     ]
    },
    {
     "name": "stdout",
     "output_type": "stream",
     "text": [
      ">>>>> Analyzing the 'Overall' factors\n",
      "############# NO _ historic ############# \n",
      "\n",
      ">>>>> Analyzing the 'overall' factors\n",
      "############# NO _ ssp126_nf _ 0 ############# \n",
      "\n"
     ]
    },
    {
     "name": "stderr",
     "output_type": "stream",
     "text": [
      "C:\\Users\\dof19\\AppData\\Local\\Temp/ipykernel_3628/1044944513.py:136: RuntimeWarning: Mean of empty slice\n",
      "  output['wasp_raw_mean'] = [np.nanmean(x) for x in WASP]\n",
      "c:\\users\\dof19\\appdata\\local\\programs\\python\\python38\\lib\\site-packages\\numpy\\lib\\nanfunctions.py:1559: RuntimeWarning: Mean of empty slice\n",
      "  return np.nanmean(a, axis, out=out, keepdims=keepdims)\n",
      "c:\\users\\dof19\\appdata\\local\\programs\\python\\python38\\lib\\site-packages\\numpy\\lib\\nanfunctions.py:1216: RuntimeWarning: Mean of empty slice\n",
      "  return np.nanmean(a, axis, out=out, keepdims=keepdims)\n",
      "c:\\users\\dof19\\appdata\\local\\programs\\python\\python38\\lib\\site-packages\\numpy\\lib\\nanfunctions.py:1559: RuntimeWarning: Mean of empty slice\n",
      "  return np.nanmean(a, axis, out=out, keepdims=keepdims)\n"
     ]
    },
    {
     "name": "stdout",
     "output_type": "stream",
     "text": [
      ">>>>> Analyzing the 'Overall' factors\n",
      "############# NO _ ssp126_ff _ 1 ############# \n",
      "\n"
     ]
    },
    {
     "name": "stderr",
     "output_type": "stream",
     "text": [
      "C:\\Users\\dof19\\AppData\\Local\\Temp/ipykernel_3628/1044944513.py:136: RuntimeWarning: Mean of empty slice\n",
      "  output['wasp_raw_mean'] = [np.nanmean(x) for x in WASP]\n",
      "c:\\users\\dof19\\appdata\\local\\programs\\python\\python38\\lib\\site-packages\\numpy\\lib\\nanfunctions.py:1559: RuntimeWarning: Mean of empty slice\n",
      "  return np.nanmean(a, axis, out=out, keepdims=keepdims)\n",
      "c:\\users\\dof19\\appdata\\local\\programs\\python\\python38\\lib\\site-packages\\numpy\\lib\\nanfunctions.py:1216: RuntimeWarning: Mean of empty slice\n",
      "  return np.nanmean(a, axis, out=out, keepdims=keepdims)\n",
      "c:\\users\\dof19\\appdata\\local\\programs\\python\\python38\\lib\\site-packages\\numpy\\lib\\nanfunctions.py:1559: RuntimeWarning: Mean of empty slice\n",
      "  return np.nanmean(a, axis, out=out, keepdims=keepdims)\n"
     ]
    },
    {
     "name": "stdout",
     "output_type": "stream",
     "text": [
      ">>>>> Analyzing the 'Overall' factors\n",
      "############# NO _ ssp370_nf _ 0 ############# \n",
      "\n"
     ]
    },
    {
     "name": "stderr",
     "output_type": "stream",
     "text": [
      "C:\\Users\\dof19\\AppData\\Local\\Temp/ipykernel_3628/1044944513.py:136: RuntimeWarning: Mean of empty slice\n",
      "  output['wasp_raw_mean'] = [np.nanmean(x) for x in WASP]\n",
      "c:\\users\\dof19\\appdata\\local\\programs\\python\\python38\\lib\\site-packages\\numpy\\lib\\nanfunctions.py:1559: RuntimeWarning: Mean of empty slice\n",
      "  return np.nanmean(a, axis, out=out, keepdims=keepdims)\n",
      "c:\\users\\dof19\\appdata\\local\\programs\\python\\python38\\lib\\site-packages\\numpy\\lib\\nanfunctions.py:1216: RuntimeWarning: Mean of empty slice\n",
      "  return np.nanmean(a, axis, out=out, keepdims=keepdims)\n",
      "c:\\users\\dof19\\appdata\\local\\programs\\python\\python38\\lib\\site-packages\\numpy\\lib\\nanfunctions.py:1559: RuntimeWarning: Mean of empty slice\n",
      "  return np.nanmean(a, axis, out=out, keepdims=keepdims)\n"
     ]
    },
    {
     "name": "stdout",
     "output_type": "stream",
     "text": [
      ">>>>> Analyzing the 'Overall' factors\n",
      "############# NO _ ssp370_ff _ 1 ############# \n",
      "\n"
     ]
    },
    {
     "name": "stderr",
     "output_type": "stream",
     "text": [
      "C:\\Users\\dof19\\AppData\\Local\\Temp/ipykernel_3628/1044944513.py:136: RuntimeWarning: Mean of empty slice\n",
      "  output['wasp_raw_mean'] = [np.nanmean(x) for x in WASP]\n",
      "c:\\users\\dof19\\appdata\\local\\programs\\python\\python38\\lib\\site-packages\\numpy\\lib\\nanfunctions.py:1559: RuntimeWarning: Mean of empty slice\n",
      "  return np.nanmean(a, axis, out=out, keepdims=keepdims)\n",
      "c:\\users\\dof19\\appdata\\local\\programs\\python\\python38\\lib\\site-packages\\numpy\\lib\\nanfunctions.py:1216: RuntimeWarning: Mean of empty slice\n",
      "  return np.nanmean(a, axis, out=out, keepdims=keepdims)\n",
      "c:\\users\\dof19\\appdata\\local\\programs\\python\\python38\\lib\\site-packages\\numpy\\lib\\nanfunctions.py:1559: RuntimeWarning: Mean of empty slice\n",
      "  return np.nanmean(a, axis, out=out, keepdims=keepdims)\n"
     ]
    },
    {
     "name": "stdout",
     "output_type": "stream",
     "text": [
      ">>>>> Analyzing the 'Overall' factors\n",
      "############# NO _ ssp585_nf _ 0 ############# \n",
      "\n"
     ]
    },
    {
     "name": "stderr",
     "output_type": "stream",
     "text": [
      "C:\\Users\\dof19\\AppData\\Local\\Temp/ipykernel_3628/1044944513.py:136: RuntimeWarning: Mean of empty slice\n",
      "  output['wasp_raw_mean'] = [np.nanmean(x) for x in WASP]\n",
      "c:\\users\\dof19\\appdata\\local\\programs\\python\\python38\\lib\\site-packages\\numpy\\lib\\nanfunctions.py:1559: RuntimeWarning: Mean of empty slice\n",
      "  return np.nanmean(a, axis, out=out, keepdims=keepdims)\n",
      "c:\\users\\dof19\\appdata\\local\\programs\\python\\python38\\lib\\site-packages\\numpy\\lib\\nanfunctions.py:1216: RuntimeWarning: Mean of empty slice\n",
      "  return np.nanmean(a, axis, out=out, keepdims=keepdims)\n",
      "c:\\users\\dof19\\appdata\\local\\programs\\python\\python38\\lib\\site-packages\\numpy\\lib\\nanfunctions.py:1559: RuntimeWarning: Mean of empty slice\n",
      "  return np.nanmean(a, axis, out=out, keepdims=keepdims)\n"
     ]
    },
    {
     "name": "stdout",
     "output_type": "stream",
     "text": [
      ">>>>> Analyzing the 'Overall' factors\n",
      "############# NO _ ssp585_ff _ 1 ############# \n",
      "\n"
     ]
    },
    {
     "name": "stderr",
     "output_type": "stream",
     "text": [
      "C:\\Users\\dof19\\AppData\\Local\\Temp/ipykernel_3628/1044944513.py:136: RuntimeWarning: Mean of empty slice\n",
      "  output['wasp_raw_mean'] = [np.nanmean(x) for x in WASP]\n",
      "c:\\users\\dof19\\appdata\\local\\programs\\python\\python38\\lib\\site-packages\\numpy\\lib\\nanfunctions.py:1559: RuntimeWarning: Mean of empty slice\n",
      "  return np.nanmean(a, axis, out=out, keepdims=keepdims)\n",
      "c:\\users\\dof19\\appdata\\local\\programs\\python\\python38\\lib\\site-packages\\numpy\\lib\\nanfunctions.py:1216: RuntimeWarning: Mean of empty slice\n",
      "  return np.nanmean(a, axis, out=out, keepdims=keepdims)\n",
      "c:\\users\\dof19\\appdata\\local\\programs\\python\\python38\\lib\\site-packages\\numpy\\lib\\nanfunctions.py:1559: RuntimeWarning: Mean of empty slice\n",
      "  return np.nanmean(a, axis, out=out, keepdims=keepdims)\n"
     ]
    },
    {
     "name": "stdout",
     "output_type": "stream",
     "text": [
      ">>>>> Analyzing the 'Overall' factors\n",
      "############# LT _ historic ############# \n",
      "\n",
      ">>>>> Analyzing the 'overall' factors\n",
      "############# LT _ ssp126_nf _ 0 ############# \n",
      "\n",
      ">>>>> Analyzing the 'Overall' factors\n",
      "############# LT _ ssp126_ff _ 1 ############# \n",
      "\n",
      ">>>>> Analyzing the 'Overall' factors\n",
      "############# LT _ ssp370_nf _ 0 ############# \n",
      "\n",
      ">>>>> Analyzing the 'Overall' factors\n",
      "############# LT _ ssp370_ff _ 1 ############# \n",
      "\n",
      ">>>>> Analyzing the 'Overall' factors\n",
      "############# LT _ ssp585_nf _ 0 ############# \n",
      "\n",
      ">>>>> Analyzing the 'Overall' factors\n",
      "############# LT _ ssp585_ff _ 1 ############# \n",
      "\n",
      ">>>>> Analyzing the 'Overall' factors\n",
      "############# MK _ historic ############# \n",
      "\n",
      ">>>>> Analyzing the 'overall' factors\n",
      "############# MK _ ssp126_nf _ 0 ############# \n",
      "\n",
      ">>>>> Analyzing the 'Overall' factors\n",
      "############# MK _ ssp126_ff _ 1 ############# \n",
      "\n",
      ">>>>> Analyzing the 'Overall' factors\n",
      "############# MK _ ssp370_nf _ 0 ############# \n",
      "\n",
      ">>>>> Analyzing the 'Overall' factors\n",
      "############# MK _ ssp370_ff _ 1 ############# \n",
      "\n",
      ">>>>> Analyzing the 'Overall' factors\n",
      "############# MK _ ssp585_nf _ 0 ############# \n",
      "\n",
      ">>>>> Analyzing the 'Overall' factors\n",
      "############# MK _ ssp585_ff _ 1 ############# \n",
      "\n",
      ">>>>> Analyzing the 'Overall' factors\n",
      "############# IT _ historic ############# \n",
      "\n",
      ">>>>> Analyzing the 'overall' factors\n",
      "############# IT _ ssp126_nf _ 0 ############# \n",
      "\n"
     ]
    },
    {
     "name": "stderr",
     "output_type": "stream",
     "text": [
      "C:\\Users\\dof19\\AppData\\Local\\Temp/ipykernel_3628/1044944513.py:136: RuntimeWarning: Mean of empty slice\n",
      "  output['wasp_raw_mean'] = [np.nanmean(x) for x in WASP]\n",
      "c:\\users\\dof19\\appdata\\local\\programs\\python\\python38\\lib\\site-packages\\numpy\\lib\\nanfunctions.py:1559: RuntimeWarning: Mean of empty slice\n",
      "  return np.nanmean(a, axis, out=out, keepdims=keepdims)\n",
      "c:\\users\\dof19\\appdata\\local\\programs\\python\\python38\\lib\\site-packages\\numpy\\lib\\nanfunctions.py:1216: RuntimeWarning: Mean of empty slice\n",
      "  return np.nanmean(a, axis, out=out, keepdims=keepdims)\n",
      "c:\\users\\dof19\\appdata\\local\\programs\\python\\python38\\lib\\site-packages\\numpy\\lib\\nanfunctions.py:1559: RuntimeWarning: Mean of empty slice\n",
      "  return np.nanmean(a, axis, out=out, keepdims=keepdims)\n"
     ]
    },
    {
     "name": "stdout",
     "output_type": "stream",
     "text": [
      ">>>>> Analyzing the 'Overall' factors\n",
      "############# IT _ ssp126_ff _ 1 ############# \n",
      "\n"
     ]
    },
    {
     "name": "stderr",
     "output_type": "stream",
     "text": [
      "C:\\Users\\dof19\\AppData\\Local\\Temp/ipykernel_3628/1044944513.py:136: RuntimeWarning: Mean of empty slice\n",
      "  output['wasp_raw_mean'] = [np.nanmean(x) for x in WASP]\n",
      "c:\\users\\dof19\\appdata\\local\\programs\\python\\python38\\lib\\site-packages\\numpy\\lib\\nanfunctions.py:1559: RuntimeWarning: Mean of empty slice\n",
      "  return np.nanmean(a, axis, out=out, keepdims=keepdims)\n",
      "c:\\users\\dof19\\appdata\\local\\programs\\python\\python38\\lib\\site-packages\\numpy\\lib\\nanfunctions.py:1216: RuntimeWarning: Mean of empty slice\n",
      "  return np.nanmean(a, axis, out=out, keepdims=keepdims)\n",
      "c:\\users\\dof19\\appdata\\local\\programs\\python\\python38\\lib\\site-packages\\numpy\\lib\\nanfunctions.py:1559: RuntimeWarning: Mean of empty slice\n",
      "  return np.nanmean(a, axis, out=out, keepdims=keepdims)\n"
     ]
    },
    {
     "name": "stdout",
     "output_type": "stream",
     "text": [
      ">>>>> Analyzing the 'Overall' factors\n",
      "############# IT _ ssp370_nf _ 0 ############# \n",
      "\n"
     ]
    },
    {
     "name": "stderr",
     "output_type": "stream",
     "text": [
      "C:\\Users\\dof19\\AppData\\Local\\Temp/ipykernel_3628/1044944513.py:136: RuntimeWarning: Mean of empty slice\n",
      "  output['wasp_raw_mean'] = [np.nanmean(x) for x in WASP]\n",
      "c:\\users\\dof19\\appdata\\local\\programs\\python\\python38\\lib\\site-packages\\numpy\\lib\\nanfunctions.py:1559: RuntimeWarning: Mean of empty slice\n",
      "  return np.nanmean(a, axis, out=out, keepdims=keepdims)\n",
      "c:\\users\\dof19\\appdata\\local\\programs\\python\\python38\\lib\\site-packages\\numpy\\lib\\nanfunctions.py:1216: RuntimeWarning: Mean of empty slice\n",
      "  return np.nanmean(a, axis, out=out, keepdims=keepdims)\n",
      "c:\\users\\dof19\\appdata\\local\\programs\\python\\python38\\lib\\site-packages\\numpy\\lib\\nanfunctions.py:1559: RuntimeWarning: Mean of empty slice\n",
      "  return np.nanmean(a, axis, out=out, keepdims=keepdims)\n"
     ]
    },
    {
     "name": "stdout",
     "output_type": "stream",
     "text": [
      ">>>>> Analyzing the 'Overall' factors\n",
      "############# IT _ ssp370_ff _ 1 ############# \n",
      "\n"
     ]
    },
    {
     "name": "stderr",
     "output_type": "stream",
     "text": [
      "C:\\Users\\dof19\\AppData\\Local\\Temp/ipykernel_3628/1044944513.py:136: RuntimeWarning: Mean of empty slice\n",
      "  output['wasp_raw_mean'] = [np.nanmean(x) for x in WASP]\n",
      "c:\\users\\dof19\\appdata\\local\\programs\\python\\python38\\lib\\site-packages\\numpy\\lib\\nanfunctions.py:1559: RuntimeWarning: Mean of empty slice\n",
      "  return np.nanmean(a, axis, out=out, keepdims=keepdims)\n",
      "c:\\users\\dof19\\appdata\\local\\programs\\python\\python38\\lib\\site-packages\\numpy\\lib\\nanfunctions.py:1216: RuntimeWarning: Mean of empty slice\n",
      "  return np.nanmean(a, axis, out=out, keepdims=keepdims)\n",
      "c:\\users\\dof19\\appdata\\local\\programs\\python\\python38\\lib\\site-packages\\numpy\\lib\\nanfunctions.py:1559: RuntimeWarning: Mean of empty slice\n",
      "  return np.nanmean(a, axis, out=out, keepdims=keepdims)\n"
     ]
    },
    {
     "name": "stdout",
     "output_type": "stream",
     "text": [
      ">>>>> Analyzing the 'Overall' factors\n",
      "############# IT _ ssp585_nf _ 0 ############# \n",
      "\n"
     ]
    },
    {
     "name": "stderr",
     "output_type": "stream",
     "text": [
      "C:\\Users\\dof19\\AppData\\Local\\Temp/ipykernel_3628/1044944513.py:136: RuntimeWarning: Mean of empty slice\n",
      "  output['wasp_raw_mean'] = [np.nanmean(x) for x in WASP]\n",
      "c:\\users\\dof19\\appdata\\local\\programs\\python\\python38\\lib\\site-packages\\numpy\\lib\\nanfunctions.py:1559: RuntimeWarning: Mean of empty slice\n",
      "  return np.nanmean(a, axis, out=out, keepdims=keepdims)\n",
      "c:\\users\\dof19\\appdata\\local\\programs\\python\\python38\\lib\\site-packages\\numpy\\lib\\nanfunctions.py:1216: RuntimeWarning: Mean of empty slice\n",
      "  return np.nanmean(a, axis, out=out, keepdims=keepdims)\n",
      "c:\\users\\dof19\\appdata\\local\\programs\\python\\python38\\lib\\site-packages\\numpy\\lib\\nanfunctions.py:1559: RuntimeWarning: Mean of empty slice\n",
      "  return np.nanmean(a, axis, out=out, keepdims=keepdims)\n"
     ]
    },
    {
     "name": "stdout",
     "output_type": "stream",
     "text": [
      ">>>>> Analyzing the 'Overall' factors\n",
      "############# IT _ ssp585_ff _ 1 ############# \n",
      "\n"
     ]
    },
    {
     "name": "stderr",
     "output_type": "stream",
     "text": [
      "C:\\Users\\dof19\\AppData\\Local\\Temp/ipykernel_3628/1044944513.py:136: RuntimeWarning: Mean of empty slice\n",
      "  output['wasp_raw_mean'] = [np.nanmean(x) for x in WASP]\n",
      "c:\\users\\dof19\\appdata\\local\\programs\\python\\python38\\lib\\site-packages\\numpy\\lib\\nanfunctions.py:1559: RuntimeWarning: Mean of empty slice\n",
      "  return np.nanmean(a, axis, out=out, keepdims=keepdims)\n",
      "c:\\users\\dof19\\appdata\\local\\programs\\python\\python38\\lib\\site-packages\\numpy\\lib\\nanfunctions.py:1216: RuntimeWarning: Mean of empty slice\n",
      "  return np.nanmean(a, axis, out=out, keepdims=keepdims)\n",
      "c:\\users\\dof19\\appdata\\local\\programs\\python\\python38\\lib\\site-packages\\numpy\\lib\\nanfunctions.py:1559: RuntimeWarning: Mean of empty slice\n",
      "  return np.nanmean(a, axis, out=out, keepdims=keepdims)\n"
     ]
    },
    {
     "name": "stdout",
     "output_type": "stream",
     "text": [
      ">>>>> Analyzing the 'Overall' factors\n",
      "############# TR _ historic ############# \n",
      "\n",
      ">>>>> Analyzing the 'overall' factors\n",
      "############# TR _ ssp126_nf _ 0 ############# \n",
      "\n"
     ]
    },
    {
     "name": "stderr",
     "output_type": "stream",
     "text": [
      "C:\\Users\\dof19\\AppData\\Local\\Temp/ipykernel_3628/1044944513.py:136: RuntimeWarning: Mean of empty slice\n",
      "  output['wasp_raw_mean'] = [np.nanmean(x) for x in WASP]\n",
      "c:\\users\\dof19\\appdata\\local\\programs\\python\\python38\\lib\\site-packages\\numpy\\lib\\nanfunctions.py:1559: RuntimeWarning: Mean of empty slice\n",
      "  return np.nanmean(a, axis, out=out, keepdims=keepdims)\n",
      "c:\\users\\dof19\\appdata\\local\\programs\\python\\python38\\lib\\site-packages\\numpy\\lib\\nanfunctions.py:1216: RuntimeWarning: Mean of empty slice\n",
      "  return np.nanmean(a, axis, out=out, keepdims=keepdims)\n",
      "c:\\users\\dof19\\appdata\\local\\programs\\python\\python38\\lib\\site-packages\\numpy\\lib\\nanfunctions.py:1559: RuntimeWarning: Mean of empty slice\n",
      "  return np.nanmean(a, axis, out=out, keepdims=keepdims)\n"
     ]
    },
    {
     "name": "stdout",
     "output_type": "stream",
     "text": [
      ">>>>> Analyzing the 'Overall' factors\n",
      "############# TR _ ssp126_ff _ 1 ############# \n",
      "\n"
     ]
    },
    {
     "name": "stderr",
     "output_type": "stream",
     "text": [
      "C:\\Users\\dof19\\AppData\\Local\\Temp/ipykernel_3628/1044944513.py:136: RuntimeWarning: Mean of empty slice\n",
      "  output['wasp_raw_mean'] = [np.nanmean(x) for x in WASP]\n",
      "c:\\users\\dof19\\appdata\\local\\programs\\python\\python38\\lib\\site-packages\\numpy\\lib\\nanfunctions.py:1559: RuntimeWarning: Mean of empty slice\n",
      "  return np.nanmean(a, axis, out=out, keepdims=keepdims)\n",
      "c:\\users\\dof19\\appdata\\local\\programs\\python\\python38\\lib\\site-packages\\numpy\\lib\\nanfunctions.py:1216: RuntimeWarning: Mean of empty slice\n",
      "  return np.nanmean(a, axis, out=out, keepdims=keepdims)\n",
      "c:\\users\\dof19\\appdata\\local\\programs\\python\\python38\\lib\\site-packages\\numpy\\lib\\nanfunctions.py:1559: RuntimeWarning: Mean of empty slice\n",
      "  return np.nanmean(a, axis, out=out, keepdims=keepdims)\n"
     ]
    },
    {
     "name": "stdout",
     "output_type": "stream",
     "text": [
      ">>>>> Analyzing the 'Overall' factors\n",
      "############# TR _ ssp370_nf _ 0 ############# \n",
      "\n",
      ">>>>> Analyzing the 'Overall' factors\n",
      "############# TR _ ssp370_ff _ 1 ############# \n",
      "\n"
     ]
    },
    {
     "name": "stderr",
     "output_type": "stream",
     "text": [
      "C:\\Users\\dof19\\AppData\\Local\\Temp/ipykernel_3628/1044944513.py:136: RuntimeWarning: Mean of empty slice\n",
      "  output['wasp_raw_mean'] = [np.nanmean(x) for x in WASP]\n",
      "c:\\users\\dof19\\appdata\\local\\programs\\python\\python38\\lib\\site-packages\\numpy\\lib\\nanfunctions.py:1559: RuntimeWarning: Mean of empty slice\n",
      "  return np.nanmean(a, axis, out=out, keepdims=keepdims)\n",
      "c:\\users\\dof19\\appdata\\local\\programs\\python\\python38\\lib\\site-packages\\numpy\\lib\\nanfunctions.py:1216: RuntimeWarning: Mean of empty slice\n",
      "  return np.nanmean(a, axis, out=out, keepdims=keepdims)\n",
      "c:\\users\\dof19\\appdata\\local\\programs\\python\\python38\\lib\\site-packages\\numpy\\lib\\nanfunctions.py:1559: RuntimeWarning: Mean of empty slice\n",
      "  return np.nanmean(a, axis, out=out, keepdims=keepdims)\n"
     ]
    },
    {
     "name": "stdout",
     "output_type": "stream",
     "text": [
      ">>>>> Analyzing the 'Overall' factors\n",
      "############# TR _ ssp585_nf _ 0 ############# \n",
      "\n"
     ]
    },
    {
     "name": "stderr",
     "output_type": "stream",
     "text": [
      "C:\\Users\\dof19\\AppData\\Local\\Temp/ipykernel_3628/1044944513.py:136: RuntimeWarning: Mean of empty slice\n",
      "  output['wasp_raw_mean'] = [np.nanmean(x) for x in WASP]\n",
      "c:\\users\\dof19\\appdata\\local\\programs\\python\\python38\\lib\\site-packages\\numpy\\lib\\nanfunctions.py:1559: RuntimeWarning: Mean of empty slice\n",
      "  return np.nanmean(a, axis, out=out, keepdims=keepdims)\n",
      "c:\\users\\dof19\\appdata\\local\\programs\\python\\python38\\lib\\site-packages\\numpy\\lib\\nanfunctions.py:1216: RuntimeWarning: Mean of empty slice\n",
      "  return np.nanmean(a, axis, out=out, keepdims=keepdims)\n",
      "c:\\users\\dof19\\appdata\\local\\programs\\python\\python38\\lib\\site-packages\\numpy\\lib\\nanfunctions.py:1559: RuntimeWarning: Mean of empty slice\n",
      "  return np.nanmean(a, axis, out=out, keepdims=keepdims)\n"
     ]
    },
    {
     "name": "stdout",
     "output_type": "stream",
     "text": [
      ">>>>> Analyzing the 'Overall' factors\n",
      "############# TR _ ssp585_ff _ 1 ############# \n",
      "\n",
      ">>>>> Analyzing the 'Overall' factors\n",
      "############# PL _ historic ############# \n",
      "\n",
      ">>>>> Analyzing the 'overall' factors\n",
      "############# PL _ ssp126_nf _ 0 ############# \n",
      "\n"
     ]
    },
    {
     "name": "stderr",
     "output_type": "stream",
     "text": [
      "C:\\Users\\dof19\\AppData\\Local\\Temp/ipykernel_3628/1044944513.py:136: RuntimeWarning: Mean of empty slice\n",
      "  output['wasp_raw_mean'] = [np.nanmean(x) for x in WASP]\n",
      "c:\\users\\dof19\\appdata\\local\\programs\\python\\python38\\lib\\site-packages\\numpy\\lib\\nanfunctions.py:1559: RuntimeWarning: Mean of empty slice\n",
      "  return np.nanmean(a, axis, out=out, keepdims=keepdims)\n",
      "c:\\users\\dof19\\appdata\\local\\programs\\python\\python38\\lib\\site-packages\\numpy\\lib\\nanfunctions.py:1216: RuntimeWarning: Mean of empty slice\n",
      "  return np.nanmean(a, axis, out=out, keepdims=keepdims)\n",
      "c:\\users\\dof19\\appdata\\local\\programs\\python\\python38\\lib\\site-packages\\numpy\\lib\\nanfunctions.py:1559: RuntimeWarning: Mean of empty slice\n",
      "  return np.nanmean(a, axis, out=out, keepdims=keepdims)\n"
     ]
    },
    {
     "name": "stdout",
     "output_type": "stream",
     "text": [
      ">>>>> Analyzing the 'Overall' factors\n",
      "############# PL _ ssp126_ff _ 1 ############# \n",
      "\n"
     ]
    },
    {
     "name": "stderr",
     "output_type": "stream",
     "text": [
      "C:\\Users\\dof19\\AppData\\Local\\Temp/ipykernel_3628/1044944513.py:136: RuntimeWarning: Mean of empty slice\n",
      "  output['wasp_raw_mean'] = [np.nanmean(x) for x in WASP]\n",
      "c:\\users\\dof19\\appdata\\local\\programs\\python\\python38\\lib\\site-packages\\numpy\\lib\\nanfunctions.py:1559: RuntimeWarning: Mean of empty slice\n",
      "  return np.nanmean(a, axis, out=out, keepdims=keepdims)\n",
      "c:\\users\\dof19\\appdata\\local\\programs\\python\\python38\\lib\\site-packages\\numpy\\lib\\nanfunctions.py:1216: RuntimeWarning: Mean of empty slice\n",
      "  return np.nanmean(a, axis, out=out, keepdims=keepdims)\n",
      "c:\\users\\dof19\\appdata\\local\\programs\\python\\python38\\lib\\site-packages\\numpy\\lib\\nanfunctions.py:1559: RuntimeWarning: Mean of empty slice\n",
      "  return np.nanmean(a, axis, out=out, keepdims=keepdims)\n"
     ]
    },
    {
     "name": "stdout",
     "output_type": "stream",
     "text": [
      ">>>>> Analyzing the 'Overall' factors\n",
      "############# PL _ ssp370_nf _ 0 ############# \n",
      "\n"
     ]
    },
    {
     "name": "stderr",
     "output_type": "stream",
     "text": [
      "C:\\Users\\dof19\\AppData\\Local\\Temp/ipykernel_3628/1044944513.py:136: RuntimeWarning: Mean of empty slice\n",
      "  output['wasp_raw_mean'] = [np.nanmean(x) for x in WASP]\n",
      "c:\\users\\dof19\\appdata\\local\\programs\\python\\python38\\lib\\site-packages\\numpy\\lib\\nanfunctions.py:1559: RuntimeWarning: Mean of empty slice\n",
      "  return np.nanmean(a, axis, out=out, keepdims=keepdims)\n",
      "c:\\users\\dof19\\appdata\\local\\programs\\python\\python38\\lib\\site-packages\\numpy\\lib\\nanfunctions.py:1216: RuntimeWarning: Mean of empty slice\n",
      "  return np.nanmean(a, axis, out=out, keepdims=keepdims)\n",
      "c:\\users\\dof19\\appdata\\local\\programs\\python\\python38\\lib\\site-packages\\numpy\\lib\\nanfunctions.py:1559: RuntimeWarning: Mean of empty slice\n",
      "  return np.nanmean(a, axis, out=out, keepdims=keepdims)\n"
     ]
    },
    {
     "name": "stdout",
     "output_type": "stream",
     "text": [
      ">>>>> Analyzing the 'Overall' factors\n",
      "############# PL _ ssp370_ff _ 1 ############# \n",
      "\n"
     ]
    },
    {
     "name": "stderr",
     "output_type": "stream",
     "text": [
      "C:\\Users\\dof19\\AppData\\Local\\Temp/ipykernel_3628/1044944513.py:136: RuntimeWarning: Mean of empty slice\n",
      "  output['wasp_raw_mean'] = [np.nanmean(x) for x in WASP]\n",
      "c:\\users\\dof19\\appdata\\local\\programs\\python\\python38\\lib\\site-packages\\numpy\\lib\\nanfunctions.py:1559: RuntimeWarning: Mean of empty slice\n",
      "  return np.nanmean(a, axis, out=out, keepdims=keepdims)\n",
      "c:\\users\\dof19\\appdata\\local\\programs\\python\\python38\\lib\\site-packages\\numpy\\lib\\nanfunctions.py:1216: RuntimeWarning: Mean of empty slice\n",
      "  return np.nanmean(a, axis, out=out, keepdims=keepdims)\n",
      "c:\\users\\dof19\\appdata\\local\\programs\\python\\python38\\lib\\site-packages\\numpy\\lib\\nanfunctions.py:1559: RuntimeWarning: Mean of empty slice\n",
      "  return np.nanmean(a, axis, out=out, keepdims=keepdims)\n"
     ]
    },
    {
     "name": "stdout",
     "output_type": "stream",
     "text": [
      ">>>>> Analyzing the 'Overall' factors\n",
      "############# PL _ ssp585_nf _ 0 ############# \n",
      "\n"
     ]
    },
    {
     "name": "stderr",
     "output_type": "stream",
     "text": [
      "C:\\Users\\dof19\\AppData\\Local\\Temp/ipykernel_3628/1044944513.py:136: RuntimeWarning: Mean of empty slice\n",
      "  output['wasp_raw_mean'] = [np.nanmean(x) for x in WASP]\n",
      "c:\\users\\dof19\\appdata\\local\\programs\\python\\python38\\lib\\site-packages\\numpy\\lib\\nanfunctions.py:1559: RuntimeWarning: Mean of empty slice\n",
      "  return np.nanmean(a, axis, out=out, keepdims=keepdims)\n",
      "c:\\users\\dof19\\appdata\\local\\programs\\python\\python38\\lib\\site-packages\\numpy\\lib\\nanfunctions.py:1216: RuntimeWarning: Mean of empty slice\n",
      "  return np.nanmean(a, axis, out=out, keepdims=keepdims)\n",
      "c:\\users\\dof19\\appdata\\local\\programs\\python\\python38\\lib\\site-packages\\numpy\\lib\\nanfunctions.py:1559: RuntimeWarning: Mean of empty slice\n",
      "  return np.nanmean(a, axis, out=out, keepdims=keepdims)\n"
     ]
    },
    {
     "name": "stdout",
     "output_type": "stream",
     "text": [
      ">>>>> Analyzing the 'Overall' factors\n",
      "############# PL _ ssp585_ff _ 1 ############# \n",
      "\n"
     ]
    },
    {
     "name": "stderr",
     "output_type": "stream",
     "text": [
      "C:\\Users\\dof19\\AppData\\Local\\Temp/ipykernel_3628/1044944513.py:136: RuntimeWarning: Mean of empty slice\n",
      "  output['wasp_raw_mean'] = [np.nanmean(x) for x in WASP]\n",
      "c:\\users\\dof19\\appdata\\local\\programs\\python\\python38\\lib\\site-packages\\numpy\\lib\\nanfunctions.py:1559: RuntimeWarning: Mean of empty slice\n",
      "  return np.nanmean(a, axis, out=out, keepdims=keepdims)\n",
      "c:\\users\\dof19\\appdata\\local\\programs\\python\\python38\\lib\\site-packages\\numpy\\lib\\nanfunctions.py:1216: RuntimeWarning: Mean of empty slice\n",
      "  return np.nanmean(a, axis, out=out, keepdims=keepdims)\n",
      "c:\\users\\dof19\\appdata\\local\\programs\\python\\python38\\lib\\site-packages\\numpy\\lib\\nanfunctions.py:1559: RuntimeWarning: Mean of empty slice\n",
      "  return np.nanmean(a, axis, out=out, keepdims=keepdims)\n"
     ]
    },
    {
     "name": "stdout",
     "output_type": "stream",
     "text": [
      ">>>>> Analyzing the 'Overall' factors\n",
      "############# RO _ historic ############# \n",
      "\n",
      ">>>>> Analyzing the 'overall' factors\n",
      "############# RO _ ssp126_nf _ 0 ############# \n",
      "\n"
     ]
    },
    {
     "name": "stderr",
     "output_type": "stream",
     "text": [
      "C:\\Users\\dof19\\AppData\\Local\\Temp/ipykernel_3628/1044944513.py:136: RuntimeWarning: Mean of empty slice\n",
      "  output['wasp_raw_mean'] = [np.nanmean(x) for x in WASP]\n",
      "c:\\users\\dof19\\appdata\\local\\programs\\python\\python38\\lib\\site-packages\\numpy\\lib\\nanfunctions.py:1559: RuntimeWarning: Mean of empty slice\n",
      "  return np.nanmean(a, axis, out=out, keepdims=keepdims)\n",
      "c:\\users\\dof19\\appdata\\local\\programs\\python\\python38\\lib\\site-packages\\numpy\\lib\\nanfunctions.py:1216: RuntimeWarning: Mean of empty slice\n",
      "  return np.nanmean(a, axis, out=out, keepdims=keepdims)\n",
      "c:\\users\\dof19\\appdata\\local\\programs\\python\\python38\\lib\\site-packages\\numpy\\lib\\nanfunctions.py:1559: RuntimeWarning: Mean of empty slice\n",
      "  return np.nanmean(a, axis, out=out, keepdims=keepdims)\n"
     ]
    },
    {
     "name": "stdout",
     "output_type": "stream",
     "text": [
      ">>>>> Analyzing the 'Overall' factors\n",
      "############# RO _ ssp126_ff _ 1 ############# \n",
      "\n"
     ]
    },
    {
     "name": "stderr",
     "output_type": "stream",
     "text": [
      "C:\\Users\\dof19\\AppData\\Local\\Temp/ipykernel_3628/1044944513.py:136: RuntimeWarning: Mean of empty slice\n",
      "  output['wasp_raw_mean'] = [np.nanmean(x) for x in WASP]\n",
      "c:\\users\\dof19\\appdata\\local\\programs\\python\\python38\\lib\\site-packages\\numpy\\lib\\nanfunctions.py:1559: RuntimeWarning: Mean of empty slice\n",
      "  return np.nanmean(a, axis, out=out, keepdims=keepdims)\n",
      "c:\\users\\dof19\\appdata\\local\\programs\\python\\python38\\lib\\site-packages\\numpy\\lib\\nanfunctions.py:1216: RuntimeWarning: Mean of empty slice\n",
      "  return np.nanmean(a, axis, out=out, keepdims=keepdims)\n",
      "c:\\users\\dof19\\appdata\\local\\programs\\python\\python38\\lib\\site-packages\\numpy\\lib\\nanfunctions.py:1559: RuntimeWarning: Mean of empty slice\n",
      "  return np.nanmean(a, axis, out=out, keepdims=keepdims)\n"
     ]
    },
    {
     "name": "stdout",
     "output_type": "stream",
     "text": [
      ">>>>> Analyzing the 'Overall' factors\n",
      "############# RO _ ssp370_nf _ 0 ############# \n",
      "\n"
     ]
    },
    {
     "name": "stderr",
     "output_type": "stream",
     "text": [
      "C:\\Users\\dof19\\AppData\\Local\\Temp/ipykernel_3628/1044944513.py:136: RuntimeWarning: Mean of empty slice\n",
      "  output['wasp_raw_mean'] = [np.nanmean(x) for x in WASP]\n",
      "c:\\users\\dof19\\appdata\\local\\programs\\python\\python38\\lib\\site-packages\\numpy\\lib\\nanfunctions.py:1559: RuntimeWarning: Mean of empty slice\n",
      "  return np.nanmean(a, axis, out=out, keepdims=keepdims)\n",
      "c:\\users\\dof19\\appdata\\local\\programs\\python\\python38\\lib\\site-packages\\numpy\\lib\\nanfunctions.py:1216: RuntimeWarning: Mean of empty slice\n",
      "  return np.nanmean(a, axis, out=out, keepdims=keepdims)\n",
      "c:\\users\\dof19\\appdata\\local\\programs\\python\\python38\\lib\\site-packages\\numpy\\lib\\nanfunctions.py:1559: RuntimeWarning: Mean of empty slice\n",
      "  return np.nanmean(a, axis, out=out, keepdims=keepdims)\n"
     ]
    },
    {
     "name": "stdout",
     "output_type": "stream",
     "text": [
      ">>>>> Analyzing the 'Overall' factors\n",
      "############# RO _ ssp370_ff _ 1 ############# \n",
      "\n",
      ">>>>> Analyzing the 'Overall' factors\n",
      "############# RO _ ssp585_nf _ 0 ############# \n",
      "\n"
     ]
    },
    {
     "name": "stderr",
     "output_type": "stream",
     "text": [
      "C:\\Users\\dof19\\AppData\\Local\\Temp/ipykernel_3628/1044944513.py:136: RuntimeWarning: Mean of empty slice\n",
      "  output['wasp_raw_mean'] = [np.nanmean(x) for x in WASP]\n",
      "c:\\users\\dof19\\appdata\\local\\programs\\python\\python38\\lib\\site-packages\\numpy\\lib\\nanfunctions.py:1559: RuntimeWarning: Mean of empty slice\n",
      "  return np.nanmean(a, axis, out=out, keepdims=keepdims)\n",
      "c:\\users\\dof19\\appdata\\local\\programs\\python\\python38\\lib\\site-packages\\numpy\\lib\\nanfunctions.py:1216: RuntimeWarning: Mean of empty slice\n",
      "  return np.nanmean(a, axis, out=out, keepdims=keepdims)\n",
      "c:\\users\\dof19\\appdata\\local\\programs\\python\\python38\\lib\\site-packages\\numpy\\lib\\nanfunctions.py:1559: RuntimeWarning: Mean of empty slice\n",
      "  return np.nanmean(a, axis, out=out, keepdims=keepdims)\n"
     ]
    },
    {
     "name": "stdout",
     "output_type": "stream",
     "text": [
      ">>>>> Analyzing the 'Overall' factors\n",
      "############# RO _ ssp585_ff _ 1 ############# \n",
      "\n"
     ]
    },
    {
     "name": "stderr",
     "output_type": "stream",
     "text": [
      "C:\\Users\\dof19\\AppData\\Local\\Temp/ipykernel_3628/1044944513.py:136: RuntimeWarning: Mean of empty slice\n",
      "  output['wasp_raw_mean'] = [np.nanmean(x) for x in WASP]\n",
      "c:\\users\\dof19\\appdata\\local\\programs\\python\\python38\\lib\\site-packages\\numpy\\lib\\nanfunctions.py:1559: RuntimeWarning: Mean of empty slice\n",
      "  return np.nanmean(a, axis, out=out, keepdims=keepdims)\n",
      "c:\\users\\dof19\\appdata\\local\\programs\\python\\python38\\lib\\site-packages\\numpy\\lib\\nanfunctions.py:1216: RuntimeWarning: Mean of empty slice\n",
      "  return np.nanmean(a, axis, out=out, keepdims=keepdims)\n",
      "c:\\users\\dof19\\appdata\\local\\programs\\python\\python38\\lib\\site-packages\\numpy\\lib\\nanfunctions.py:1559: RuntimeWarning: Mean of empty slice\n",
      "  return np.nanmean(a, axis, out=out, keepdims=keepdims)\n"
     ]
    },
    {
     "name": "stdout",
     "output_type": "stream",
     "text": [
      ">>>>> Analyzing the 'Overall' factors\n",
      "############# SE _ historic ############# \n",
      "\n",
      ">>>>> Analyzing the 'overall' factors\n",
      "############# SE _ ssp126_nf _ 0 ############# \n",
      "\n",
      ">>>>> Analyzing the 'Overall' factors\n",
      "############# SE _ ssp126_ff _ 1 ############# \n",
      "\n"
     ]
    },
    {
     "name": "stderr",
     "output_type": "stream",
     "text": [
      "C:\\Users\\dof19\\AppData\\Local\\Temp/ipykernel_3628/1044944513.py:136: RuntimeWarning: Mean of empty slice\n",
      "  output['wasp_raw_mean'] = [np.nanmean(x) for x in WASP]\n",
      "c:\\users\\dof19\\appdata\\local\\programs\\python\\python38\\lib\\site-packages\\numpy\\lib\\nanfunctions.py:1559: RuntimeWarning: Mean of empty slice\n",
      "  return np.nanmean(a, axis, out=out, keepdims=keepdims)\n",
      "c:\\users\\dof19\\appdata\\local\\programs\\python\\python38\\lib\\site-packages\\numpy\\lib\\nanfunctions.py:1216: RuntimeWarning: Mean of empty slice\n",
      "  return np.nanmean(a, axis, out=out, keepdims=keepdims)\n",
      "c:\\users\\dof19\\appdata\\local\\programs\\python\\python38\\lib\\site-packages\\numpy\\lib\\nanfunctions.py:1559: RuntimeWarning: Mean of empty slice\n",
      "  return np.nanmean(a, axis, out=out, keepdims=keepdims)\n"
     ]
    },
    {
     "name": "stdout",
     "output_type": "stream",
     "text": [
      ">>>>> Analyzing the 'Overall' factors\n",
      "############# SE _ ssp370_nf _ 0 ############# \n",
      "\n"
     ]
    },
    {
     "name": "stderr",
     "output_type": "stream",
     "text": [
      "C:\\Users\\dof19\\AppData\\Local\\Temp/ipykernel_3628/1044944513.py:136: RuntimeWarning: Mean of empty slice\n",
      "  output['wasp_raw_mean'] = [np.nanmean(x) for x in WASP]\n",
      "c:\\users\\dof19\\appdata\\local\\programs\\python\\python38\\lib\\site-packages\\numpy\\lib\\nanfunctions.py:1559: RuntimeWarning: Mean of empty slice\n",
      "  return np.nanmean(a, axis, out=out, keepdims=keepdims)\n",
      "c:\\users\\dof19\\appdata\\local\\programs\\python\\python38\\lib\\site-packages\\numpy\\lib\\nanfunctions.py:1216: RuntimeWarning: Mean of empty slice\n",
      "  return np.nanmean(a, axis, out=out, keepdims=keepdims)\n",
      "c:\\users\\dof19\\appdata\\local\\programs\\python\\python38\\lib\\site-packages\\numpy\\lib\\nanfunctions.py:1559: RuntimeWarning: Mean of empty slice\n",
      "  return np.nanmean(a, axis, out=out, keepdims=keepdims)\n"
     ]
    },
    {
     "name": "stdout",
     "output_type": "stream",
     "text": [
      ">>>>> Analyzing the 'Overall' factors\n",
      "############# SE _ ssp370_ff _ 1 ############# \n",
      "\n"
     ]
    },
    {
     "name": "stderr",
     "output_type": "stream",
     "text": [
      "C:\\Users\\dof19\\AppData\\Local\\Temp/ipykernel_3628/1044944513.py:136: RuntimeWarning: Mean of empty slice\n",
      "  output['wasp_raw_mean'] = [np.nanmean(x) for x in WASP]\n",
      "c:\\users\\dof19\\appdata\\local\\programs\\python\\python38\\lib\\site-packages\\numpy\\lib\\nanfunctions.py:1559: RuntimeWarning: Mean of empty slice\n",
      "  return np.nanmean(a, axis, out=out, keepdims=keepdims)\n",
      "c:\\users\\dof19\\appdata\\local\\programs\\python\\python38\\lib\\site-packages\\numpy\\lib\\nanfunctions.py:1216: RuntimeWarning: Mean of empty slice\n",
      "  return np.nanmean(a, axis, out=out, keepdims=keepdims)\n",
      "c:\\users\\dof19\\appdata\\local\\programs\\python\\python38\\lib\\site-packages\\numpy\\lib\\nanfunctions.py:1559: RuntimeWarning: Mean of empty slice\n",
      "  return np.nanmean(a, axis, out=out, keepdims=keepdims)\n"
     ]
    },
    {
     "name": "stdout",
     "output_type": "stream",
     "text": [
      ">>>>> Analyzing the 'Overall' factors\n",
      "############# SE _ ssp585_nf _ 0 ############# \n",
      "\n"
     ]
    },
    {
     "name": "stderr",
     "output_type": "stream",
     "text": [
      "C:\\Users\\dof19\\AppData\\Local\\Temp/ipykernel_3628/1044944513.py:136: RuntimeWarning: Mean of empty slice\n",
      "  output['wasp_raw_mean'] = [np.nanmean(x) for x in WASP]\n",
      "c:\\users\\dof19\\appdata\\local\\programs\\python\\python38\\lib\\site-packages\\numpy\\lib\\nanfunctions.py:1559: RuntimeWarning: Mean of empty slice\n",
      "  return np.nanmean(a, axis, out=out, keepdims=keepdims)\n",
      "c:\\users\\dof19\\appdata\\local\\programs\\python\\python38\\lib\\site-packages\\numpy\\lib\\nanfunctions.py:1216: RuntimeWarning: Mean of empty slice\n",
      "  return np.nanmean(a, axis, out=out, keepdims=keepdims)\n",
      "c:\\users\\dof19\\appdata\\local\\programs\\python\\python38\\lib\\site-packages\\numpy\\lib\\nanfunctions.py:1559: RuntimeWarning: Mean of empty slice\n",
      "  return np.nanmean(a, axis, out=out, keepdims=keepdims)\n"
     ]
    },
    {
     "name": "stdout",
     "output_type": "stream",
     "text": [
      ">>>>> Analyzing the 'Overall' factors\n",
      "############# SE _ ssp585_ff _ 1 ############# \n",
      "\n"
     ]
    },
    {
     "name": "stderr",
     "output_type": "stream",
     "text": [
      "C:\\Users\\dof19\\AppData\\Local\\Temp/ipykernel_3628/1044944513.py:136: RuntimeWarning: Mean of empty slice\n",
      "  output['wasp_raw_mean'] = [np.nanmean(x) for x in WASP]\n",
      "c:\\users\\dof19\\appdata\\local\\programs\\python\\python38\\lib\\site-packages\\numpy\\lib\\nanfunctions.py:1559: RuntimeWarning: Mean of empty slice\n",
      "  return np.nanmean(a, axis, out=out, keepdims=keepdims)\n",
      "c:\\users\\dof19\\appdata\\local\\programs\\python\\python38\\lib\\site-packages\\numpy\\lib\\nanfunctions.py:1216: RuntimeWarning: Mean of empty slice\n",
      "  return np.nanmean(a, axis, out=out, keepdims=keepdims)\n",
      "c:\\users\\dof19\\appdata\\local\\programs\\python\\python38\\lib\\site-packages\\numpy\\lib\\nanfunctions.py:1559: RuntimeWarning: Mean of empty slice\n",
      "  return np.nanmean(a, axis, out=out, keepdims=keepdims)\n"
     ]
    },
    {
     "name": "stdout",
     "output_type": "stream",
     "text": [
      ">>>>> Analyzing the 'Overall' factors\n",
      "############# RS _ historic ############# \n",
      "\n",
      ">>>>> Analyzing the 'overall' factors\n",
      "############# RS _ ssp126_nf _ 0 ############# \n",
      "\n",
      ">>>>> Analyzing the 'Overall' factors\n",
      "############# RS _ ssp126_ff _ 1 ############# \n",
      "\n",
      ">>>>> Analyzing the 'Overall' factors\n",
      "############# RS _ ssp370_nf _ 0 ############# \n",
      "\n",
      ">>>>> Analyzing the 'Overall' factors\n",
      "############# RS _ ssp370_ff _ 1 ############# \n",
      "\n",
      ">>>>> Analyzing the 'Overall' factors\n",
      "############# RS _ ssp585_nf _ 0 ############# \n",
      "\n",
      ">>>>> Analyzing the 'Overall' factors\n",
      "############# RS _ ssp585_ff _ 1 ############# \n",
      "\n",
      ">>>>> Analyzing the 'Overall' factors\n",
      "############# PT _ historic ############# \n",
      "\n",
      ">>>>> Analyzing the 'overall' factors\n",
      "############# PT _ ssp126_nf _ 0 ############# \n",
      "\n",
      ">>>>> Analyzing the 'Overall' factors\n",
      "############# PT _ ssp126_ff _ 1 ############# \n",
      "\n",
      ">>>>> Analyzing the 'Overall' factors\n",
      "############# PT _ ssp370_nf _ 0 ############# \n",
      "\n",
      ">>>>> Analyzing the 'Overall' factors\n",
      "############# PT _ ssp370_ff _ 1 ############# \n",
      "\n",
      ">>>>> Analyzing the 'Overall' factors\n",
      "############# PT _ ssp585_nf _ 0 ############# \n",
      "\n",
      ">>>>> Analyzing the 'Overall' factors\n",
      "############# PT _ ssp585_ff _ 1 ############# \n",
      "\n",
      ">>>>> Analyzing the 'Overall' factors\n",
      "############# IE _ historic ############# \n",
      "\n",
      ">>>>> Analyzing the 'overall' factors\n",
      "############# IE _ ssp126_nf _ 0 ############# \n",
      "\n",
      ">>>>> Analyzing the 'Overall' factors\n",
      "############# IE _ ssp126_ff _ 1 ############# \n",
      "\n",
      ">>>>> Analyzing the 'Overall' factors\n",
      "############# IE _ ssp370_nf _ 0 ############# \n",
      "\n",
      ">>>>> Analyzing the 'Overall' factors\n",
      "############# IE _ ssp370_ff _ 1 ############# \n",
      "\n",
      ">>>>> Analyzing the 'Overall' factors\n",
      "############# IE _ ssp585_nf _ 0 ############# \n",
      "\n",
      ">>>>> Analyzing the 'Overall' factors\n",
      "############# IE _ ssp585_ff _ 1 ############# \n",
      "\n",
      ">>>>> Analyzing the 'Overall' factors\n",
      "############# UK _ historic ############# \n",
      "\n",
      ">>>>> Analyzing the 'overall' factors\n",
      "############# UK _ ssp126_nf _ 0 ############# \n",
      "\n"
     ]
    },
    {
     "name": "stderr",
     "output_type": "stream",
     "text": [
      "C:\\Users\\dof19\\AppData\\Local\\Temp/ipykernel_3628/1044944513.py:136: RuntimeWarning: Mean of empty slice\n",
      "  output['wasp_raw_mean'] = [np.nanmean(x) for x in WASP]\n",
      "c:\\users\\dof19\\appdata\\local\\programs\\python\\python38\\lib\\site-packages\\numpy\\lib\\nanfunctions.py:1559: RuntimeWarning: Mean of empty slice\n",
      "  return np.nanmean(a, axis, out=out, keepdims=keepdims)\n",
      "c:\\users\\dof19\\appdata\\local\\programs\\python\\python38\\lib\\site-packages\\numpy\\lib\\nanfunctions.py:1216: RuntimeWarning: Mean of empty slice\n",
      "  return np.nanmean(a, axis, out=out, keepdims=keepdims)\n",
      "c:\\users\\dof19\\appdata\\local\\programs\\python\\python38\\lib\\site-packages\\numpy\\lib\\nanfunctions.py:1559: RuntimeWarning: Mean of empty slice\n",
      "  return np.nanmean(a, axis, out=out, keepdims=keepdims)\n"
     ]
    },
    {
     "name": "stdout",
     "output_type": "stream",
     "text": [
      ">>>>> Analyzing the 'Overall' factors\n",
      "############# UK _ ssp126_ff _ 1 ############# \n",
      "\n"
     ]
    },
    {
     "name": "stderr",
     "output_type": "stream",
     "text": [
      "C:\\Users\\dof19\\AppData\\Local\\Temp/ipykernel_3628/1044944513.py:136: RuntimeWarning: Mean of empty slice\n",
      "  output['wasp_raw_mean'] = [np.nanmean(x) for x in WASP]\n",
      "c:\\users\\dof19\\appdata\\local\\programs\\python\\python38\\lib\\site-packages\\numpy\\lib\\nanfunctions.py:1559: RuntimeWarning: Mean of empty slice\n",
      "  return np.nanmean(a, axis, out=out, keepdims=keepdims)\n",
      "c:\\users\\dof19\\appdata\\local\\programs\\python\\python38\\lib\\site-packages\\numpy\\lib\\nanfunctions.py:1216: RuntimeWarning: Mean of empty slice\n",
      "  return np.nanmean(a, axis, out=out, keepdims=keepdims)\n",
      "c:\\users\\dof19\\appdata\\local\\programs\\python\\python38\\lib\\site-packages\\numpy\\lib\\nanfunctions.py:1559: RuntimeWarning: Mean of empty slice\n",
      "  return np.nanmean(a, axis, out=out, keepdims=keepdims)\n"
     ]
    },
    {
     "name": "stdout",
     "output_type": "stream",
     "text": [
      ">>>>> Analyzing the 'Overall' factors\n",
      "############# UK _ ssp370_nf _ 0 ############# \n",
      "\n"
     ]
    },
    {
     "name": "stderr",
     "output_type": "stream",
     "text": [
      "C:\\Users\\dof19\\AppData\\Local\\Temp/ipykernel_3628/1044944513.py:136: RuntimeWarning: Mean of empty slice\n",
      "  output['wasp_raw_mean'] = [np.nanmean(x) for x in WASP]\n",
      "c:\\users\\dof19\\appdata\\local\\programs\\python\\python38\\lib\\site-packages\\numpy\\lib\\nanfunctions.py:1559: RuntimeWarning: Mean of empty slice\n",
      "  return np.nanmean(a, axis, out=out, keepdims=keepdims)\n",
      "c:\\users\\dof19\\appdata\\local\\programs\\python\\python38\\lib\\site-packages\\numpy\\lib\\nanfunctions.py:1216: RuntimeWarning: Mean of empty slice\n",
      "  return np.nanmean(a, axis, out=out, keepdims=keepdims)\n",
      "c:\\users\\dof19\\appdata\\local\\programs\\python\\python38\\lib\\site-packages\\numpy\\lib\\nanfunctions.py:1559: RuntimeWarning: Mean of empty slice\n",
      "  return np.nanmean(a, axis, out=out, keepdims=keepdims)\n"
     ]
    },
    {
     "name": "stdout",
     "output_type": "stream",
     "text": [
      ">>>>> Analyzing the 'Overall' factors\n",
      "############# UK _ ssp370_ff _ 1 ############# \n",
      "\n"
     ]
    },
    {
     "name": "stderr",
     "output_type": "stream",
     "text": [
      "C:\\Users\\dof19\\AppData\\Local\\Temp/ipykernel_3628/1044944513.py:136: RuntimeWarning: Mean of empty slice\n",
      "  output['wasp_raw_mean'] = [np.nanmean(x) for x in WASP]\n",
      "c:\\users\\dof19\\appdata\\local\\programs\\python\\python38\\lib\\site-packages\\numpy\\lib\\nanfunctions.py:1559: RuntimeWarning: Mean of empty slice\n",
      "  return np.nanmean(a, axis, out=out, keepdims=keepdims)\n",
      "c:\\users\\dof19\\appdata\\local\\programs\\python\\python38\\lib\\site-packages\\numpy\\lib\\nanfunctions.py:1216: RuntimeWarning: Mean of empty slice\n",
      "  return np.nanmean(a, axis, out=out, keepdims=keepdims)\n",
      "c:\\users\\dof19\\appdata\\local\\programs\\python\\python38\\lib\\site-packages\\numpy\\lib\\nanfunctions.py:1559: RuntimeWarning: Mean of empty slice\n",
      "  return np.nanmean(a, axis, out=out, keepdims=keepdims)\n"
     ]
    },
    {
     "name": "stdout",
     "output_type": "stream",
     "text": [
      ">>>>> Analyzing the 'Overall' factors\n",
      "############# UK _ ssp585_nf _ 0 ############# \n",
      "\n"
     ]
    },
    {
     "name": "stderr",
     "output_type": "stream",
     "text": [
      "C:\\Users\\dof19\\AppData\\Local\\Temp/ipykernel_3628/1044944513.py:136: RuntimeWarning: Mean of empty slice\n",
      "  output['wasp_raw_mean'] = [np.nanmean(x) for x in WASP]\n",
      "c:\\users\\dof19\\appdata\\local\\programs\\python\\python38\\lib\\site-packages\\numpy\\lib\\nanfunctions.py:1559: RuntimeWarning: Mean of empty slice\n",
      "  return np.nanmean(a, axis, out=out, keepdims=keepdims)\n",
      "c:\\users\\dof19\\appdata\\local\\programs\\python\\python38\\lib\\site-packages\\numpy\\lib\\nanfunctions.py:1216: RuntimeWarning: Mean of empty slice\n",
      "  return np.nanmean(a, axis, out=out, keepdims=keepdims)\n",
      "c:\\users\\dof19\\appdata\\local\\programs\\python\\python38\\lib\\site-packages\\numpy\\lib\\nanfunctions.py:1559: RuntimeWarning: Mean of empty slice\n",
      "  return np.nanmean(a, axis, out=out, keepdims=keepdims)\n"
     ]
    },
    {
     "name": "stdout",
     "output_type": "stream",
     "text": [
      ">>>>> Analyzing the 'Overall' factors\n",
      "############# UK _ ssp585_ff _ 1 ############# \n",
      "\n"
     ]
    },
    {
     "name": "stderr",
     "output_type": "stream",
     "text": [
      "C:\\Users\\dof19\\AppData\\Local\\Temp/ipykernel_3628/1044944513.py:136: RuntimeWarning: Mean of empty slice\n",
      "  output['wasp_raw_mean'] = [np.nanmean(x) for x in WASP]\n",
      "c:\\users\\dof19\\appdata\\local\\programs\\python\\python38\\lib\\site-packages\\numpy\\lib\\nanfunctions.py:1559: RuntimeWarning: Mean of empty slice\n",
      "  return np.nanmean(a, axis, out=out, keepdims=keepdims)\n",
      "c:\\users\\dof19\\appdata\\local\\programs\\python\\python38\\lib\\site-packages\\numpy\\lib\\nanfunctions.py:1216: RuntimeWarning: Mean of empty slice\n",
      "  return np.nanmean(a, axis, out=out, keepdims=keepdims)\n",
      "c:\\users\\dof19\\appdata\\local\\programs\\python\\python38\\lib\\site-packages\\numpy\\lib\\nanfunctions.py:1559: RuntimeWarning: Mean of empty slice\n",
      "  return np.nanmean(a, axis, out=out, keepdims=keepdims)\n"
     ]
    },
    {
     "name": "stdout",
     "output_type": "stream",
     "text": [
      ">>>>> Analyzing the 'Overall' factors\n",
      "############# SK _ historic ############# \n",
      "\n",
      ">>>>> Analyzing the 'overall' factors\n",
      "############# SK _ ssp126_nf _ 0 ############# \n",
      "\n",
      ">>>>> Analyzing the 'Overall' factors\n",
      "############# SK _ ssp126_ff _ 1 ############# \n",
      "\n",
      ">>>>> Analyzing the 'Overall' factors\n",
      "############# SK _ ssp370_nf _ 0 ############# \n",
      "\n",
      ">>>>> Analyzing the 'Overall' factors\n",
      "############# SK _ ssp370_ff _ 1 ############# \n",
      "\n",
      ">>>>> Analyzing the 'Overall' factors\n",
      "############# SK _ ssp585_nf _ 0 ############# \n",
      "\n",
      ">>>>> Analyzing the 'Overall' factors\n",
      "############# SK _ ssp585_ff _ 1 ############# \n",
      "\n",
      ">>>>> Analyzing the 'Overall' factors\n",
      "############# SI _ historic ############# \n",
      "\n",
      ">>>>> Analyzing the 'overall' factors\n",
      "############# SI _ ssp126_nf _ 0 ############# \n",
      "\n",
      ">>>>> Analyzing the 'Overall' factors\n",
      "############# SI _ ssp126_ff _ 1 ############# \n",
      "\n"
     ]
    },
    {
     "name": "stderr",
     "output_type": "stream",
     "text": [
      "C:\\Users\\dof19\\AppData\\Local\\Temp/ipykernel_3628/1044944513.py:136: RuntimeWarning: Mean of empty slice\n",
      "  output['wasp_raw_mean'] = [np.nanmean(x) for x in WASP]\n",
      "c:\\users\\dof19\\appdata\\local\\programs\\python\\python38\\lib\\site-packages\\numpy\\lib\\nanfunctions.py:1559: RuntimeWarning: Mean of empty slice\n",
      "  return np.nanmean(a, axis, out=out, keepdims=keepdims)\n",
      "c:\\users\\dof19\\appdata\\local\\programs\\python\\python38\\lib\\site-packages\\numpy\\lib\\nanfunctions.py:1216: RuntimeWarning: Mean of empty slice\n",
      "  return np.nanmean(a, axis, out=out, keepdims=keepdims)\n",
      "c:\\users\\dof19\\appdata\\local\\programs\\python\\python38\\lib\\site-packages\\numpy\\lib\\nanfunctions.py:1559: RuntimeWarning: Mean of empty slice\n",
      "  return np.nanmean(a, axis, out=out, keepdims=keepdims)\n"
     ]
    },
    {
     "name": "stdout",
     "output_type": "stream",
     "text": [
      ">>>>> Analyzing the 'Overall' factors\n",
      "############# SI _ ssp370_nf _ 0 ############# \n",
      "\n",
      ">>>>> Analyzing the 'Overall' factors\n",
      "############# SI _ ssp370_ff _ 1 ############# \n",
      "\n",
      ">>>>> Analyzing the 'Overall' factors\n",
      "############# SI _ ssp585_nf _ 0 ############# \n",
      "\n",
      ">>>>> Analyzing the 'Overall' factors\n",
      "############# SI _ ssp585_ff _ 1 ############# \n",
      "\n"
     ]
    },
    {
     "name": "stderr",
     "output_type": "stream",
     "text": [
      "C:\\Users\\dof19\\AppData\\Local\\Temp/ipykernel_3628/1044944513.py:136: RuntimeWarning: Mean of empty slice\n",
      "  output['wasp_raw_mean'] = [np.nanmean(x) for x in WASP]\n",
      "c:\\users\\dof19\\appdata\\local\\programs\\python\\python38\\lib\\site-packages\\numpy\\lib\\nanfunctions.py:1559: RuntimeWarning: Mean of empty slice\n",
      "  return np.nanmean(a, axis, out=out, keepdims=keepdims)\n",
      "c:\\users\\dof19\\appdata\\local\\programs\\python\\python38\\lib\\site-packages\\numpy\\lib\\nanfunctions.py:1216: RuntimeWarning: Mean of empty slice\n",
      "  return np.nanmean(a, axis, out=out, keepdims=keepdims)\n",
      "c:\\users\\dof19\\appdata\\local\\programs\\python\\python38\\lib\\site-packages\\numpy\\lib\\nanfunctions.py:1559: RuntimeWarning: Mean of empty slice\n",
      "  return np.nanmean(a, axis, out=out, keepdims=keepdims)\n"
     ]
    },
    {
     "name": "stdout",
     "output_type": "stream",
     "text": [
      ">>>>> Analyzing the 'Overall' factors\n"
     ]
    }
   ],
   "source": [
    "\n",
    "# only one region/missing data: CY, MT, ME, LU, LI\n",
    "# generated: EL, LV, IS, 'HR', 'DE', 'BG', 'AT', 'AL', 'BE', 'ES', 'CH', 'CZ', 'FR', 'FI',\n",
    "    # 'EE', 'DK', 'HU', 'NL', 'NO', 'LT', 'MK', 'IT', 'TR', 'PL','RO', 'SE', 'RS', 'PT', 'IE', 'UK',\n",
    "    # 'SK', 'SI'\n",
    "\n",
    "    # EL, 'LV', 'IS', 'HR', 'DE', 'BG', 'AT', 'AL', 'BE', 'ES', 'CH', 'CZ', 'FR', 'FI',\\\n",
    "    #'EE', 'DK', 'HU', 'NL', 'NO', 'LT', 'MK', 'IT', 'TR', 'PL','RO', 'SE', 'RS', 'PT', 'IE', 'UK',\\\n",
    "    #'SK', 'SI'\n",
    "for ccode in [ 'EL', 'LV', 'IS', 'HR', 'DE', 'BG', 'AT', 'AL', 'BE', 'ES', 'CH', 'CZ', 'FR', 'FI',\\\n",
    "             'EE', 'DK', 'HU', 'NL', 'NO', 'LT', 'MK', 'IT', 'TR', 'PL','RO', 'SE', 'RS', 'PT', 'IE', 'UK',\\\n",
    "             'SK', 'SI']:\n",
    "\n",
    "    \n",
    "    # validate country selection and subset regions\n",
    "    if not nuts_['CNTR_CODE'].str.contains(ccode).any:\n",
    "        print(\"Country code: \", ccode, \" is not valid; please choose a valid country code.\")\n",
    "    else:\n",
    "        nuts = nuts_.query('CNTR_CODE in @ccode')\n",
    "    \n",
    "    #print(nuts)\n",
    "    loud_ = False\n",
    "    for scn in range(4):\n",
    "        if scn > 0:\n",
    "            \n",
    "            for time in range(2):\n",
    "                pattern_h = ['ssp126', 'ssp370', 'ssp585'][scn - 1]\n",
    "                pattern = ['ssp126', 'ssp370', 'ssp585'][scn - 1] + '_' + ['nf', 'ff'][time]\n",
    "                print(\"#############\", ccode, \"_\", pattern, \"_\", time, \"#############\", \"\\n\")\n",
    "                saveResults(nuts = nuts, pattern = pattern, pattern_h = pattern_h, t_m = tm, t_a = ta,\\\n",
    "                            pth = pth, pth_h = pth_h, loud = loud_)\n",
    "        else:\n",
    "            pattern = \"historic\"\n",
    "            pattern_h = \"historic\"\n",
    "            print(\"#############\", ccode, \"_\", pattern, \"#############\", \"\\n\")\n",
    "            tm, ta = saveResults(nuts = nuts, pattern = pattern, pattern_h = pattern_h,\\\n",
    "                                 t_m = 0, t_a = 0, pth = pth, pth_h = pth_h, loud = loud_)\n",
    "           \n",
    "        "
   ]
  },
  {
   "cell_type": "markdown",
   "id": "58a12200-0053-4e52-945e-844b6ad72543",
   "metadata": {},
   "source": [
    "## Contributors\n",
    "The workflow has been developed by [Silvia Artuso](https://iiasa.ac.at/staff/silvia-artuso) and [Dor Fridman](https://iiasa.ac.at/staff/dor-fridman) from [IIASA's Water Security Research Group](https://iiasa.ac.at/programs/biodiversity-and-natural-resources-bnr/water-security), and supported by [Michaela Bachmann](https://iiasa.ac.at/staff/michaela-bachmann) from [IIASA's Systemic Risk and Reslience Research Group](https://iiasa.ac.at/programs/advancing-systems-analysis-asa/systemic-risk-and-resilience)."
   ]
  },
  {
   "cell_type": "markdown",
   "id": "9772f1a6",
   "metadata": {},
   "source": [
    "## References\n",
    "\n",
    "[1] Zargar, A., Sadiq, R., Naser, B., & Khan, F. I. (2011). A review of drought indices. *Environmental Reviews*, 19: 333-349.\n",
    "\n",
    "[2] Carrão, H., Naumann, G., & Barbosa, P. (2016). Mapping global patterns of drought risk: An empirical framework based on sub-national estimates of hazard, exposure and vulnerability. *Global Environmental Change*, 39, 108-124.\n",
    "\n",
    "[3] Lyon, B., & Barnston, A. G. (2005). ENSO and the spatial extent of interannual precipitation extremes in tropical land areas. *Journal of climate*, 18(23), 5095-5109.\n",
    "\n",
    "[4] Carrão, H., Singleton, A., Naumann, G., Barbosa, P., & Vogt, J. V. (2014). An optimized system for the classification of meteorological drought intensity with applications in drought frequency analysis. *Journal of Applied Meteorology and Climatology*, 53(8), 1943-1960.\n",
    "\n",
    "[5] Sherman, H. D., & Zhu, J. (2006). Service productivity management: Improving service performance using data envelopment analysis (DEA). Springer science & business media.\n",
    "\n",
    "[6] Carrão, H., Naumann, G. & Barbosa, P. (2018). Global projections of drought hazard in a warming climate: a prime for disaster risk management. *Clim Dyn* 50: 2137–2155.\n"
   ]
  }
 ],
 "metadata": {
  "kernelspec": {
   "display_name": "Python 3 (ipykernel)",
   "language": "python",
   "name": "python3"
  },
  "language_info": {
   "codemirror_mode": {
    "name": "ipython",
    "version": 3
   },
   "file_extension": ".py",
   "mimetype": "text/x-python",
   "name": "python",
   "nbconvert_exporter": "python",
   "pygments_lexer": "ipython3",
   "version": "3.8.10"
  }
 },
 "nbformat": 4,
 "nbformat_minor": 5
}
