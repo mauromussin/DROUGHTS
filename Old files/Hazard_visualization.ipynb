{
 "cells": [
  {
   "cell_type": "markdown",
   "id": "4a61404c",
   "metadata": {
    "tags": []
   },
   "source": [
    "# Advanced droughts workflow\n",
    "\n",
    "Click [![Binder](https://mybinder.org/badge_logo.svg)](https://mybinder.org/v2/gh/CLIMAAX/DROUGHTS/main?labpath=DROUGHTS_notebook_1.ipynb) to launch this workflow on MyBinder. "
   ]
  },
  {
   "cell_type": "markdown",
   "id": "5f76860f",
   "metadata": {},
   "source": [
    "# About droughts and droughts' risks"
   ]
  },
  {
   "cell_type": "markdown",
   "id": "6c2b5d20",
   "metadata": {},
   "source": [
    "## What is a drought?\n",
    "\n",
    "Simply stated, drought is ‘the extreme persistence of precipitation deficit over a specific region for a specific period of time’ $^1$. Droughts are often classified into three main types different by their severity, impacts, and time scales:\n",
    "\n",
    "1. <ins>Meteorological drought</ins> is often caused by short-term precipitation deficiency and its impacts highly depend on its timing. For example, lack of rain during the sprouting phase in rain-fed agriculture could lead to crop failure. \n",
    "2. <ins>Agricultural drought</ins> is a medium-term phenomenon, characterized by reduced soil moisture content and is caused by a prolonged period of meterological drought. \n",
    "3. On the long-term, <ins>hydrological drought</ins> is characterized by lower stream flow, reduced water level in water bodies, and may affect groundwater storage. \n",
    "\n",
    "The cascade between drought types is goverened by the severity (i.e., magnitude), duration, and spatio-temporal distribution of drought events.\n",
    "\n",
    "## What is drought risk?\n",
    "\n",
    "Drought risk is a measure for quantifying the likelyhood of a meaningfull impact from drought-event(s)\n",
    "on human population, its economic activity and assets, and the environment. The risk for an impact depends on the <ins>drought hazard</ins>, <ins>exposure</ins>, and the <ins>vulnerability</ins> to droughts. <ins>Hazard</ins> measures the magnitude, duration, and timing of drougt events. <ins>Exposure</ins> to droughts represent the spatial distribution of drought relative to distribution of potentially impactful systems, e.g., location of cultivated land, wetlands, etc. Finally, <ins>vulnerability</ins> stands for the level of impact expected for a given system during a given event, and is affected by the systems' intrinsic attributes. For example, fields with drought-resistent crops varities would be less vulnerable to droughts.\n"
   ]
  },
  {
   "cell_type": "markdown",
   "id": "2096c862-1b27-4fcf-bfd2-d85c5d3e3b22",
   "metadata": {
    "tags": [],
    "user_expressions": []
   },
   "source": [
    "## How do we assess drought risk?\n",
    "\n",
    "There are many different metrics to assess drought risk, which account for at least one of the risk factors: hazard, exposure and vulnerability.\n",
    "\n",
    "This workflow quantifies drought risk as the product of drought hazard, exposure and vulnerability. The methodology used here was developed and applied globally by Carrão et al. (2016) $^2$. The result of this workflow is a risk map showing the relative drought risk of different spatial units (i.e., subnational administrative regions) from a larger region (i.e., the European Union). Regional drought risk scores are on a scale of 0 to 1, with 0 representing the lowest risk and 1 the highest. The workflows takes each risk determinant (i.e. hazard, exposure and vulnerability) and normalised it taking into account its maximum and minimum values across all sub-national administrative regions. Thus, the results of this drought risk workflow are relative to the sample of geographic regions used for normalisation. The proposed risk scale is not a measure of absolute losses or actual damage, but a relative comparison of drought risk between the input regions. Therefore, the resulting data and mapping can help users to assess in which sub-administrative units within a jurisdictions the drought risk is or will be higher, allowing for better resouce allocation and better coordination within and between different levels of government.\n",
    "\n",
    "Below is a description of the data and tools used to calculate drought hazard, exposure and vulnerability, both for the historic period and for future scenarios, and the outputs of this workflow. \n",
    "\n",
    "For the future scenarios, we decided to follow the SSP-RCPs combinations as in the IPCC 6th assessment report (https://www.ipcc.ch/assessment-report/ar6/).\n",
    "\n",
    "More expert users can find a more detailed and technical explanation on how hazard, exposure and vulnerability are quantified in the colored text boxes. \n",
    "\n",
    "\n",
    "## Datasets (historic and future projections)\n",
    "\n",
    "In this workflow the following data is used:\n",
    "\n",
    "\n",
    "#### Spatial units: \n",
    "\n",
    "We used GeoJSON maps of NUTS2 and NUTS3 regions to define the selected spacial units, which can be downloaded at this link https://gisco-services.ec.europa.eu/distribution/v2/nuts/geojson/\n",
    "\n",
    "\n",
    "### Hazard data and methods:\n",
    "\n",
    "Drought hazard (dH) for a given region is estimated as the probability of exceedance the median of regional (e.g., EU level) severe precipitation deficits for an historical reference period (e.g. 1979-2019) or for a future projection period (e.g. 2015-2100).\n",
    "\n",
    "For estimating drought hazard, this workflows requires monthly total precipitation for each NUTS2 or NUTS3 region during the historical reference period or future projection period. Usually, these are observation-based or simulated time-series of gridded precipitation data. In the historic workflow, we used GSWP3 and W5E5 global meteorological forcing data processed for ISIMIP3a, sets on a 0.5°x0.5°C global grid and at daily time steps for the historical period of 1979-2019 (https://doi.org/10.48364/ISIMIP.982724.2). For the future projections, we used the ISIMIP3b bias-adjusted atmospheric climate input data, available for 5 CMIP6 global climate models (GFDL-ESM4, IPSL-CM6A-LR, MPI-ESM1-2-HR, MRI-ESM2-0, UKESM1-0-LL), and three SSP-RCPs combinations (SSP126, SSP370, SSP585) (https://doi.org/10.48364/ISIMIP.842396.1). There is no minimum requirement for the length of the precipitation record in this workflow, but as individual drought events can last for months or even years, we recommend that at least several decades are included.\n",
    "\n",
    "Processing these data is performed by applying Geographic Information System (GIS) techniques, to extract an aggregated value (e.g., total precipitation) of the data points located within each area of interest (e.g., NUTS2 region). Zonal statistics is widely used for that purpose, and it was the method used in our data processing.\n",
    "\n",
    "Point, observation-based datasets are an alternative data source, usually collected by meteorological station networks. One can choose the data collected in one or more (e.g., average) representative station per area of interest to construct a NUTS2 level dataset. \n",
    "\n",
    "Our workflow expects a table where each row represents the total precipitation in mm for a month/year combination, and each column represents an area of interest (e.g. NUTS2 region). The first column contains the date in this format YYYY-MM-DD. The **title of the first columns has to be 'timing' and the rest of the titles have to be the codes of the areas of interest (e.g. NUTS2), which have to be identical to the codes as they appear in the NUTS2 or NUTS3 spatial data from the [European Commission](https://ec.europa.eu/eurostat/en/web/nuts/background)**.\n",
    "\n",
    "A pre-processed table with precipitation data for European countries at NUTS3 level is already provided, which can be fed directly into the workflow (see sample_data folder).\n",
    "\n",
    "Precipitation data are then analysed by calculating precipitation deficit events for each region and measuring their severity using the weighted anomaly of standardised precipitation (WASP) index. The result is a list of drought events and their severity for each selected region (e.g. NUTS3 regions) for the reference period, which is then compared with the median of severe precipitation deficits for the same period for all regions considered (e.g. EU level) to calculate the probability (dH) of each region being affected by a drought event (i.e. exceeding the EU median of severe precipitation deficits). For more details on the how the WASP index is calculated see the colored box below.\n",
    "\n",
    "<div class=\"alert alert-block alert-warning\">\n",
    "<b>Quantifying drought hazard</b> \n",
    "Drought hazard (dH) for a given region is estimated as the probability of exceedance the median of regional (e.g., EU level) severe precipitation deficits for an specified time reference period (historic or future).\n",
    "\n",
    "A severe precipitation deficity is calculated using the weighted anomaly of standardized precipitation (WASP) index. This index accounts for precipitation seasonal patterns and is computed by summing weighted and standardized monthly precipitation anomalies $^3$.\n",
    "\n",
    "We use the weighted anomaly of standardized precipitation (WASP) index to define the severity of precipitation deficit. The WASP-index takes into account the annual seasonality of precipitation cycle and is computed by summing weighted standardized monthly precipitation anomalies (see Eq. 1). Where $P_{n,m}$ is each region's monthly precipitation, $T_m$ is a monthly treshold defining precipitation severity, and $T_A$ is an annual threshold for precipitation severity. The thresholds are defined by dividing multi-annual monthly observed rain using the 'Fisher-jenks' classigication algorithm $^4$. \n",
    "\n",
    "Eq. 1: $$WASP_j = \\Sigma_{P_{n,m} < T_m}^{P_{n,m} >= T_m}( \\frac{P_{n,m} - T_m}{T_m})*\\frac{T_m}{T_A}$$\n",
    "</div>"
   ]
  },
  {
   "cell_type": "markdown",
   "id": "ce4ea887-31e9-4663-8790-74189e64ac61",
   "metadata": {
    "toc-hr-collapsed": true
   },
   "source": [
    "# Workflow implementation"
   ]
  },
  {
   "cell_type": "markdown",
   "id": "5c7f97fe-2578-4ce9-b4c7-1fe40214f045",
   "metadata": {
    "tags": []
   },
   "source": [
    "### Load libraries\n",
    "\n",
    "In this notebook we will use the following Python libraries:\n",
    "- [os](https://docs.python.org/3/library/os.html) - To create directories and work with files\n",
    "- [urllib](https://docs.python.org/3/library/urllib.html) - To access to online resources\n",
    "- [pandas](https://pandas.pydata.org/docs/user_guide/index.html) - To create and manage data frames (tables) in Python\n",
    "- [geopandas](https://geopandas.org/en/stable/docs.html) - Extend pandas to store and manipulate spatial data\n",
    "- [numpy](https://numpy.org/doc/stable/) - For basic math tools and operations\n",
    "- [scipy](https://scipy.org/) - Provide advanced mathematical tools and optimization capacities \n",
    "- [jenkspy](https://github.com/mthh/jenkspy) - To apply Fisher-Jenks alogrithm \n",
    "- [json](https://docs.python.org/3/library/json.html) - To load, store and manipuilate JSON objects\n",
    "- [pyproj](https://pyproj4.github.io/pyproj/stable/) - An interface to a geographic projections and transformations library\n",
    "- [matplotlib](https://matplotlib.org/) - For plotting\n",
    "- [plotly](https://plotly.com/python/) - For dynamic and interactive plotting\n",
    "- [datetime](https://docs.python.org/3/library/datetime.html) - For handling dates in Python"
   ]
  },
  {
   "cell_type": "code",
   "execution_count": 101,
   "id": "79e25ef6-9a3b-4d42-a2b5-d787c2b70878",
   "metadata": {},
   "outputs": [],
   "source": [
    "# lOAD LIBRARIES\n",
    "import os\n",
    "import urllib\n",
    "os.environ['USE_PYGEOS'] = '0'\n",
    "import pandas as pd\n",
    "import geopandas as gpd\n",
    "import numpy as np\n",
    "import scipy\n",
    "import jenkspy\n",
    "import json\n",
    "import pyproj\n",
    "import plotly.express as px\n",
    "import matplotlib.pyplot as plt\n",
    "from datetime import datetime\n",
    "\n",
    "# READ SCRIPTS\n",
    "# adapted from https://github.com/metjush/envelopment-py/tree/master used for DEA \n",
    "from envelopmentpy.envelopment import *\n",
    "\n",
    "# Function for calculating drought hazard indices\n",
    "%run DROUGHTS_functions.ipynb\n"
   ]
  },
  {
   "cell_type": "markdown",
   "id": "3e2d1b5f",
   "metadata": {},
   "source": [
    "### Define working environment and global parameters\n",
    "This workflow relies on pre-proceessed data. The user will define the path to the data folder and the code below would create a folder for outputs.\n"
   ]
  },
  {
   "cell_type": "code",
   "execution_count": 102,
   "id": "3674cd8c",
   "metadata": {},
   "outputs": [],
   "source": [
    "# Set working environment\n",
    "\n",
    "workflow_folder = './sample_data_nuts3/outputs_hazards/'\n"
   ]
  },
  {
   "cell_type": "markdown",
   "id": "596333c5",
   "metadata": {},
   "source": [
    "## Choose country code:"
   ]
  },
  {
   "cell_type": "code",
   "execution_count": 103,
   "id": "6e6a5dec",
   "metadata": {},
   "outputs": [],
   "source": [
    "ccode = \"ES\""
   ]
  },
  {
   "cell_type": "markdown",
   "id": "86c39f1f-4d6c-4dd4-a9d8-76a2402f5056",
   "metadata": {},
   "source": [
    "## Load data:"
   ]
  },
  {
   "cell_type": "code",
   "execution_count": 104,
   "id": "a9b0b618-9baa-45b3-9f4a-4fb07ad98ffe",
   "metadata": {},
   "outputs": [],
   "source": [
    "# Load the CSV files into a DataFrame\n",
    "data = ['historic',  'ssp126_nf', 'ssp126_ff',  'ssp370_nf', 'ssp370_ff', 'ssp585_nf', 'ssp585_ff']\n",
    "# ,'ssp126_nf', 'ssp370_nf', 'ssp370_ff', 'ssp585_nf', 'ssp585_ff'\n",
    "count = 0\n",
    "\n",
    "for d in data:\n",
    "    df = pd.read_csv(os.path.join(workflow_folder,  f\"droughthazard_{ccode}_{d}.csv\"))\n",
    "    # Print the first 5 rows of the DataFrame\n",
    "    df['data']=f\"{d}\" #create a new column with the data specification\n",
    "    if count == 0:\n",
    "        df_ = df\n",
    "        count = 1\n",
    "    else:\n",
    "        df_ = pd.concat([df_, df], axis=0) #concatenate the  data in a single dataframe"
   ]
  },
  {
   "cell_type": "markdown",
   "id": "07fdef30",
   "metadata": {},
   "source": [
    "## Hazard visualization"
   ]
  },
  {
   "cell_type": "code",
   "execution_count": 111,
   "id": "74fe3992-2bf7-449c-8989-67fe1fbaa5d8",
   "metadata": {},
   "outputs": [],
   "source": [
    "#change WASP values in absolute values\n",
    "df_['wasp_raw_mean'] = abs(df_['wasp_raw_mean'])\n",
    "df_['wasp_raw_median']= abs(df_['wasp_raw_median'])\n",
    "df_['wasp_raw_q75']= abs(df_['wasp_raw_q75'])\n",
    "df_['wasp_raw_q25']= abs(df_['wasp_raw_q25'])"
   ]
  },
  {
   "cell_type": "code",
   "execution_count": 190,
   "id": "b6b6ec22-939e-499a-a497-f7749a97c495",
   "metadata": {},
   "outputs": [
    {
     "name": "stdout",
     "output_type": "stream",
     "text": [
      "List of nuts2:  ['ES51' 'ES53' 'ES43' 'ES52' 'ES61' 'ES42' 'ES24' 'ES12' 'ES41' 'ES11'\n",
      " 'ES30' 'ES22' 'ES21' 'ES62' 'ES13' 'ES23']\n",
      "None\n"
     ]
    }
   ],
   "source": [
    "#create a group column for the NUTS2 regions\n",
    "df_['NUTS2'] = df_['NUTS_ID'].str.slice(0,4)\n",
    "\n",
    "# choose NUTS2 region:\n",
    "print (print(\"List of nuts2: \", df_['NUTS2'].unique()))\n",
    "\n",
    "focal = 'ES51'"
   ]
  },
  {
   "cell_type": "code",
   "execution_count": 259,
   "id": "57a7b29c-7d13-4c6e-9612-418446638cf2",
   "metadata": {},
   "outputs": [
    {
     "name": "stdout",
     "output_type": "stream",
     "text": [
      "\n",
      "\n",
      "Scatter plot of WASP values at NUTS3 level for a focal NUTS2. The blue point represent the wasp median, the upper and lower bounds of the lines represent the 25% and 75% quartiles.\n",
      "The red point represent the wasp mean.\n"
     ]
    },
    {
     "data": {
      "application/vnd.plotly.v1+json": {
       "config": {
        "plotlyServerURL": "https://plot.ly"
       },
       "data": [
        {
         "error_y": {
          "array": [
           0.1632743252388608
          ],
          "arrayminus": [
           0.0395291271958093
          ]
         },
         "hovertemplate": "NUTS_ID=%{x}<br>data=historic<br>wasp_raw_median=%{y}<extra></extra>",
         "legendgroup": "ES512",
         "marker": {
          "color": "#636efa",
          "symbol": "circle"
         },
         "mode": "markers",
         "name": "ES512",
         "orientation": "v",
         "showlegend": true,
         "type": "scatter",
         "x": [
          "ES512"
         ],
         "xaxis": "x7",
         "y": [
          0.075146056850072
         ],
         "yaxis": "y7"
        },
        {
         "error_y": {
          "array": [
           0.0540739112564306
          ],
          "arrayminus": [
           0.012618973428517
          ]
         },
         "hovertemplate": "NUTS_ID=%{x}<br>data=ssp126_nf<br>wasp_raw_median=%{y}<extra></extra>",
         "legendgroup": "ES512",
         "marker": {
          "color": "#636efa",
          "symbol": "circle"
         },
         "mode": "markers",
         "name": "ES512",
         "orientation": "v",
         "showlegend": false,
         "type": "scatter",
         "x": [
          "ES512"
         ],
         "xaxis": "x6",
         "y": [
          0.0277746482301328
         ],
         "yaxis": "y6"
        },
        {
         "error_y": {
          "array": [
           0.065979980852523
          ],
          "arrayminus": [
           0.017442226695004
          ]
         },
         "hovertemplate": "NUTS_ID=%{x}<br>data=ssp126_ff<br>wasp_raw_median=%{y}<extra></extra>",
         "legendgroup": "ES512",
         "marker": {
          "color": "#636efa",
          "symbol": "circle"
         },
         "mode": "markers",
         "name": "ES512",
         "orientation": "v",
         "showlegend": false,
         "type": "scatter",
         "x": [
          "ES512"
         ],
         "xaxis": "x5",
         "y": [
          0.0275037561723283
         ],
         "yaxis": "y5"
        },
        {
         "error_y": {
          "array": [
           0.0597695181402681
          ],
          "arrayminus": [
           0.0163307898946602
          ]
         },
         "hovertemplate": "NUTS_ID=%{x}<br>data=ssp370_nf<br>wasp_raw_median=%{y}<extra></extra>",
         "legendgroup": "ES512",
         "marker": {
          "color": "#636efa",
          "symbol": "circle"
         },
         "mode": "markers",
         "name": "ES512",
         "orientation": "v",
         "showlegend": false,
         "type": "scatter",
         "x": [
          "ES512"
         ],
         "xaxis": "x4",
         "y": [
          0.0276305179084724
         ],
         "yaxis": "y4"
        },
        {
         "error_y": {
          "array": [
           0.0514974628322617
          ],
          "arrayminus": [
           0.0104456758319127
          ]
         },
         "hovertemplate": "NUTS_ID=%{x}<br>data=ssp370_ff<br>wasp_raw_median=%{y}<extra></extra>",
         "legendgroup": "ES512",
         "marker": {
          "color": "#636efa",
          "symbol": "circle"
         },
         "mode": "markers",
         "name": "ES512",
         "orientation": "v",
         "showlegend": false,
         "type": "scatter",
         "x": [
          "ES512"
         ],
         "xaxis": "x3",
         "y": [
          0.0253898573358169
         ],
         "yaxis": "y3"
        },
        {
         "error_y": {
          "array": [
           0.0559212660757065
          ],
          "arrayminus": [
           0.0157659452268209
          ]
         },
         "hovertemplate": "NUTS_ID=%{x}<br>data=ssp585_nf<br>wasp_raw_median=%{y}<extra></extra>",
         "legendgroup": "ES512",
         "marker": {
          "color": "#636efa",
          "symbol": "circle"
         },
         "mode": "markers",
         "name": "ES512",
         "orientation": "v",
         "showlegend": false,
         "type": "scatter",
         "x": [
          "ES512"
         ],
         "xaxis": "x2",
         "y": [
          0.0347975119026894
         ],
         "yaxis": "y2"
        },
        {
         "error_y": {
          "array": [
           0.0718581934744474
          ],
          "arrayminus": [
           0.0146580966683764
          ]
         },
         "hovertemplate": "NUTS_ID=%{x}<br>data=ssp585_ff<br>wasp_raw_median=%{y}<extra></extra>",
         "legendgroup": "ES512",
         "marker": {
          "color": "#636efa",
          "symbol": "circle"
         },
         "mode": "markers",
         "name": "ES512",
         "orientation": "v",
         "showlegend": false,
         "type": "scatter",
         "x": [
          "ES512"
         ],
         "xaxis": "x",
         "y": [
          0.0275628675572979
         ],
         "yaxis": "y"
        },
        {
         "error_y": {
          "array": [
           0.1387584962370368
          ],
          "arrayminus": [
           0.0344609053335354
          ]
         },
         "hovertemplate": "NUTS_ID=%{x}<br>data=historic<br>wasp_raw_median=%{y}<extra></extra>",
         "legendgroup": "ES511",
         "marker": {
          "color": "#EF553B",
          "symbol": "circle"
         },
         "mode": "markers",
         "name": "ES511",
         "orientation": "v",
         "showlegend": true,
         "type": "scatter",
         "x": [
          "ES511"
         ],
         "xaxis": "x7",
         "y": [
          0.0664285604931089
         ],
         "yaxis": "y7"
        },
        {
         "error_y": {
          "array": [
           0.0567866006088318
          ],
          "arrayminus": [
           0.010841513740547
          ]
         },
         "hovertemplate": "NUTS_ID=%{x}<br>data=ssp126_nf<br>wasp_raw_median=%{y}<extra></extra>",
         "legendgroup": "ES511",
         "marker": {
          "color": "#EF553B",
          "symbol": "circle"
         },
         "mode": "markers",
         "name": "ES511",
         "orientation": "v",
         "showlegend": false,
         "type": "scatter",
         "x": [
          "ES511"
         ],
         "xaxis": "x6",
         "y": [
          0.0297994939040356
         ],
         "yaxis": "y6"
        },
        {
         "error_y": {
          "array": [
           0.0574199608642921
          ],
          "arrayminus": [
           0.0123551939657209
          ]
         },
         "hovertemplate": "NUTS_ID=%{x}<br>data=ssp126_ff<br>wasp_raw_median=%{y}<extra></extra>",
         "legendgroup": "ES511",
         "marker": {
          "color": "#EF553B",
          "symbol": "circle"
         },
         "mode": "markers",
         "name": "ES511",
         "orientation": "v",
         "showlegend": false,
         "type": "scatter",
         "x": [
          "ES511"
         ],
         "xaxis": "x5",
         "y": [
          0.0251387392544775
         ],
         "yaxis": "y5"
        },
        {
         "error_y": {
          "array": [
           0.0627804255697935
          ],
          "arrayminus": [
           0.0111466558713474
          ]
         },
         "hovertemplate": "NUTS_ID=%{x}<br>data=ssp370_nf<br>wasp_raw_median=%{y}<extra></extra>",
         "legendgroup": "ES511",
         "marker": {
          "color": "#EF553B",
          "symbol": "circle"
         },
         "mode": "markers",
         "name": "ES511",
         "orientation": "v",
         "showlegend": false,
         "type": "scatter",
         "x": [
          "ES511"
         ],
         "xaxis": "x4",
         "y": [
          0.0269180620410472
         ],
         "yaxis": "y4"
        },
        {
         "error_y": {
          "array": [
           0.0559090399748793
          ],
          "arrayminus": [
           0.0132931970455731
          ]
         },
         "hovertemplate": "NUTS_ID=%{x}<br>data=ssp370_ff<br>wasp_raw_median=%{y}<extra></extra>",
         "legendgroup": "ES511",
         "marker": {
          "color": "#EF553B",
          "symbol": "circle"
         },
         "mode": "markers",
         "name": "ES511",
         "orientation": "v",
         "showlegend": false,
         "type": "scatter",
         "x": [
          "ES511"
         ],
         "xaxis": "x3",
         "y": [
          0.0268377060466406
         ],
         "yaxis": "y3"
        },
        {
         "error_y": {
          "array": [
           0.0560779097450416
          ],
          "arrayminus": [
           0.0142946324073983
          ]
         },
         "hovertemplate": "NUTS_ID=%{x}<br>data=ssp585_nf<br>wasp_raw_median=%{y}<extra></extra>",
         "legendgroup": "ES511",
         "marker": {
          "color": "#EF553B",
          "symbol": "circle"
         },
         "mode": "markers",
         "name": "ES511",
         "orientation": "v",
         "showlegend": false,
         "type": "scatter",
         "x": [
          "ES511"
         ],
         "xaxis": "x2",
         "y": [
          0.0298205511007256
         ],
         "yaxis": "y2"
        },
        {
         "error_y": {
          "array": [
           0.0688450777413125
          ],
          "arrayminus": [
           0.0100472563436954
          ]
         },
         "hovertemplate": "NUTS_ID=%{x}<br>data=ssp585_ff<br>wasp_raw_median=%{y}<extra></extra>",
         "legendgroup": "ES511",
         "marker": {
          "color": "#EF553B",
          "symbol": "circle"
         },
         "mode": "markers",
         "name": "ES511",
         "orientation": "v",
         "showlegend": false,
         "type": "scatter",
         "x": [
          "ES511"
         ],
         "xaxis": "x",
         "y": [
          0.0239686765852562
         ],
         "yaxis": "y"
        },
        {
         "error_y": {
          "array": [
           0.1312685092679312
          ],
          "arrayminus": [
           0.039979181839214
          ]
         },
         "hovertemplate": "NUTS_ID=%{x}<br>data=historic<br>wasp_raw_median=%{y}<extra></extra>",
         "legendgroup": "ES514",
         "marker": {
          "color": "#00cc96",
          "symbol": "circle"
         },
         "mode": "markers",
         "name": "ES514",
         "orientation": "v",
         "showlegend": true,
         "type": "scatter",
         "x": [
          "ES514"
         ],
         "xaxis": "x7",
         "y": [
          0.0802959102375361
         ],
         "yaxis": "y7"
        },
        {
         "error_y": {
          "array": [
           0.0446121743002286
          ],
          "arrayminus": [
           0.0116930176627157
          ]
         },
         "hovertemplate": "NUTS_ID=%{x}<br>data=ssp126_nf<br>wasp_raw_median=%{y}<extra></extra>",
         "legendgroup": "ES514",
         "marker": {
          "color": "#00cc96",
          "symbol": "circle"
         },
         "mode": "markers",
         "name": "ES514",
         "orientation": "v",
         "showlegend": false,
         "type": "scatter",
         "x": [
          "ES514"
         ],
         "xaxis": "x6",
         "y": [
          0.0265770714206141
         ],
         "yaxis": "y6"
        },
        {
         "error_y": {
          "array": [
           0.041465858866485
          ],
          "arrayminus": [
           0.0087494595668779
          ]
         },
         "hovertemplate": "NUTS_ID=%{x}<br>data=ssp126_ff<br>wasp_raw_median=%{y}<extra></extra>",
         "legendgroup": "ES514",
         "marker": {
          "color": "#00cc96",
          "symbol": "circle"
         },
         "mode": "markers",
         "name": "ES514",
         "orientation": "v",
         "showlegend": false,
         "type": "scatter",
         "x": [
          "ES514"
         ],
         "xaxis": "x5",
         "y": [
          0.0220370624812702
         ],
         "yaxis": "y5"
        },
        {
         "error_y": {
          "array": [
           0.0476507180471588
          ],
          "arrayminus": [
           0.0108556413590255
          ]
         },
         "hovertemplate": "NUTS_ID=%{x}<br>data=ssp370_nf<br>wasp_raw_median=%{y}<extra></extra>",
         "legendgroup": "ES514",
         "marker": {
          "color": "#00cc96",
          "symbol": "circle"
         },
         "mode": "markers",
         "name": "ES514",
         "orientation": "v",
         "showlegend": false,
         "type": "scatter",
         "x": [
          "ES514"
         ],
         "xaxis": "x4",
         "y": [
          0.0270379387966113
         ],
         "yaxis": "y4"
        },
        {
         "error_y": {
          "array": [
           0.0480573536181649
          ],
          "arrayminus": [
           0.0091916713136074
          ]
         },
         "hovertemplate": "NUTS_ID=%{x}<br>data=ssp370_ff<br>wasp_raw_median=%{y}<extra></extra>",
         "legendgroup": "ES514",
         "marker": {
          "color": "#00cc96",
          "symbol": "circle"
         },
         "mode": "markers",
         "name": "ES514",
         "orientation": "v",
         "showlegend": false,
         "type": "scatter",
         "x": [
          "ES514"
         ],
         "xaxis": "x3",
         "y": [
          0.0249618248861507
         ],
         "yaxis": "y3"
        },
        {
         "error_y": {
          "array": [
           0.0431281417180019
          ],
          "arrayminus": [
           0.0139189632777045
          ]
         },
         "hovertemplate": "NUTS_ID=%{x}<br>data=ssp585_nf<br>wasp_raw_median=%{y}<extra></extra>",
         "legendgroup": "ES514",
         "marker": {
          "color": "#00cc96",
          "symbol": "circle"
         },
         "mode": "markers",
         "name": "ES514",
         "orientation": "v",
         "showlegend": false,
         "type": "scatter",
         "x": [
          "ES514"
         ],
         "xaxis": "x2",
         "y": [
          0.0237430988117289
         ],
         "yaxis": "y2"
        },
        {
         "error_y": {
          "array": [
           0.0472057475779916
          ],
          "arrayminus": [
           0.0155223442040025
          ]
         },
         "hovertemplate": "NUTS_ID=%{x}<br>data=ssp585_ff<br>wasp_raw_median=%{y}<extra></extra>",
         "legendgroup": "ES514",
         "marker": {
          "color": "#00cc96",
          "symbol": "circle"
         },
         "mode": "markers",
         "name": "ES514",
         "orientation": "v",
         "showlegend": false,
         "type": "scatter",
         "x": [
          "ES514"
         ],
         "xaxis": "x",
         "y": [
          0.0259529425677827
         ],
         "yaxis": "y"
        },
        {
         "error_y": {
          "array": [
           0.1957750146241212
          ],
          "arrayminus": [
           0.0523689082610035
          ]
         },
         "hovertemplate": "NUTS_ID=%{x}<br>data=historic<br>wasp_raw_median=%{y}<extra></extra>",
         "legendgroup": "ES513",
         "marker": {
          "color": "#ab63fa",
          "symbol": "circle"
         },
         "mode": "markers",
         "name": "ES513",
         "orientation": "v",
         "showlegend": true,
         "type": "scatter",
         "x": [
          "ES513"
         ],
         "xaxis": "x7",
         "y": [
          0.1038777148330258
         ],
         "yaxis": "y7"
        },
        {
         "error_y": {
          "array": [
           0.075033394538728
          ],
          "arrayminus": [
           0.0137435540726838
          ]
         },
         "hovertemplate": "NUTS_ID=%{x}<br>data=ssp126_nf<br>wasp_raw_median=%{y}<extra></extra>",
         "legendgroup": "ES513",
         "marker": {
          "color": "#ab63fa",
          "symbol": "circle"
         },
         "mode": "markers",
         "name": "ES513",
         "orientation": "v",
         "showlegend": false,
         "type": "scatter",
         "x": [
          "ES513"
         ],
         "xaxis": "x6",
         "y": [
          0.0324263562893253
         ],
         "yaxis": "y6"
        },
        {
         "error_y": {
          "array": [
           0.0658640412644859
          ],
          "arrayminus": [
           0.0150697219852371
          ]
         },
         "hovertemplate": "NUTS_ID=%{x}<br>data=ssp126_ff<br>wasp_raw_median=%{y}<extra></extra>",
         "legendgroup": "ES513",
         "marker": {
          "color": "#ab63fa",
          "symbol": "circle"
         },
         "mode": "markers",
         "name": "ES513",
         "orientation": "v",
         "showlegend": false,
         "type": "scatter",
         "x": [
          "ES513"
         ],
         "xaxis": "x5",
         "y": [
          0.033168003287722
         ],
         "yaxis": "y5"
        },
        {
         "error_y": {
          "array": [
           0.079187699497722
          ],
          "arrayminus": [
           0.0209123992537092
          ]
         },
         "hovertemplate": "NUTS_ID=%{x}<br>data=ssp370_nf<br>wasp_raw_median=%{y}<extra></extra>",
         "legendgroup": "ES513",
         "marker": {
          "color": "#ab63fa",
          "symbol": "circle"
         },
         "mode": "markers",
         "name": "ES513",
         "orientation": "v",
         "showlegend": false,
         "type": "scatter",
         "x": [
          "ES513"
         ],
         "xaxis": "x4",
         "y": [
          0.0382352737304974
         ],
         "yaxis": "y4"
        },
        {
         "error_y": {
          "array": [
           0.0665321489725162
          ],
          "arrayminus": [
           0.0183412902630973
          ]
         },
         "hovertemplate": "NUTS_ID=%{x}<br>data=ssp370_ff<br>wasp_raw_median=%{y}<extra></extra>",
         "legendgroup": "ES513",
         "marker": {
          "color": "#ab63fa",
          "symbol": "circle"
         },
         "mode": "markers",
         "name": "ES513",
         "orientation": "v",
         "showlegend": false,
         "type": "scatter",
         "x": [
          "ES513"
         ],
         "xaxis": "x3",
         "y": [
          0.0385597633696673
         ],
         "yaxis": "y3"
        },
        {
         "error_y": {
          "array": [
           0.0735983093264812
          ],
          "arrayminus": [
           0.0137435017132805
          ]
         },
         "hovertemplate": "NUTS_ID=%{x}<br>data=ssp585_nf<br>wasp_raw_median=%{y}<extra></extra>",
         "legendgroup": "ES513",
         "marker": {
          "color": "#ab63fa",
          "symbol": "circle"
         },
         "mode": "markers",
         "name": "ES513",
         "orientation": "v",
         "showlegend": false,
         "type": "scatter",
         "x": [
          "ES513"
         ],
         "xaxis": "x2",
         "y": [
          0.0401799883756535
         ],
         "yaxis": "y2"
        },
        {
         "error_y": {
          "array": [
           0.1001474059604187
          ],
          "arrayminus": [
           0.0222796450388986
          ]
         },
         "hovertemplate": "NUTS_ID=%{x}<br>data=ssp585_ff<br>wasp_raw_median=%{y}<extra></extra>",
         "legendgroup": "ES513",
         "marker": {
          "color": "#ab63fa",
          "symbol": "circle"
         },
         "mode": "markers",
         "name": "ES513",
         "orientation": "v",
         "showlegend": false,
         "type": "scatter",
         "x": [
          "ES513"
         ],
         "xaxis": "x",
         "y": [
          0.0479403669794594
         ],
         "yaxis": "y"
        }
       ],
       "layout": {
        "annotations": [
         {
          "showarrow": false,
          "text": "ssp585_ff",
          "textangle": 90,
          "x": 0.98,
          "xanchor": "left",
          "xref": "paper",
          "y": 0.05857142857142857,
          "yanchor": "middle",
          "yref": "paper"
         },
         {
          "showarrow": false,
          "text": "ssp585_nf",
          "textangle": 90,
          "x": 0.98,
          "xanchor": "left",
          "xref": "paper",
          "y": 0.2057142857142857,
          "yanchor": "middle",
          "yref": "paper"
         },
         {
          "showarrow": false,
          "text": "ssp370_ff",
          "textangle": 90,
          "x": 0.98,
          "xanchor": "left",
          "xref": "paper",
          "y": 0.35285714285714287,
          "yanchor": "middle",
          "yref": "paper"
         },
         {
          "showarrow": false,
          "text": "ssp370_nf",
          "textangle": 90,
          "x": 0.98,
          "xanchor": "left",
          "xref": "paper",
          "y": 0.49999999999999994,
          "yanchor": "middle",
          "yref": "paper"
         },
         {
          "showarrow": false,
          "text": "ssp126_ff",
          "textangle": 90,
          "x": 0.98,
          "xanchor": "left",
          "xref": "paper",
          "y": 0.647142857142857,
          "yanchor": "middle",
          "yref": "paper"
         },
         {
          "showarrow": false,
          "text": "ssp126_nf",
          "textangle": 90,
          "x": 0.98,
          "xanchor": "left",
          "xref": "paper",
          "y": 0.7942857142857143,
          "yanchor": "middle",
          "yref": "paper"
         },
         {
          "showarrow": false,
          "text": "historic",
          "textangle": 90,
          "x": 0.98,
          "xanchor": "left",
          "xref": "paper",
          "y": 0.9414285714285713,
          "yanchor": "middle",
          "yref": "paper"
         },
         {
          "font": {
           "size": 15
          },
          "showarrow": false,
          "text": "WASP_raw_median",
          "textangle": -90,
          "x": -0.04,
          "xanchor": "center",
          "xref": "paper",
          "y": 0.5,
          "yanchor": "middle",
          "yref": "paper"
         }
        ],
        "autosize": true,
        "font": {
         "size": 12
        },
        "legend": {
         "title": {
          "text": "NUTS_ID"
         },
         "tracegroupgap": 0
        },
        "margin": {
         "t": 60
        },
        "showlegend": false,
        "template": {
         "data": {
          "bar": [
           {
            "error_x": {
             "color": "#2a3f5f"
            },
            "error_y": {
             "color": "#2a3f5f"
            },
            "marker": {
             "line": {
              "color": "#E5ECF6",
              "width": 0.5
             },
             "pattern": {
              "fillmode": "overlay",
              "size": 10,
              "solidity": 0.2
             }
            },
            "type": "bar"
           }
          ],
          "barpolar": [
           {
            "marker": {
             "line": {
              "color": "#E5ECF6",
              "width": 0.5
             },
             "pattern": {
              "fillmode": "overlay",
              "size": 10,
              "solidity": 0.2
             }
            },
            "type": "barpolar"
           }
          ],
          "carpet": [
           {
            "aaxis": {
             "endlinecolor": "#2a3f5f",
             "gridcolor": "white",
             "linecolor": "white",
             "minorgridcolor": "white",
             "startlinecolor": "#2a3f5f"
            },
            "baxis": {
             "endlinecolor": "#2a3f5f",
             "gridcolor": "white",
             "linecolor": "white",
             "minorgridcolor": "white",
             "startlinecolor": "#2a3f5f"
            },
            "type": "carpet"
           }
          ],
          "choropleth": [
           {
            "colorbar": {
             "outlinewidth": 0,
             "ticks": ""
            },
            "type": "choropleth"
           }
          ],
          "contour": [
           {
            "colorbar": {
             "outlinewidth": 0,
             "ticks": ""
            },
            "colorscale": [
             [
              0,
              "#0d0887"
             ],
             [
              0.1111111111111111,
              "#46039f"
             ],
             [
              0.2222222222222222,
              "#7201a8"
             ],
             [
              0.3333333333333333,
              "#9c179e"
             ],
             [
              0.4444444444444444,
              "#bd3786"
             ],
             [
              0.5555555555555556,
              "#d8576b"
             ],
             [
              0.6666666666666666,
              "#ed7953"
             ],
             [
              0.7777777777777778,
              "#fb9f3a"
             ],
             [
              0.8888888888888888,
              "#fdca26"
             ],
             [
              1,
              "#f0f921"
             ]
            ],
            "type": "contour"
           }
          ],
          "contourcarpet": [
           {
            "colorbar": {
             "outlinewidth": 0,
             "ticks": ""
            },
            "type": "contourcarpet"
           }
          ],
          "heatmap": [
           {
            "colorbar": {
             "outlinewidth": 0,
             "ticks": ""
            },
            "colorscale": [
             [
              0,
              "#0d0887"
             ],
             [
              0.1111111111111111,
              "#46039f"
             ],
             [
              0.2222222222222222,
              "#7201a8"
             ],
             [
              0.3333333333333333,
              "#9c179e"
             ],
             [
              0.4444444444444444,
              "#bd3786"
             ],
             [
              0.5555555555555556,
              "#d8576b"
             ],
             [
              0.6666666666666666,
              "#ed7953"
             ],
             [
              0.7777777777777778,
              "#fb9f3a"
             ],
             [
              0.8888888888888888,
              "#fdca26"
             ],
             [
              1,
              "#f0f921"
             ]
            ],
            "type": "heatmap"
           }
          ],
          "heatmapgl": [
           {
            "colorbar": {
             "outlinewidth": 0,
             "ticks": ""
            },
            "colorscale": [
             [
              0,
              "#0d0887"
             ],
             [
              0.1111111111111111,
              "#46039f"
             ],
             [
              0.2222222222222222,
              "#7201a8"
             ],
             [
              0.3333333333333333,
              "#9c179e"
             ],
             [
              0.4444444444444444,
              "#bd3786"
             ],
             [
              0.5555555555555556,
              "#d8576b"
             ],
             [
              0.6666666666666666,
              "#ed7953"
             ],
             [
              0.7777777777777778,
              "#fb9f3a"
             ],
             [
              0.8888888888888888,
              "#fdca26"
             ],
             [
              1,
              "#f0f921"
             ]
            ],
            "type": "heatmapgl"
           }
          ],
          "histogram": [
           {
            "marker": {
             "pattern": {
              "fillmode": "overlay",
              "size": 10,
              "solidity": 0.2
             }
            },
            "type": "histogram"
           }
          ],
          "histogram2d": [
           {
            "colorbar": {
             "outlinewidth": 0,
             "ticks": ""
            },
            "colorscale": [
             [
              0,
              "#0d0887"
             ],
             [
              0.1111111111111111,
              "#46039f"
             ],
             [
              0.2222222222222222,
              "#7201a8"
             ],
             [
              0.3333333333333333,
              "#9c179e"
             ],
             [
              0.4444444444444444,
              "#bd3786"
             ],
             [
              0.5555555555555556,
              "#d8576b"
             ],
             [
              0.6666666666666666,
              "#ed7953"
             ],
             [
              0.7777777777777778,
              "#fb9f3a"
             ],
             [
              0.8888888888888888,
              "#fdca26"
             ],
             [
              1,
              "#f0f921"
             ]
            ],
            "type": "histogram2d"
           }
          ],
          "histogram2dcontour": [
           {
            "colorbar": {
             "outlinewidth": 0,
             "ticks": ""
            },
            "colorscale": [
             [
              0,
              "#0d0887"
             ],
             [
              0.1111111111111111,
              "#46039f"
             ],
             [
              0.2222222222222222,
              "#7201a8"
             ],
             [
              0.3333333333333333,
              "#9c179e"
             ],
             [
              0.4444444444444444,
              "#bd3786"
             ],
             [
              0.5555555555555556,
              "#d8576b"
             ],
             [
              0.6666666666666666,
              "#ed7953"
             ],
             [
              0.7777777777777778,
              "#fb9f3a"
             ],
             [
              0.8888888888888888,
              "#fdca26"
             ],
             [
              1,
              "#f0f921"
             ]
            ],
            "type": "histogram2dcontour"
           }
          ],
          "mesh3d": [
           {
            "colorbar": {
             "outlinewidth": 0,
             "ticks": ""
            },
            "type": "mesh3d"
           }
          ],
          "parcoords": [
           {
            "line": {
             "colorbar": {
              "outlinewidth": 0,
              "ticks": ""
             }
            },
            "type": "parcoords"
           }
          ],
          "pie": [
           {
            "automargin": true,
            "type": "pie"
           }
          ],
          "scatter": [
           {
            "fillpattern": {
             "fillmode": "overlay",
             "size": 10,
             "solidity": 0.2
            },
            "type": "scatter"
           }
          ],
          "scatter3d": [
           {
            "line": {
             "colorbar": {
              "outlinewidth": 0,
              "ticks": ""
             }
            },
            "marker": {
             "colorbar": {
              "outlinewidth": 0,
              "ticks": ""
             }
            },
            "type": "scatter3d"
           }
          ],
          "scattercarpet": [
           {
            "marker": {
             "colorbar": {
              "outlinewidth": 0,
              "ticks": ""
             }
            },
            "type": "scattercarpet"
           }
          ],
          "scattergeo": [
           {
            "marker": {
             "colorbar": {
              "outlinewidth": 0,
              "ticks": ""
             }
            },
            "type": "scattergeo"
           }
          ],
          "scattergl": [
           {
            "marker": {
             "colorbar": {
              "outlinewidth": 0,
              "ticks": ""
             }
            },
            "type": "scattergl"
           }
          ],
          "scattermapbox": [
           {
            "marker": {
             "colorbar": {
              "outlinewidth": 0,
              "ticks": ""
             }
            },
            "type": "scattermapbox"
           }
          ],
          "scatterpolar": [
           {
            "marker": {
             "colorbar": {
              "outlinewidth": 0,
              "ticks": ""
             }
            },
            "type": "scatterpolar"
           }
          ],
          "scatterpolargl": [
           {
            "marker": {
             "colorbar": {
              "outlinewidth": 0,
              "ticks": ""
             }
            },
            "type": "scatterpolargl"
           }
          ],
          "scatterternary": [
           {
            "marker": {
             "colorbar": {
              "outlinewidth": 0,
              "ticks": ""
             }
            },
            "type": "scatterternary"
           }
          ],
          "surface": [
           {
            "colorbar": {
             "outlinewidth": 0,
             "ticks": ""
            },
            "colorscale": [
             [
              0,
              "#0d0887"
             ],
             [
              0.1111111111111111,
              "#46039f"
             ],
             [
              0.2222222222222222,
              "#7201a8"
             ],
             [
              0.3333333333333333,
              "#9c179e"
             ],
             [
              0.4444444444444444,
              "#bd3786"
             ],
             [
              0.5555555555555556,
              "#d8576b"
             ],
             [
              0.6666666666666666,
              "#ed7953"
             ],
             [
              0.7777777777777778,
              "#fb9f3a"
             ],
             [
              0.8888888888888888,
              "#fdca26"
             ],
             [
              1,
              "#f0f921"
             ]
            ],
            "type": "surface"
           }
          ],
          "table": [
           {
            "cells": {
             "fill": {
              "color": "#EBF0F8"
             },
             "line": {
              "color": "white"
             }
            },
            "header": {
             "fill": {
              "color": "#C8D4E3"
             },
             "line": {
              "color": "white"
             }
            },
            "type": "table"
           }
          ]
         },
         "layout": {
          "annotationdefaults": {
           "arrowcolor": "#2a3f5f",
           "arrowhead": 0,
           "arrowwidth": 1
          },
          "autotypenumbers": "strict",
          "coloraxis": {
           "colorbar": {
            "outlinewidth": 0,
            "ticks": ""
           }
          },
          "colorscale": {
           "diverging": [
            [
             0,
             "#8e0152"
            ],
            [
             0.1,
             "#c51b7d"
            ],
            [
             0.2,
             "#de77ae"
            ],
            [
             0.3,
             "#f1b6da"
            ],
            [
             0.4,
             "#fde0ef"
            ],
            [
             0.5,
             "#f7f7f7"
            ],
            [
             0.6,
             "#e6f5d0"
            ],
            [
             0.7,
             "#b8e186"
            ],
            [
             0.8,
             "#7fbc41"
            ],
            [
             0.9,
             "#4d9221"
            ],
            [
             1,
             "#276419"
            ]
           ],
           "sequential": [
            [
             0,
             "#0d0887"
            ],
            [
             0.1111111111111111,
             "#46039f"
            ],
            [
             0.2222222222222222,
             "#7201a8"
            ],
            [
             0.3333333333333333,
             "#9c179e"
            ],
            [
             0.4444444444444444,
             "#bd3786"
            ],
            [
             0.5555555555555556,
             "#d8576b"
            ],
            [
             0.6666666666666666,
             "#ed7953"
            ],
            [
             0.7777777777777778,
             "#fb9f3a"
            ],
            [
             0.8888888888888888,
             "#fdca26"
            ],
            [
             1,
             "#f0f921"
            ]
           ],
           "sequentialminus": [
            [
             0,
             "#0d0887"
            ],
            [
             0.1111111111111111,
             "#46039f"
            ],
            [
             0.2222222222222222,
             "#7201a8"
            ],
            [
             0.3333333333333333,
             "#9c179e"
            ],
            [
             0.4444444444444444,
             "#bd3786"
            ],
            [
             0.5555555555555556,
             "#d8576b"
            ],
            [
             0.6666666666666666,
             "#ed7953"
            ],
            [
             0.7777777777777778,
             "#fb9f3a"
            ],
            [
             0.8888888888888888,
             "#fdca26"
            ],
            [
             1,
             "#f0f921"
            ]
           ]
          },
          "colorway": [
           "#636efa",
           "#EF553B",
           "#00cc96",
           "#ab63fa",
           "#FFA15A",
           "#19d3f3",
           "#FF6692",
           "#B6E880",
           "#FF97FF",
           "#FECB52"
          ],
          "font": {
           "color": "#2a3f5f"
          },
          "geo": {
           "bgcolor": "white",
           "lakecolor": "white",
           "landcolor": "#E5ECF6",
           "showlakes": true,
           "showland": true,
           "subunitcolor": "white"
          },
          "hoverlabel": {
           "align": "left"
          },
          "hovermode": "closest",
          "mapbox": {
           "style": "light"
          },
          "paper_bgcolor": "white",
          "plot_bgcolor": "#E5ECF6",
          "polar": {
           "angularaxis": {
            "gridcolor": "white",
            "linecolor": "white",
            "ticks": ""
           },
           "bgcolor": "#E5ECF6",
           "radialaxis": {
            "gridcolor": "white",
            "linecolor": "white",
            "ticks": ""
           }
          },
          "scene": {
           "xaxis": {
            "backgroundcolor": "#E5ECF6",
            "gridcolor": "white",
            "gridwidth": 2,
            "linecolor": "white",
            "showbackground": true,
            "ticks": "",
            "zerolinecolor": "white"
           },
           "yaxis": {
            "backgroundcolor": "#E5ECF6",
            "gridcolor": "white",
            "gridwidth": 2,
            "linecolor": "white",
            "showbackground": true,
            "ticks": "",
            "zerolinecolor": "white"
           },
           "zaxis": {
            "backgroundcolor": "#E5ECF6",
            "gridcolor": "white",
            "gridwidth": 2,
            "linecolor": "white",
            "showbackground": true,
            "ticks": "",
            "zerolinecolor": "white"
           }
          },
          "shapedefaults": {
           "line": {
            "color": "#2a3f5f"
           }
          },
          "ternary": {
           "aaxis": {
            "gridcolor": "white",
            "linecolor": "white",
            "ticks": ""
           },
           "baxis": {
            "gridcolor": "white",
            "linecolor": "white",
            "ticks": ""
           },
           "bgcolor": "#E5ECF6",
           "caxis": {
            "gridcolor": "white",
            "linecolor": "white",
            "ticks": ""
           }
          },
          "title": {
           "x": 0.05
          },
          "xaxis": {
           "automargin": true,
           "gridcolor": "white",
           "linecolor": "white",
           "ticks": "",
           "title": {
            "standoff": 15
           },
           "zerolinecolor": "white",
           "zerolinewidth": 2
          },
          "yaxis": {
           "automargin": true,
           "gridcolor": "white",
           "linecolor": "white",
           "ticks": "",
           "title": {
            "standoff": 15
           },
           "zerolinecolor": "white",
           "zerolinewidth": 2
          }
         }
        },
        "title": {
         "text": "WASP raw comparison"
        },
        "xaxis": {
         "anchor": "y",
         "autorange": true,
         "categoryarray": [
          "ES512",
          "ES511",
          "ES514",
          "ES513"
         ],
         "categoryorder": "array",
         "domain": [
          0,
          0.98
         ],
         "range": [
          -0.18189760423444432,
          3.1818976042344445
         ],
         "title": {
          "text": "NUTS_ID"
         },
         "type": "category"
        },
        "xaxis2": {
         "anchor": "y2",
         "autorange": true,
         "domain": [
          0,
          0.98
         ],
         "matches": "x",
         "range": [
          -0.18189760423444432,
          3.1818976042344445
         ],
         "showticklabels": false,
         "type": "category"
        },
        "xaxis3": {
         "anchor": "y3",
         "autorange": true,
         "domain": [
          0,
          0.98
         ],
         "matches": "x",
         "range": [
          -0.18189760423444432,
          3.1818976042344445
         ],
         "showticklabels": false,
         "type": "category"
        },
        "xaxis4": {
         "anchor": "y4",
         "autorange": true,
         "domain": [
          0,
          0.98
         ],
         "matches": "x",
         "range": [
          -0.18189760423444432,
          3.1818976042344445
         ],
         "showticklabels": false,
         "type": "category"
        },
        "xaxis5": {
         "anchor": "y5",
         "autorange": true,
         "domain": [
          0,
          0.98
         ],
         "matches": "x",
         "range": [
          -0.18189760423444432,
          3.1818976042344445
         ],
         "showticklabels": false,
         "type": "category"
        },
        "xaxis6": {
         "anchor": "y6",
         "autorange": true,
         "domain": [
          0,
          0.98
         ],
         "matches": "x",
         "range": [
          -0.18189760423444432,
          3.1818976042344445
         ],
         "showticklabels": false,
         "type": "category"
        },
        "xaxis7": {
         "anchor": "y7",
         "autorange": true,
         "domain": [
          0,
          0.98
         ],
         "matches": "x",
         "range": [
          -0.18189760423444432,
          3.1818976042344445
         ],
         "showticklabels": false,
         "type": "category"
        },
        "yaxis": {
         "anchor": "x",
         "autorange": true,
         "domain": [
          0,
          0.11714285714285715
         ],
         "range": [
          -0.007774050701837905,
          0.31583308630761986
         ],
         "title": {
          "text": ""
         },
         "type": "linear"
        },
        "yaxis2": {
         "anchor": "x2",
         "autorange": true,
         "domain": [
          0.14714285714285713,
          0.2642857142857143
         ],
         "matches": "y",
         "range": [
          -0.007774050701837905,
          0.31583308630761986
         ],
         "title": {
          "text": ""
         },
         "type": "linear"
        },
        "yaxis3": {
         "anchor": "x3",
         "autorange": true,
         "domain": [
          0.29428571428571426,
          0.4114285714285714
         ],
         "matches": "y",
         "range": [
          -0.007774050701837905,
          0.31583308630761986
         ],
         "title": {
          "text": ""
         },
         "type": "linear"
        },
        "yaxis4": {
         "anchor": "x4",
         "autorange": true,
         "domain": [
          0.4414285714285714,
          0.5585714285714285
         ],
         "matches": "y",
         "range": [
          -0.007774050701837905,
          0.31583308630761986
         ],
         "title": {
          "text": ""
         },
         "type": "linear"
        },
        "yaxis5": {
         "anchor": "x5",
         "autorange": true,
         "domain": [
          0.5885714285714285,
          0.7057142857142856
         ],
         "matches": "y",
         "range": [
          -0.007774050701837905,
          0.31583308630761986
         ],
         "title": {
          "text": ""
         },
         "type": "linear"
        },
        "yaxis6": {
         "anchor": "x6",
         "autorange": true,
         "domain": [
          0.7357142857142858,
          0.8528571428571429
         ],
         "matches": "y",
         "range": [
          -0.007774050701837905,
          0.31583308630761986
         ],
         "title": {
          "text": ""
         },
         "type": "linear"
        },
        "yaxis7": {
         "anchor": "x7",
         "autorange": true,
         "domain": [
          0.8828571428571428,
          0.9999999999999999
         ],
         "matches": "y",
         "range": [
          -0.007774050701837905,
          0.31583308630761986
         ],
         "title": {
          "text": ""
         },
         "type": "linear"
        }
       }
      },
      "image/png": "[encoded data removed]",
      "text/html": [
       "<div>                            <div id=\"a55800f9-ceca-468f-a3b6-51eca32693ec\" class=\"plotly-graph-div\" style=\"height:900px; width:100%;\"></div>            <script type=\"text/javascript\">                require([\"plotly\"], function(Plotly) {                    window.PLOTLYENV=window.PLOTLYENV || {};                                    if (document.getElementById(\"a55800f9-ceca-468f-a3b6-51eca32693ec\")) {                    Plotly.newPlot(                        \"a55800f9-ceca-468f-a3b6-51eca32693ec\",                        [{\"error_y\":{\"array\":[0.1632743252388608],\"arrayminus\":[0.0395291271958093]},\"hovertemplate\":\"NUTS_ID=%{x}\\u003cbr\\u003edata=historic\\u003cbr\\u003ewasp_raw_median=%{y}\\u003cextra\\u003e\\u003c\\u002fextra\\u003e\",\"legendgroup\":\"ES512\",\"marker\":{\"color\":\"#636efa\",\"symbol\":\"circle\"},\"mode\":\"markers\",\"name\":\"ES512\",\"orientation\":\"v\",\"showlegend\":true,\"x\":[\"ES512\"],\"xaxis\":\"x7\",\"y\":[0.075146056850072],\"yaxis\":\"y7\",\"type\":\"scatter\"},{\"error_y\":{\"array\":[0.0540739112564306],\"arrayminus\":[0.012618973428517]},\"hovertemplate\":\"NUTS_ID=%{x}\\u003cbr\\u003edata=ssp126_nf\\u003cbr\\u003ewasp_raw_median=%{y}\\u003cextra\\u003e\\u003c\\u002fextra\\u003e\",\"legendgroup\":\"ES512\",\"marker\":{\"color\":\"#636efa\",\"symbol\":\"circle\"},\"mode\":\"markers\",\"name\":\"ES512\",\"orientation\":\"v\",\"showlegend\":false,\"x\":[\"ES512\"],\"xaxis\":\"x6\",\"y\":[0.0277746482301328],\"yaxis\":\"y6\",\"type\":\"scatter\"},{\"error_y\":{\"array\":[0.065979980852523],\"arrayminus\":[0.017442226695004]},\"hovertemplate\":\"NUTS_ID=%{x}\\u003cbr\\u003edata=ssp126_ff\\u003cbr\\u003ewasp_raw_median=%{y}\\u003cextra\\u003e\\u003c\\u002fextra\\u003e\",\"legendgroup\":\"ES512\",\"marker\":{\"color\":\"#636efa\",\"symbol\":\"circle\"},\"mode\":\"markers\",\"name\":\"ES512\",\"orientation\":\"v\",\"showlegend\":false,\"x\":[\"ES512\"],\"xaxis\":\"x5\",\"y\":[0.0275037561723283],\"yaxis\":\"y5\",\"type\":\"scatter\"},{\"error_y\":{\"array\":[0.0597695181402681],\"arrayminus\":[0.0163307898946602]},\"hovertemplate\":\"NUTS_ID=%{x}\\u003cbr\\u003edata=ssp370_nf\\u003cbr\\u003ewasp_raw_median=%{y}\\u003cextra\\u003e\\u003c\\u002fextra\\u003e\",\"legendgroup\":\"ES512\",\"marker\":{\"color\":\"#636efa\",\"symbol\":\"circle\"},\"mode\":\"markers\",\"name\":\"ES512\",\"orientation\":\"v\",\"showlegend\":false,\"x\":[\"ES512\"],\"xaxis\":\"x4\",\"y\":[0.0276305179084724],\"yaxis\":\"y4\",\"type\":\"scatter\"},{\"error_y\":{\"array\":[0.0514974628322617],\"arrayminus\":[0.0104456758319127]},\"hovertemplate\":\"NUTS_ID=%{x}\\u003cbr\\u003edata=ssp370_ff\\u003cbr\\u003ewasp_raw_median=%{y}\\u003cextra\\u003e\\u003c\\u002fextra\\u003e\",\"legendgroup\":\"ES512\",\"marker\":{\"color\":\"#636efa\",\"symbol\":\"circle\"},\"mode\":\"markers\",\"name\":\"ES512\",\"orientation\":\"v\",\"showlegend\":false,\"x\":[\"ES512\"],\"xaxis\":\"x3\",\"y\":[0.0253898573358169],\"yaxis\":\"y3\",\"type\":\"scatter\"},{\"error_y\":{\"array\":[0.0559212660757065],\"arrayminus\":[0.0157659452268209]},\"hovertemplate\":\"NUTS_ID=%{x}\\u003cbr\\u003edata=ssp585_nf\\u003cbr\\u003ewasp_raw_median=%{y}\\u003cextra\\u003e\\u003c\\u002fextra\\u003e\",\"legendgroup\":\"ES512\",\"marker\":{\"color\":\"#636efa\",\"symbol\":\"circle\"},\"mode\":\"markers\",\"name\":\"ES512\",\"orientation\":\"v\",\"showlegend\":false,\"x\":[\"ES512\"],\"xaxis\":\"x2\",\"y\":[0.0347975119026894],\"yaxis\":\"y2\",\"type\":\"scatter\"},{\"error_y\":{\"array\":[0.0718581934744474],\"arrayminus\":[0.0146580966683764]},\"hovertemplate\":\"NUTS_ID=%{x}\\u003cbr\\u003edata=ssp585_ff\\u003cbr\\u003ewasp_raw_median=%{y}\\u003cextra\\u003e\\u003c\\u002fextra\\u003e\",\"legendgroup\":\"ES512\",\"marker\":{\"color\":\"#636efa\",\"symbol\":\"circle\"},\"mode\":\"markers\",\"name\":\"ES512\",\"orientation\":\"v\",\"showlegend\":false,\"x\":[\"ES512\"],\"xaxis\":\"x\",\"y\":[0.0275628675572979],\"yaxis\":\"y\",\"type\":\"scatter\"},{\"error_y\":{\"array\":[0.1387584962370368],\"arrayminus\":[0.0344609053335354]},\"hovertemplate\":\"NUTS_ID=%{x}\\u003cbr\\u003edata=historic\\u003cbr\\u003ewasp_raw_median=%{y}\\u003cextra\\u003e\\u003c\\u002fextra\\u003e\",\"legendgroup\":\"ES511\",\"marker\":{\"color\":\"#EF553B\",\"symbol\":\"circle\"},\"mode\":\"markers\",\"name\":\"ES511\",\"orientation\":\"v\",\"showlegend\":true,\"x\":[\"ES511\"],\"xaxis\":\"x7\",\"y\":[0.0664285604931089],\"yaxis\":\"y7\",\"type\":\"scatter\"},{\"error_y\":{\"array\":[0.0567866006088318],\"arrayminus\":[0.010841513740547]},\"hovertemplate\":\"NUTS_ID=%{x}\\u003cbr\\u003edata=ssp126_nf\\u003cbr\\u003ewasp_raw_median=%{y}\\u003cextra\\u003e\\u003c\\u002fextra\\u003e\",\"legendgroup\":\"ES511\",\"marker\":{\"color\":\"#EF553B\",\"symbol\":\"circle\"},\"mode\":\"markers\",\"name\":\"ES511\",\"orientation\":\"v\",\"showlegend\":false,\"x\":[\"ES511\"],\"xaxis\":\"x6\",\"y\":[0.0297994939040356],\"yaxis\":\"y6\",\"type\":\"scatter\"},{\"error_y\":{\"array\":[0.0574199608642921],\"arrayminus\":[0.0123551939657209]},\"hovertemplate\":\"NUTS_ID=%{x}\\u003cbr\\u003edata=ssp126_ff\\u003cbr\\u003ewasp_raw_median=%{y}\\u003cextra\\u003e\\u003c\\u002fextra\\u003e\",\"legendgroup\":\"ES511\",\"marker\":{\"color\":\"#EF553B\",\"symbol\":\"circle\"},\"mode\":\"markers\",\"name\":\"ES511\",\"orientation\":\"v\",\"showlegend\":false,\"x\":[\"ES511\"],\"xaxis\":\"x5\",\"y\":[0.0251387392544775],\"yaxis\":\"y5\",\"type\":\"scatter\"},{\"error_y\":{\"array\":[0.0627804255697935],\"arrayminus\":[0.0111466558713474]},\"hovertemplate\":\"NUTS_ID=%{x}\\u003cbr\\u003edata=ssp370_nf\\u003cbr\\u003ewasp_raw_median=%{y}\\u003cextra\\u003e\\u003c\\u002fextra\\u003e\",\"legendgroup\":\"ES511\",\"marker\":{\"color\":\"#EF553B\",\"symbol\":\"circle\"},\"mode\":\"markers\",\"name\":\"ES511\",\"orientation\":\"v\",\"showlegend\":false,\"x\":[\"ES511\"],\"xaxis\":\"x4\",\"y\":[0.0269180620410472],\"yaxis\":\"y4\",\"type\":\"scatter\"},{\"error_y\":{\"array\":[0.0559090399748793],\"arrayminus\":[0.0132931970455731]},\"hovertemplate\":\"NUTS_ID=%{x}\\u003cbr\\u003edata=ssp370_ff\\u003cbr\\u003ewasp_raw_median=%{y}\\u003cextra\\u003e\\u003c\\u002fextra\\u003e\",\"legendgroup\":\"ES511\",\"marker\":{\"color\":\"#EF553B\",\"symbol\":\"circle\"},\"mode\":\"markers\",\"name\":\"ES511\",\"orientation\":\"v\",\"showlegend\":false,\"x\":[\"ES511\"],\"xaxis\":\"x3\",\"y\":[0.0268377060466406],\"yaxis\":\"y3\",\"type\":\"scatter\"},{\"error_y\":{\"array\":[0.0560779097450416],\"arrayminus\":[0.0142946324073983]},\"hovertemplate\":\"NUTS_ID=%{x}\\u003cbr\\u003edata=ssp585_nf\\u003cbr\\u003ewasp_raw_median=%{y}\\u003cextra\\u003e\\u003c\\u002fextra\\u003e\",\"legendgroup\":\"ES511\",\"marker\":{\"color\":\"#EF553B\",\"symbol\":\"circle\"},\"mode\":\"markers\",\"name\":\"ES511\",\"orientation\":\"v\",\"showlegend\":false,\"x\":[\"ES511\"],\"xaxis\":\"x2\",\"y\":[0.0298205511007256],\"yaxis\":\"y2\",\"type\":\"scatter\"},{\"error_y\":{\"array\":[0.0688450777413125],\"arrayminus\":[0.0100472563436954]},\"hovertemplate\":\"NUTS_ID=%{x}\\u003cbr\\u003edata=ssp585_ff\\u003cbr\\u003ewasp_raw_median=%{y}\\u003cextra\\u003e\\u003c\\u002fextra\\u003e\",\"legendgroup\":\"ES511\",\"marker\":{\"color\":\"#EF553B\",\"symbol\":\"circle\"},\"mode\":\"markers\",\"name\":\"ES511\",\"orientation\":\"v\",\"showlegend\":false,\"x\":[\"ES511\"],\"xaxis\":\"x\",\"y\":[0.0239686765852562],\"yaxis\":\"y\",\"type\":\"scatter\"},{\"error_y\":{\"array\":[0.1312685092679312],\"arrayminus\":[0.039979181839214]},\"hovertemplate\":\"NUTS_ID=%{x}\\u003cbr\\u003edata=historic\\u003cbr\\u003ewasp_raw_median=%{y}\\u003cextra\\u003e\\u003c\\u002fextra\\u003e\",\"legendgroup\":\"ES514\",\"marker\":{\"color\":\"#00cc96\",\"symbol\":\"circle\"},\"mode\":\"markers\",\"name\":\"ES514\",\"orientation\":\"v\",\"showlegend\":true,\"x\":[\"ES514\"],\"xaxis\":\"x7\",\"y\":[0.0802959102375361],\"yaxis\":\"y7\",\"type\":\"scatter\"},{\"error_y\":{\"array\":[0.0446121743002286],\"arrayminus\":[0.0116930176627157]},\"hovertemplate\":\"NUTS_ID=%{x}\\u003cbr\\u003edata=ssp126_nf\\u003cbr\\u003ewasp_raw_median=%{y}\\u003cextra\\u003e\\u003c\\u002fextra\\u003e\",\"legendgroup\":\"ES514\",\"marker\":{\"color\":\"#00cc96\",\"symbol\":\"circle\"},\"mode\":\"markers\",\"name\":\"ES514\",\"orientation\":\"v\",\"showlegend\":false,\"x\":[\"ES514\"],\"xaxis\":\"x6\",\"y\":[0.0265770714206141],\"yaxis\":\"y6\",\"type\":\"scatter\"},{\"error_y\":{\"array\":[0.041465858866485],\"arrayminus\":[0.0087494595668779]},\"hovertemplate\":\"NUTS_ID=%{x}\\u003cbr\\u003edata=ssp126_ff\\u003cbr\\u003ewasp_raw_median=%{y}\\u003cextra\\u003e\\u003c\\u002fextra\\u003e\",\"legendgroup\":\"ES514\",\"marker\":{\"color\":\"#00cc96\",\"symbol\":\"circle\"},\"mode\":\"markers\",\"name\":\"ES514\",\"orientation\":\"v\",\"showlegend\":false,\"x\":[\"ES514\"],\"xaxis\":\"x5\",\"y\":[0.0220370624812702],\"yaxis\":\"y5\",\"type\":\"scatter\"},{\"error_y\":{\"array\":[0.0476507180471588],\"arrayminus\":[0.0108556413590255]},\"hovertemplate\":\"NUTS_ID=%{x}\\u003cbr\\u003edata=ssp370_nf\\u003cbr\\u003ewasp_raw_median=%{y}\\u003cextra\\u003e\\u003c\\u002fextra\\u003e\",\"legendgroup\":\"ES514\",\"marker\":{\"color\":\"#00cc96\",\"symbol\":\"circle\"},\"mode\":\"markers\",\"name\":\"ES514\",\"orientation\":\"v\",\"showlegend\":false,\"x\":[\"ES514\"],\"xaxis\":\"x4\",\"y\":[0.0270379387966113],\"yaxis\":\"y4\",\"type\":\"scatter\"},{\"error_y\":{\"array\":[0.0480573536181649],\"arrayminus\":[0.0091916713136074]},\"hovertemplate\":\"NUTS_ID=%{x}\\u003cbr\\u003edata=ssp370_ff\\u003cbr\\u003ewasp_raw_median=%{y}\\u003cextra\\u003e\\u003c\\u002fextra\\u003e\",\"legendgroup\":\"ES514\",\"marker\":{\"color\":\"#00cc96\",\"symbol\":\"circle\"},\"mode\":\"markers\",\"name\":\"ES514\",\"orientation\":\"v\",\"showlegend\":false,\"x\":[\"ES514\"],\"xaxis\":\"x3\",\"y\":[0.0249618248861507],\"yaxis\":\"y3\",\"type\":\"scatter\"},{\"error_y\":{\"array\":[0.0431281417180019],\"arrayminus\":[0.0139189632777045]},\"hovertemplate\":\"NUTS_ID=%{x}\\u003cbr\\u003edata=ssp585_nf\\u003cbr\\u003ewasp_raw_median=%{y}\\u003cextra\\u003e\\u003c\\u002fextra\\u003e\",\"legendgroup\":\"ES514\",\"marker\":{\"color\":\"#00cc96\",\"symbol\":\"circle\"},\"mode\":\"markers\",\"name\":\"ES514\",\"orientation\":\"v\",\"showlegend\":false,\"x\":[\"ES514\"],\"xaxis\":\"x2\",\"y\":[0.0237430988117289],\"yaxis\":\"y2\",\"type\":\"scatter\"},{\"error_y\":{\"array\":[0.0472057475779916],\"arrayminus\":[0.0155223442040025]},\"hovertemplate\":\"NUTS_ID=%{x}\\u003cbr\\u003edata=ssp585_ff\\u003cbr\\u003ewasp_raw_median=%{y}\\u003cextra\\u003e\\u003c\\u002fextra\\u003e\",\"legendgroup\":\"ES514\",\"marker\":{\"color\":\"#00cc96\",\"symbol\":\"circle\"},\"mode\":\"markers\",\"name\":\"ES514\",\"orientation\":\"v\",\"showlegend\":false,\"x\":[\"ES514\"],\"xaxis\":\"x\",\"y\":[0.0259529425677827],\"yaxis\":\"y\",\"type\":\"scatter\"},{\"error_y\":{\"array\":[0.1957750146241212],\"arrayminus\":[0.0523689082610035]},\"hovertemplate\":\"NUTS_ID=%{x}\\u003cbr\\u003edata=historic\\u003cbr\\u003ewasp_raw_median=%{y}\\u003cextra\\u003e\\u003c\\u002fextra\\u003e\",\"legendgroup\":\"ES513\",\"marker\":{\"color\":\"#ab63fa\",\"symbol\":\"circle\"},\"mode\":\"markers\",\"name\":\"ES513\",\"orientation\":\"v\",\"showlegend\":true,\"x\":[\"ES513\"],\"xaxis\":\"x7\",\"y\":[0.1038777148330258],\"yaxis\":\"y7\",\"type\":\"scatter\"},{\"error_y\":{\"array\":[0.075033394538728],\"arrayminus\":[0.0137435540726838]},\"hovertemplate\":\"NUTS_ID=%{x}\\u003cbr\\u003edata=ssp126_nf\\u003cbr\\u003ewasp_raw_median=%{y}\\u003cextra\\u003e\\u003c\\u002fextra\\u003e\",\"legendgroup\":\"ES513\",\"marker\":{\"color\":\"#ab63fa\",\"symbol\":\"circle\"},\"mode\":\"markers\",\"name\":\"ES513\",\"orientation\":\"v\",\"showlegend\":false,\"x\":[\"ES513\"],\"xaxis\":\"x6\",\"y\":[0.0324263562893253],\"yaxis\":\"y6\",\"type\":\"scatter\"},{\"error_y\":{\"array\":[0.0658640412644859],\"arrayminus\":[0.0150697219852371]},\"hovertemplate\":\"NUTS_ID=%{x}\\u003cbr\\u003edata=ssp126_ff\\u003cbr\\u003ewasp_raw_median=%{y}\\u003cextra\\u003e\\u003c\\u002fextra\\u003e\",\"legendgroup\":\"ES513\",\"marker\":{\"color\":\"#ab63fa\",\"symbol\":\"circle\"},\"mode\":\"markers\",\"name\":\"ES513\",\"orientation\":\"v\",\"showlegend\":false,\"x\":[\"ES513\"],\"xaxis\":\"x5\",\"y\":[0.033168003287722],\"yaxis\":\"y5\",\"type\":\"scatter\"},{\"error_y\":{\"array\":[0.079187699497722],\"arrayminus\":[0.0209123992537092]},\"hovertemplate\":\"NUTS_ID=%{x}\\u003cbr\\u003edata=ssp370_nf\\u003cbr\\u003ewasp_raw_median=%{y}\\u003cextra\\u003e\\u003c\\u002fextra\\u003e\",\"legendgroup\":\"ES513\",\"marker\":{\"color\":\"#ab63fa\",\"symbol\":\"circle\"},\"mode\":\"markers\",\"name\":\"ES513\",\"orientation\":\"v\",\"showlegend\":false,\"x\":[\"ES513\"],\"xaxis\":\"x4\",\"y\":[0.0382352737304974],\"yaxis\":\"y4\",\"type\":\"scatter\"},{\"error_y\":{\"array\":[0.0665321489725162],\"arrayminus\":[0.0183412902630973]},\"hovertemplate\":\"NUTS_ID=%{x}\\u003cbr\\u003edata=ssp370_ff\\u003cbr\\u003ewasp_raw_median=%{y}\\u003cextra\\u003e\\u003c\\u002fextra\\u003e\",\"legendgroup\":\"ES513\",\"marker\":{\"color\":\"#ab63fa\",\"symbol\":\"circle\"},\"mode\":\"markers\",\"name\":\"ES513\",\"orientation\":\"v\",\"showlegend\":false,\"x\":[\"ES513\"],\"xaxis\":\"x3\",\"y\":[0.0385597633696673],\"yaxis\":\"y3\",\"type\":\"scatter\"},{\"error_y\":{\"array\":[0.0735983093264812],\"arrayminus\":[0.0137435017132805]},\"hovertemplate\":\"NUTS_ID=%{x}\\u003cbr\\u003edata=ssp585_nf\\u003cbr\\u003ewasp_raw_median=%{y}\\u003cextra\\u003e\\u003c\\u002fextra\\u003e\",\"legendgroup\":\"ES513\",\"marker\":{\"color\":\"#ab63fa\",\"symbol\":\"circle\"},\"mode\":\"markers\",\"name\":\"ES513\",\"orientation\":\"v\",\"showlegend\":false,\"x\":[\"ES513\"],\"xaxis\":\"x2\",\"y\":[0.0401799883756535],\"yaxis\":\"y2\",\"type\":\"scatter\"},{\"error_y\":{\"array\":[0.1001474059604187],\"arrayminus\":[0.0222796450388986]},\"hovertemplate\":\"NUTS_ID=%{x}\\u003cbr\\u003edata=ssp585_ff\\u003cbr\\u003ewasp_raw_median=%{y}\\u003cextra\\u003e\\u003c\\u002fextra\\u003e\",\"legendgroup\":\"ES513\",\"marker\":{\"color\":\"#ab63fa\",\"symbol\":\"circle\"},\"mode\":\"markers\",\"name\":\"ES513\",\"orientation\":\"v\",\"showlegend\":false,\"x\":[\"ES513\"],\"xaxis\":\"x\",\"y\":[0.0479403669794594],\"yaxis\":\"y\",\"type\":\"scatter\"}],                        {\"template\":{\"data\":{\"histogram2dcontour\":[{\"type\":\"histogram2dcontour\",\"colorbar\":{\"outlinewidth\":0,\"ticks\":\"\"},\"colorscale\":[[0.0,\"#0d0887\"],[0.1111111111111111,\"#46039f\"],[0.2222222222222222,\"#7201a8\"],[0.3333333333333333,\"#9c179e\"],[0.4444444444444444,\"#bd3786\"],[0.5555555555555556,\"#d8576b\"],[0.6666666666666666,\"#ed7953\"],[0.7777777777777778,\"#fb9f3a\"],[0.8888888888888888,\"#fdca26\"],[1.0,\"#f0f921\"]]}],\"choropleth\":[{\"type\":\"choropleth\",\"colorbar\":{\"outlinewidth\":0,\"ticks\":\"\"}}],\"histogram2d\":[{\"type\":\"histogram2d\",\"colorbar\":{\"outlinewidth\":0,\"ticks\":\"\"},\"colorscale\":[[0.0,\"#0d0887\"],[0.1111111111111111,\"#46039f\"],[0.2222222222222222,\"#7201a8\"],[0.3333333333333333,\"#9c179e\"],[0.4444444444444444,\"#bd3786\"],[0.5555555555555556,\"#d8576b\"],[0.6666666666666666,\"#ed7953\"],[0.7777777777777778,\"#fb9f3a\"],[0.8888888888888888,\"#fdca26\"],[1.0,\"#f0f921\"]]}],\"heatmap\":[{\"type\":\"heatmap\",\"colorbar\":{\"outlinewidth\":0,\"ticks\":\"\"},\"colorscale\":[[0.0,\"#0d0887\"],[0.1111111111111111,\"#46039f\"],[0.2222222222222222,\"#7201a8\"],[0.3333333333333333,\"#9c179e\"],[0.4444444444444444,\"#bd3786\"],[0.5555555555555556,\"#d8576b\"],[0.6666666666666666,\"#ed7953\"],[0.7777777777777778,\"#fb9f3a\"],[0.8888888888888888,\"#fdca26\"],[1.0,\"#f0f921\"]]}],\"heatmapgl\":[{\"type\":\"heatmapgl\",\"colorbar\":{\"outlinewidth\":0,\"ticks\":\"\"},\"colorscale\":[[0.0,\"#0d0887\"],[0.1111111111111111,\"#46039f\"],[0.2222222222222222,\"#7201a8\"],[0.3333333333333333,\"#9c179e\"],[0.4444444444444444,\"#bd3786\"],[0.5555555555555556,\"#d8576b\"],[0.6666666666666666,\"#ed7953\"],[0.7777777777777778,\"#fb9f3a\"],[0.8888888888888888,\"#fdca26\"],[1.0,\"#f0f921\"]]}],\"contourcarpet\":[{\"type\":\"contourcarpet\",\"colorbar\":{\"outlinewidth\":0,\"ticks\":\"\"}}],\"contour\":[{\"type\":\"contour\",\"colorbar\":{\"outlinewidth\":0,\"ticks\":\"\"},\"colorscale\":[[0.0,\"#0d0887\"],[0.1111111111111111,\"#46039f\"],[0.2222222222222222,\"#7201a8\"],[0.3333333333333333,\"#9c179e\"],[0.4444444444444444,\"#bd3786\"],[0.5555555555555556,\"#d8576b\"],[0.6666666666666666,\"#ed7953\"],[0.7777777777777778,\"#fb9f3a\"],[0.8888888888888888,\"#fdca26\"],[1.0,\"#f0f921\"]]}],\"surface\":[{\"type\":\"surface\",\"colorbar\":{\"outlinewidth\":0,\"ticks\":\"\"},\"colorscale\":[[0.0,\"#0d0887\"],[0.1111111111111111,\"#46039f\"],[0.2222222222222222,\"#7201a8\"],[0.3333333333333333,\"#9c179e\"],[0.4444444444444444,\"#bd3786\"],[0.5555555555555556,\"#d8576b\"],[0.6666666666666666,\"#ed7953\"],[0.7777777777777778,\"#fb9f3a\"],[0.8888888888888888,\"#fdca26\"],[1.0,\"#f0f921\"]]}],\"mesh3d\":[{\"type\":\"mesh3d\",\"colorbar\":{\"outlinewidth\":0,\"ticks\":\"\"}}],\"scatter\":[{\"fillpattern\":{\"fillmode\":\"overlay\",\"size\":10,\"solidity\":0.2},\"type\":\"scatter\"}],\"parcoords\":[{\"type\":\"parcoords\",\"line\":{\"colorbar\":{\"outlinewidth\":0,\"ticks\":\"\"}}}],\"scatterpolargl\":[{\"type\":\"scatterpolargl\",\"marker\":{\"colorbar\":{\"outlinewidth\":0,\"ticks\":\"\"}}}],\"bar\":[{\"error_x\":{\"color\":\"#2a3f5f\"},\"error_y\":{\"color\":\"#2a3f5f\"},\"marker\":{\"line\":{\"color\":\"#E5ECF6\",\"width\":0.5},\"pattern\":{\"fillmode\":\"overlay\",\"size\":10,\"solidity\":0.2}},\"type\":\"bar\"}],\"scattergeo\":[{\"type\":\"scattergeo\",\"marker\":{\"colorbar\":{\"outlinewidth\":0,\"ticks\":\"\"}}}],\"scatterpolar\":[{\"type\":\"scatterpolar\",\"marker\":{\"colorbar\":{\"outlinewidth\":0,\"ticks\":\"\"}}}],\"histogram\":[{\"marker\":{\"pattern\":{\"fillmode\":\"overlay\",\"size\":10,\"solidity\":0.2}},\"type\":\"histogram\"}],\"scattergl\":[{\"type\":\"scattergl\",\"marker\":{\"colorbar\":{\"outlinewidth\":0,\"ticks\":\"\"}}}],\"scatter3d\":[{\"type\":\"scatter3d\",\"line\":{\"colorbar\":{\"outlinewidth\":0,\"ticks\":\"\"}},\"marker\":{\"colorbar\":{\"outlinewidth\":0,\"ticks\":\"\"}}}],\"scattermapbox\":[{\"type\":\"scattermapbox\",\"marker\":{\"colorbar\":{\"outlinewidth\":0,\"ticks\":\"\"}}}],\"scatterternary\":[{\"type\":\"scatterternary\",\"marker\":{\"colorbar\":{\"outlinewidth\":0,\"ticks\":\"\"}}}],\"scattercarpet\":[{\"type\":\"scattercarpet\",\"marker\":{\"colorbar\":{\"outlinewidth\":0,\"ticks\":\"\"}}}],\"carpet\":[{\"aaxis\":{\"endlinecolor\":\"#2a3f5f\",\"gridcolor\":\"white\",\"linecolor\":\"white\",\"minorgridcolor\":\"white\",\"startlinecolor\":\"#2a3f5f\"},\"baxis\":{\"endlinecolor\":\"#2a3f5f\",\"gridcolor\":\"white\",\"linecolor\":\"white\",\"minorgridcolor\":\"white\",\"startlinecolor\":\"#2a3f5f\"},\"type\":\"carpet\"}],\"table\":[{\"cells\":{\"fill\":{\"color\":\"#EBF0F8\"},\"line\":{\"color\":\"white\"}},\"header\":{\"fill\":{\"color\":\"#C8D4E3\"},\"line\":{\"color\":\"white\"}},\"type\":\"table\"}],\"barpolar\":[{\"marker\":{\"line\":{\"color\":\"#E5ECF6\",\"width\":0.5},\"pattern\":{\"fillmode\":\"overlay\",\"size\":10,\"solidity\":0.2}},\"type\":\"barpolar\"}],\"pie\":[{\"automargin\":true,\"type\":\"pie\"}]},\"layout\":{\"autotypenumbers\":\"strict\",\"colorway\":[\"#636efa\",\"#EF553B\",\"#00cc96\",\"#ab63fa\",\"#FFA15A\",\"#19d3f3\",\"#FF6692\",\"#B6E880\",\"#FF97FF\",\"#FECB52\"],\"font\":{\"color\":\"#2a3f5f\"},\"hovermode\":\"closest\",\"hoverlabel\":{\"align\":\"left\"},\"paper_bgcolor\":\"white\",\"plot_bgcolor\":\"#E5ECF6\",\"polar\":{\"bgcolor\":\"#E5ECF6\",\"angularaxis\":{\"gridcolor\":\"white\",\"linecolor\":\"white\",\"ticks\":\"\"},\"radialaxis\":{\"gridcolor\":\"white\",\"linecolor\":\"white\",\"ticks\":\"\"}},\"ternary\":{\"bgcolor\":\"#E5ECF6\",\"aaxis\":{\"gridcolor\":\"white\",\"linecolor\":\"white\",\"ticks\":\"\"},\"baxis\":{\"gridcolor\":\"white\",\"linecolor\":\"white\",\"ticks\":\"\"},\"caxis\":{\"gridcolor\":\"white\",\"linecolor\":\"white\",\"ticks\":\"\"}},\"coloraxis\":{\"colorbar\":{\"outlinewidth\":0,\"ticks\":\"\"}},\"colorscale\":{\"sequential\":[[0.0,\"#0d0887\"],[0.1111111111111111,\"#46039f\"],[0.2222222222222222,\"#7201a8\"],[0.3333333333333333,\"#9c179e\"],[0.4444444444444444,\"#bd3786\"],[0.5555555555555556,\"#d8576b\"],[0.6666666666666666,\"#ed7953\"],[0.7777777777777778,\"#fb9f3a\"],[0.8888888888888888,\"#fdca26\"],[1.0,\"#f0f921\"]],\"sequentialminus\":[[0.0,\"#0d0887\"],[0.1111111111111111,\"#46039f\"],[0.2222222222222222,\"#7201a8\"],[0.3333333333333333,\"#9c179e\"],[0.4444444444444444,\"#bd3786\"],[0.5555555555555556,\"#d8576b\"],[0.6666666666666666,\"#ed7953\"],[0.7777777777777778,\"#fb9f3a\"],[0.8888888888888888,\"#fdca26\"],[1.0,\"#f0f921\"]],\"diverging\":[[0,\"#8e0152\"],[0.1,\"#c51b7d\"],[0.2,\"#de77ae\"],[0.3,\"#f1b6da\"],[0.4,\"#fde0ef\"],[0.5,\"#f7f7f7\"],[0.6,\"#e6f5d0\"],[0.7,\"#b8e186\"],[0.8,\"#7fbc41\"],[0.9,\"#4d9221\"],[1,\"#276419\"]]},\"xaxis\":{\"gridcolor\":\"white\",\"linecolor\":\"white\",\"ticks\":\"\",\"title\":{\"standoff\":15},\"zerolinecolor\":\"white\",\"automargin\":true,\"zerolinewidth\":2},\"yaxis\":{\"gridcolor\":\"white\",\"linecolor\":\"white\",\"ticks\":\"\",\"title\":{\"standoff\":15},\"zerolinecolor\":\"white\",\"automargin\":true,\"zerolinewidth\":2},\"scene\":{\"xaxis\":{\"backgroundcolor\":\"#E5ECF6\",\"gridcolor\":\"white\",\"linecolor\":\"white\",\"showbackground\":true,\"ticks\":\"\",\"zerolinecolor\":\"white\",\"gridwidth\":2},\"yaxis\":{\"backgroundcolor\":\"#E5ECF6\",\"gridcolor\":\"white\",\"linecolor\":\"white\",\"showbackground\":true,\"ticks\":\"\",\"zerolinecolor\":\"white\",\"gridwidth\":2},\"zaxis\":{\"backgroundcolor\":\"#E5ECF6\",\"gridcolor\":\"white\",\"linecolor\":\"white\",\"showbackground\":true,\"ticks\":\"\",\"zerolinecolor\":\"white\",\"gridwidth\":2}},\"shapedefaults\":{\"line\":{\"color\":\"#2a3f5f\"}},\"annotationdefaults\":{\"arrowcolor\":\"#2a3f5f\",\"arrowhead\":0,\"arrowwidth\":1},\"geo\":{\"bgcolor\":\"white\",\"landcolor\":\"#E5ECF6\",\"subunitcolor\":\"white\",\"showland\":true,\"showlakes\":true,\"lakecolor\":\"white\"},\"title\":{\"x\":0.05},\"mapbox\":{\"style\":\"light\"}}},\"xaxis\":{\"anchor\":\"y\",\"domain\":[0.0,0.98],\"title\":{\"text\":\"NUTS_ID\"},\"categoryorder\":\"array\",\"categoryarray\":[\"ES512\",\"ES511\",\"ES514\",\"ES513\"]},\"yaxis\":{\"anchor\":\"x\",\"domain\":[0.0,0.11714285714285715],\"title\":{\"text\":\"\"}},\"xaxis2\":{\"anchor\":\"y2\",\"domain\":[0.0,0.98],\"matches\":\"x\",\"showticklabels\":false},\"yaxis2\":{\"anchor\":\"x2\",\"domain\":[0.14714285714285713,0.2642857142857143],\"matches\":\"y\",\"title\":{\"text\":\"\"}},\"xaxis3\":{\"anchor\":\"y3\",\"domain\":[0.0,0.98],\"matches\":\"x\",\"showticklabels\":false},\"yaxis3\":{\"anchor\":\"x3\",\"domain\":[0.29428571428571426,0.4114285714285714],\"matches\":\"y\",\"title\":{\"text\":\"\"}},\"xaxis4\":{\"anchor\":\"y4\",\"domain\":[0.0,0.98],\"matches\":\"x\",\"showticklabels\":false},\"yaxis4\":{\"anchor\":\"x4\",\"domain\":[0.4414285714285714,0.5585714285714285],\"matches\":\"y\",\"title\":{\"text\":\"\"}},\"xaxis5\":{\"anchor\":\"y5\",\"domain\":[0.0,0.98],\"matches\":\"x\",\"showticklabels\":false},\"yaxis5\":{\"anchor\":\"x5\",\"domain\":[0.5885714285714285,0.7057142857142856],\"matches\":\"y\",\"title\":{\"text\":\"\"}},\"xaxis6\":{\"anchor\":\"y6\",\"domain\":[0.0,0.98],\"matches\":\"x\",\"showticklabels\":false},\"yaxis6\":{\"anchor\":\"x6\",\"domain\":[0.7357142857142858,0.8528571428571429],\"matches\":\"y\",\"title\":{\"text\":\"\"}},\"xaxis7\":{\"anchor\":\"y7\",\"domain\":[0.0,0.98],\"matches\":\"x\",\"showticklabels\":false},\"yaxis7\":{\"anchor\":\"x7\",\"domain\":[0.8828571428571428,0.9999999999999999],\"matches\":\"y\",\"title\":{\"text\":\"\"}},\"annotations\":[{\"showarrow\":false,\"text\":\"ssp585_ff\",\"textangle\":90,\"x\":0.98,\"xanchor\":\"left\",\"xref\":\"paper\",\"y\":0.05857142857142857,\"yanchor\":\"middle\",\"yref\":\"paper\"},{\"showarrow\":false,\"text\":\"ssp585_nf\",\"textangle\":90,\"x\":0.98,\"xanchor\":\"left\",\"xref\":\"paper\",\"y\":0.2057142857142857,\"yanchor\":\"middle\",\"yref\":\"paper\"},{\"showarrow\":false,\"text\":\"ssp370_ff\",\"textangle\":90,\"x\":0.98,\"xanchor\":\"left\",\"xref\":\"paper\",\"y\":0.35285714285714287,\"yanchor\":\"middle\",\"yref\":\"paper\"},{\"showarrow\":false,\"text\":\"ssp370_nf\",\"textangle\":90,\"x\":0.98,\"xanchor\":\"left\",\"xref\":\"paper\",\"y\":0.49999999999999994,\"yanchor\":\"middle\",\"yref\":\"paper\"},{\"showarrow\":false,\"text\":\"ssp126_ff\",\"textangle\":90,\"x\":0.98,\"xanchor\":\"left\",\"xref\":\"paper\",\"y\":0.647142857142857,\"yanchor\":\"middle\",\"yref\":\"paper\"},{\"showarrow\":false,\"text\":\"ssp126_nf\",\"textangle\":90,\"x\":0.98,\"xanchor\":\"left\",\"xref\":\"paper\",\"y\":0.7942857142857143,\"yanchor\":\"middle\",\"yref\":\"paper\"},{\"showarrow\":false,\"text\":\"historic\",\"textangle\":90,\"x\":0.98,\"xanchor\":\"left\",\"xref\":\"paper\",\"y\":0.9414285714285713,\"yanchor\":\"middle\",\"yref\":\"paper\"},{\"font\":{\"size\":15},\"showarrow\":false,\"text\":\"WASP_raw_median\",\"textangle\":-90,\"x\":-0.04,\"xanchor\":\"center\",\"xref\":\"paper\",\"y\":0.5,\"yanchor\":\"middle\",\"yref\":\"paper\"}],\"legend\":{\"title\":{\"text\":\"NUTS_ID\"},\"tracegroupgap\":0},\"margin\":{\"t\":60},\"font\":{\"size\":12},\"title\":{\"text\":\"WASP raw comparison\"},\"height\":900,\"showlegend\":false},                        {\"responsive\": true}                    ).then(function(){\n",
       "                            \n",
       "var gd = document.getElementById('a55800f9-ceca-468f-a3b6-51eca32693ec');\n",
       "var x = new MutationObserver(function (mutations, observer) {{\n",
       "        var display = window.getComputedStyle(gd).display;\n",
       "        if (!display || display === 'none') {{\n",
       "            console.log([gd, 'removed!']);\n",
       "            Plotly.purge(gd);\n",
       "            observer.disconnect();\n",
       "        }}\n",
       "}});\n",
       "\n",
       "// Listen for the removal of the full notebook cells\n",
       "var notebookContainer = gd.closest('#notebook-container');\n",
       "if (notebookContainer) {{\n",
       "    x.observe(notebookContainer, {childList: true});\n",
       "}}\n",
       "\n",
       "// Listen for the clearing of the current output cell\n",
       "var outputEl = gd.closest('.output');\n",
       "if (outputEl) {{\n",
       "    x.observe(outputEl, {childList: true});\n",
       "}}\n",
       "\n",
       "                        })                };                });            </script>        </div>"
      ]
     },
     "metadata": {},
     "output_type": "display_data"
    },
    {
     "name": "stdout",
     "output_type": "stream",
     "text": [
      "\n",
      "\n"
     ]
    }
   ],
   "source": [
    "# Create a boolean mask for the focal area\n",
    "focal_area = df_['NUTS2'] == f\"{focal}\"\n",
    "df_focal_area = df_[focal_area][[\"NUTS_ID\", \"wasp_raw_mean\", 'data', \"wasp_raw_q25\", 'wasp_raw_median', \"wasp_raw_q75\", \"wasp_raw_count\", \"hazard_raw\"]]\n",
    "\n",
    "print('\\n')\n",
    "print('Scatter plot of WASP values at NUTS3 level for a focal NUTS2. The blue point represent the wasp median, the upper and lower bounds of the lines represent the 25% and 75% quartiles.')\n",
    "print('The red point represent the wasp mean.')\n",
    "\n",
    "fig = px.scatter(df_focal_area, x='NUTS_ID', y=\"wasp_raw_median\",\n",
    "                  facet_row='data', color ='NUTS_ID', error_y=\"wasp_raw_q25\", error_y_minus=\"wasp_raw_q75\")\n",
    "\n",
    "fig.for_each_annotation(lambda a: a.update(text=a.text.split(\"=\")[-1]))\n",
    "\n",
    "# Update layout and annotations\n",
    "fig.update_layout(\n",
    "    title=\"WASP raw comparison\",\n",
    "    height=900,\n",
    "    showlegend=False,\n",
    "    yaxis_title=\"\",\n",
    "    font=dict(size=12)  # Adjust the font size here\n",
    ")\n",
    "\n",
    "# turn off axis titles of y axes\n",
    "fig.for_each_yaxis(lambda y: y.update({'title': ''}))\n",
    "\n",
    "# add annotations\n",
    "fig.add_annotation(\n",
    "    showarrow=False,\n",
    "    xanchor='center',\n",
    "    xref='paper',\n",
    "    x=-0.04,\n",
    "    yanchor='middle',\n",
    "    yref='paper',\n",
    "    y=0.5,\n",
    "    textangle=-90,\n",
    "    text='WASP_raw_median',\n",
    "    font=dict(size=15)\n",
    ")\n",
    "\n",
    "fig.show()\n",
    "\n",
    "print('\\n')"
   ]
  },
  {
   "cell_type": "code",
   "execution_count": 260,
   "id": "0aa9b18d-9e28-4f18-9015-2c8e67b4cb68",
   "metadata": {},
   "outputs": [
    {
     "name": "stdout",
     "output_type": "stream",
     "text": [
      "\n",
      "\n",
      "Histogram of WASP index at NUTS3 level for all units in a given country. Selected NUTS2 (focal area) is colored blue:\n"
     ]
    },
    {
     "data": {
      "application/vnd.plotly.v1+json": {
       "config": {
        "plotlyServerURL": "https://plot.ly"
       },
       "data": [
        {
         "alignmentgroup": "True",
         "hovertemplate": "NUTS_ID=ES512<br>data=%{x}<br>wasp_raw_count=%{y}<extra></extra>",
         "legendgroup": "ES512",
         "marker": {
          "color": "#636efa",
          "pattern": {
           "shape": ""
          }
         },
         "name": "ES512",
         "offsetgroup": "ES512",
         "orientation": "v",
         "showlegend": true,
         "textposition": "auto",
         "type": "bar",
         "x": [
          "historic",
          "ssp126_nf",
          "ssp126_ff",
          "ssp370_nf",
          "ssp370_ff",
          "ssp585_nf",
          "ssp585_ff"
         ],
         "xaxis": "x",
         "y": [
          100,
          110,
          106,
          105,
          112,
          103,
          96
         ],
         "yaxis": "y"
        },
        {
         "alignmentgroup": "True",
         "hovertemplate": "NUTS_ID=ES511<br>data=%{x}<br>wasp_raw_count=%{y}<extra></extra>",
         "legendgroup": "ES511",
         "marker": {
          "color": "#EF553B",
          "pattern": {
           "shape": ""
          }
         },
         "name": "ES511",
         "offsetgroup": "ES511",
         "orientation": "v",
         "showlegend": true,
         "textposition": "auto",
         "type": "bar",
         "x": [
          "historic",
          "ssp126_nf",
          "ssp126_ff",
          "ssp370_nf",
          "ssp370_ff",
          "ssp585_nf",
          "ssp585_ff"
         ],
         "xaxis": "x",
         "y": [
          103,
          111,
          118,
          108,
          113,
          109,
          98
         ],
         "yaxis": "y"
        },
        {
         "alignmentgroup": "True",
         "hovertemplate": "NUTS_ID=ES514<br>data=%{x}<br>wasp_raw_count=%{y}<extra></extra>",
         "legendgroup": "ES514",
         "marker": {
          "color": "#00cc96",
          "pattern": {
           "shape": ""
          }
         },
         "name": "ES514",
         "offsetgroup": "ES514",
         "orientation": "v",
         "showlegend": true,
         "textposition": "auto",
         "type": "bar",
         "x": [
          "historic",
          "ssp126_nf",
          "ssp126_ff",
          "ssp370_nf",
          "ssp370_ff",
          "ssp585_nf",
          "ssp585_ff"
         ],
         "xaxis": "x",
         "y": [
          118,
          109,
          111,
          117,
          109,
          114,
          107
         ],
         "yaxis": "y"
        },
        {
         "alignmentgroup": "True",
         "hovertemplate": "NUTS_ID=ES513<br>data=%{x}<br>wasp_raw_count=%{y}<extra></extra>",
         "legendgroup": "ES513",
         "marker": {
          "color": "#ab63fa",
          "pattern": {
           "shape": ""
          }
         },
         "name": "ES513",
         "offsetgroup": "ES513",
         "orientation": "v",
         "showlegend": true,
         "textposition": "auto",
         "type": "bar",
         "x": [
          "historic",
          "ssp126_nf",
          "ssp126_ff",
          "ssp370_nf",
          "ssp370_ff",
          "ssp585_nf",
          "ssp585_ff"
         ],
         "xaxis": "x",
         "y": [
          95,
          107,
          114,
          111,
          112,
          109,
          97
         ],
         "yaxis": "y"
        }
       ],
       "layout": {
        "autosize": true,
        "barmode": "relative",
        "legend": {
         "title": {
          "text": "Selected NUTS2"
         },
         "tracegroupgap": 0
        },
        "margin": {
         "t": 60
        },
        "template": {
         "data": {
          "bar": [
           {
            "error_x": {
             "color": "#2a3f5f"
            },
            "error_y": {
             "color": "#2a3f5f"
            },
            "marker": {
             "line": {
              "color": "#E5ECF6",
              "width": 0.5
             },
             "pattern": {
              "fillmode": "overlay",
              "size": 10,
              "solidity": 0.2
             }
            },
            "type": "bar"
           }
          ],
          "barpolar": [
           {
            "marker": {
             "line": {
              "color": "#E5ECF6",
              "width": 0.5
             },
             "pattern": {
              "fillmode": "overlay",
              "size": 10,
              "solidity": 0.2
             }
            },
            "type": "barpolar"
           }
          ],
          "carpet": [
           {
            "aaxis": {
             "endlinecolor": "#2a3f5f",
             "gridcolor": "white",
             "linecolor": "white",
             "minorgridcolor": "white",
             "startlinecolor": "#2a3f5f"
            },
            "baxis": {
             "endlinecolor": "#2a3f5f",
             "gridcolor": "white",
             "linecolor": "white",
             "minorgridcolor": "white",
             "startlinecolor": "#2a3f5f"
            },
            "type": "carpet"
           }
          ],
          "choropleth": [
           {
            "colorbar": {
             "outlinewidth": 0,
             "ticks": ""
            },
            "type": "choropleth"
           }
          ],
          "contour": [
           {
            "colorbar": {
             "outlinewidth": 0,
             "ticks": ""
            },
            "colorscale": [
             [
              0,
              "#0d0887"
             ],
             [
              0.1111111111111111,
              "#46039f"
             ],
             [
              0.2222222222222222,
              "#7201a8"
             ],
             [
              0.3333333333333333,
              "#9c179e"
             ],
             [
              0.4444444444444444,
              "#bd3786"
             ],
             [
              0.5555555555555556,
              "#d8576b"
             ],
             [
              0.6666666666666666,
              "#ed7953"
             ],
             [
              0.7777777777777778,
              "#fb9f3a"
             ],
             [
              0.8888888888888888,
              "#fdca26"
             ],
             [
              1,
              "#f0f921"
             ]
            ],
            "type": "contour"
           }
          ],
          "contourcarpet": [
           {
            "colorbar": {
             "outlinewidth": 0,
             "ticks": ""
            },
            "type": "contourcarpet"
           }
          ],
          "heatmap": [
           {
            "colorbar": {
             "outlinewidth": 0,
             "ticks": ""
            },
            "colorscale": [
             [
              0,
              "#0d0887"
             ],
             [
              0.1111111111111111,
              "#46039f"
             ],
             [
              0.2222222222222222,
              "#7201a8"
             ],
             [
              0.3333333333333333,
              "#9c179e"
             ],
             [
              0.4444444444444444,
              "#bd3786"
             ],
             [
              0.5555555555555556,
              "#d8576b"
             ],
             [
              0.6666666666666666,
              "#ed7953"
             ],
             [
              0.7777777777777778,
              "#fb9f3a"
             ],
             [
              0.8888888888888888,
              "#fdca26"
             ],
             [
              1,
              "#f0f921"
             ]
            ],
            "type": "heatmap"
           }
          ],
          "heatmapgl": [
           {
            "colorbar": {
             "outlinewidth": 0,
             "ticks": ""
            },
            "colorscale": [
             [
              0,
              "#0d0887"
             ],
             [
              0.1111111111111111,
              "#46039f"
             ],
             [
              0.2222222222222222,
              "#7201a8"
             ],
             [
              0.3333333333333333,
              "#9c179e"
             ],
             [
              0.4444444444444444,
              "#bd3786"
             ],
             [
              0.5555555555555556,
              "#d8576b"
             ],
             [
              0.6666666666666666,
              "#ed7953"
             ],
             [
              0.7777777777777778,
              "#fb9f3a"
             ],
             [
              0.8888888888888888,
              "#fdca26"
             ],
             [
              1,
              "#f0f921"
             ]
            ],
            "type": "heatmapgl"
           }
          ],
          "histogram": [
           {
            "marker": {
             "pattern": {
              "fillmode": "overlay",
              "size": 10,
              "solidity": 0.2
             }
            },
            "type": "histogram"
           }
          ],
          "histogram2d": [
           {
            "colorbar": {
             "outlinewidth": 0,
             "ticks": ""
            },
            "colorscale": [
             [
              0,
              "#0d0887"
             ],
             [
              0.1111111111111111,
              "#46039f"
             ],
             [
              0.2222222222222222,
              "#7201a8"
             ],
             [
              0.3333333333333333,
              "#9c179e"
             ],
             [
              0.4444444444444444,
              "#bd3786"
             ],
             [
              0.5555555555555556,
              "#d8576b"
             ],
             [
              0.6666666666666666,
              "#ed7953"
             ],
             [
              0.7777777777777778,
              "#fb9f3a"
             ],
             [
              0.8888888888888888,
              "#fdca26"
             ],
             [
              1,
              "#f0f921"
             ]
            ],
            "type": "histogram2d"
           }
          ],
          "histogram2dcontour": [
           {
            "colorbar": {
             "outlinewidth": 0,
             "ticks": ""
            },
            "colorscale": [
             [
              0,
              "#0d0887"
             ],
             [
              0.1111111111111111,
              "#46039f"
             ],
             [
              0.2222222222222222,
              "#7201a8"
             ],
             [
              0.3333333333333333,
              "#9c179e"
             ],
             [
              0.4444444444444444,
              "#bd3786"
             ],
             [
              0.5555555555555556,
              "#d8576b"
             ],
             [
              0.6666666666666666,
              "#ed7953"
             ],
             [
              0.7777777777777778,
              "#fb9f3a"
             ],
             [
              0.8888888888888888,
              "#fdca26"
             ],
             [
              1,
              "#f0f921"
             ]
            ],
            "type": "histogram2dcontour"
           }
          ],
          "mesh3d": [
           {
            "colorbar": {
             "outlinewidth": 0,
             "ticks": ""
            },
            "type": "mesh3d"
           }
          ],
          "parcoords": [
           {
            "line": {
             "colorbar": {
              "outlinewidth": 0,
              "ticks": ""
             }
            },
            "type": "parcoords"
           }
          ],
          "pie": [
           {
            "automargin": true,
            "type": "pie"
           }
          ],
          "scatter": [
           {
            "fillpattern": {
             "fillmode": "overlay",
             "size": 10,
             "solidity": 0.2
            },
            "type": "scatter"
           }
          ],
          "scatter3d": [
           {
            "line": {
             "colorbar": {
              "outlinewidth": 0,
              "ticks": ""
             }
            },
            "marker": {
             "colorbar": {
              "outlinewidth": 0,
              "ticks": ""
             }
            },
            "type": "scatter3d"
           }
          ],
          "scattercarpet": [
           {
            "marker": {
             "colorbar": {
              "outlinewidth": 0,
              "ticks": ""
             }
            },
            "type": "scattercarpet"
           }
          ],
          "scattergeo": [
           {
            "marker": {
             "colorbar": {
              "outlinewidth": 0,
              "ticks": ""
             }
            },
            "type": "scattergeo"
           }
          ],
          "scattergl": [
           {
            "marker": {
             "colorbar": {
              "outlinewidth": 0,
              "ticks": ""
             }
            },
            "type": "scattergl"
           }
          ],
          "scattermapbox": [
           {
            "marker": {
             "colorbar": {
              "outlinewidth": 0,
              "ticks": ""
             }
            },
            "type": "scattermapbox"
           }
          ],
          "scatterpolar": [
           {
            "marker": {
             "colorbar": {
              "outlinewidth": 0,
              "ticks": ""
             }
            },
            "type": "scatterpolar"
           }
          ],
          "scatterpolargl": [
           {
            "marker": {
             "colorbar": {
              "outlinewidth": 0,
              "ticks": ""
             }
            },
            "type": "scatterpolargl"
           }
          ],
          "scatterternary": [
           {
            "marker": {
             "colorbar": {
              "outlinewidth": 0,
              "ticks": ""
             }
            },
            "type": "scatterternary"
           }
          ],
          "surface": [
           {
            "colorbar": {
             "outlinewidth": 0,
             "ticks": ""
            },
            "colorscale": [
             [
              0,
              "#0d0887"
             ],
             [
              0.1111111111111111,
              "#46039f"
             ],
             [
              0.2222222222222222,
              "#7201a8"
             ],
             [
              0.3333333333333333,
              "#9c179e"
             ],
             [
              0.4444444444444444,
              "#bd3786"
             ],
             [
              0.5555555555555556,
              "#d8576b"
             ],
             [
              0.6666666666666666,
              "#ed7953"
             ],
             [
              0.7777777777777778,
              "#fb9f3a"
             ],
             [
              0.8888888888888888,
              "#fdca26"
             ],
             [
              1,
              "#f0f921"
             ]
            ],
            "type": "surface"
           }
          ],
          "table": [
           {
            "cells": {
             "fill": {
              "color": "#EBF0F8"
             },
             "line": {
              "color": "white"
             }
            },
            "header": {
             "fill": {
              "color": "#C8D4E3"
             },
             "line": {
              "color": "white"
             }
            },
            "type": "table"
           }
          ]
         },
         "layout": {
          "annotationdefaults": {
           "arrowcolor": "#2a3f5f",
           "arrowhead": 0,
           "arrowwidth": 1
          },
          "autotypenumbers": "strict",
          "coloraxis": {
           "colorbar": {
            "outlinewidth": 0,
            "ticks": ""
           }
          },
          "colorscale": {
           "diverging": [
            [
             0,
             "#8e0152"
            ],
            [
             0.1,
             "#c51b7d"
            ],
            [
             0.2,
             "#de77ae"
            ],
            [
             0.3,
             "#f1b6da"
            ],
            [
             0.4,
             "#fde0ef"
            ],
            [
             0.5,
             "#f7f7f7"
            ],
            [
             0.6,
             "#e6f5d0"
            ],
            [
             0.7,
             "#b8e186"
            ],
            [
             0.8,
             "#7fbc41"
            ],
            [
             0.9,
             "#4d9221"
            ],
            [
             1,
             "#276419"
            ]
           ],
           "sequential": [
            [
             0,
             "#0d0887"
            ],
            [
             0.1111111111111111,
             "#46039f"
            ],
            [
             0.2222222222222222,
             "#7201a8"
            ],
            [
             0.3333333333333333,
             "#9c179e"
            ],
            [
             0.4444444444444444,
             "#bd3786"
            ],
            [
             0.5555555555555556,
             "#d8576b"
            ],
            [
             0.6666666666666666,
             "#ed7953"
            ],
            [
             0.7777777777777778,
             "#fb9f3a"
            ],
            [
             0.8888888888888888,
             "#fdca26"
            ],
            [
             1,
             "#f0f921"
            ]
           ],
           "sequentialminus": [
            [
             0,
             "#0d0887"
            ],
            [
             0.1111111111111111,
             "#46039f"
            ],
            [
             0.2222222222222222,
             "#7201a8"
            ],
            [
             0.3333333333333333,
             "#9c179e"
            ],
            [
             0.4444444444444444,
             "#bd3786"
            ],
            [
             0.5555555555555556,
             "#d8576b"
            ],
            [
             0.6666666666666666,
             "#ed7953"
            ],
            [
             0.7777777777777778,
             "#fb9f3a"
            ],
            [
             0.8888888888888888,
             "#fdca26"
            ],
            [
             1,
             "#f0f921"
            ]
           ]
          },
          "colorway": [
           "#636efa",
           "#EF553B",
           "#00cc96",
           "#ab63fa",
           "#FFA15A",
           "#19d3f3",
           "#FF6692",
           "#B6E880",
           "#FF97FF",
           "#FECB52"
          ],
          "font": {
           "color": "#2a3f5f"
          },
          "geo": {
           "bgcolor": "white",
           "lakecolor": "white",
           "landcolor": "#E5ECF6",
           "showlakes": true,
           "showland": true,
           "subunitcolor": "white"
          },
          "hoverlabel": {
           "align": "left"
          },
          "hovermode": "closest",
          "mapbox": {
           "style": "light"
          },
          "paper_bgcolor": "white",
          "plot_bgcolor": "#E5ECF6",
          "polar": {
           "angularaxis": {
            "gridcolor": "white",
            "linecolor": "white",
            "ticks": ""
           },
           "bgcolor": "#E5ECF6",
           "radialaxis": {
            "gridcolor": "white",
            "linecolor": "white",
            "ticks": ""
           }
          },
          "scene": {
           "xaxis": {
            "backgroundcolor": "#E5ECF6",
            "gridcolor": "white",
            "gridwidth": 2,
            "linecolor": "white",
            "showbackground": true,
            "ticks": "",
            "zerolinecolor": "white"
           },
           "yaxis": {
            "backgroundcolor": "#E5ECF6",
            "gridcolor": "white",
            "gridwidth": 2,
            "linecolor": "white",
            "showbackground": true,
            "ticks": "",
            "zerolinecolor": "white"
           },
           "zaxis": {
            "backgroundcolor": "#E5ECF6",
            "gridcolor": "white",
            "gridwidth": 2,
            "linecolor": "white",
            "showbackground": true,
            "ticks": "",
            "zerolinecolor": "white"
           }
          },
          "shapedefaults": {
           "line": {
            "color": "#2a3f5f"
           }
          },
          "ternary": {
           "aaxis": {
            "gridcolor": "white",
            "linecolor": "white",
            "ticks": ""
           },
           "baxis": {
            "gridcolor": "white",
            "linecolor": "white",
            "ticks": ""
           },
           "bgcolor": "#E5ECF6",
           "caxis": {
            "gridcolor": "white",
            "linecolor": "white",
            "ticks": ""
           }
          },
          "title": {
           "x": 0.05
          },
          "xaxis": {
           "automargin": true,
           "gridcolor": "white",
           "linecolor": "white",
           "ticks": "",
           "title": {
            "standoff": 15
           },
           "zerolinecolor": "white",
           "zerolinewidth": 2
          },
          "yaxis": {
           "automargin": true,
           "gridcolor": "white",
           "linecolor": "white",
           "ticks": "",
           "title": {
            "standoff": 15
           },
           "zerolinecolor": "white",
           "zerolinewidth": 2
          }
         }
        },
        "xaxis": {
         "anchor": "y",
         "autorange": true,
         "domain": [
          0,
          1
         ],
         "range": [
          -0.5,
          6.5
         ],
         "title": {
          "text": "data"
         },
         "type": "category"
        },
        "yaxis": {
         "anchor": "x",
         "autorange": true,
         "domain": [
          0,
          1
         ],
         "range": [
          0,
          472.63157894736844
         ],
         "title": {
          "text": "wasp_raw_count"
         },
         "type": "linear"
        }
       }
      },
      "image/png": "[encoded data removed]",
      "text/html": [
       "<div>                            <div id=\"8132d2f5-434c-4937-8511-afa921db1b40\" class=\"plotly-graph-div\" style=\"height:500px; width:100%;\"></div>            <script type=\"text/javascript\">                require([\"plotly\"], function(Plotly) {                    window.PLOTLYENV=window.PLOTLYENV || {};                                    if (document.getElementById(\"8132d2f5-434c-4937-8511-afa921db1b40\")) {                    Plotly.newPlot(                        \"8132d2f5-434c-4937-8511-afa921db1b40\",                        [{\"alignmentgroup\":\"True\",\"hovertemplate\":\"NUTS_ID=ES512\\u003cbr\\u003edata=%{x}\\u003cbr\\u003ewasp_raw_count=%{y}\\u003cextra\\u003e\\u003c\\u002fextra\\u003e\",\"legendgroup\":\"ES512\",\"marker\":{\"color\":\"#636efa\",\"pattern\":{\"shape\":\"\"}},\"name\":\"ES512\",\"offsetgroup\":\"ES512\",\"orientation\":\"v\",\"showlegend\":true,\"textposition\":\"auto\",\"x\":[\"historic\",\"ssp126_nf\",\"ssp126_ff\",\"ssp370_nf\",\"ssp370_ff\",\"ssp585_nf\",\"ssp585_ff\"],\"xaxis\":\"x\",\"y\":[100,110,106,105,112,103,96],\"yaxis\":\"y\",\"type\":\"bar\"},{\"alignmentgroup\":\"True\",\"hovertemplate\":\"NUTS_ID=ES511\\u003cbr\\u003edata=%{x}\\u003cbr\\u003ewasp_raw_count=%{y}\\u003cextra\\u003e\\u003c\\u002fextra\\u003e\",\"legendgroup\":\"ES511\",\"marker\":{\"color\":\"#EF553B\",\"pattern\":{\"shape\":\"\"}},\"name\":\"ES511\",\"offsetgroup\":\"ES511\",\"orientation\":\"v\",\"showlegend\":true,\"textposition\":\"auto\",\"x\":[\"historic\",\"ssp126_nf\",\"ssp126_ff\",\"ssp370_nf\",\"ssp370_ff\",\"ssp585_nf\",\"ssp585_ff\"],\"xaxis\":\"x\",\"y\":[103,111,118,108,113,109,98],\"yaxis\":\"y\",\"type\":\"bar\"},{\"alignmentgroup\":\"True\",\"hovertemplate\":\"NUTS_ID=ES514\\u003cbr\\u003edata=%{x}\\u003cbr\\u003ewasp_raw_count=%{y}\\u003cextra\\u003e\\u003c\\u002fextra\\u003e\",\"legendgroup\":\"ES514\",\"marker\":{\"color\":\"#00cc96\",\"pattern\":{\"shape\":\"\"}},\"name\":\"ES514\",\"offsetgroup\":\"ES514\",\"orientation\":\"v\",\"showlegend\":true,\"textposition\":\"auto\",\"x\":[\"historic\",\"ssp126_nf\",\"ssp126_ff\",\"ssp370_nf\",\"ssp370_ff\",\"ssp585_nf\",\"ssp585_ff\"],\"xaxis\":\"x\",\"y\":[118,109,111,117,109,114,107],\"yaxis\":\"y\",\"type\":\"bar\"},{\"alignmentgroup\":\"True\",\"hovertemplate\":\"NUTS_ID=ES513\\u003cbr\\u003edata=%{x}\\u003cbr\\u003ewasp_raw_count=%{y}\\u003cextra\\u003e\\u003c\\u002fextra\\u003e\",\"legendgroup\":\"ES513\",\"marker\":{\"color\":\"#ab63fa\",\"pattern\":{\"shape\":\"\"}},\"name\":\"ES513\",\"offsetgroup\":\"ES513\",\"orientation\":\"v\",\"showlegend\":true,\"textposition\":\"auto\",\"x\":[\"historic\",\"ssp126_nf\",\"ssp126_ff\",\"ssp370_nf\",\"ssp370_ff\",\"ssp585_nf\",\"ssp585_ff\"],\"xaxis\":\"x\",\"y\":[95,107,114,111,112,109,97],\"yaxis\":\"y\",\"type\":\"bar\"}],                        {\"template\":{\"data\":{\"histogram2dcontour\":[{\"type\":\"histogram2dcontour\",\"colorbar\":{\"outlinewidth\":0,\"ticks\":\"\"},\"colorscale\":[[0.0,\"#0d0887\"],[0.1111111111111111,\"#46039f\"],[0.2222222222222222,\"#7201a8\"],[0.3333333333333333,\"#9c179e\"],[0.4444444444444444,\"#bd3786\"],[0.5555555555555556,\"#d8576b\"],[0.6666666666666666,\"#ed7953\"],[0.7777777777777778,\"#fb9f3a\"],[0.8888888888888888,\"#fdca26\"],[1.0,\"#f0f921\"]]}],\"choropleth\":[{\"type\":\"choropleth\",\"colorbar\":{\"outlinewidth\":0,\"ticks\":\"\"}}],\"histogram2d\":[{\"type\":\"histogram2d\",\"colorbar\":{\"outlinewidth\":0,\"ticks\":\"\"},\"colorscale\":[[0.0,\"#0d0887\"],[0.1111111111111111,\"#46039f\"],[0.2222222222222222,\"#7201a8\"],[0.3333333333333333,\"#9c179e\"],[0.4444444444444444,\"#bd3786\"],[0.5555555555555556,\"#d8576b\"],[0.6666666666666666,\"#ed7953\"],[0.7777777777777778,\"#fb9f3a\"],[0.8888888888888888,\"#fdca26\"],[1.0,\"#f0f921\"]]}],\"heatmap\":[{\"type\":\"heatmap\",\"colorbar\":{\"outlinewidth\":0,\"ticks\":\"\"},\"colorscale\":[[0.0,\"#0d0887\"],[0.1111111111111111,\"#46039f\"],[0.2222222222222222,\"#7201a8\"],[0.3333333333333333,\"#9c179e\"],[0.4444444444444444,\"#bd3786\"],[0.5555555555555556,\"#d8576b\"],[0.6666666666666666,\"#ed7953\"],[0.7777777777777778,\"#fb9f3a\"],[0.8888888888888888,\"#fdca26\"],[1.0,\"#f0f921\"]]}],\"heatmapgl\":[{\"type\":\"heatmapgl\",\"colorbar\":{\"outlinewidth\":0,\"ticks\":\"\"},\"colorscale\":[[0.0,\"#0d0887\"],[0.1111111111111111,\"#46039f\"],[0.2222222222222222,\"#7201a8\"],[0.3333333333333333,\"#9c179e\"],[0.4444444444444444,\"#bd3786\"],[0.5555555555555556,\"#d8576b\"],[0.6666666666666666,\"#ed7953\"],[0.7777777777777778,\"#fb9f3a\"],[0.8888888888888888,\"#fdca26\"],[1.0,\"#f0f921\"]]}],\"contourcarpet\":[{\"type\":\"contourcarpet\",\"colorbar\":{\"outlinewidth\":0,\"ticks\":\"\"}}],\"contour\":[{\"type\":\"contour\",\"colorbar\":{\"outlinewidth\":0,\"ticks\":\"\"},\"colorscale\":[[0.0,\"#0d0887\"],[0.1111111111111111,\"#46039f\"],[0.2222222222222222,\"#7201a8\"],[0.3333333333333333,\"#9c179e\"],[0.4444444444444444,\"#bd3786\"],[0.5555555555555556,\"#d8576b\"],[0.6666666666666666,\"#ed7953\"],[0.7777777777777778,\"#fb9f3a\"],[0.8888888888888888,\"#fdca26\"],[1.0,\"#f0f921\"]]}],\"surface\":[{\"type\":\"surface\",\"colorbar\":{\"outlinewidth\":0,\"ticks\":\"\"},\"colorscale\":[[0.0,\"#0d0887\"],[0.1111111111111111,\"#46039f\"],[0.2222222222222222,\"#7201a8\"],[0.3333333333333333,\"#9c179e\"],[0.4444444444444444,\"#bd3786\"],[0.5555555555555556,\"#d8576b\"],[0.6666666666666666,\"#ed7953\"],[0.7777777777777778,\"#fb9f3a\"],[0.8888888888888888,\"#fdca26\"],[1.0,\"#f0f921\"]]}],\"mesh3d\":[{\"type\":\"mesh3d\",\"colorbar\":{\"outlinewidth\":0,\"ticks\":\"\"}}],\"scatter\":[{\"fillpattern\":{\"fillmode\":\"overlay\",\"size\":10,\"solidity\":0.2},\"type\":\"scatter\"}],\"parcoords\":[{\"type\":\"parcoords\",\"line\":{\"colorbar\":{\"outlinewidth\":0,\"ticks\":\"\"}}}],\"scatterpolargl\":[{\"type\":\"scatterpolargl\",\"marker\":{\"colorbar\":{\"outlinewidth\":0,\"ticks\":\"\"}}}],\"bar\":[{\"error_x\":{\"color\":\"#2a3f5f\"},\"error_y\":{\"color\":\"#2a3f5f\"},\"marker\":{\"line\":{\"color\":\"#E5ECF6\",\"width\":0.5},\"pattern\":{\"fillmode\":\"overlay\",\"size\":10,\"solidity\":0.2}},\"type\":\"bar\"}],\"scattergeo\":[{\"type\":\"scattergeo\",\"marker\":{\"colorbar\":{\"outlinewidth\":0,\"ticks\":\"\"}}}],\"scatterpolar\":[{\"type\":\"scatterpolar\",\"marker\":{\"colorbar\":{\"outlinewidth\":0,\"ticks\":\"\"}}}],\"histogram\":[{\"marker\":{\"pattern\":{\"fillmode\":\"overlay\",\"size\":10,\"solidity\":0.2}},\"type\":\"histogram\"}],\"scattergl\":[{\"type\":\"scattergl\",\"marker\":{\"colorbar\":{\"outlinewidth\":0,\"ticks\":\"\"}}}],\"scatter3d\":[{\"type\":\"scatter3d\",\"line\":{\"colorbar\":{\"outlinewidth\":0,\"ticks\":\"\"}},\"marker\":{\"colorbar\":{\"outlinewidth\":0,\"ticks\":\"\"}}}],\"scattermapbox\":[{\"type\":\"scattermapbox\",\"marker\":{\"colorbar\":{\"outlinewidth\":0,\"ticks\":\"\"}}}],\"scatterternary\":[{\"type\":\"scatterternary\",\"marker\":{\"colorbar\":{\"outlinewidth\":0,\"ticks\":\"\"}}}],\"scattercarpet\":[{\"type\":\"scattercarpet\",\"marker\":{\"colorbar\":{\"outlinewidth\":0,\"ticks\":\"\"}}}],\"carpet\":[{\"aaxis\":{\"endlinecolor\":\"#2a3f5f\",\"gridcolor\":\"white\",\"linecolor\":\"white\",\"minorgridcolor\":\"white\",\"startlinecolor\":\"#2a3f5f\"},\"baxis\":{\"endlinecolor\":\"#2a3f5f\",\"gridcolor\":\"white\",\"linecolor\":\"white\",\"minorgridcolor\":\"white\",\"startlinecolor\":\"#2a3f5f\"},\"type\":\"carpet\"}],\"table\":[{\"cells\":{\"fill\":{\"color\":\"#EBF0F8\"},\"line\":{\"color\":\"white\"}},\"header\":{\"fill\":{\"color\":\"#C8D4E3\"},\"line\":{\"color\":\"white\"}},\"type\":\"table\"}],\"barpolar\":[{\"marker\":{\"line\":{\"color\":\"#E5ECF6\",\"width\":0.5},\"pattern\":{\"fillmode\":\"overlay\",\"size\":10,\"solidity\":0.2}},\"type\":\"barpolar\"}],\"pie\":[{\"automargin\":true,\"type\":\"pie\"}]},\"layout\":{\"autotypenumbers\":\"strict\",\"colorway\":[\"#636efa\",\"#EF553B\",\"#00cc96\",\"#ab63fa\",\"#FFA15A\",\"#19d3f3\",\"#FF6692\",\"#B6E880\",\"#FF97FF\",\"#FECB52\"],\"font\":{\"color\":\"#2a3f5f\"},\"hovermode\":\"closest\",\"hoverlabel\":{\"align\":\"left\"},\"paper_bgcolor\":\"white\",\"plot_bgcolor\":\"#E5ECF6\",\"polar\":{\"bgcolor\":\"#E5ECF6\",\"angularaxis\":{\"gridcolor\":\"white\",\"linecolor\":\"white\",\"ticks\":\"\"},\"radialaxis\":{\"gridcolor\":\"white\",\"linecolor\":\"white\",\"ticks\":\"\"}},\"ternary\":{\"bgcolor\":\"#E5ECF6\",\"aaxis\":{\"gridcolor\":\"white\",\"linecolor\":\"white\",\"ticks\":\"\"},\"baxis\":{\"gridcolor\":\"white\",\"linecolor\":\"white\",\"ticks\":\"\"},\"caxis\":{\"gridcolor\":\"white\",\"linecolor\":\"white\",\"ticks\":\"\"}},\"coloraxis\":{\"colorbar\":{\"outlinewidth\":0,\"ticks\":\"\"}},\"colorscale\":{\"sequential\":[[0.0,\"#0d0887\"],[0.1111111111111111,\"#46039f\"],[0.2222222222222222,\"#7201a8\"],[0.3333333333333333,\"#9c179e\"],[0.4444444444444444,\"#bd3786\"],[0.5555555555555556,\"#d8576b\"],[0.6666666666666666,\"#ed7953\"],[0.7777777777777778,\"#fb9f3a\"],[0.8888888888888888,\"#fdca26\"],[1.0,\"#f0f921\"]],\"sequentialminus\":[[0.0,\"#0d0887\"],[0.1111111111111111,\"#46039f\"],[0.2222222222222222,\"#7201a8\"],[0.3333333333333333,\"#9c179e\"],[0.4444444444444444,\"#bd3786\"],[0.5555555555555556,\"#d8576b\"],[0.6666666666666666,\"#ed7953\"],[0.7777777777777778,\"#fb9f3a\"],[0.8888888888888888,\"#fdca26\"],[1.0,\"#f0f921\"]],\"diverging\":[[0,\"#8e0152\"],[0.1,\"#c51b7d\"],[0.2,\"#de77ae\"],[0.3,\"#f1b6da\"],[0.4,\"#fde0ef\"],[0.5,\"#f7f7f7\"],[0.6,\"#e6f5d0\"],[0.7,\"#b8e186\"],[0.8,\"#7fbc41\"],[0.9,\"#4d9221\"],[1,\"#276419\"]]},\"xaxis\":{\"gridcolor\":\"white\",\"linecolor\":\"white\",\"ticks\":\"\",\"title\":{\"standoff\":15},\"zerolinecolor\":\"white\",\"automargin\":true,\"zerolinewidth\":2},\"yaxis\":{\"gridcolor\":\"white\",\"linecolor\":\"white\",\"ticks\":\"\",\"title\":{\"standoff\":15},\"zerolinecolor\":\"white\",\"automargin\":true,\"zerolinewidth\":2},\"scene\":{\"xaxis\":{\"backgroundcolor\":\"#E5ECF6\",\"gridcolor\":\"white\",\"linecolor\":\"white\",\"showbackground\":true,\"ticks\":\"\",\"zerolinecolor\":\"white\",\"gridwidth\":2},\"yaxis\":{\"backgroundcolor\":\"#E5ECF6\",\"gridcolor\":\"white\",\"linecolor\":\"white\",\"showbackground\":true,\"ticks\":\"\",\"zerolinecolor\":\"white\",\"gridwidth\":2},\"zaxis\":{\"backgroundcolor\":\"#E5ECF6\",\"gridcolor\":\"white\",\"linecolor\":\"white\",\"showbackground\":true,\"ticks\":\"\",\"zerolinecolor\":\"white\",\"gridwidth\":2}},\"shapedefaults\":{\"line\":{\"color\":\"#2a3f5f\"}},\"annotationdefaults\":{\"arrowcolor\":\"#2a3f5f\",\"arrowhead\":0,\"arrowwidth\":1},\"geo\":{\"bgcolor\":\"white\",\"landcolor\":\"#E5ECF6\",\"subunitcolor\":\"white\",\"showland\":true,\"showlakes\":true,\"lakecolor\":\"white\"},\"title\":{\"x\":0.05},\"mapbox\":{\"style\":\"light\"}}},\"xaxis\":{\"anchor\":\"y\",\"domain\":[0.0,1.0],\"title\":{\"text\":\"data\"}},\"yaxis\":{\"anchor\":\"x\",\"domain\":[0.0,1.0],\"title\":{\"text\":\"wasp_raw_count\"}},\"legend\":{\"title\":{\"text\":\"Selected NUTS2\"},\"tracegroupgap\":0},\"margin\":{\"t\":60},\"barmode\":\"relative\",\"height\":500},                        {\"responsive\": true}                    ).then(function(){\n",
       "                            \n",
       "var gd = document.getElementById('8132d2f5-434c-4937-8511-afa921db1b40');\n",
       "var x = new MutationObserver(function (mutations, observer) {{\n",
       "        var display = window.getComputedStyle(gd).display;\n",
       "        if (!display || display === 'none') {{\n",
       "            console.log([gd, 'removed!']);\n",
       "            Plotly.purge(gd);\n",
       "            observer.disconnect();\n",
       "        }}\n",
       "}});\n",
       "\n",
       "// Listen for the removal of the full notebook cells\n",
       "var notebookContainer = gd.closest('#notebook-container');\n",
       "if (notebookContainer) {{\n",
       "    x.observe(notebookContainer, {childList: true});\n",
       "}}\n",
       "\n",
       "// Listen for the clearing of the current output cell\n",
       "var outputEl = gd.closest('.output');\n",
       "if (outputEl) {{\n",
       "    x.observe(outputEl, {childList: true});\n",
       "}}\n",
       "\n",
       "                        })                };                });            </script>        </div>"
      ]
     },
     "metadata": {},
     "output_type": "display_data"
    },
    {
     "name": "stdout",
     "output_type": "stream",
     "text": [
      "\n",
      "\n"
     ]
    }
   ],
   "source": [
    "print('\\n')\n",
    "print('Histogram of WASP index at NUTS3 level for all units in a given country. Selected NUTS2 (focal area) is colored blue:')\n",
    "\n",
    "fig2 = px.bar(df_[df_['NUTS2'] == \"ES51\"][[\"NUTS_ID\", 'data', 'wasp_raw_count']],\\\n",
    "                     y='wasp_raw_count',\\\n",
    "                     x='data',\\\n",
    "                     color='NUTS_ID')\n",
    "                    \n",
    "fig2.update_layout(\n",
    "legend = dict(title = \"Selected NUTS2\"),\n",
    "height = 500)\n",
    "\n",
    "fig2.show()\n",
    "\n",
    "print('\\n')\n"
   ]
  },
  {
   "cell_type": "markdown",
   "id": "9894fe05-7206-4468-9441-6d974a1a2e27",
   "metadata": {},
   "source": [
    "## Conclusions\n",
    "\n",
    "The above workflow estimates the relative drought risk of European NUTS2 regions as the product of drought hazard, exposure, and vulnerability. It results in relative drought risk classes ranging between 1 (low risk, 0 -0.2 risk) to 5 (high risk, 0.8 -1).\n",
    "The European drought risk map shows hotspots with higher drought risk (class 2 -3) in Southern Spain, Northern France, Italy, Hungary, Serbia, and Romania. In the Northern parts of Europe, higher drought risk is shown in Poland, North Germany, Denmark, and parts of the Netherlands and Belgium.\n",
    "\n",
    "Half of the NUTS2 units' hazard scores are high, ranging between 0.73 -0.8. The vulnerability is also relatively homogenous across the region, as half of the NUTS2 units range between 0.8 -0.88. The Balkan is the most vulnerable region having a minimum vulnerability score of 0.89. It means that the overall drought risk is limited mainly by exposure, which do not exceed 0.43 for 75% of the NUTS2 units.\n",
    "\n",
    "A comparison with published literature$^2$ overall approves the current drought risk map. Although some discrepancies are evident, particularly in NUTS2 units in the Netherlands and Belgium, they may be associated with differences in precipitation data, temporal coverage, spatial resolution, and spatial coverage. Though different input data largely result in consistent drought hazard estimates, it may lead to local discrepancies in different regions (e.g., Central and Northern Europe)$^6$."
   ]
  },
  {
   "cell_type": "markdown",
   "id": "58a12200-0053-4e52-945e-844b6ad72543",
   "metadata": {},
   "source": [
    "## Contributors\n",
    "The workflow has beend developed by [Silvia Artuso](https://iiasa.ac.at/staff/silvia-artuso) and [Dor Fridman](https://iiasa.ac.at/staff/dor-fridman) from [IIASA's Water Security Research Group](https://iiasa.ac.at/programs/biodiversity-and-natural-resources-bnr/water-security), and supported by [Michaela Bachmann](https://iiasa.ac.at/staff/michaela-bachmann) from [IIASA's Systemic Risk and Reslience Research Group](https://iiasa.ac.at/programs/advancing-systems-analysis-asa/systemic-risk-and-resilience)."
   ]
  },
  {
   "cell_type": "markdown",
   "id": "9772f1a6",
   "metadata": {},
   "source": [
    "## References\n",
    "\n",
    "[1] Zargar, A., Sadiq, R., Naser, B., & Khan, F. I. (2011). A review of drought indices. *Environmental Reviews*, 19: 333-349.\n",
    "\n",
    "[2] Carrão, H., Naumann, G., & Barbosa, P. (2016). Mapping global patterns of drought risk: An empirical framework based on sub-national estimates of hazard, exposure and vulnerability. *Global Environmental Change*, 39, 108-124.\n",
    "\n",
    "[3] Lyon, B., & Barnston, A. G. (2005). ENSO and the spatial extent of interannual precipitation extremes in tropical land areas. *Journal of climate*, 18(23), 5095-5109.\n",
    "\n",
    "[4] Carrão, H., Singleton, A., Naumann, G., Barbosa, P., & Vogt, J. V. (2014). An optimized system for the classification of meteorological drought intensity with applications in drought frequency analysis. *Journal of Applied Meteorology and Climatology*, 53(8), 1943-1960.\n",
    "\n",
    "[5] Sherman, H. D., & Zhu, J. (2006). Service productivity management: Improving service performance using data envelopment analysis (DEA). Springer science & business media.\n",
    "\n",
    "[6] Carrão, H., Naumann, G. & Barbosa, P. (2018). Global projections of drought hazard in a warming climate: a prime for disaster risk management. *Clim Dyn* 50: 2137–2155.\n"
   ]
  }
 ],
 "metadata": {
  "kernelspec": {
   "display_name": "Python 3 (ipykernel)",
   "language": "python",
   "name": "python3"
  },
  "language_info": {
   "codemirror_mode": {
    "name": "ipython",
    "version": 3
   },
   "file_extension": ".py",
   "mimetype": "text/x-python",
   "name": "python",
   "nbconvert_exporter": "python",
   "pygments_lexer": "ipython3",
   "version": "3.11.8"
  }
 },
 "nbformat": 4,
 "nbformat_minor": 5
}
