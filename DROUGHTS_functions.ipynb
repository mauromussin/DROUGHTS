{
 "cells": [
  {
   "cell_type": "code",
   "execution_count": 2,
   "id": "94de130d",
   "metadata": {},
   "outputs": [],
   "source": [
    "import urllib\n",
    "import pyproj\n",
    "\n",
    "## Functions ##\n",
    "\n",
    "def load_nuts_json(json_path):\n",
    "    # dependencies: json, urllib, geopandas, \n",
    "    while True:\n",
    "        uh = urllib.request.urlopen(json_path)\n",
    "        data = uh.read()\n",
    "        break  \n",
    "    gdf = gpd.GeoDataFrame.from_features(json.loads(data)[\"features\"])\n",
    "    gdf['Location'] = gdf['CNTR_CODE'] + ': ' + gdf['NAME_LATN']\n",
    "    gdf = gdf.set_index('Location')\n",
    "    #gdf.to_crs(pyproj.CRS.from_epsg(4326), inplace=True)\n",
    "    return gdf\n",
    "\n",
    "\n",
    "def calculate_monthly_threshold(x, m, col_idx):\n",
    "    idx = (x['timing'].str.contains(m))\n",
    "    mon_loc_subset = precip.iloc[idx[idx].index, col_idx]\n",
    "    return(jenkspy.jenks_breaks(mon_loc_subset, n_classes = 2)[1])\n",
    "\n",
    "def identify_monthly_drought(x, m, col_idx, thrs):\n",
    "    idx = (x['timing'].str.contains(m))\n",
    "    x.iloc[idx[idx].index, col_idx] = x.iloc[idx[idx].index, col_idx] < thrs\n",
    "    return(x)\n",
    "\n",
    "def identify_t_m(k):\n",
    "    if 'Jan' in precip.iloc[k, 0]: \n",
    "        return(int(0))\n",
    "    if 'Feb' in precip.iloc[k, 0]:\n",
    "        return(int(1))\n",
    "    if 'Mar' in precip.iloc[k, 0]:\n",
    "        return(int(2))\n",
    "    if 'Apr' in precip.iloc[k, 0]:\n",
    "        return(int(3))\n",
    "    if 'May' in precip.iloc[k, 0]:\n",
    "        return(int(4))\n",
    "    if 'Jun' in precip.iloc[k, 0]:\n",
    "        return(int(5))\n",
    "    if 'Jul' in precip.iloc[k, 0]:\n",
    "        return(int(6))\n",
    "    if 'Aug' in precip.iloc[k, 0]:\n",
    "        return(int(7))\n",
    "    if 'Sep' in precip.iloc[k, 0]:\n",
    "        return(int(8))\n",
    "    if 'Oct' in precip.iloc[k, 0]:\n",
    "        return(int(9))\n",
    "    if 'Nov' in precip.iloc[k, 0]:\n",
    "        return(int(10))\n",
    "    if 'Dec' in precip.iloc[k, 0]:\n",
    "        return(int(11))\n"
   ]
  },
  {
   "cell_type": "code",
   "execution_count": null,
   "id": "7a1da7dc",
   "metadata": {},
   "outputs": [],
   "source": []
  }
 ],
 "metadata": {
  "kernelspec": {
   "display_name": "Python 3 (ipykernel)",
   "language": "python",
   "name": "python3"
  },
  "language_info": {
   "codemirror_mode": {
    "name": "ipython",
    "version": 3
   },
   "file_extension": ".py",
   "mimetype": "text/x-python",
   "name": "python",
   "nbconvert_exporter": "python",
   "pygments_lexer": "ipython3",
   "version": "3.8.10"
  }
 },
 "nbformat": 4,
 "nbformat_minor": 5
}
