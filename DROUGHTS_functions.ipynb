{
 "cells": [
  {
   "cell_type": "code",
   "execution_count": 2,
   "id": "94de130d",
   "metadata": {},
   "outputs": [],
   "source": [
    "import urllib\n",
    "import pyproj\n",
    "\n",
    "## Functions ##\n",
    "\n",
    "def load_nuts_json(json_path):\n",
    "    # dependencies: json, urllib, geopandas, \n",
    "    while True:\n",
    "        uh = urllib.request.urlopen(json_path)\n",
    "        data = uh.read()\n",
    "        break  \n",
    "    gdf = gpd.GeoDataFrame.from_features(json.loads(data)[\"features\"])\n",
    "    gdf['Location'] = gdf['CNTR_CODE'] + ': ' + gdf['NAME_LATN']\n",
    "    gdf = gdf.set_index('Location')\n",
    "    #gdf.to_crs(pyproj.CRS.from_epsg(4326), inplace=True)\n",
    "    return gdf\n"
   ]
  },
  {
   "cell_type": "code",
   "execution_count": null,
   "id": "7a1da7dc",
   "metadata": {},
   "outputs": [],
   "source": []
  }
 ],
 "metadata": {
  "kernelspec": {
   "display_name": "Python 3 (ipykernel)",
   "language": "python",
   "name": "python3"
  },
  "language_info": {
   "codemirror_mode": {
    "name": "ipython",
    "version": 3
   },
   "file_extension": ".py",
   "mimetype": "text/x-python",
   "name": "python",
   "nbconvert_exporter": "python",
   "pygments_lexer": "ipython3",
   "version": "3.8.10"
  }
 },
 "nbformat": 4,
 "nbformat_minor": 5
}
