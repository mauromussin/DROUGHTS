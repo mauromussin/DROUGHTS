{
 "cells": [
  {
   "cell_type": "markdown",
   "id": "114c11c0-af34-4523-92fb-9a0d62cd518b",
   "metadata": {
    "tags": []
   },
   "source": [
    "# Hazard assessment for drought\n",
    "\n",
    "Click [![Binder](https://mybinder.org/badge_logo.svg)](https://mybinder.org/v2/gh/CLIMAAX/DROUGHTS/main?labpath=DROUGHTS_notebook_1.ipynb) to launch this workflow on MyBinder. "
   ]
  },
  {
   "cell_type": "markdown",
   "id": "1dd026bd",
   "metadata": {},
   "source": [
    "### Quantifying drought hazard\n",
    "\n",
    "Hazard indicators Drought hazard (dH) for a given region is estimated as the probability of exceedance of the median of regional (e.g., EU level) severe precipitation deficits for the historical reference period 1979 -2019.\n",
    "The precipitation deficit is calculated using the weighted anomaly of standardized precipitation (WASP) index. This index accounts for precipitation seasonal patterns and is computed by summing weighted and standardized monthly precipitation anomalies $^1$.\n",
    "\n",
    "We use the weighted anomaly of standardized precipitation (WASP) index to define the severity of precipitation deficit. The WASP-index takes into account the annual seasonality of the precipitation cycle and is computed by summing weighted standardized monthly precipitation anomalies (see Eq. 1). Where $P_{n,m}$ is each region's monthly precipitation, $T_m$ is a monthly treshold defining precipitation severity, and $T_A$ is an annual threshold for precipitation severity. The thresholds are defined by dividing multi-annual monthly observed rain using the 'Fisher-jenks' classigication algorithm $^2$. \n",
    "\n",
    "Eq. 1: $$WASP_j = \\Sigma_{P_{n,m} < T_m}^{P_{n,m} >= T_m}( \\frac{P_{n,m} - T_m}{T_m})*\\frac{T_m}{T_A}$$\n",
    "\n",
    "#### Hazard data and methods:\n",
    "\n",
    "This algorithm requires monthly total precipitation for each NUTS2 region during the historical reference period. Usually, these are observation-based or simulated time series of gridded precipitation data. Processing these data is performed by applying Geographic Information System (GIS) techniques, to extract an aggregated value (e.g., total precipitation) of the data points located within each area of interest (e.g., NUTS2 region). Zonal statistics is widely used for that purpose.\n",
    "\n",
    "Point, observation-based datasets are an alternative data source, usually collected by meteorological station networks. One can choose the data collected in one or more (e.g., average) representative stations per area of interest to construct a NUTS2 level dataset. The algorithm expects a table in which each row represnt a month-year combination, and each column an area of interest. The first column represnts the date following this format YYYY-MM-DD. The **title of the first columns has to be 'timing', and the rest of the titles has to be the codes of the areas of interest (e.g., NUTS2), which have to be identical to the codes as they appear in the NUTS2 spatial data from the [European Commision](https://ec.europa.eu/eurostat/en/web/nuts/background)**.\n"
   ]
  },
  {
   "cell_type": "markdown",
   "id": "953ccebc",
   "metadata": {},
   "source": [
    "# Workflow implementation"
   ]
  },
  {
   "cell_type": "markdown",
   "id": "6cf6c3e8",
   "metadata": {},
   "source": [
    "### Load libraries\n",
    "\n",
    "In this notebook we will use the following Python libraries:\n",
    "- [os](https://docs.python.org/3/library/os.html) - To create directories and work with files\n",
    "- [urllib](https://docs.python.org/3/library/urllib.html) - To access to online resources\n",
    "- [pandas](https://pandas.pydata.org/docs/user_guide/index.html) - To create and manage data frames (tables) in Python\n",
    "- [geopandas](https://geopandas.org/en/stable/docs.html) - Extend pandas to store and manipulate spatial data\n",
    "- [numpy](https://numpy.org/doc/stable/) - For basic math tools and operations\n",
    "- [scipy](https://scipy.org/) - Provide advanced mathematical tools and optimization capacities \n",
    "- [jenkspy](https://github.com/mthh/jenkspy) - To apply Fisher-Jenks alogrithm \n",
    "- [json](https://docs.python.org/3/library/json.html) - To load, store and manipuilate JSON objects\n",
    "- [pyproj](https://pyproj4.github.io/pyproj/stable/) - An interface to a geographic projections and transformations library\n",
    "- [matplotlib](https://matplotlib.org/) - For plotting\n",
    "- [plotly](https://plotly.com/python/) - For dynamic and interactive plotting\n",
    "- [datetime](https://docs.python.org/3/library/datetime.html) - For handling dates in Python"
   ]
  },
  {
   "cell_type": "code",
   "execution_count": 1,
   "id": "d06a2286",
   "metadata": {},
   "outputs": [],
   "source": [
    "# lOAD LIBRARIES\n",
    "import os\n",
    "import urllib\n",
    "os.environ['USE_PYGEOS'] = '0'\n",
    "import pandas as pd\n",
    "import geopandas as gpd\n",
    "import numpy as np\n",
    "import scipy\n",
    "import jenkspy\n",
    "import json\n",
    "import pyproj\n",
    "import plotly.express as px\n",
    "import matplotlib.pyplot as plt\n",
    "from datetime import datetime\n",
    "from datetime import date\n",
    "\n",
    "# Function for calculating drought hazard indices\n",
    "%run DROUGHTS_functions.ipynb"
   ]
  },
  {
   "cell_type": "markdown",
   "id": "7b5b9ec1",
   "metadata": {},
   "source": [
    "### Define working environment and global parameters\n",
    "This workflow relies on pre-proceessed data. The user will define the path to the data folder and the code below would create a folder for outputs.\n"
   ]
  },
  {
   "cell_type": "code",
   "execution_count": 2,
   "id": "2ad5f46f",
   "metadata": {},
   "outputs": [],
   "source": [
    "# Set working environment\n",
    "\n",
    "workflow_folder = './sample_data_nuts3/'\n",
    "\n",
    "# Define scenario 0: historic; 1: SSP1-2.6; 2: SSP3-7.0. 3: SSP5-8.5\n",
    "\n",
    "scn = 3\n",
    "\n",
    "# Define time (applicible only for the future): 0: near-future (2050); 1: far-future (2080)\n",
    "time = 0\n",
    "\n",
    "pattern = \"historic\"\n",
    "pattern_h = \"historic\"\n",
    "if scn != 0:\n",
    "    pattern_h = ['ssp126', 'ssp370', 'ssp585'][scn - 1]\n",
    "    pattern = ['ssp126', 'ssp370', 'ssp585'][scn - 1] + '_' + ['nf', 'ff'][time]\n",
    "    \n",
    "\n",
    "# debug if folder does not exist - issue an error to check path\n",
    "\n",
    "# create outputs folder\n",
    "if not os.path.exists(os.path.join(workflow_folder, 'outputs_hazards')):\n",
    "    os.makedirs(os.path.join(workflow_folder, 'outputs_hazards'))"
   ]
  },
  {
   "cell_type": "markdown",
   "id": "cccc203b",
   "metadata": {},
   "source": [
    "## Choose country code:\n",
    "\n",
    "Choose country code from:  \n",
    "'HR', 'DE', 'BG', 'AT', 'AL', 'BE', 'ES', 'CH', 'CZ', 'EL', 'FR', 'FI', 'EE', 'DK', 'CY', 'HU', 'NL', 'NO', 'LV', 'LT', 'IS', 'MK', 'MT', 'IT', 'TR', 'PL', 'RO', 'SE', 'RS', 'PT', 'IE', 'UK', 'ME', 'LU', 'SK', 'SI' ,'LI'"
   ]
  },
  {
   "cell_type": "code",
   "execution_count": 7,
   "id": "4e5b6ff7",
   "metadata": {},
   "outputs": [],
   "source": [
    "ccode = \"AL\""
   ]
  },
  {
   "cell_type": "markdown",
   "id": "50eb7d4d",
   "metadata": {},
   "source": [
    "### Loading and visualize precipitation data"
   ]
  },
  {
   "cell_type": "code",
   "execution_count": 4,
   "id": "636f561d",
   "metadata": {},
   "outputs": [
    {
     "name": "stdout",
     "output_type": "stream",
     "text": [
      "Analyzing drought hazard. This process may take few minutes...\n",
      "\n",
      "\n",
      "The following regions are dropped due to missing data: []\n",
      "\n",
      "\n",
      "Input precipitation data (top 3 rows): \n",
      "      timing     AL011     AL012     AL013     AL014     AL015     AL021  \\\n",
      "0 2020-01-31  0.000214  0.000068  0.000214  0.000124  0.000422  0.000189   \n",
      "1 2020-02-29  0.000185  0.000048  0.000187  0.000104  0.000370  0.000149   \n",
      "2 2020-03-31  0.000185  0.000051  0.000164  0.000109  0.000286  0.000145   \n",
      "\n",
      "      AL022     AL031     AL032     AL033     AL034     AL035  \n",
      "0  0.000179  0.000186  0.000177  0.000325  0.000246  0.000290  \n",
      "1  0.000124  0.000119  0.000111  0.000201  0.000175  0.000172  \n",
      "2  0.000123  0.000104  0.000089  0.000161  0.000148  0.000129  \n",
      "\n",
      "\n"
     ]
    }
   ],
   "source": [
    "# Load precipitation data\n",
    "print(\"Analyzing drought hazard. This process may take few minutes...\")\n",
    "print('\\n')\n",
    "precip = pd.read_csv(os.path.join(workflow_folder, \"drought_hazard_{}.csv\".format(pattern_h)))\n",
    "# convert timing column to datetime\n",
    "precip['timing'] = pd.to_datetime(precip['timing'], format = '%Y-%m-%d')\n",
    "#'%b-%Y'\n",
    "\n",
    "# time  subset\n",
    "\n",
    "if scn != 0:\n",
    "    if time == 0:\n",
    "        precip = precip.loc[(precip['timing'].dt.date >= date(2020,1,1)) & (precip['timing'].dt.date  < date(2060,1,1)), :]\n",
    "    else:\n",
    "        precip = precip.loc[(precip['timing'].dt.date >= date(2060,1,1)) & (precip['timing'].dt.date  < date(2100,1,1)), :]\n",
    "else:\n",
    "    precip = precip.loc[(precip['timing'].dt.date >= date(1979,1,1)) & (precip['timing'].dt.date  < date(2020,1,1)), :]\n",
    "\n",
    "# col_subset aims to extract the relevant results\n",
    "precip = precip.reset_index()\n",
    "\n",
    "col_subset = list(precip.columns.str.contains(ccode))\n",
    "col_subset[1] = True\n",
    "precip = precip.loc[:, col_subset]\n",
    "\n",
    "# clean NaN rows & missing columns\n",
    "precip = precip.loc[~np.array(precip.isna().all(axis = 1)),:]\n",
    "\n",
    "drop_regions = []\n",
    "\n",
    "# missing data in columns\n",
    "col_subset = np.array(precip.isna().all(axis = 0))\n",
    "drop_regions += list(precip.columns[col_subset])\n",
    "precip = precip.loc[:, ~col_subset]\n",
    "\n",
    "regions = precip.columns[1:]\n",
    "output = pd.DataFrame(regions, columns = ['NUTS_ID'])\n",
    "\n",
    "print(\"The following regions are dropped due to missing data: \"+ str(drop_regions))\n",
    "print('\\n')\n",
    "print('Input precipitation data (top 3 rows): ')\n",
    "print(precip.head(3))\n",
    "\n",
    "print('\\n')\n",
    "\n",
    "\n",
    "\n",
    "    "
   ]
  },
  {
   "cell_type": "markdown",
   "id": "4fd605c8",
   "metadata": {},
   "source": [
    "### Calculate WASP Index (Weighted Anomaly Standardized Precipitation) monthly threshold\n",
    "For more details on the WASP index, see XX."
   ]
  },
  {
   "cell_type": "code",
   "execution_count": 5,
   "id": "27ccf421",
   "metadata": {},
   "outputs": [],
   "source": [
    "# create empty arrays and tables for intermediate and final results\n",
    "WASP = []\n",
    "WASP_global = []\n",
    "drought_class = precip.copy()\n",
    "\n",
    "# prepare output for drought event index - WASP_j- list of lists wasp = [[rid1], [rid2], ...]\n",
    "for i in range(1, len(precip.columns)):\n",
    "    \n",
    "   \n",
    "    # For every NUTS3 out of all regions - do the following:\n",
    "    \n",
    "    # empty array for the monthly water deficit thresholds\n",
    "    t_m = []\n",
    "    for mon_ in range(1, 13):\n",
    "        # For every month out of all all months (January, ..., December) - do the following:\n",
    "        \n",
    "        # calculcate monthly drought threshold -\\\n",
    "            # using a division of the data into to clusters with the Jenks' (Natural breaks) algorithm\n",
    "        r_idx = precip.index[precip.timing.dt.month == mon_].tolist()\n",
    "        t_m_last = jenkspy.jenks_breaks(precip.iloc[r_idx, i], n_classes = 2)[1]\n",
    "        t_m.append(t_m_last)\n",
    "        \n",
    "        # Define every month with water deficity (precipitation < threshold) as a drought month\n",
    "        drought_class.iloc[r_idx, i] = (drought_class.iloc[r_idx, i] < t_m_last).astype(int)\n",
    "\n",
    "    # calculate annual water deficit threshold\n",
    "    t_a = sum(t_m)\n",
    "    \n",
    "    # calculate droughts' magnitude and duration using the WASP indicator\n",
    "    WASP_tmp = []\n",
    "    first_true=0\n",
    "    index = []\n",
    "    for k in range(1, len(precip)):\n",
    "        # for evary row (ordered month-year combinations):\n",
    "            # check if droguht month -> calculate drought accumulated magnitude (over 1+ months)\n",
    "        if drought_class.iloc[k, i]== 1:\n",
    "            # In case of a drought month.\n",
    "            # calculate monthly WASP index\n",
    "            index = int(drought_class.timing.dt.month[k] - 1)\n",
    "            # WASP monthly index: [(precipitation - month_threshold)/month_threshold)]*[month_threshold/annual_treshold]\n",
    "            WASP_last=((precip.iloc[k,i] - t_m[index])/t_m[index])* (t_m[index]/t_a)\n",
    "            \n",
    "            if first_true==0:\n",
    "                # if this is the first month in a drought event:\n",
    "                # append calculated monthly wasp to WASP array.\n",
    "                WASP_tmp.append(WASP_last)\n",
    "                first_true=1\n",
    "            else:\n",
    "                # if this is NOT the first month in a drought event:\n",
    "                # add the calculated monthly wasp to last element in the WASP array (accumulative drought).\n",
    "                WASP_tmp[-1]=WASP_tmp[-1] + WASP_last\n",
    "            WASP_global.append(WASP_last)\n",
    "        else:\n",
    "            # check if not drought month - do not calculate WASP\n",
    "            first_true=0\n",
    "    WASP.append(np.array(WASP_tmp))"
   ]
  },
  {
   "cell_type": "code",
   "execution_count": 6,
   "id": "ad44b5d1",
   "metadata": {},
   "outputs": [
    {
     "name": "stdout",
     "output_type": "stream",
     "text": [
      ">>>>> Drought hazard is completed.\n",
      ">>>>> Drought hazard indices were saved.\n"
     ]
    }
   ],
   "source": [
    "dH = []\n",
    "WASP = np.array(WASP, dtype=object)\n",
    "# calculate global median deficit severity - \n",
    "    # set drought hazard (dH) as the probability of exceeding the global median water deficit.\n",
    "\n",
    "median_global_wasp = np.nanmedian(WASP_global)\n",
    "\n",
    "# calculate dH per region i\n",
    "for i in range(WASP.shape[0]):\n",
    "    # The more negative the WASP index, the more severe is the deficit event, so \n",
    "    # probability of exceedence the severity is 1 - np.nansum(WASP[i] >= median_global_wasp) / len(WASP[i])\n",
    "    dH.append(round(1 - np.nansum(WASP[i] >= median_global_wasp) / len(WASP[i]), 3))\n",
    "\n",
    "# https://agupubs.onlinelibrary.wiley.com/doi/pdf/10.1029/2004GL020901 - WASP Indicator description\n",
    "\n",
    "output['wasp_raw_mean'] = [np.nanmean(x) for x in WASP]\n",
    "output['wasp_raw_q25'] = [np.nanquantile(x, q = 0.25) for x in WASP]\n",
    "output['wasp_raw_median'] = [np.nanmedian(x) for x in WASP]\n",
    "output['wasp_raw_q75'] = [np.nanquantile(x, q = 0.75) for x in WASP]\n",
    "output['wasp_raw_count'] = [x.shape[0] for x in WASP]\n",
    "\n",
    "output['hazard_raw'] = dH\n",
    "print('>>>>> Drought hazard is completed.')\n",
    "\n",
    "output.to_csv(os.path.join(workflow_folder, 'outputs_hazards', 'droughthazard_{}_{}.csv'.format(ccode, pattern)), index = False)\n",
    "print('>>>>> Drought hazard indices were saved.')"
   ]
  },
  {
   "cell_type": "markdown",
   "id": "1bd6a645",
   "metadata": {},
   "source": [
    "## Conclusions\n",
    "The above workflow calculates the Drought hazard (dH) index that can be used as an input to calculate drought risk in the workflow described in the file Risk_Assessment.ipynb."
   ]
  },
  {
   "cell_type": "markdown",
   "id": "58a12200-0053-4e52-945e-844b6ad72543",
   "metadata": {},
   "source": [
    "## Contributors\n",
    "The workflow has beend developed by [Silvia Artuso](https://iiasa.ac.at/staff/silvia-artuso) and [Dor Fridman](https://iiasa.ac.at/staff/dor-fridman) from [IIASA's Water Security Research Group](https://iiasa.ac.at/programs/biodiversity-and-natural-resources-bnr/water-security), and supported by [Michaela Bachmann](https://iiasa.ac.at/staff/michaela-bachmann) from [IIASA's Systemic Risk and Reslience Research Group](https://iiasa.ac.at/programs/advancing-systems-analysis-asa/systemic-risk-and-resilience)."
   ]
  },
  {
   "cell_type": "markdown",
   "id": "7c6adf00",
   "metadata": {},
   "source": [
    "### References\n",
    "\n",
    "[1] Lyon, B., & Barnston, A. G. (2005). ENSO and the spatial extent of interannual precipitation extremes in tropical land areas. *Journal of climate*, 18(23), 5095-5109.\n",
    "\n",
    "[2] Carrão, H., Singleton, A., Naumann, G., Barbosa, P., & Vogt, J. V. (2014). An optimized system for the classification of meteorological drought intensity with applications in drought frequency analysis. *Journal of Applied Meteorology and Climatology*, 53(8), 1943-1960."
   ]
  }
 ],
 "metadata": {
  "kernelspec": {
   "display_name": "Python 3 (ipykernel)",
   "language": "python",
   "name": "python3"
  },
  "language_info": {
   "codemirror_mode": {
    "name": "ipython",
    "version": 3
   },
   "file_extension": ".py",
   "mimetype": "text/x-python",
   "name": "python",
   "nbconvert_exporter": "python",
   "pygments_lexer": "ipython3",
   "version": "3.8.10"
  }
 },
 "nbformat": 4,
 "nbformat_minor": 5
}
