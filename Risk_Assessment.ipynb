{
 "cells": [
  {
   "cell_type": "markdown",
   "id": "4a61404c",
   "metadata": {
    "tags": []
   },
   "source": [
    "# Advanced droughts workflow\n",
    "\n",
    "Click [![Binder](https://mybinder.org/badge_logo.svg)](https://mybinder.org/v2/gh/CLIMAAX/DROUGHTS/main?labpath=DROUGHTS_notebook_1.ipynb) to launch this workflow on MyBinder. "
   ]
  },
  {
   "cell_type": "markdown",
   "id": "5f76860f",
   "metadata": {},
   "source": [
    "# About droughts and droughts' risks"
   ]
  },
  {
   "cell_type": "markdown",
   "id": "6c2b5d20",
   "metadata": {},
   "source": [
    "## What is a drought?\n",
    "\n",
    "Simply stated, drought is ‘the extreme persistence of precipitation deficit over a specific region for a specific period of time’ $^1$. Droughts are often classified into three main types different by their severity, impacts, and time scales:\n",
    "\n",
    "1. <ins>Meteorological drought</ins> is often caused by short-term precipitation deficiency and its impacts highly depend on its timing. For example, lack of rain during the sprouting phase in rain-fed agriculture could lead to crop failure. \n",
    "2. <ins>Agricultural drought</ins> is a medium-term phenomenon, characterized by reduced soil moisture content and is caused by a prolonged period of meterological drought. \n",
    "3. On the long-term, <ins>hydrological drought</ins> is characterized by lower stream flow, reduced water level in water bodies, and may affect groundwater storage. \n",
    "\n",
    "The cascade between drought types is goverened by the severity (i.e., magnitude), duration, and spatio-temporal distribution of drought events.\n",
    "\n",
    "## What is drought risk?\n",
    "\n",
    "Drought risk is a measure for quantifying the likelyhood of a meaningfull impact from drought-event(s)\n",
    "on human population, its economic activity and assets, and the environment. The risk for an impact depends on the <ins>drought hazard</ins>, <ins>exposure</ins>, and the <ins>vulnerability</ins> to droughts. <ins>Hazard</ins> measures the magnitude, duration, and timing of drougt events. <ins>Exposure</ins> to droughts represent the spatial distribution of drought relative to distribution of potentially impactful systems, e.g., location of cultivated land, wetlands, etc. Finally, <ins>vulnerability</ins> stands for the level of impact expected for a given system during a given event, and is affected by the systems' intrinsic attributes. For example, fields with drought-resistent crops varities would be less vulnerable to droughts.\n"
   ]
  },
  {
   "cell_type": "markdown",
   "id": "2096c862-1b27-4fcf-bfd2-d85c5d3e3b22",
   "metadata": {
    "tags": [],
    "user_expressions": []
   },
   "source": [
    "## How do we assess drought risk?\n",
    "\n",
    "There are many different metrics to assess drought risk, which account for at least one of the risk factors: hazard, exposure and vulnerability.\n",
    "\n",
    "This workflow quantifies drought risk as the product of drought hazard, exposure and vulnerability. The methodology used here was developed and applied globally by Carrão et al. (2016) $^2$. The result of this workflow is a risk map showing the relative drought risk of different spatial units (i.e., subnational administrative regions) from a larger region (i.e., the European Union). Regional drought risk scores are on a scale of 0 to 1, with 0 representing the lowest risk and 1 the highest. The workflows takes each risk determinant (i.e. hazard, exposure and vulnerability) and normalised it taking into account its maximum and minimum values across all sub-national administrative regions. Thus, the results of this drought risk workflow are relative to the sample of geographic regions used for normalisation. The proposed risk scale is not a measure of absolute losses or actual damage, but a relative comparison of drought risk between the input regions. Therefore, the resulting data and mapping can help users to assess in which sub-administrative units within a jurisdictions the drought risk will be higher, allowing for better resouce allocation and better coordination within and between different levels of government.\n",
    "\n",
    "Below is a description of the data and tools used to calculate drought hazard, exposure and vulnerability, and the outputs of this workflow. \n",
    "\n",
    "More expert users can find a more detailed and technical explanation on how hazard, exposure and vulnerability are quantified in the colored text boxes. \n",
    "\n",
    "\n",
    "## Datasets (historic and future projections)\n",
    "\n",
    "In this workflow the following data is used:\n",
    "\n",
    "\n",
    "#### Spatial units: \n",
    "\n",
    "We used GeoJSON maps of NUTS2 and NUTS 3 regions which can be downloaded at this link https://gisco-services.ec.europa.eu/distribution/v2/nuts/geojson/\n",
    "\n",
    "\n",
    "### Hazard data and methods:\n",
    "\n",
    "Drought hazard (dH) for a given region is estimated as the probability of exceedance the median of regional (e.g., EU level) severe precipitation deficits for an historical reference period (e.g. 1979-2019).\n",
    "\n",
    "For estimating drought hazard, this workflows requires monthly total precipitation for each NUTS2 or NUTS3 region during the historical reference period. Usually, these are observation-based or simulated time-series of gridded precipitation data. Processing these data is performed by applying Geographic Information System (GIS) techniques, to extract an aggregated value (e.g., total precipitation) of the data points located within each area of interest (e.g., NUTS2 region). Zonal statistics is widely used for that purpose.\n",
    "\n",
    "Point, observation-based datasets are an alternative data source, usually collected by meteorological station networks. One can choose the data collected in one or more (e.g., average) representative station per area of interest to construct a NUTS2 level dataset. \n",
    "\n",
    "Our workflow expects a table in which each row represnt a month-year combination, and each column an area of interest. The first column represents the date following this format YYYY-MM-DD. The **title of the first columns has to be 'timing', and the rest of the titles has to be the codes of the areas of interest (e.g., NUTS2), which have to be identical to the codes as they appear in the NUTS2 or NUTS3 spatial data from the [European Commission](https://ec.europa.eu/eurostat/en/web/nuts/background)**.\n",
    "\n",
    "In the historic workflow, we used GSWP3 and W5E5 global meteorological forcing data processed for ISIMIP3a, sets on a 0.5°x0.5°C global grid and at daily time steps for the historical period of 1979-2019 (https://doi.org/10.48364/ISIMIP.982724.2).\n",
    "\n",
    "For the future projections, we used the ISIMIP3b bias-adjusted atmospheric climate input data, available for 5 CMIP6 global climate models (GFDL-ESM4, IPSL-CM6A-LR, MPI-ESM1-2-HR, MRI-ESM2-0, UKESM1-0-LL), and three SSPs-RSVPs combinations (SSP126, SSP370, SSP585) (https://doi.org/10.48364/ISIMIP.842396.1).\n",
    "\n",
    "\n",
    "\n",
    "<div class=\"alert alert-block alert-warning\">\n",
    "<b>Quantifying drought hazard</b> \n",
    "Drought hazard (dH) for a given region is estimated as the probability of exceedance the median of regional (e.g., EU level) severe precipitation deficits for an historical reference period (1979 -2019).\n",
    "\n",
    "A severe precipitation deficity is calculated using the weighted anomaly of standardized precipitation (WASP) index. This index accounts for precipitation seasonal patterns and is computed by summing weighted and standardized monthly precipitation anomalies $^3$.\n",
    "\n",
    "We use the weighted anomaly of standardized precipitation (WASP) index to define the severity of precipitation deficit. The WASP-index takes into account the annual seasonality of precipitation cycle and is computed by summing weighted standardized monthly precipitation anomalies (see Eq. 1). Where $P_{n,m}$ is each region's monthly precipitation, $T_m$ is a monthly treshold defining precipitation severity, and $T_A$ is an annual threshold for precipitation severity. The thresholds are defined by dividing multi-annual monthly observed rain using the 'Fisher-jenks' classigication algorithm $^4$. \n",
    "\n",
    "Eq. 1: $$WASP_j = \\Sigma_{P_{n,m} < T_m}^{P_{n,m} >= T_m}( \\frac{P_{n,m} - T_m}{T_m})*\\frac{T_m}{T_A}$$\n",
    "</div>\n",
    "\n",
    "### Exposure data and methods:\n",
    "\n",
    "Drought exposure (dE) indicates the potential losses from different types of drought hazards in different geographical regions. In general, exposure data identifies and quantifies the different types of physical entities on the ground, including built assets, infrastructure, agricultural land, people, livestock, etc. that can be affected by drought (e.g. the number of cars does not count).\n",
    "\n",
    "Quantyfing drought exposure utilizes a non-compensatory model to account for the spatial distribution of an potential impact for crops and livestock, competition on water (e.g., for industrial uses represented by the water stress indicator), and human direct need (e.g., for drinking represneted by population size). More information can be found in the dropdown box below.\n",
    "\n",
    "In this workflow we used the following data:\n",
    "\n",
    "#### Historic\n",
    "\n",
    "| Data item | Description | Format and processing | Source |\n",
    "| :-: | :- | :- | :-: |\n",
    "| Cropland | Harvested land represents the exposure of agricultural activity to droughts. SPAM is a global crop distribution model covering 42 crops and four different technologies available for 2010 (latest). The model outputs include both harvested and physical cropland. | 5 arc-minutes crop-specific grid. All grids are to be summed and aggregated (using Zonal Statistics) per area of interest. | https://mapspam.info/ |\n",
    "| Livestock density | Livestock density represents the exposure of animal husbandry systems to droughts. The Gridded Livestock of the World maps (GLW) show the density of eight different livestock animals in 2010 and 2015. | 5 arc-minutes animal-specific grid. All grids are to be summed and aggregated (using Zonal Statistics) per area of interest. | https://www.fao.org/livestock-systems/global-distributions/en/ |\n",
    "| Competition on water | The water stress indicator is a proxy for competition on water, as it accounts for both multi-sectoral water demand, relative to the abundance of water. Values higher than 0.4 indicate on severe water stress and a high competition on water resources. |  The Water Futures and Solution initiative provided multimodel current and future water stress estimates at 0.5 degree spatial resolution. This gridded data can be extracted to the relevant NUTS2 by using GIS techniques, like zonal statistics. | https://pure.iiasa.ac.at/id/eprint/13008/ |\n",
    "| Human direct need | Population counts represent the basic drinking water requirements across regions. Considering a similar economic and social context, these counts can also indicate the toal doemtic water demand. Global gridded population products are available at high resolution and multiple years, yet for the scope of the EU, a data from EUROSTAT is readily available.| EUROSTAT data is available as tabular format for the NUTS2 regions.| https://ec.europa.eu/eurostat/ |\n",
    "\n",
    "#### Future\n",
    "\n",
    "| Data item | Description | Format and processing | Source |\n",
    "| :-: | :- | :- | :-: |\n",
    "| Cropland | Cropland landcover under different Shared Socio Economic Pathways (SSPs) is a downscaled dataset of the integrated assessment model (IAM) GCAM. | The grid-cell area of a 30 arc-seconds land use grid, was summed for all cropland cells and aggregated (using Zonal Statistics) per area of interest. | [Zhang, Cheng, and Wu, 2023](https://www.nature.com/articles/s41597-023-02637-7#Sec1) |\n",
    "| Competition on water | The water stress indicator is a proxy for competition on water, as it accounts for both multi-sectoral water demand, relative to the abundance of water. Values higher than 0.4 indicate on severe water stress and a high competition on water resources. |  Aqueduct v.4 provides global water-stress estimates at sub-catchment scale.  We have rasterized the water stress and water withdrawal, and calculated a weighted average water stress per unit of interest. | https://www.wri.org/data/aqueduct-global-maps-40-data |\n",
    "| Human direct need | Population counts represent the basic drinking water requirements across regions. Considering a similar economic and social context, these counts can also indicate the total domestic water demand. Global gridded population products are available at high resolution and multiple years, and for this analysis - the rural and urban populations grid from Global CWatM were used.| Global CWatM provides rural and urban population grids at a spatial resolution of 5 arc-minutes. | - |\n",
    "\n",
    "\n",
    "The algorithm expects a table in which each row represnt an area of interest, and each column a variable. The **first column contains the codes of the area of interest (e.g., NUTS2), which have to be identical to the codes as they appear in the NUTS2 spatial data from the [European Commision](https://ec.europa.eu/eurostat/en/web/nuts/background)**.\n",
    "\n",
    "\n",
    "\n",
    "<div class=\"alert alert-block alert-warning\">\n",
    "<b>Quantyfing drought exposure</b> utlizes a non-compensatory model to account for the spatial distribution of an potential imapct for crops and livestock, competition on water (e.g., for industrial uses represneted by the water stress indicator), and human direct need (e.g., for drinking represneted by population size). We apply a <ins>Data Envelopment Analysis</ins> (DEA) to  determine the relative exposure of each region to drought. \n",
    "\n",
    "<ins>Data Envelopment Analysis (DEA) $^5$</ins>\n",
    "\n",
    "Data Envelopment Analysis (DEA) has been broadly used for evaluating the efficiency of decision-making units (DMUs) in many areas for organizational performance improvement, such as financial institutions, manufacturing companies, hospitals, airlines, and government agencies. In the same way DEA estimates relative efficiency of the decision-making units, DEA can also be be used to quantify the relative exposure of a region (the DMUs in this case) to drought from a multidimensional set of indicators.\n",
    "\n",
    "DEA works with a set of multiple inputs and outputs. In our case, the regions are described only the indicators so a dummy output that has unity value can be used, i.e. all the outputs are the same and equal, e.g. 1000. The efficiency of each region is estimated as a weighted sum of outputs divided by a weighted sum of inputs, where all efficiencies are restricted to lie between zero and one. An optimization algorithm is used for the weights to acheive the highest efficiency.\n",
    "\n",
    "The exposure raw data is normalized using a linear transformation, as descirbed in Eq. 2:\n",
    "\n",
    "Eq. 2: $$Z_i = \\frac{X_i - X_{min}}{X_{max} - X_{min}}$$\n",
    "</div>\n",
    "\n",
    "\n",
    "### Vulnerability data and methods:\n",
    "\n",
    "Vulnerability data describes the elements that make a system susceptible to a natural hazard, which vary depending on the type of hazard and the nature of the system. Hiowever, there are some generic indicators such as poverty, health status, economic inequality and aspects of governance, which apply to all types of exposed parts and therefore remain constant despite changes in the type of hazard that pose a risk.\n",
    "\n",
    "in this workflow, the selection of proxy indicators representing the economic, social, and infrastructural factors of drought vulnerability at each geographic location follows the criteria defined by Naumann et al. (2014): the indicator has to represent a quantitative or qualitative aspect of vulnerability factors to drought (generic or specific to some exposed element), and public data need to be freely available at the global scale.\n",
    "\n",
    "Examples of indicators that we can find at a subnational resolution: \n",
    "\n",
    "#### Historic\n",
    "\n",
    "| Variable prefix | Data item | Description | Format and processing | Correlation with Vulnerability | Source |\n",
    "| :-: | :- | :- | :- | :-: | :-: |\n",
    "| Economic_ | Energy use per person  | Per capita energy consumption. This dataset is produced annually by U.S. Energy Information Administration (EIA), and it is available per region and per country. | Data is available as tabular format at the country level, expressed in kilowatt-hours per capita, for years 1965-2022. | - | https://ourworldindata.org/grapher/per-capita-energy-use |\n",
    "| Economic_ | Agriculture value added on the GDP| Describes the value added on the GDP (in percentage) of agriculture, forestry, and fishing. | Data is available as tabular format at the country level. | + | https://data.worldbank.org  |\n",
    "| Economic_ | GDP per capita (current US dollar) | Gross domestic product (GDP) is a monetary measure of the market value of all the final goods and services produced in a specific time period by a country or countries. | Data is available as tabular format at the country level, expressed in current US dollar. | - | https://ec.europa.eu/eurostat/web/main/data/database |\n",
    "| Economic_ | Poverty headcount ratio at 2.15 dollars a day (PPP) | Cross-country comparison of key poverty and inequality indicators. Data are based on primary household survey data obtained from government statistical agencies and World Bank country departments. | Data is available as tabular format at the country level, as percentage of total population. | + |  https://data.worldbank.org |\n",
    "| Social_ | Rural population | Percentage of total population in a country or region that lives in rural areas. | Data is available as tabular format at the country level. | + | https://data.worldbank.org |\n",
    "| Social_ | Safely managed drinking water services | The indicator is computed as the number of people who use safely managed drinking water services and expressed as the percentage of total population. | Data is available as tabular format at the country level for years 2000-2022. | - | https://data.worldbank.org |\n",
    "| Social_ | Life expectancy at birth (years) | Life expectancy is a statistical measure of the estimate of the span of a life.  | Data is available as tabular format at the country level, expressed in years, for years 1960-2021. | - | https://ec.europa.eu/eurostat/web/main/data/database |\n",
    "| Social_ | Population ages 15–64 | Data show the percentage of total population between age 15 and 64 (working age) for each region and country. | Data is available as tabular format at the country level for years 1960-2022. | - | https://data.worldbank.org |\n",
    "| Social_ | Refugee population by country or territory of asylum | Number of people in a  country or territory of asylum which was registerd as a refugee. | Data is available as tabular format at the country level for years 1960-2022. | + | https://data.worldbank.org |\n",
    "| Social_ | Government Effectiveness | Government Effectivenesse is one of the indicators used by the Worldwide Governance Indicators (WGI) project,that features six aggregate governance indicators for over 200 countries and territories over the period 1996–2022. Government effectiveness captures perceptions of the quality of public services, the quality of the civil service and the degree of its independence from political pressures, the quality of policy formulation and implementation, and the credibility of the government's commitment to such policies. | The six aggregate indicators are reported in tabular format in two ways: (1) in their standard normal units, ranging from approximately -2.5 to 2.5, and (2) in percentile rank terms from 0 to 100, with higher values corresponding to better outcomes. | + | https://www.gu.se/en/quality-government/qog-data/data-downloads/european-quality-of-government-index\n",
    "| Social_ | Management of Water related Disasters | Self reporting on national compliance with the SDG 6.5.1 targets: Management of water-related disasters (3.1e). | The data represents the percent of compliance between 0-100, and is given at a country scale in a tabular format for the year 2020. | - | http://iwrmdataportal.unepdhi.org/country-reports | \n",
    "| Infrast_ | Agricultural irrigated land (percentage of total agricultural land) | Agricultural land is the combination of crop (arable) and grazing land. Data show the percentage of total agricultural land area which is irrigated (i.e. purposely provided with water), including land irrigated by controlled flooding. | EUROSTAT data is available as tabular format at the NUTS2 level. | - | https://ec.europa.eu/eurostat/web/main/data/database\n",
    "| Infrast_ | Road density | The Global Roads Inventory Project is a harmonized global dataset of aproximately 60 geospatial datasets on road infrastructure collected for 2018. This dataset includes 5 road types: highways/ primary/ secondary/ tertiary/ local roads. |  5 arc-minutes grid. All grids are to be summed and aggregated (using Zonal Statistics) per area of interest. | - | https://www.globio.info/download-grip-dataset\n",
    "\n",
    "#### Future\n",
    "\n",
    " Variable prefix | Data item | Description | Format and processing | Correlation with Vulnerability | Source |\n",
    "| :-: | :- | :- | :- | :-: | :-: |\n",
    "| Economic_ | GDP per capita (current US dollar) | Gross domestic product (GDP) is a monetary measure of the market value of all the final goods and services produced in a specific time period by a country or countries. | Data is available as global grids at a 30 arc-secondes resolution. | - | [Wang and Fubao, 2022](https://zenodo.org/records/5880037) |\n",
    "| Economic_ | Poverty headcount ratio at 3.2 dollars a day (PPP) | Cross-country comparison of key poverty and inequality indicators. Data are based on primary household survey data obtained from government statistical agencies and World Bank country departments. | Data is available as tabular format at the country level, as percentage of total population. | + | [Rao et al., 2019](https://zenodo.org/records/5880037)|\n",
    "| Social_ | Rural population | Percentage of total population in a country or region that lives in rural areas. | Data is available as global grids at a 30 arc-secondes resolution from Global CWatM. The share of rural population was calculated by dividing the rural by the total population counts. | + | - |\n",
    "| Social_ | Population ages 15–64 | Data show the percentage of total population between age 15 and 64 (working age) for each region and country. | Data is available as tabular format at the country level from the IIASA SSP database. | - | [Samir and Lutz, 2014](https://doi.org/10.1016/j.gloenvcha.2014.06.004) |\n",
    "\n",
    "\n",
    "The algorithm expects a table in which each row represnt an area of interest, and each column a variable. **Each variable has to be named with a prefix according to the factor, i.e. Social_ Economic_ or Infrast_, followed by a number or the name of the variable. The first column contains the codes of the area of interest (e.g., NUTS2), which have to be identical to the codes as they appear in the NUTS2 spatial data from the European Commision.**\n",
    "\n",
    "\n",
    "<div class=\"alert alert-block alert-warning\">\n",
    "<b>Quantifying drought vulnerability</b> Vulnerability to drought is computed as a 2-step composite model that derives from the aggregation of proxy indicators representing the economic, social, and infrastructural factors of vulnerability at each geographic location. \n",
    "\n",
    "In the first step, indicators for each factor (i.e. economic, social and infrastructural) are combined using a DEA model (see above), as similar as for drought exposure. In the second step, individual factors resulting from independent DEA analyses are arithmetically aggregated (using the simple mean) into a composite model of drought vulnerability (dV):\n",
    "\n",
    "Eq. 3: $$dv_i = \\frac{Soc_i + Econ_i + Infr_i}{3}$$\n",
    "\n",
    "where Soc$_i$, Econ$_i$, and Infr$_i$ are the social, economic and infrastructural vulnerability factors for geographic location (or region) $i$.\n",
    "\n",
    "The normalization of the vulnerability indicator is also done using a linear transformation (see Eq. 2), and it accounts to the correlation of the indicator with drought vulberability. In case of negative correlation (e.g., GDP per capita), the normalized score is estimated as $1 - Z_i$.\n",
    "</div>\n",
    "\n",
    "\n"
   ]
  },
  {
   "cell_type": "markdown",
   "id": "ce4ea887-31e9-4663-8790-74189e64ac61",
   "metadata": {
    "toc-hr-collapsed": true
   },
   "source": [
    "# Workflow implementation"
   ]
  },
  {
   "cell_type": "markdown",
   "id": "5c7f97fe-2578-4ce9-b4c7-1fe40214f045",
   "metadata": {
    "tags": []
   },
   "source": [
    "### Load libraries\n",
    "\n",
    "In this notebook we will use the following Python libraries:\n",
    "- [os](https://docs.python.org/3/library/os.html) - To create directories and work with files\n",
    "- [urllib](https://docs.python.org/3/library/urllib.html) - To access to online resources\n",
    "- [pandas](https://pandas.pydata.org/docs/user_guide/index.html) - To create and manage data frames (tables) in Python\n",
    "- [geopandas](https://geopandas.org/en/stable/docs.html) - Extend pandas to store and manipulate spatial data\n",
    "- [numpy](https://numpy.org/doc/stable/) - For basic math tools and operations\n",
    "- [scipy](https://scipy.org/) - Provide advanced mathematical tools and optimization capacities \n",
    "- [jenkspy](https://github.com/mthh/jenkspy) - To apply Fisher-Jenks alogrithm \n",
    "- [json](https://docs.python.org/3/library/json.html) - To load, store and manipuilate JSON objects\n",
    "- [pyproj](https://pyproj4.github.io/pyproj/stable/) - An interface to a geographic projections and transformations library\n",
    "- [matplotlib](https://matplotlib.org/) - For plotting\n",
    "- [plotly](https://plotly.com/python/) - For dynamic and interactive plotting\n",
    "- [datetime](https://docs.python.org/3/library/datetime.html) - For handling dates in Python"
   ]
  },
  {
   "cell_type": "code",
   "execution_count": 250,
   "id": "79e25ef6-9a3b-4d42-a2b5-d787c2b70878",
   "metadata": {
    "scrolled": false
   },
   "outputs": [],
   "source": [
    "# lOAD LIBRARIES\n",
    "import os\n",
    "import urllib\n",
    "os.environ['USE_PYGEOS'] = '0'\n",
    "import pandas as pd\n",
    "import geopandas as gpd\n",
    "import numpy as np\n",
    "import scipy\n",
    "import jenkspy\n",
    "import json\n",
    "import pyproj\n",
    "import plotly.express as px\n",
    "import matplotlib.pyplot as plt\n",
    "from datetime import datetime\n",
    "\n",
    "# READ SCRIPTS\n",
    "# adapted from https://github.com/metjush/envelopment-py/tree/master used for DEA \n",
    "from envelopmentpy.envelopment import *\n",
    "\n",
    "# Function for calculating drought hazard indices\n",
    "%run DROUGHTS_functions.ipynb\n"
   ]
  },
  {
   "cell_type": "markdown",
   "id": "3e2d1b5f",
   "metadata": {},
   "source": [
    "### Define working environment and global parameters\n",
    "This workflow relies on pre-proceessed data. The user will define the path to the data folder and the code below would create a folder for outputs.\n"
   ]
  },
  {
   "cell_type": "code",
   "execution_count": 274,
   "id": "3674cd8c",
   "metadata": {},
   "outputs": [
    {
     "name": "stdout",
     "output_type": "stream",
     "text": [
      "Load NUTS3 map...Please wait...\n",
      "Choose country code from:  ['HR' 'DE' 'BG' 'AT' 'AL' 'BE' 'ES' 'CH' 'CZ' 'EL' 'FR' 'FI' 'EE' 'DK'\n",
      " 'CY' 'HU' 'NL' 'NO' 'LV' 'LT' 'IS' 'MK' 'MT' 'IT' 'TR' 'PL' 'RO' 'SE'\n",
      " 'RS' 'PT' 'IE' 'UK' 'ME' 'LU' 'SK' 'SI' 'LI']\n"
     ]
    }
   ],
   "source": [
    "# Set Global Settings\n",
    "\n",
    "workflow_folder = './sample_data_nuts3/'\n",
    "\n",
    "# debug if folder does not exist - issue an error to check path\n",
    "\n",
    "# create outputs folder\n",
    "if not os.path.exists(os.path.join(workflow_folder, 'outputs')):\n",
    "    os.makedirs(os.path.join(workflow_folder, 'outputs'))\n",
    "\n",
    "# Set to print scatter plot to evaluate the DEA results against the maximum exposure/vulnerability.\n",
    "# The DEA of a region should approximate, or to be higher from the maximum exposure/vulnerability factor. \n",
    "# Evaluation is more  meaningful in application for multiple coutnries.\n",
    "\n",
    "evaluateDEA = False\n",
    "\n",
    "# set country = 0 to map all Europe\n",
    "#country = 0\n",
    "\n",
    "# alternatively choose one country code (2-digits), e.g. 'IT' for Italy, or more than one to choose several country\n",
    "# e.g., run for North Macedonia and Greece, by setting country = ['MK', 'EL']\n",
    "\n",
    "# Filter countries/locations with missing data (e.g., Liechtenstein, Malta, ..), or very small/remote islands.\n",
    "#filterNUTS = ['NO0B', 'LI00', 'MT00', 'FRY2', 'FRY5', 'ES63', 'ES64', 'IS00',\\\n",
    "#             'FRY1', 'FRY3', 'FRY4', 'PT20', 'PT30', 'ES70']\n",
    "\n",
    "# Filter non-European countries (+ missing data): Turkey, England\n",
    "#filterCNTS = ['UK', 'TR']\n",
    "\n",
    "# load nuts3 spatial data\n",
    "print('Load NUTS3 map...Please wait...')\n",
    "json_nuts_path = 'https://gisco-services.ec.europa.eu/distribution/v2/nuts/geojson/NUTS_RG_01M_2021_4326_LEVL_3.geojson'\n",
    "nuts = load_nuts_json(json_nuts_path)\n",
    "\n",
    "nuts['NUTS_ID2'] = nuts['NUTS_ID'].str.slice(0,4)\n",
    "\n",
    "print(\"Choose country code from: \", nuts['CNTR_CODE'].unique())\n",
    "\n"
   ]
  },
  {
   "cell_type": "markdown",
   "id": "596333c5",
   "metadata": {},
   "source": [
    "## Choose country code:"
   ]
  },
  {
   "cell_type": "code",
   "execution_count": 275,
   "id": "6e6a5dec",
   "metadata": {},
   "outputs": [
    {
     "name": "stdout",
     "output_type": "stream",
     "text": [
      "List of nuts2:  ['PL92' 'PL51' 'PL42' 'PL41' 'PL81' 'PL22' 'PL84' 'PL91' 'PL71' 'PL82'\n",
      " 'PL21' 'PL43' 'PL61' 'PL63' 'PL62' 'PL52' 'PL72']\n"
     ]
    }
   ],
   "source": [
    "ccode = \"PL\"\n",
    "\n",
    "# validate country selection and subset regions\n",
    "if not nuts['CNTR_CODE'].str.contains(ccode).any:\n",
    "    print(\"Country code: \", ccode, \" is not valid; please choose a valid country code.\")\n",
    "else:\n",
    "    nuts = nuts.query('CNTR_CODE in @ccode')\n",
    "  \n",
    "    print(\"List of nuts2: \", nuts['NUTS_ID2'].unique())"
   ]
  },
  {
   "cell_type": "markdown",
   "id": "d2ea746a",
   "metadata": {},
   "source": [
    "## Choose NUTS2 code:"
   ]
  },
  {
   "cell_type": "code",
   "execution_count": 276,
   "id": "eac63f15",
   "metadata": {},
   "outputs": [
    {
     "name": "stdout",
     "output_type": "stream",
     "text": [
      "Subset of  ['PL63']  successful ended.\n"
     ]
    }
   ],
   "source": [
    "rcode =  ['PL63']\n",
    "# , 'PL82', 'PL21', 'PL43', 'PL61', 'PL63', 'PL62', 'PL52' 'PL72']\n",
    "\n",
    "# validate country selection and subset regions\n",
    "if not nuts['NUTS_ID2'].isin(rcode).any:\n",
    "    print(\"Country code: \", rcode, \" is not valid; please choose a valid country code.\")\n",
    "else:\n",
    "    nuts = nuts.query('NUTS_ID2 in @rcode')\n",
    "    regions = regions = nuts['NUTS_ID'].unique()\n",
    "    \n",
    "    # define output table \n",
    "    output = pd.DataFrame(regions, columns = ['NUTS_ID'])\n",
    "\n",
    "    print(\"Subset of \", rcode, \" successful ended.\")"
   ]
  },
  {
   "cell_type": "markdown",
   "id": "07fdef30",
   "metadata": {},
   "source": [
    "### Loading precipitation data and calculate hazard indices"
   ]
  },
  {
   "cell_type": "code",
   "execution_count": 277,
   "id": "9a393839",
   "metadata": {
    "scrolled": false
   },
   "outputs": [
    {
     "name": "stdout",
     "output_type": "stream",
     "text": [
      "Analyzing drought hazard. This process may take few minutes...\n",
      "\n",
      "\n",
      "Input precipitation data (top 3 rows): \n",
      "      timing     PL633     PL634     PL636     PL637     PL638\n",
      "0 1901-01-31  0.000050  0.000119  0.000232  0.000215  0.000101\n",
      "1 1901-02-28  0.000083  0.000177  0.000170  0.000169  0.000154\n",
      "2 1901-03-31  0.000029  0.000071  0.000106  0.000102  0.000071\n",
      "\n",
      "\n",
      ">>>>> Drought hazard is completed.\n"
     ]
    }
   ],
   "source": [
    "# Load precipitation data\n",
    "print(\"Analyzing drought hazard. This process may take few minutes...\")\n",
    "print('\\n')\n",
    "precip = pd.read_csv(os.path.join(workflow_folder, \"nuts3_hazard.csv\"))\n",
    "# convert timing column to datetime\n",
    "precip['timing'] = pd.to_datetime(precip['timing'], format = '%Y-%m-%d') \n",
    "#'%b-%Y'\n",
    "\n",
    "# column subset based on selected regions\n",
    "col_subset = np.isin(precip.columns, regions)\n",
    "col_subset[0] = True \n",
    "precip = precip.loc[:, col_subset]\n",
    "\n",
    "# print head of the table\n",
    "print('Input precipitation data (top 3 rows): ')\n",
    "print(precip.head(3))\n",
    "\n",
    "print('\\n')\n",
    "\n",
    "## calculate WASP Index (Weighted Anomaly Standardized Precipitation) monthly threshold \n",
    "\n",
    "# empty arrays and tables for intermediate and final results\n",
    "WASP = []\n",
    "WASP_global = []\n",
    "drought_class = precip.copy()\n",
    "\n",
    "# prepare output for drought event index - WASP_j- list of lists wasp = [[rid1], [rid2], ...]\n",
    "for i in range(1, len(precip.columns)):\n",
    "    # For every NUTS2 out of all regions - do the following:\n",
    "    \n",
    "    # empty array for the monthly water deficit thresholds\n",
    "    t_m = []\n",
    "    for mon_ in range(1, 13):\n",
    "        # For every month out of all all months (January, ..., December) - do the following:\n",
    "        \n",
    "        # calculcate monthly dropught threshold -\\\n",
    "            # using a division of the data into to clusters with the Jenks' (Natural breaks) algorithm\n",
    "        r_idx = precip.index[precip.timing.dt.month == mon_].tolist()\n",
    "        t_m_last = jenkspy.jenks_breaks(precip.iloc[r_idx, i], n_classes = 2)[1]\n",
    "        t_m.append(t_m_last)\n",
    "        \n",
    "        # Define every month with water deficity (precipitation < threshold) as a drought month\n",
    "        drought_class.iloc[r_idx, i] = (drought_class.iloc[r_idx, i] < t_m_last).astype(int)\n",
    "\n",
    "    # calculate annual water deficit threshold\n",
    "    t_a = sum(t_m)\n",
    "    \n",
    "    # calculate droughts' magnitude and duration using the WASP indicator\n",
    "    WASP_tmp = []\n",
    "    first_true=0\n",
    "    index = []\n",
    "    for k in range(1, len(precip)):\n",
    "        # for evary row (ordered month-year combinations):\n",
    "            # check if droguht month -> calculate drought accumulated magnitude (over 1+ months)\n",
    "        if drought_class.iloc[k, i]== 1:\n",
    "            # In case of a drought month.\n",
    "            # calculate monthly WASP index\n",
    "            index = int(drought_class.timing.dt.month[k] - 1)\n",
    "            # WASP monthly index: [(precipitation - month_threshold)/month_threshold)]*[month_threshold/annual_treshold]\n",
    "            WASP_last=((precip.iloc[k,i] - t_m[index])/t_m[index])* (t_m[index]/t_a)\n",
    "            \n",
    "            if first_true==0:\n",
    "                # if this is the first month in a drought event:\n",
    "                # append calculated monthly wasp to WASP array.\n",
    "                WASP_tmp.append(WASP_last)\n",
    "                first_true=1\n",
    "            else:\n",
    "                # if this is NOT the first month in a drought event:\n",
    "                # add the calculated monthly wasp to last element in the WASP array (accumulative drought).\n",
    "                WASP_tmp[-1]=WASP_tmp[-1] + WASP_last\n",
    "            WASP_global.append(WASP_last)\n",
    "        else:\n",
    "            # check if not drought month - do not calculate WASP\n",
    "            first_true=0\n",
    "    WASP.append(np.array(WASP_tmp))\n",
    "       \n",
    "\n",
    "# calculate the exceedance probability from the median global WASP as the Hazard index (dH)\n",
    "\n",
    "dH = []\n",
    "WASP = np.array(WASP, dtype=object)\n",
    "\n",
    "# calculate global median deficit severity - \n",
    "    # set drought hazard (dH) as the probability of exceeding the global median water deficit.\n",
    "\n",
    "median_global_wasp = np.nanmedian(WASP_global)\n",
    "\n",
    "\n",
    "\n",
    "\n",
    "# calculate dH per region i\n",
    "for i in range(WASP.shape[0]):\n",
    "    # The more negative the WASP index, the more severe is the deficit event, so \n",
    "    # probability of exceedence the severity is 1 - np.nansum(WASP[i] >= median_global_wasp) / len(WASP[i])\n",
    "    dH.append(round(1 - np.nansum(WASP[i] >= median_global_wasp) / len(WASP[i]), 3))\n",
    "\n",
    "output['hazard_raw'] = dH\n",
    "print('>>>>> Drought hazard is completed.')\n"
   ]
  },
  {
   "cell_type": "code",
   "execution_count": 278,
   "id": "e029cdd6",
   "metadata": {},
   "outputs": [
    {
     "name": "stdout",
     "output_type": "stream",
     "text": [
      "Loading and normalizing drought exposure.\n",
      "\n",
      "\n",
      "Input exposure data: \n",
      "     NUTS_ID  cropland  livestock  population  waterstress\n",
      "1076   PL637  0.200802    0.01000    0.010000     0.079996\n",
      "1077   PL638  0.996738    0.03939    0.026905     0.010000\n",
      "1073   PL633  1.000000    0.86774    1.000000     1.000000\n",
      "1074   PL634  0.690900    1.00000    0.074091     0.874524\n",
      "1075   PL636  0.010000    0.05943    0.010000     0.886177\n",
      "\n",
      "\n",
      "Drought exposure normalization successfuly ended.\n"
     ]
    }
   ],
   "source": [
    "# Load  and normalize exposure data\n",
    "print(\"Loading and normalizing drought exposure.\")\n",
    "print('\\n')\n",
    "exposure = pd.read_csv(os.path.join(workflow_folder, \"nuts3_exposure.csv\"))\n",
    "exposure = exposure.query('NUTS_ID in @regions')\n",
    "\n",
    "# Normalize the exposure using a min-max strech.\n",
    "cols = exposure.columns[1:]\n",
    "\n",
    "for varname in cols:\n",
    "    # save maximum and minimum values\n",
    "    mx_exposure = np.nanmax(exposure[varname])\n",
    "    mn_exposure = np.nanmin(exposure[varname])\n",
    "\n",
    "    # stretch values between 0 -1\n",
    "    exposure.loc[:, varname] = np.maximum((exposure.loc[:, varname] - mn_exposure)/(mx_exposure - mn_exposure), 0.01)\n",
    "\n",
    "\n",
    "# load exposure and sort to match nuts['NUTS_ID'] order\n",
    "sorterIndex = dict(zip(nuts['NUTS_ID'], range(len(nuts['NUTS_ID']))))\n",
    "exposure['sort_col'] = exposure['NUTS_ID'].map(sorterIndex)\n",
    "exposure.sort_values(['sort_col'],\n",
    "        ascending = [True], inplace = True)\n",
    "exposure = exposure.drop(columns='sort_col')\n",
    "\n",
    "# show data\n",
    "\n",
    "print('Input exposure data: ')\n",
    "print(exposure)\n",
    "print('\\n')\n",
    "\n",
    "print(\"Drought exposure normalization successfuly ended.\")"
   ]
  },
  {
   "cell_type": "code",
   "execution_count": 279,
   "id": "8d52f26a",
   "metadata": {
    "scrolled": false
   },
   "outputs": [
    {
     "name": "stdout",
     "output_type": "stream",
     "text": [
      "Running DEA on exposure data. This process may take a while...\n",
      "\n",
      "\n",
      ">>>>> Drought exposure is completed.\n"
     ]
    }
   ],
   "source": [
    "# Create exposure indicator using Data Envelopment Analysis (DEA)\n",
    "print(\"Running DEA on exposure data. This process may take a while...\")\n",
    "print('\\n')\n",
    "\n",
    "# set DEA(loud = True) to print optimization status/details\n",
    "dea_e = DEA(np.array([1.] * len(regions)).reshape(len(regions),1),\\\n",
    "            exposure.to_numpy()[:,1:],\\\n",
    "         loud = False)  # we use a dummy factor for the input\n",
    "dea_e.name_units(regions)\n",
    "\n",
    "# returns a list with regional efficiencies\n",
    "dE = dea_e.fit()\n",
    "if evaluateDEA:\n",
    "    dEmax = exposure.iloc[:,1:].max(axis = 1)\n",
    "    print(\"plot max vs DEA:\")\n",
    "    fig = px.scatter(x=list(dEmax), y=dE,\\\n",
    "                     title = 'Evaluate exposure\\'s DEA',\\\n",
    "                    labels={\n",
    "                         \"x\": \"Maximum exposure\",\n",
    "                         \"y\": \"DEA\"\n",
    "                     })\n",
    "    fig.show()\n",
    "\n",
    "output['exposure_raw'] = dE\n",
    "print('>>>>> Drought exposure is completed.')"
   ]
  },
  {
   "cell_type": "code",
   "execution_count": 280,
   "id": "5f16b38a",
   "metadata": {},
   "outputs": [
    {
     "name": "stdout",
     "output_type": "stream",
     "text": [
      "Loading and normalizing drought vulnerability.\n",
      "\n",
      "\n",
      "Define correlation's directions for the following indicators:  ['overall_ruralshr', 'overall_gdpcap']\n"
     ]
    }
   ],
   "source": [
    "# Load  and normalize vulnerability data\n",
    "print(\"Loading and normalizing drought vulnerability.\")\n",
    "print('\\n')\n",
    "vulnerability = pd.read_csv(os.path.join(workflow_folder, \"nuts3_vulnerability.csv\"))\n",
    "vulnerability = vulnerability.query('NUTS_ID in @regions')\n",
    "\n",
    "cols = vulnerability.columns[1:]\n",
    "\n",
    "print(\"Define correlation's directions for the following indicators: \", list(cols))\n"
   ]
  },
  {
   "cell_type": "code",
   "execution_count": 281,
   "id": "5c6cf868",
   "metadata": {},
   "outputs": [
    {
     "name": "stdout",
     "output_type": "stream",
     "text": [
      "Input vulnerability data: \n",
      "     NUTS_ID  overall_ruralshr  overall_gdpcap\n",
      "1076   PL637          1.000000        0.010000\n",
      "1077   PL638          0.741038        1.000000\n",
      "1073   PL633          0.010000        0.462027\n",
      "1074   PL634          0.430909        0.269942\n",
      "1075   PL636          0.614307        0.271211\n",
      "\n",
      "\n",
      "Drought vulnerability normalization successfuly ended.\n"
     ]
    }
   ],
   "source": [
    "\n",
    "# Pre-define the correlation's direction between exposure and drought risk\n",
    "# The example shows that: \n",
    "    # corellation of the rural population share with vulnerability is positive (True, below), i.e., \n",
    "     # rural regions are more vulneravle to droughts\n",
    "    # correlation of the gdp/capitawith vulnerability is negative (False, below)\n",
    "    \n",
    "corelDirection = [True, False] \n",
    "\n",
    "# get vulnebrability factors, e.g., Social, Economic, Infrast\n",
    "def sclt(x): \n",
    "    return(x[0])\n",
    "factorsString = list(cols.str.split('_').map(sclt).drop_duplicates())\n",
    "\n",
    "# Normalize the exposure using a min-max strech.\n",
    "\n",
    "\n",
    "for varname in cols:\n",
    "    # save maximum and minimum values\n",
    "    mx_vulnerability = np.nanmax(vulnerability[varname])\n",
    "    mn_vulnerability = np.nanmin(vulnerability[varname])\n",
    "    \n",
    "    # stretch values between 0 -1\n",
    "    if corelDirection[list(cols.values).index(varname)]:\n",
    "        # positive correlation between vulnerability indicator and vulnerability\n",
    "        vulnerability.loc[:, varname] = np.maximum((vulnerability.loc[:, varname] - mn_vulnerability)/(mx_vulnerability - mn_vulnerability), 0.01)\n",
    "    else:\n",
    "        # negative correlation between vulnerability indicator and vulnerability\n",
    "        vulnerability.loc[:, varname] = np.maximum(1 - (vulnerability.loc[:, varname] - mn_vulnerability)/(mx_vulnerability - mn_vulnerability), 0.01)\n",
    "            \n",
    "\n",
    "# load exposure and sort to match nuts['NUTS_ID'] order\n",
    "sorterIndex = dict(zip(nuts['NUTS_ID'], range(len(nuts['NUTS_ID']))))\n",
    "vulnerability['sort_col'] = vulnerability['NUTS_ID'].map(sorterIndex)\n",
    "vulnerability.sort_values(['sort_col'],\n",
    "        ascending = [True], inplace = True)\n",
    "vulnerability = vulnerability.drop(columns='sort_col')\n",
    "\n",
    "# show data\n",
    "\n",
    "print('Input vulnerability data: ')\n",
    "print(vulnerability)\n",
    "print('\\n')\n",
    "\n",
    "print(\"Drought vulnerability normalization successfuly ended.\")\n",
    "\n"
   ]
  },
  {
   "cell_type": "code",
   "execution_count": 282,
   "id": "64f1707e",
   "metadata": {
    "scrolled": false
   },
   "outputs": [
    {
     "name": "stdout",
     "output_type": "stream",
     "text": [
      "Running DEA on vulnerability data. This process may take a while...\n",
      "\n",
      "\n",
      ">>>>> Analyzing the 'overall' factors\n",
      ">>>>> Drought vulnerability is completed.\n"
     ]
    }
   ],
   "source": [
    "# Create vulnerability indicator using Data Envelopment Analysis (DEA)\n",
    "print(\"Running DEA on vulnerability data. This process may take a while...\")\n",
    "print('\\n')\n",
    "\n",
    "d_v = []   \n",
    "\n",
    "for fac_ in factorsString:\n",
    "    d_v_max = []\n",
    "    print(\">>>>> Analyzing the '\" + fac_ + \"' factors\")\n",
    "    factor_subset = vulnerability.loc[:, vulnerability.columns.str.contains(fac_)]\n",
    "    dea_v = DEA(np.array([1.] * len(regions)).reshape(len(regions),1),\\\n",
    "                factor_subset.to_numpy()[:, 1:],\\\n",
    "          loud = False)\n",
    "    dea_v.name_units(regions)\n",
    "    #d_v_max.append()\n",
    "# returns three lists with regional efficiencies for each factor\n",
    "    d_v_last = dea_v.fit()  \n",
    "    d_v.append(d_v_last)\n",
    "    if evaluateDEA:\n",
    "        dVmax = factor_subset.iloc[:,1:].max(axis = 1)\n",
    "        print(\"plot max vs DEA:\")\n",
    "        fig = px.scatter(x=list(dVmax), y=d_v_last,\\\n",
    "                         title = 'Evaluate vulnerabiliy\\'s DEA ({})'.format(fac_),\\\n",
    "                    labels={\n",
    "                         \"x\": \"Maximum vulnerabiliy\",\n",
    "                         \"y\": \"DEA\"\n",
    "                     })\n",
    "        fig.show()\n",
    "\n",
    "d_v = np.array(d_v).reshape(len(factorsString), len(regions))\n",
    "dV = np.nanmean(d_v, axis = 0)\n",
    "output['vulnerability_raw'] = dV\n",
    "\n",
    "print('>>>>> Drought vulnerability is completed.')"
   ]
  },
  {
   "cell_type": "code",
   "execution_count": 283,
   "id": "11fd67cd",
   "metadata": {},
   "outputs": [],
   "source": [
    "#calculate the Risk Index for each region\n",
    "\n",
    "# Risk = Hazard * Exposure * Vulnerability\n",
    "\n",
    "R = []\n",
    "\n",
    "for i in range(0, len(regions)):\n",
    "        R_last = round(dH[i] * dE[i] * dV[i], 3)\n",
    "        R.append(R_last)\n",
    "\n",
    "output['risk_raw'] = R\n",
    "\n",
    "# categorized risk and merge results with the spatial data\n",
    " \n",
    "output['risk_cat'] = [(int(np.ceil(x * 5))) for x in output['risk_raw']]\n",
    "# keep index\n",
    "nuts_idx = nuts.index\n",
    "nuts = nuts.merge(output, on='NUTS_ID')\n",
    "nuts = nuts.set_index(nuts_idx)"
   ]
  },
  {
   "cell_type": "markdown",
   "id": "81faf965-390d-4da5-afc4-eb46a3c1feaa",
   "metadata": {
    "tags": [],
    "user_expressions": []
   },
   "source": [
    "### Plot results"
   ]
  },
  {
   "cell_type": "code",
   "execution_count": 284,
   "id": "25e12481",
   "metadata": {
    "scrolled": true,
    "tags": [],
    "user_expressions": []
   },
   "outputs": [
    {
     "name": "stdout",
     "output_type": "stream",
     "text": [
      "\n",
      "\n",
      "NUTS2 with the highest drought risk (TOP 15): \n",
      "                 NUTS_ID  hazard_raw  exposure_raw  vulnerability_raw  \\\n",
      "Location                                                                \n",
      "PL: Starogardzki   PL638       0.748         0.997              1.000   \n",
      "PL: Trójmiejski    PL633       0.762         1.000              0.462   \n",
      "PL: Gdański        PL634       0.720         1.000              0.270   \n",
      "PL: Słupski        PL636       0.719         0.886              0.271   \n",
      "PL: Chojnicki      PL637       0.746         0.201              0.010   \n",
      "\n",
      "                  risk_raw  risk_cat  \n",
      "Location                              \n",
      "PL: Starogardzki     0.746         4  \n",
      "PL: Trójmiejski      0.352         2  \n",
      "PL: Gdański          0.194         1  \n",
      "PL: Słupski          0.173         1  \n",
      "PL: Chojnicki        0.001         1  \n",
      "\n",
      "\n"
     ]
    },
    {
     "data": {
      "application/vnd.plotly.v1+json": {
       "config": {
        "plotlyServerURL": "https://plot.ly"
       },
       "data": [
        {
         "coloraxis": "coloraxis",
         "geojson": {
          "bbox": [
           16.699085,
           53.490964,
           19.648523,
           54.835685
          ],
          "features": [
           {
            "bbox": [
             16.857654,
             53.490964,
             18.358912,
             54.203289
            ],
            "geometry": {
             "coordinates": [
              [
               [
                18.327239,
                54.141085
               ],
               [
                18.323945,
                54.137627
               ],
               [
                18.330108,
                54.134664
               ],
               [
                18.327938,
                54.128666
               ],
               [
                18.320597,
                54.11374
               ],
               [
                18.335599,
                54.11244
               ],
               [
                18.351561,
                54.107713
               ],
               [
                18.344863,
                54.097009
               ],
               [
                18.330704,
                54.083263
               ],
               [
                18.342509,
                54.080392
               ],
               [
                18.347283,
                54.075377
               ],
               [
                18.347308,
                54.066623
               ],
               [
                18.353091,
                54.065613
               ],
               [
                18.358912,
                54.059527
               ],
               [
                18.344764,
                54.047232
               ],
               [
                18.327793,
                54.0492
               ],
               [
                18.318456,
                54.03966
               ],
               [
                18.291863,
                54.034181
               ],
               [
                18.289772,
                54.031652
               ],
               [
                18.292846,
                54.025127
               ],
               [
                18.288406,
                54.019442
               ],
               [
                18.285777,
                54.015158
               ],
               [
                18.293461,
                54.011884
               ],
               [
                18.294504,
                54.009544
               ],
               [
                18.278869,
                53.996227
               ],
               [
                18.280826,
                53.993348
               ],
               [
                18.303042,
                53.993097
               ],
               [
                18.311269,
                53.995724
               ],
               [
                18.315571,
                54.000555
               ],
               [
                18.325263,
                54.003247
               ],
               [
                18.336294,
                53.996
               ],
               [
                18.348404,
                53.977531
               ],
               [
                18.33327,
                53.975701
               ],
               [
                18.317216,
                53.978022
               ],
               [
                18.302387,
                53.965112
               ],
               [
                18.275544,
                53.95408
               ],
               [
                18.266457,
                53.952463
               ],
               [
                18.262783,
                53.957124
               ],
               [
                18.254755,
                53.96032
               ],
               [
                18.251181,
                53.955862
               ],
               [
                18.242644,
                53.952612
               ],
               [
                18.240498,
                53.947591
               ],
               [
                18.235231,
                53.948855
               ],
               [
                18.221921,
                53.946628
               ],
               [
                18.215207,
                53.941419
               ],
               [
                18.199302,
                53.944254
               ],
               [
                18.202943,
                53.951939
               ],
               [
                18.202084,
                53.95613
               ],
               [
                18.188223,
                53.957374
               ],
               [
                18.178436,
                53.958252
               ],
               [
                18.164739,
                53.961416
               ],
               [
                18.136314,
                53.947798
               ],
               [
                18.136278,
                53.933781
               ],
               [
                18.123449,
                53.933197
               ],
               [
                18.106378,
                53.925514
               ],
               [
                18.104357,
                53.92137
               ],
               [
                18.138705,
                53.891433
               ],
               [
                18.136198,
                53.888606
               ],
               [
                18.12913,
                53.887743
               ],
               [
                18.10876,
                53.896805
               ],
               [
                18.106739,
                53.894233
               ],
               [
                18.097421,
                53.89278
               ],
               [
                18.091677,
                53.888686
               ],
               [
                18.082882,
                53.888287
               ],
               [
                18.083337,
                53.882937
               ],
               [
                18.072541,
                53.873677
               ],
               [
                18.07553,
                53.869392
               ],
               [
                18.073822,
                53.863817
               ],
               [
                18.082278,
                53.85621
               ],
               [
                18.082554,
                53.850259
               ],
               [
                18.071,
                53.852197
               ],
               [
                18.064705,
                53.850273
               ],
               [
                18.066989,
                53.847729
               ],
               [
                18.091599,
                53.832922
               ],
               [
                18.096509,
                53.83163
               ],
               [
                18.096605,
                53.835019
               ],
               [
                18.111303,
                53.82948
               ],
               [
                18.117441,
                53.831726
               ],
               [
                18.122336,
                53.826869
               ],
               [
                18.120575,
                53.822947
               ],
               [
                18.100497,
                53.812958
               ],
               [
                18.098519,
                53.812117
               ],
               [
                18.09464,
                53.811021
               ],
               [
                18.087609,
                53.806596
               ],
               [
                18.083707,
                53.804324
               ],
               [
                18.078566,
                53.800059
               ],
               [
                18.07686,
                53.799136
               ],
               [
                18.075163,
                53.797481
               ],
               [
                18.074095,
                53.795011
               ],
               [
                18.0731,
                53.791487
               ],
               [
                18.072273,
                53.789991
               ],
               [
                18.071682,
                53.786443
               ],
               [
                18.072292,
                53.782969
               ],
               [
                18.072037,
                53.781075
               ],
               [
                18.070406,
                53.773784
               ],
               [
                18.058013,
                53.760581
               ],
               [
                18.050369,
                53.742448
               ],
               [
                18.042233,
                53.739482
               ],
               [
                18.045832,
                53.734984
               ],
               [
                18.031935,
                53.724946
               ],
               [
                18.027139,
                53.728475
               ],
               [
                18.012982,
                53.724186
               ],
               [
                17.991399,
                53.724974
               ],
               [
                17.985271,
                53.731765
               ],
               [
                17.975218,
                53.736087
               ],
               [
                17.964369,
                53.738861
               ],
               [
                17.95397,
                53.738692
               ],
               [
                17.948154,
                53.746893
               ],
               [
                17.942691,
                53.747091
               ],
               [
                17.936061,
                53.743843
               ],
               [
                17.928865,
                53.749801
               ],
               [
                17.90151,
                53.748103
               ],
               [
                17.88236,
                53.755705
               ],
               [
                17.867807,
                53.759212
               ],
               [
                17.865357,
                53.757684
               ],
               [
                17.860762,
                53.754817
               ],
               [
                17.865357,
                53.747951
               ],
               [
                17.866138,
                53.746784
               ],
               [
                17.876159,
                53.745355
               ],
               [
                17.889315,
                53.728456
               ],
               [
                17.902969,
                53.722139
               ],
               [
                17.893264,
                53.716764
               ],
               [
                17.896489,
                53.71103
               ],
               [
                17.895112,
                53.709136
               ],
               [
                17.87833,
                53.706641
               ],
               [
                17.869655,
                53.697284
               ],
               [
                17.865357,
                53.694925
               ],
               [
                17.854026,
                53.688707
               ],
               [
                17.833292,
                53.692117
               ],
               [
                17.825807,
                53.691701
               ],
               [
                17.807285,
                53.679621
               ],
               [
                17.797273,
                53.67967
               ],
               [
                17.77219,
                53.699905
               ],
               [
                17.76382,
                53.694444
               ],
               [
                17.763261,
                53.690833
               ],
               [
                17.765939,
                53.68867
               ],
               [
                17.763377,
                53.68422
               ],
               [
                17.752537,
                53.679666
               ],
               [
                17.747308,
                53.680301
               ],
               [
                17.741035,
                53.67755
               ],
               [
                17.743499,
                53.669127
               ],
               [
                17.734008,
                53.662406
               ],
               [
                17.737667,
                53.655624
               ],
               [
                17.733347,
                53.654268
               ],
               [
                17.731695,
                53.64755
               ],
               [
                17.722334,
                53.640171
               ],
               [
                17.713689,
                53.63756
               ],
               [
                17.711911,
                53.634764
               ],
               [
                17.712074,
                53.629884
               ],
               [
                17.718177,
                53.623812
               ],
               [
                17.715472,
                53.62056
               ],
               [
                17.719131,
                53.616039
               ],
               [
                17.71184,
                53.609478
               ],
               [
                17.724543,
                53.609793
               ],
               [
                17.729982,
                53.61371
               ],
               [
                17.7347,
                53.613204
               ],
               [
                17.735249,
                53.601692
               ],
               [
                17.731051,
                53.59896
               ],
               [
                17.730022,
                53.593698
               ],
               [
                17.706565,
                53.594994
               ],
               [
                17.70048,
                53.592326
               ],
               [
                17.693233,
                53.59443
               ],
               [
                17.686725,
                53.593188
               ],
               [
                17.668732,
                53.601195
               ],
               [
                17.657623,
                53.594202
               ],
               [
                17.655555,
                53.589242
               ],
               [
                17.659167,
                53.585998
               ],
               [
                17.673407,
                53.583921
               ],
               [
                17.674615,
                53.572548
               ],
               [
                17.670891,
                53.570426
               ],
               [
                17.656698,
                53.571152
               ],
               [
                17.64997,
                53.5816
               ],
               [
                17.605539,
                53.595733
               ],
               [
                17.57961,
                53.579549
               ],
               [
                17.573723,
                53.578495
               ],
               [
                17.5461,
                53.580303
               ],
               [
                17.529671,
                53.593125
               ],
               [
                17.524561,
                53.604274
               ],
               [
                17.512614,
                53.612467
               ],
               [
                17.512136,
                53.617024
               ],
               [
                17.508182,
                53.615825
               ],
               [
                17.496074,
                53.607255
               ],
               [
                17.479995,
                53.602556
               ],
               [
                17.466406,
                53.601539
               ],
               [
                17.457143,
                53.600139
               ],
               [
                17.447477,
                53.60128
               ],
               [
                17.431827,
                53.591919
               ],
               [
                17.422367,
                53.583426
               ],
               [
                17.424214,
                53.578278
               ],
               [
                17.417783,
                53.56872
               ],
               [
                17.41848,
                53.564618
               ],
               [
                17.414046,
                53.5606
               ],
               [
                17.419015,
                53.554036
               ],
               [
                17.421771,
                53.550395
               ],
               [
                17.42188,
                53.546001
               ],
               [
                17.422101,
                53.537086
               ],
               [
                17.418806,
                53.533895
               ],
               [
                17.411692,
                53.533151
               ],
               [
                17.408611,
                53.530416
               ],
               [
                17.403743,
                53.52278
               ],
               [
                17.402034,
                53.51212
               ],
               [
                17.394176,
                53.507479
               ],
               [
                17.395141,
                53.496615
               ],
               [
                17.390653,
                53.490964
               ],
               [
                17.387428,
                53.491695
               ],
               [
                17.384355,
                53.49656
               ],
               [
                17.373376,
                53.495196
               ],
               [
                17.36248,
                53.496818
               ],
               [
                17.351544,
                53.494015
               ],
               [
                17.34035,
                53.495929
               ],
               [
                17.33745,
                53.497748
               ],
               [
                17.3387,
                53.502126
               ],
               [
                17.326892,
                53.503389
               ],
               [
                17.323807,
                53.51256
               ],
               [
                17.305599,
                53.513342
               ],
               [
                17.309163,
                53.523883
               ],
               [
                17.306687,
                53.526709
               ],
               [
                17.302435,
                53.52843
               ],
               [
                17.295424,
                53.525365
               ],
               [
                17.282014,
                53.533672
               ],
               [
                17.269489,
                53.53708
               ],
               [
                17.264137,
                53.53594
               ],
               [
                17.243242,
                53.531815
               ],
               [
                17.210486,
                53.535699
               ],
               [
                17.197289,
                53.532944
               ],
               [
                17.183903,
                53.534078
               ],
               [
                17.159189,
                53.528313
               ],
               [
                17.146573,
                53.530338
               ],
               [
                17.132075,
                53.535862
               ],
               [
                17.116804,
                53.537174
               ],
               [
                17.102248,
                53.541915
               ],
               [
                17.092182,
                53.542159
               ],
               [
                17.058257,
                53.520844
               ],
               [
                17.033176,
                53.516313
               ],
               [
                17.015388,
                53.519472
               ],
               [
                17.000349,
                53.518426
               ],
               [
                17.000073,
                53.524714
               ],
               [
                16.992701,
                53.526513
               ],
               [
                16.993365,
                53.53093
               ],
               [
                17.005516,
                53.535044
               ],
               [
                17.001678,
                53.546001
               ],
               [
                17.000395,
                53.549661
               ],
               [
                16.99095,
                53.554352
               ],
               [
                16.982534,
                53.55559
               ],
               [
                16.96826,
                53.548988
               ],
               [
                16.951729,
                53.545607
               ],
               [
                16.948764,
                53.558036
               ],
               [
                16.939672,
                53.572679
               ],
               [
                16.939182,
                53.582493
               ],
               [
                16.931492,
                53.587708
               ],
               [
                16.89875,
                53.620605
               ],
               [
                16.899431,
                53.625684
               ],
               [
                16.895652,
                53.630006
               ],
               [
                16.898584,
                53.642204
               ],
               [
                16.892248,
                53.655869
               ],
               [
                16.880111,
                53.689239
               ],
               [
                16.876839,
                53.719036
               ],
               [
                16.873686,
                53.723538
               ],
               [
                16.868056,
                53.730668
               ],
               [
                16.865557,
                53.734142
               ],
               [
                16.862698,
                53.739446
               ],
               [
                16.857654,
                53.747095
               ],
               [
                16.897877,
                53.760398
               ],
               [
                16.915813,
                53.772007
               ],
               [
                16.930642,
                53.77777
               ],
               [
                16.946356,
                53.804575
               ],
               [
                16.940919,
                53.805563
               ],
               [
                16.935511,
                53.801939
               ],
               [
                16.920796,
                53.799093
               ],
               [
                16.914441,
                53.800139
               ],
               [
                16.910945,
                53.802263
               ],
               [
                16.907466,
                53.81154
               ],
               [
                16.910293,
                53.817326
               ],
               [
                16.908538,
                53.820445
               ],
               [
                16.87093,
                53.832243
               ],
               [
                16.87215,
                53.844547
               ],
               [
                16.864665,
                53.852726
               ],
               [
                16.870482,
                53.858086
               ],
               [
                16.873169,
                53.867637
               ],
               [
                16.893135,
                53.87213
               ],
               [
                16.89532,
                53.876812
               ],
               [
                16.899928,
                53.875448
               ],
               [
                16.909947,
                53.876568
               ],
               [
                16.925747,
                53.87479
               ],
               [
                16.950827,
                53.874792
               ],
               [
                16.953032,
                53.875593
               ],
               [
                16.952233,
                53.87894
               ],
               [
                16.968754,
                53.878594
               ],
               [
                16.975632,
                53.880734
               ],
               [
                16.977386,
                53.88419
               ],
               [
                16.982054,
                53.904909
               ],
               [
                16.98551,
                53.915638
               ],
               [
                16.98463,
                53.923023
               ],
               [
                16.995173,
                53.927896
               ],
               [
                17.004336,
                53.928133
               ],
               [
                17.017402,
                53.938485
               ],
               [
                17.016495,
                53.945645
               ],
               [
                17.006765,
                53.956899
               ],
               [
                17.026271,
                53.968938
               ],
               [
                17.037243,
                53.970693
               ],
               [
                17.051844,
                53.96683
               ],
               [
                17.06876,
                53.97259
               ],
               [
                17.089642,
                53.976559
               ],
               [
                17.098137,
                53.974359
               ],
               [
                17.106331,
                53.967632
               ],
               [
                17.113254,
                53.966946
               ],
               [
                17.100177,
                53.986825
               ],
               [
                17.109011,
                54.001294
               ],
               [
                17.110131,
                54.007603
               ],
               [
                17.122632,
                54.009764
               ],
               [
                17.14857,
                54.003921
               ],
               [
                17.161991,
                54.00812
               ],
               [
                17.183579,
                54.009722
               ],
               [
                17.183559,
                54.006397
               ],
               [
                17.177619,
                54.00382
               ],
               [
                17.183855,
                54.00079
               ],
               [
                17.181692,
                53.994659
               ],
               [
                17.178002,
                53.992653
               ],
               [
                17.182251,
                53.989555
               ],
               [
                17.200066,
                53.987317
               ],
               [
                17.20905,
                53.984464
               ],
               [
                17.210623,
                53.981557
               ],
               [
                17.231299,
                53.981121
               ],
               [
                17.227079,
                53.957062
               ],
               [
                17.232806,
                53.947587
               ],
               [
                17.241209,
                53.942725
               ],
               [
                17.252688,
                53.93563
               ],
               [
                17.264137,
                53.918296
               ],
               [
                17.267955,
                53.912514
               ],
               [
                17.274444,
                53.90678
               ],
               [
                17.265997,
                53.900131
               ],
               [
                17.268112,
                53.897066
               ],
               [
                17.26522,
                53.889987
               ],
               [
                17.294045,
                53.872226
               ],
               [
                17.297936,
                53.87277
               ],
               [
                17.303628,
                53.877269
               ],
               [
                17.317062,
                53.900207
               ],
               [
                17.324341,
                53.904898
               ],
               [
                17.324316,
                53.911811
               ],
               [
                17.331394,
                53.915778
               ],
               [
                17.331246,
                53.921737
               ],
               [
                17.340518,
                53.923206
               ],
               [
                17.347941,
                53.932081
               ],
               [
                17.362195,
                53.936561
               ],
               [
                17.363844,
                53.938997
               ],
               [
                17.367932,
                53.938793
               ],
               [
                17.375674,
                53.933824
               ],
               [
                17.372684,
                53.929051
               ],
               [
                17.376153,
                53.928291
               ],
               [
                17.384391,
                53.931853
               ],
               [
                17.383678,
                53.936902
               ],
               [
                17.38822,
                53.937068
               ],
               [
                17.392983,
                53.932289
               ],
               [
                17.394175,
                53.924856
               ],
               [
                17.401264,
                53.919498
               ],
               [
                17.411285,
                53.922183
               ],
               [
                17.414994,
                53.924951
               ],
               [
                17.429695,
                53.926791
               ],
               [
                17.431795,
                53.93245
               ],
               [
                17.43481,
                53.933205
               ],
               [
                17.442838,
                53.931569
               ],
               [
                17.450963,
                53.924452
               ],
               [
                17.462215,
                53.921058
               ],
               [
                17.47216,
                53.922041
               ],
               [
                17.475775,
                53.918398
               ],
               [
                17.483723,
                53.921962
               ],
               [
                17.491311,
                53.922256
               ],
               [
                17.493985,
                53.927823
               ],
               [
                17.504648,
                53.933092
               ],
               [
                17.500132,
                53.936764
               ],
               [
                17.499651,
                53.944131
               ],
               [
                17.508182,
                53.954727
               ],
               [
                17.519036,
                53.968203
               ],
               [
                17.519249,
                53.976539
               ],
               [
                17.529671,
                53.977391
               ],
               [
                17.533735,
                53.982776
               ],
               [
                17.542783,
                53.983407
               ],
               [
                17.562789,
                53.983431
               ],
               [
                17.564846,
                53.989011
               ],
               [
                17.574336,
                53.990017
               ],
               [
                17.575484,
                54.006626
               ],
               [
                17.580562,
                54.009089
               ],
               [
                17.579999,
                54.025556
               ],
               [
                17.582984,
                54.0311
               ],
               [
                17.590224,
                54.031558
               ],
               [
                17.597431,
                54.029405
               ],
               [
                17.617162,
                54.03104
               ],
               [
                17.646827,
                54.025888
               ],
               [
                17.663157,
                54.04678
               ],
               [
                17.666935,
                54.056713
               ],
               [
                17.665736,
                54.061751
               ],
               [
                17.669085,
                54.068964
               ],
               [
                17.662585,
                54.080394
               ],
               [
                17.664092,
                54.097726
               ],
               [
                17.668629,
                54.102527
               ],
               [
                17.674304,
                54.104621
               ],
               [
                17.682832,
                54.102877
               ],
               [
                17.680526,
                54.093403
               ],
               [
                17.682117,
                54.088704
               ],
               [
                17.689548,
                54.089983
               ],
               [
                17.693871,
                54.089028
               ],
               [
                17.693376,
                54.087498
               ],
               [
                17.68776,
                54.08651
               ],
               [
                17.696141,
                54.082393
               ],
               [
                17.699006,
                54.083573
               ],
               [
                17.698168,
                54.088567
               ],
               [
                17.70675,
                54.092483
               ],
               [
                17.702909,
                54.096853
               ],
               [
                17.705994,
                54.100172
               ],
               [
                17.709537,
                54.100013
               ],
               [
                17.713781,
                54.095875
               ],
               [
                17.723538,
                54.094285
               ],
               [
                17.728439,
                54.09891
               ],
               [
                17.735856,
                54.099661
               ],
               [
                17.735395,
                54.105421
               ],
               [
                17.723637,
                54.112331
               ],
               [
                17.721334,
                54.128306
               ],
               [
                17.724532,
                54.128015
               ],
               [
                17.726855,
                54.130132
               ],
               [
                17.720862,
                54.133776
               ],
               [
                17.725395,
                54.135814
               ],
               [
                17.727977,
                54.142003
               ],
               [
                17.733584,
                54.144089
               ],
               [
                17.739655,
                54.155292
               ],
               [
                17.760544,
                54.152319
               ],
               [
                17.764639,
                54.149667
               ],
               [
                17.769468,
                54.149344
               ],
               [
                17.770869,
                54.147263
               ],
               [
                17.768196,
                54.144461
               ],
               [
                17.77468,
                54.139731
               ],
               [
                17.788131,
                54.166961
               ],
               [
                17.791847,
                54.171672
               ],
               [
                17.798821,
                54.174458
               ],
               [
                17.800194,
                54.178172
               ],
               [
                17.835127,
                54.179072
               ],
               [
                17.840001,
                54.184787
               ],
               [
                17.861904,
                54.190871
               ],
               [
                17.865357,
                54.190796
               ],
               [
                17.880903,
                54.190461
               ],
               [
                17.895852,
                54.186227
               ],
               [
                17.909997,
                54.174707
               ],
               [
                17.934728,
                54.179317
               ],
               [
                17.951055,
                54.188668
               ],
               [
                17.964118,
                54.189626
               ],
               [
                17.970768,
                54.194513
               ],
               [
                17.97741,
                54.194387
               ],
               [
                17.989667,
                54.197369
               ],
               [
                17.999694,
                54.190434
               ],
               [
                17.996213,
                54.184868
               ],
               [
                17.996559,
                54.177292
               ],
               [
                18.007308,
                54.176921
               ],
               [
                18.014994,
                54.179564
               ],
               [
                18.041125,
                54.177924
               ],
               [
                18.061669,
                54.180525
               ],
               [
                18.071846,
                54.174677
               ],
               [
                18.074367,
                54.176235
               ],
               [
                18.067775,
                54.185486
               ],
               [
                18.086062,
                54.198184
               ],
               [
                18.093237,
                54.200259
               ],
               [
                18.0942,
                54.203289
               ],
               [
                18.097883,
                54.203243
               ],
               [
                18.100891,
                54.200012
               ],
               [
                18.113212,
                54.201401
               ],
               [
                18.128278,
                54.199328
               ],
               [
                18.130138,
                54.195477
               ],
               [
                18.137596,
                54.192925
               ],
               [
                18.135188,
                54.188089
               ],
               [
                18.150099,
                54.187621
               ],
               [
                18.166099,
                54.197955
               ],
               [
                18.179794,
                54.193321
               ],
               [
                18.188223,
                54.194385
               ],
               [
                18.199141,
                54.193689
               ],
               [
                18.216086,
                54.190812
               ],
               [
                18.222867,
                54.187936
               ],
               [
                18.2293,
                54.181358
               ],
               [
                18.230822,
                54.171214
               ],
               [
                18.228617,
                54.166756
               ],
               [
                18.239158,
                54.166789
               ],
               [
                18.262235,
                54.161068
               ],
               [
                18.274537,
                54.153015
               ],
               [
                18.27789,
                54.148318
               ],
               [
                18.297802,
                54.150396
               ],
               [
                18.310041,
                54.148909
               ],
               [
                18.313877,
                54.147722
               ],
               [
                18.318348,
                54.142325
               ],
               [
                18.327239,
                54.141085
               ]
              ]
             ],
             "type": "Polygon"
            },
            "id": "PL: Chojnicki",
            "properties": {},
            "type": "Feature"
           },
           {
            "bbox": [
             18.064705,
             53.57774,
             19.582042,
             54.182534
            ],
            "geometry": {
             "coordinates": [
              [
               [
                19.217689,
                54.116121
               ],
               [
                19.217285,
                54.11557
               ],
               [
                19.226583,
                54.114533
               ],
               [
                19.231385,
                54.112034
               ],
               [
                19.254564,
                54.086056
               ],
               [
                19.251883,
                54.083479
               ],
               [
                19.225853,
                54.076871
               ],
               [
                19.22173,
                54.069427
               ],
               [
                19.23226,
                54.064664
               ],
               [
                19.239535,
                54.063909
               ],
               [
                19.265497,
                54.051571
               ],
               [
                19.274835,
                54.052456
               ],
               [
                19.282213,
                54.041722
               ],
               [
                19.27174,
                54.041536
               ],
               [
                19.259646,
                54.035335
               ],
               [
                19.268042,
                54.025117
               ],
               [
                19.271064,
                54.023263
               ],
               [
                19.272031,
                54.017319
               ],
               [
                19.280537,
                54.013238
               ],
               [
                19.288089,
                54.016026
               ],
               [
                19.293599,
                54.02451
               ],
               [
                19.319496,
                54.026698
               ],
               [
                19.326043,
                54.019732
               ],
               [
                19.358968,
                54.005174
               ],
               [
                19.366235,
                54.005443
               ],
               [
                19.374372,
                54.00178
               ],
               [
                19.38733,
                54.000888
               ],
               [
                19.396423,
                54.002373
               ],
               [
                19.405319,
                54.001826
               ],
               [
                19.409393,
                53.999864
               ],
               [
                19.391913,
                53.993068
               ],
               [
                19.384849,
                53.990501
               ],
               [
                19.378222,
                53.985134
               ],
               [
                19.366654,
                53.961554
               ],
               [
                19.372135,
                53.949354
               ],
               [
                19.369404,
                53.938682
               ],
               [
                19.375141,
                53.935413
               ],
               [
                19.400342,
                53.934065
               ],
               [
                19.400489,
                53.930216
               ],
               [
                19.41839,
                53.927246
               ],
               [
                19.441416,
                53.933916
               ],
               [
                19.458939,
                53.941768
               ],
               [
                19.482744,
                53.943428
               ],
               [
                19.490018,
                53.945949
               ],
               [
                19.503493,
                53.94515
               ],
               [
                19.51489,
                53.946845
               ],
               [
                19.53485,
                53.944844
               ],
               [
                19.555114,
                53.947595
               ],
               [
                19.557951,
                53.947131
               ],
               [
                19.558971,
                53.9445
               ],
               [
                19.566396,
                53.943923
               ],
               [
                19.575983,
                53.94831
               ],
               [
                19.575813,
                53.943384
               ],
               [
                19.582042,
                53.938391
               ],
               [
                19.581415,
                53.928319
               ],
               [
                19.569915,
                53.928081
               ],
               [
                19.56442,
                53.92581
               ],
               [
                19.55703,
                53.925445
               ],
               [
                19.560336,
                53.916676
               ],
               [
                19.555114,
                53.896837
               ],
               [
                19.544794,
                53.888873
               ],
               [
                19.542785,
                53.884864
               ],
               [
                19.534889,
                53.881565
               ],
               [
                19.537454,
                53.875869
               ],
               [
                19.531181,
                53.874004
               ],
               [
                19.527748,
                53.870218
               ],
               [
                19.528975,
                53.867779
               ],
               [
                19.524408,
                53.860908
               ],
               [
                19.514088,
                53.855627
               ],
               [
                19.512421,
                53.848799
               ],
               [
                19.515957,
                53.844693
               ],
               [
                19.48177,
                53.818457
               ],
               [
                19.481273,
                53.816132
               ],
               [
                19.499394,
                53.806554
               ],
               [
                19.473005,
                53.785438
               ],
               [
                19.481588,
                53.780367
               ],
               [
                19.480872,
                53.775106
               ],
               [
                19.460983,
                53.783439
               ],
               [
                19.455674,
                53.788804
               ],
               [
                19.45513,
                53.796895
               ],
               [
                19.431631,
                53.801914
               ],
               [
                19.370962,
                53.814018
               ],
               [
                19.359813,
                53.813062
               ],
               [
                19.351978,
                53.815244
               ],
               [
                19.322978,
                53.813944
               ],
               [
                19.31045,
                53.802765
               ],
               [
                19.309602,
                53.795201
               ],
               [
                19.315095,
                53.79146
               ],
               [
                19.310419,
                53.791033
               ],
               [
                19.305374,
                53.787903
               ],
               [
                19.2996,
                53.781116
               ],
               [
                19.302042,
                53.777634
               ],
               [
                19.299032,
                53.770814
               ],
               [
                19.303157,
                53.767021
               ],
               [
                19.300143,
                53.762176
               ],
               [
                19.302614,
                53.754587
               ],
               [
                19.294785,
                53.744749
               ],
               [
                19.277508,
                53.732885
               ],
               [
                19.263425,
                53.729287
               ],
               [
                19.237074,
                53.708103
               ],
               [
                19.225506,
                53.704309
               ],
               [
                19.2139,
                53.692009
               ],
               [
                19.222316,
                53.667929
               ],
               [
                19.214111,
                53.669008
               ],
               [
                19.214516,
                53.649084
               ],
               [
                19.211026,
                53.647411
               ],
               [
                19.211476,
                53.642898
               ],
               [
                19.206027,
                53.637483
               ],
               [
                19.202186,
                53.635557
               ],
               [
                19.201098,
                53.638061
               ],
               [
                19.193546,
                53.640709
               ],
               [
                19.184658,
                53.637726
               ],
               [
                19.178571,
                53.639577
               ],
               [
                19.162356,
                53.624136
               ],
               [
                19.15078,
                53.618986
               ],
               [
                19.139072,
                53.610529
               ],
               [
                19.130986,
                53.608033
               ],
               [
                19.12841,
                53.60226
               ],
               [
                19.129277,
                53.58826
               ],
               [
                19.09685,
                53.596537
               ],
               [
                19.078758,
                53.597088
               ],
               [
                19.052579,
                53.596845
               ],
               [
                19.029412,
                53.593375
               ],
               [
                19.024499,
                53.591251
               ],
               [
                19.016007,
                53.59167
               ],
               [
                18.993027,
                53.595288
               ],
               [
                18.989116,
                53.594487
               ],
               [
                18.986303,
                53.589885
               ],
               [
                18.977807,
                53.587805
               ],
               [
                18.971164,
                53.588967
               ],
               [
                18.9425,
                53.588296
               ],
               [
                18.92556,
                53.590908
               ],
               [
                18.915,
                53.579909
               ],
               [
                18.906146,
                53.57774
               ],
               [
                18.903624,
                53.579332
               ],
               [
                18.907596,
                53.592541
               ],
               [
                18.895176,
                53.596093
               ],
               [
                18.89014,
                53.599497
               ],
               [
                18.854888,
                53.601343
               ],
               [
                18.831082,
                53.604682
               ],
               [
                18.771576,
                53.606253
               ],
               [
                18.765571,
                53.608394
               ],
               [
                18.761578,
                53.604882
               ],
               [
                18.740989,
                53.631844
               ],
               [
                18.739684,
                53.645541
               ],
               [
                18.747609,
                53.658451
               ],
               [
                18.772475,
                53.678335
               ],
               [
                18.788972,
                53.702105
               ],
               [
                18.782717,
                53.703464
               ],
               [
                18.764356,
                53.69897
               ],
               [
                18.75186,
                53.692863
               ],
               [
                18.747955,
                53.686954
               ],
               [
                18.744655,
                53.687554
               ],
               [
                18.741475,
                53.692288
               ],
               [
                18.733837,
                53.68603
               ],
               [
                18.72727,
                53.684214
               ],
               [
                18.719067,
                53.688031
               ],
               [
                18.709045,
                53.686583
               ],
               [
                18.697631,
                53.691639
               ],
               [
                18.695523,
                53.693806
               ],
               [
                18.696553,
                53.699953
               ],
               [
                18.68747,
                53.698656
               ],
               [
                18.676943,
                53.691164
               ],
               [
                18.664359,
                53.696083
               ],
               [
                18.655132,
                53.694961
               ],
               [
                18.637172,
                53.677991
               ],
               [
                18.631035,
                53.674896
               ],
               [
                18.607968,
                53.670787
               ],
               [
                18.588389,
                53.673127
               ],
               [
                18.578835,
                53.676995
               ],
               [
                18.575114,
                53.676836
               ],
               [
                18.568122,
                53.672959
               ],
               [
                18.581788,
                53.666355
               ],
               [
                18.583505,
                53.660032
               ],
               [
                18.579283,
                53.65802
               ],
               [
                18.560469,
                53.656991
               ],
               [
                18.554755,
                53.6554
               ],
               [
                18.550652,
                53.656225
               ],
               [
                18.543414,
                53.66579
               ],
               [
                18.536686,
                53.668506
               ],
               [
                18.53311,
                53.666997
               ],
               [
                18.529716,
                53.668183
               ],
               [
                18.52945,
                53.673831
               ],
               [
                18.532089,
                53.675923
               ],
               [
                18.530373,
                53.678224
               ],
               [
                18.51477,
                53.681475
               ],
               [
                18.513085,
                53.688393
               ],
               [
                18.522547,
                53.692122
               ],
               [
                18.515449,
                53.703357
               ],
               [
                18.508583,
                53.700491
               ],
               [
                18.495517,
                53.699566
               ],
               [
                18.488616,
                53.702168
               ],
               [
                18.470129,
                53.703045
               ],
               [
                18.468281,
                53.690249
               ],
               [
                18.460427,
                53.68658
               ],
               [
                18.455576,
                53.687117
               ],
               [
                18.454326,
                53.693252
               ],
               [
                18.420346,
                53.687622
               ],
               [
                18.418897,
                53.691653
               ],
               [
                18.401145,
                53.690496
               ],
               [
                18.354589,
                53.687924
               ],
               [
                18.347503,
                53.691961
               ],
               [
                18.292209,
                53.699231
               ],
               [
                18.263762,
                53.700983
               ],
               [
                18.254866,
                53.710891
               ],
               [
                18.272542,
                53.716483
               ],
               [
                18.276082,
                53.721101
               ],
               [
                18.266753,
                53.72543
               ],
               [
                18.272898,
                53.731766
               ],
               [
                18.266822,
                53.739006
               ],
               [
                18.265136,
                53.741707
               ],
               [
                18.256019,
                53.745498
               ],
               [
                18.220183,
                53.740254
               ],
               [
                18.220894,
                53.750578
               ],
               [
                18.218215,
                53.751622
               ],
               [
                18.215029,
                53.750818
               ],
               [
                18.214441,
                53.747141
               ],
               [
                18.205121,
                53.740687
               ],
               [
                18.197434,
                53.738966
               ],
               [
                18.194949,
                53.74055
               ],
               [
                18.200363,
                53.744639
               ],
               [
                18.200351,
                53.755978
               ],
               [
                18.188223,
                53.755304
               ],
               [
                18.182213,
                53.752597
               ],
               [
                18.178773,
                53.745935
               ],
               [
                18.169907,
                53.745968
               ],
               [
                18.15565,
                53.753783
               ],
               [
                18.150294,
                53.767458
               ],
               [
                18.131892,
                53.768771
               ],
               [
                18.115309,
                53.759644
               ],
               [
                18.11127,
                53.759188
               ],
               [
                18.108795,
                53.761139
               ],
               [
                18.108371,
                53.768144
               ],
               [
                18.099996,
                53.768451
               ],
               [
                18.092044,
                53.775184
               ],
               [
                18.072037,
                53.781075
               ],
               [
                18.072292,
                53.782969
               ],
               [
                18.071682,
                53.786443
               ],
               [
                18.072273,
                53.789991
               ],
               [
                18.0731,
                53.791487
               ],
               [
                18.074095,
                53.795011
               ],
               [
                18.075163,
                53.797481
               ],
               [
                18.07686,
                53.799136
               ],
               [
                18.078566,
                53.800059
               ],
               [
                18.083707,
                53.804324
               ],
               [
                18.087609,
                53.806596
               ],
               [
                18.09464,
                53.811021
               ],
               [
                18.098519,
                53.812117
               ],
               [
                18.100497,
                53.812958
               ],
               [
                18.120575,
                53.822947
               ],
               [
                18.122336,
                53.826869
               ],
               [
                18.117441,
                53.831726
               ],
               [
                18.111303,
                53.82948
               ],
               [
                18.096605,
                53.835019
               ],
               [
                18.096509,
                53.83163
               ],
               [
                18.091599,
                53.832922
               ],
               [
                18.066989,
                53.847729
               ],
               [
                18.064705,
                53.850273
               ],
               [
                18.071,
                53.852197
               ],
               [
                18.082554,
                53.850259
               ],
               [
                18.082278,
                53.85621
               ],
               [
                18.073822,
                53.863817
               ],
               [
                18.07553,
                53.869392
               ],
               [
                18.072541,
                53.873677
               ],
               [
                18.083337,
                53.882937
               ],
               [
                18.082882,
                53.888287
               ],
               [
                18.091677,
                53.888686
               ],
               [
                18.097421,
                53.89278
               ],
               [
                18.106739,
                53.894233
               ],
               [
                18.10876,
                53.896805
               ],
               [
                18.12913,
                53.887743
               ],
               [
                18.136198,
                53.888606
               ],
               [
                18.138705,
                53.891433
               ],
               [
                18.104357,
                53.92137
               ],
               [
                18.106378,
                53.925514
               ],
               [
                18.123449,
                53.933197
               ],
               [
                18.136278,
                53.933781
               ],
               [
                18.136314,
                53.947798
               ],
               [
                18.164739,
                53.961416
               ],
               [
                18.178436,
                53.958252
               ],
               [
                18.188223,
                53.957374
               ],
               [
                18.202084,
                53.95613
               ],
               [
                18.202943,
                53.951939
               ],
               [
                18.199302,
                53.944254
               ],
               [
                18.215207,
                53.941419
               ],
               [
                18.221921,
                53.946628
               ],
               [
                18.235231,
                53.948855
               ],
               [
                18.240498,
                53.947591
               ],
               [
                18.242644,
                53.952612
               ],
               [
                18.251181,
                53.955862
               ],
               [
                18.254755,
                53.96032
               ],
               [
                18.262783,
                53.957124
               ],
               [
                18.266457,
                53.952463
               ],
               [
                18.275544,
                53.95408
               ],
               [
                18.302387,
                53.965112
               ],
               [
                18.317216,
                53.978022
               ],
               [
                18.33327,
                53.975701
               ],
               [
                18.348404,
                53.977531
               ],
               [
                18.336294,
                53.996
               ],
               [
                18.325263,
                54.003247
               ],
               [
                18.315571,
                54.000555
               ],
               [
                18.311269,
                53.995724
               ],
               [
                18.303042,
                53.993097
               ],
               [
                18.280826,
                53.993348
               ],
               [
                18.278869,
                53.996227
               ],
               [
                18.294504,
                54.009544
               ],
               [
                18.293461,
                54.011884
               ],
               [
                18.285777,
                54.015158
               ],
               [
                18.288406,
                54.019442
               ],
               [
                18.292846,
                54.025127
               ],
               [
                18.289772,
                54.031652
               ],
               [
                18.291863,
                54.034181
               ],
               [
                18.318456,
                54.03966
               ],
               [
                18.327793,
                54.0492
               ],
               [
                18.344764,
                54.047232
               ],
               [
                18.358912,
                54.059527
               ],
               [
                18.353091,
                54.065613
               ],
               [
                18.347308,
                54.066623
               ],
               [
                18.347283,
                54.075377
               ],
               [
                18.342509,
                54.080392
               ],
               [
                18.330704,
                54.083263
               ],
               [
                18.344863,
                54.097009
               ],
               [
                18.351561,
                54.107713
               ],
               [
                18.335599,
                54.11244
               ],
               [
                18.320597,
                54.11374
               ],
               [
                18.327938,
                54.128666
               ],
               [
                18.330108,
                54.134664
               ],
               [
                18.323945,
                54.137627
               ],
               [
                18.327239,
                54.141085
               ],
               [
                18.337871,
                54.142859
               ],
               [
                18.337577,
                54.139455
               ],
               [
                18.346567,
                54.137633
               ],
               [
                18.355355,
                54.142466
               ],
               [
                18.359239,
                54.140964
               ],
               [
                18.361116,
                54.139837
               ],
               [
                18.381828,
                54.126154
               ],
               [
                18.388532,
                54.124789
               ],
               [
                18.392038,
                54.121662
               ],
               [
                18.399652,
                54.122583
               ],
               [
                18.419885,
                54.120409
               ],
               [
                18.443859,
                54.122658
               ],
               [
                18.480785,
                54.119688
               ],
               [
                18.491355,
                54.122182
               ],
               [
                18.507603,
                54.121053
               ],
               [
                18.523981,
                54.126004
               ],
               [
                18.532001,
                54.126552
               ],
               [
                18.534186,
                54.108015
               ],
               [
                18.538847,
                54.107236
               ],
               [
                18.547352,
                54.110002
               ],
               [
                18.553477,
                54.10583
               ],
               [
                18.56272,
                54.108166
               ],
               [
                18.57576,
                54.106511
               ],
               [
                18.581267,
                54.103638
               ],
               [
                18.590701,
                54.105901
               ],
               [
                18.594502,
                54.108561
               ],
               [
                18.596919,
                54.120409
               ],
               [
                18.604211,
                54.123239
               ],
               [
                18.622414,
                54.125682
               ],
               [
                18.626914,
                54.128681
               ],
               [
                18.629894,
                54.135367
               ],
               [
                18.62887,
                54.142326
               ],
               [
                18.638689,
                54.14147
               ],
               [
                18.654338,
                54.133529
               ],
               [
                18.661796,
                54.140022
               ],
               [
                18.667734,
                54.141049
               ],
               [
                18.673284,
                54.139291
               ],
               [
                18.675231,
                54.144365
               ],
               [
                18.685974,
                54.151033
               ],
               [
                18.694298,
                54.150469
               ],
               [
                18.700916,
                54.146206
               ],
               [
                18.724184,
                54.148777
               ],
               [
                18.738821,
                54.151652
               ],
               [
                18.788336,
                54.153297
               ],
               [
                18.791053,
                54.150773
               ],
               [
                18.804461,
                54.153907
               ],
               [
                18.806586,
                54.152638
               ],
               [
                18.805429,
                54.149144
               ],
               [
                18.812651,
                54.143327
               ],
               [
                18.828174,
                54.141572
               ],
               [
                18.829297,
                54.147806
               ],
               [
                18.83658,
                54.155491
               ],
               [
                18.862744,
                54.152648
               ],
               [
                18.872093,
                54.156078
               ],
               [
                18.882014,
                54.155912
               ],
               [
                18.901487,
                54.165799
               ],
               [
                18.913809,
                54.157829
               ],
               [
                18.920721,
                54.165756
               ],
               [
                18.950661,
                54.1773
               ],
               [
                18.955827,
                54.17387
               ],
               [
                18.964074,
                54.176136
               ],
               [
                18.977296,
                54.167834
               ],
               [
                18.989616,
                54.173338
               ],
               [
                19.001731,
                54.182534
               ],
               [
                19.030827,
                54.177493
               ],
               [
                19.047107,
                54.171677
               ],
               [
                19.043753,
                54.164882
               ],
               [
                19.052878,
                54.160225
               ],
               [
                19.056769,
                54.149425
               ],
               [
                19.068857,
                54.144853
               ],
               [
                19.078758,
                54.146047
               ],
               [
                19.083398,
                54.152085
               ],
               [
                19.09369,
                54.154755
               ],
               [
                19.105517,
                54.144406
               ],
               [
                19.120904,
                54.144046
               ],
               [
                19.126627,
                54.146392
               ],
               [
                19.129301,
                54.144419
               ],
               [
                19.1433,
                54.146691
               ],
               [
                19.149252,
                54.139069
               ],
               [
                19.153732,
                54.137267
               ],
               [
                19.166338,
                54.149335
               ],
               [
                19.175718,
                54.140208
               ],
               [
                19.210467,
                54.144923
               ],
               [
                19.22048,
                54.130776
               ],
               [
                19.214964,
                54.1229
               ],
               [
                19.217033,
                54.120767
               ],
               [
                19.214915,
                54.118063
               ],
               [
                19.217689,
                54.116121
               ]
              ]
             ],
             "type": "Polygon"
            },
            "id": "PL: Starogardzki",
            "properties": {},
            "type": "Feature"
           },
           {
            "bbox": [
             18.358159,
             54.275392,
             18.95003,
             54.58448
            ],
            "geometry": {
             "coordinates": [
              [
               [
                18.95003,
                54.35831
               ],
               [
                18.948448,
                54.355663
               ],
               [
                18.946274,
                54.351097
               ],
               [
                18.942901,
                54.342206
               ],
               [
                18.935492,
                54.319707
               ],
               [
                18.934372,
                54.315329
               ],
               [
                18.933702,
                54.310847
               ],
               [
                18.933482,
                54.307793
               ],
               [
                18.933643,
                54.301709
               ],
               [
                18.934222,
                54.297428
               ],
               [
                18.934664,
                54.295239
               ],
               [
                18.935302,
                54.292909
               ],
               [
                18.936848,
                54.288354
               ],
               [
                18.940698,
                54.280205
               ],
               [
                18.93089,
                54.282268
               ],
               [
                18.923104,
                54.287938
               ],
               [
                18.918673,
                54.302559
               ],
               [
                18.909412,
                54.312505
               ],
               [
                18.898219,
                54.314415
               ],
               [
                18.876128,
                54.310572
               ],
               [
                18.868652,
                54.312145
               ],
               [
                18.86004,
                54.319955
               ],
               [
                18.839999,
                54.328549
               ],
               [
                18.830136,
                54.339128
               ],
               [
                18.812772,
                54.344857
               ],
               [
                18.793564,
                54.346129
               ],
               [
                18.776211,
                54.337539
               ],
               [
                18.763393,
                54.333648
               ],
               [
                18.75222,
                54.335321
               ],
               [
                18.74359,
                54.340883
               ],
               [
                18.728325,
                54.341028
               ],
               [
                18.724184,
                54.336707
               ],
               [
                18.705776,
                54.313636
               ],
               [
                18.700946,
                54.315421
               ],
               [
                18.687848,
                54.312686
               ],
               [
                18.689391,
                54.301466
               ],
               [
                18.64034,
                54.290809
               ],
               [
                18.642045,
                54.279676
               ],
               [
                18.636254,
                54.275392
               ],
               [
                18.625862,
                54.278016
               ],
               [
                18.624069,
                54.276725
               ],
               [
                18.606038,
                54.278688
               ],
               [
                18.606402,
                54.283128
               ],
               [
                18.599513,
                54.284885
               ],
               [
                18.610493,
                54.291895
               ],
               [
                18.598928,
                54.303083
               ],
               [
                18.592138,
                54.305466
               ],
               [
                18.584915,
                54.302608
               ],
               [
                18.579505,
                54.303223
               ],
               [
                18.572676,
                54.305026
               ],
               [
                18.571477,
                54.312354
               ],
               [
                18.563579,
                54.317766
               ],
               [
                18.557943,
                54.318471
               ],
               [
                18.549266,
                54.316756
               ],
               [
                18.545971,
                54.312851
               ],
               [
                18.53703,
                54.316119
               ],
               [
                18.533305,
                54.33497
               ],
               [
                18.529335,
                54.335955
               ],
               [
                18.516294,
                54.334134
               ],
               [
                18.506007,
                54.335306
               ],
               [
                18.500967,
                54.333768
               ],
               [
                18.494437,
                54.329327
               ],
               [
                18.491874,
                54.319157
               ],
               [
                18.487985,
                54.317011
               ],
               [
                18.477341,
                54.32653
               ],
               [
                18.467413,
                54.327593
               ],
               [
                18.457914,
                54.3324
               ],
               [
                18.467712,
                54.348376
               ],
               [
                18.458132,
                54.355921
               ],
               [
                18.451049,
                54.355424
               ],
               [
                18.442306,
                54.357588
               ],
               [
                18.443447,
                54.36326
               ],
               [
                18.446169,
                54.376782
               ],
               [
                18.430502,
                54.384441
               ],
               [
                18.464521,
                54.400613
               ],
               [
                18.464082,
                54.407506
               ],
               [
                18.442716,
                54.4087
               ],
               [
                18.447657,
                54.417169
               ],
               [
                18.44432,
                54.419486
               ],
               [
                18.457121,
                54.435058
               ],
               [
                18.444401,
                54.436223
               ],
               [
                18.440946,
                54.438098
               ],
               [
                18.449114,
                54.440569
               ],
               [
                18.451045,
                54.443251
               ],
               [
                18.440027,
                54.452225
               ],
               [
                18.443152,
                54.457483
               ],
               [
                18.438852,
                54.462162
               ],
               [
                18.419425,
                54.470292
               ],
               [
                18.41782,
                54.478917
               ],
               [
                18.407796,
                54.476174
               ],
               [
                18.391425,
                54.49277
               ],
               [
                18.378932,
                54.494022
               ],
               [
                18.375144,
                54.49117
               ],
               [
                18.367292,
                54.489954
               ],
               [
                18.359239,
                54.492274
               ],
               [
                18.358159,
                54.493491
               ],
               [
                18.3692,
                54.504329
               ],
               [
                18.382461,
                54.509005
               ],
               [
                18.38038,
                54.515089
               ],
               [
                18.385802,
                54.522267
               ],
               [
                18.404008,
                54.529408
               ],
               [
                18.403341,
                54.535897
               ],
               [
                18.390659,
                54.536149
               ],
               [
                18.391117,
                54.542948
               ],
               [
                18.407456,
                54.551887
               ],
               [
                18.415749,
                54.553814
               ],
               [
                18.413066,
                54.556591
               ],
               [
                18.426956,
                54.559034
               ],
               [
                18.430952,
                54.56652
               ],
               [
                18.43546,
                54.563207
               ],
               [
                18.441421,
                54.563332
               ],
               [
                18.461014,
                54.557884
               ],
               [
                18.463588,
                54.561905
               ],
               [
                18.471361,
                54.561053
               ],
               [
                18.483307,
                54.563736
               ],
               [
                18.505309,
                54.563552
               ],
               [
                18.510719,
                54.561931
               ],
               [
                18.53535,
                54.571226
               ],
               [
                18.537202,
                54.576471
               ],
               [
                18.534383,
                54.581639
               ],
               [
                18.541727,
                54.58448
               ],
               [
                18.549086,
                54.572653
               ],
               [
                18.552074,
                54.560662
               ],
               [
                18.559084,
                54.551118
               ],
               [
                18.562367,
                54.538056
               ],
               [
                18.561487,
                54.522267
               ],
               [
                18.561317,
                54.51922
               ],
               [
                18.55066,
                54.514602
               ],
               [
                18.568563,
                54.48652
               ],
               [
                18.562108,
                54.474313
               ],
               [
                18.561694,
                54.463953
               ],
               [
                18.568842,
                54.449481
               ],
               [
                18.591159,
                54.430185
               ],
               [
                18.615252,
                54.417557
               ],
               [
                18.635715,
                54.410354
               ],
               [
                18.651387,
                54.408501
               ],
               [
                18.664271,
                54.411491
               ],
               [
                18.676434,
                54.408074
               ],
               [
                18.703227,
                54.386989
               ],
               [
                18.712494,
                54.38506
               ],
               [
                18.723935,
                54.377538
               ],
               [
                18.737292,
                54.374526
               ],
               [
                18.780958,
                54.370416
               ],
               [
                18.807004,
                54.36326
               ],
               [
                18.83292,
                54.356138
               ],
               [
                18.880637,
                54.348107
               ],
               [
                18.921808,
                54.347073
               ],
               [
                18.935499,
                54.351796
               ],
               [
                18.94428,
                54.361104
               ],
               [
                18.95003,
                54.35831
               ]
              ]
             ],
             "type": "Polygon"
            },
            "id": "PL: Trójmiejski",
            "properties": {},
            "type": "Feature"
           },
           {
            "bbox": [
             17.666607,
             54.103638,
             19.648523,
             54.835685
            ],
            "geometry": {
             "coordinates": [
              [
               [
                18.541727,
                54.58448
               ],
               [
                18.534383,
                54.581639
               ],
               [
                18.537202,
                54.576471
               ],
               [
                18.53535,
                54.571226
               ],
               [
                18.510719,
                54.561931
               ],
               [
                18.505309,
                54.563552
               ],
               [
                18.483307,
                54.563736
               ],
               [
                18.471361,
                54.561053
               ],
               [
                18.463588,
                54.561905
               ],
               [
                18.461014,
                54.557884
               ],
               [
                18.441421,
                54.563332
               ],
               [
                18.43546,
                54.563207
               ],
               [
                18.430952,
                54.56652
               ],
               [
                18.426956,
                54.559034
               ],
               [
                18.413066,
                54.556591
               ],
               [
                18.415749,
                54.553814
               ],
               [
                18.407456,
                54.551887
               ],
               [
                18.391117,
                54.542948
               ],
               [
                18.390659,
                54.536149
               ],
               [
                18.403341,
                54.535897
               ],
               [
                18.404008,
                54.529408
               ],
               [
                18.385802,
                54.522267
               ],
               [
                18.38038,
                54.515089
               ],
               [
                18.382461,
                54.509005
               ],
               [
                18.3692,
                54.504329
               ],
               [
                18.358159,
                54.493491
               ],
               [
                18.359239,
                54.492274
               ],
               [
                18.367292,
                54.489954
               ],
               [
                18.375144,
                54.49117
               ],
               [
                18.378932,
                54.494022
               ],
               [
                18.391425,
                54.49277
               ],
               [
                18.407796,
                54.476174
               ],
               [
                18.41782,
                54.478917
               ],
               [
                18.419425,
                54.470292
               ],
               [
                18.438852,
                54.462162
               ],
               [
                18.443152,
                54.457483
               ],
               [
                18.440027,
                54.452225
               ],
               [
                18.451045,
                54.443251
               ],
               [
                18.449114,
                54.440569
               ],
               [
                18.440946,
                54.438098
               ],
               [
                18.444401,
                54.436223
               ],
               [
                18.457121,
                54.435058
               ],
               [
                18.44432,
                54.419486
               ],
               [
                18.447657,
                54.417169
               ],
               [
                18.442716,
                54.4087
               ],
               [
                18.464082,
                54.407506
               ],
               [
                18.464521,
                54.400613
               ],
               [
                18.430502,
                54.384441
               ],
               [
                18.446169,
                54.376782
               ],
               [
                18.443447,
                54.36326
               ],
               [
                18.442306,
                54.357588
               ],
               [
                18.451049,
                54.355424
               ],
               [
                18.458132,
                54.355921
               ],
               [
                18.467712,
                54.348376
               ],
               [
                18.457914,
                54.3324
               ],
               [
                18.467413,
                54.327593
               ],
               [
                18.477341,
                54.32653
               ],
               [
                18.487985,
                54.317011
               ],
               [
                18.491874,
                54.319157
               ],
               [
                18.494437,
                54.329327
               ],
               [
                18.500967,
                54.333768
               ],
               [
                18.506007,
                54.335306
               ],
               [
                18.516294,
                54.334134
               ],
               [
                18.529335,
                54.335955
               ],
               [
                18.533305,
                54.33497
               ],
               [
                18.53703,
                54.316119
               ],
               [
                18.545971,
                54.312851
               ],
               [
                18.549266,
                54.316756
               ],
               [
                18.557943,
                54.318471
               ],
               [
                18.563579,
                54.317766
               ],
               [
                18.571477,
                54.312354
               ],
               [
                18.572676,
                54.305026
               ],
               [
                18.579505,
                54.303223
               ],
               [
                18.584915,
                54.302608
               ],
               [
                18.592138,
                54.305466
               ],
               [
                18.598928,
                54.303083
               ],
               [
                18.610493,
                54.291895
               ],
               [
                18.599513,
                54.284885
               ],
               [
                18.606402,
                54.283128
               ],
               [
                18.606038,
                54.278688
               ],
               [
                18.624069,
                54.276725
               ],
               [
                18.625862,
                54.278016
               ],
               [
                18.636254,
                54.275392
               ],
               [
                18.642045,
                54.279676
               ],
               [
                18.64034,
                54.290809
               ],
               [
                18.689391,
                54.301466
               ],
               [
                18.687848,
                54.312686
               ],
               [
                18.700946,
                54.315421
               ],
               [
                18.705776,
                54.313636
               ],
               [
                18.724184,
                54.336707
               ],
               [
                18.728325,
                54.341028
               ],
               [
                18.74359,
                54.340883
               ],
               [
                18.75222,
                54.335321
               ],
               [
                18.763393,
                54.333648
               ],
               [
                18.776211,
                54.337539
               ],
               [
                18.793564,
                54.346129
               ],
               [
                18.812772,
                54.344857
               ],
               [
                18.830136,
                54.339128
               ],
               [
                18.839999,
                54.328549
               ],
               [
                18.86004,
                54.319955
               ],
               [
                18.868652,
                54.312145
               ],
               [
                18.876128,
                54.310572
               ],
               [
                18.898219,
                54.314415
               ],
               [
                18.909412,
                54.312505
               ],
               [
                18.918673,
                54.302559
               ],
               [
                18.923104,
                54.287938
               ],
               [
                18.93089,
                54.282268
               ],
               [
                18.940698,
                54.280205
               ],
               [
                18.936848,
                54.288354
               ],
               [
                18.935302,
                54.292909
               ],
               [
                18.934664,
                54.295239
               ],
               [
                18.934222,
                54.297428
               ],
               [
                18.933643,
                54.301709
               ],
               [
                18.933482,
                54.307793
               ],
               [
                18.933702,
                54.310847
               ],
               [
                18.934372,
                54.315329
               ],
               [
                18.935492,
                54.319707
               ],
               [
                18.942901,
                54.342206
               ],
               [
                18.946274,
                54.351097
               ],
               [
                18.948448,
                54.355663
               ],
               [
                18.95003,
                54.35831
               ],
               [
                18.955589,
                54.36
               ],
               [
                18.96877,
                54.350075
               ],
               [
                18.989136,
                54.34528
               ],
               [
                19.078758,
                54.345697
               ],
               [
                19.144921,
                54.349049
               ],
               [
                19.227462,
                54.354613
               ],
               [
                19.301758,
                54.36326
               ],
               [
                19.33137,
                54.366705
               ],
               [
                19.383665,
                54.375412
               ],
               [
                19.443514,
                54.388126
               ],
               [
                19.494379,
                54.401315
               ],
               [
                19.549968,
                54.419131
               ],
               [
                19.555114,
                54.421176
               ],
               [
                19.598915,
                54.438575
               ],
               [
                19.639032,
                54.458294
               ],
               [
                19.648523,
                54.453339
               ],
               [
                19.592502,
                54.424634
               ],
               [
                19.555114,
                54.411204
               ],
               [
                19.537162,
                54.404755
               ],
               [
                19.463757,
                54.386557
               ],
               [
                19.443514,
                54.376863
               ],
               [
                19.423289,
                54.372218
               ],
               [
                19.41002,
                54.367048
               ],
               [
                19.388173,
                54.36326
               ],
               [
                19.382873,
                54.362341
               ],
               [
                19.361861,
                54.354001
               ],
               [
                19.345372,
                54.352117
               ],
               [
                19.305247,
                54.352264
               ],
               [
                19.281573,
                54.350314
               ],
               [
                19.24757,
                54.343709
               ],
               [
                19.22563,
                54.336058
               ],
               [
                19.224808,
                54.332864
               ],
               [
                19.227915,
                54.330213
               ],
               [
                19.243272,
                54.330337
               ],
               [
                19.24795,
                54.328674
               ],
               [
                19.249592,
                54.318235
               ],
               [
                19.256932,
                54.314799
               ],
               [
                19.259,
                54.308121
               ],
               [
                19.263494,
                54.304497
               ],
               [
                19.25293,
                54.299073
               ],
               [
                19.24678,
                54.292342
               ],
               [
                19.258334,
                54.283919
               ],
               [
                19.256953,
                54.27846
               ],
               [
                19.253433,
                54.270276
               ],
               [
                19.256602,
                54.268163
               ],
               [
                19.25875,
                54.267082
               ],
               [
                19.288313,
                54.254611
               ],
               [
                19.299103,
                54.246688
               ],
               [
                19.304048,
                54.23607
               ],
               [
                19.316542,
                54.22602
               ],
               [
                19.314473,
                54.219319
               ],
               [
                19.323776,
                54.210896
               ],
               [
                19.326267,
                54.205215
               ],
               [
                19.325143,
                54.198273
               ],
               [
                19.319712,
                54.191446
               ],
               [
                19.31306,
                54.189276
               ],
               [
                19.285313,
                54.186244
               ],
               [
                19.273989,
                54.18009
               ],
               [
                19.260336,
                54.175869
               ],
               [
                19.248004,
                54.167321
               ],
               [
                19.247247,
                54.161767
               ],
               [
                19.257495,
                54.155538
               ],
               [
                19.256596,
                54.149815
               ],
               [
                19.23802,
                54.1272
               ],
               [
                19.217689,
                54.116121
               ],
               [
                19.214915,
                54.118063
               ],
               [
                19.217033,
                54.120767
               ],
               [
                19.214964,
                54.1229
               ],
               [
                19.22048,
                54.130776
               ],
               [
                19.210467,
                54.144923
               ],
               [
                19.175718,
                54.140208
               ],
               [
                19.166338,
                54.149335
               ],
               [
                19.153732,
                54.137267
               ],
               [
                19.149252,
                54.139069
               ],
               [
                19.1433,
                54.146691
               ],
               [
                19.129301,
                54.144419
               ],
               [
                19.126627,
                54.146392
               ],
               [
                19.120904,
                54.144046
               ],
               [
                19.105517,
                54.144406
               ],
               [
                19.09369,
                54.154755
               ],
               [
                19.083398,
                54.152085
               ],
               [
                19.078758,
                54.146047
               ],
               [
                19.068857,
                54.144853
               ],
               [
                19.056769,
                54.149425
               ],
               [
                19.052878,
                54.160225
               ],
               [
                19.043753,
                54.164882
               ],
               [
                19.047107,
                54.171677
               ],
               [
                19.030827,
                54.177493
               ],
               [
                19.001731,
                54.182534
               ],
               [
                18.989616,
                54.173338
               ],
               [
                18.977296,
                54.167834
               ],
               [
                18.964074,
                54.176136
               ],
               [
                18.955827,
                54.17387
               ],
               [
                18.950661,
                54.1773
               ],
               [
                18.920721,
                54.165756
               ],
               [
                18.913809,
                54.157829
               ],
               [
                18.901487,
                54.165799
               ],
               [
                18.882014,
                54.155912
               ],
               [
                18.872093,
                54.156078
               ],
               [
                18.862744,
                54.152648
               ],
               [
                18.83658,
                54.155491
               ],
               [
                18.829297,
                54.147806
               ],
               [
                18.828174,
                54.141572
               ],
               [
                18.812651,
                54.143327
               ],
               [
                18.805429,
                54.149144
               ],
               [
                18.806586,
                54.152638
               ],
               [
                18.804461,
                54.153907
               ],
               [
                18.791053,
                54.150773
               ],
               [
                18.788336,
                54.153297
               ],
               [
                18.738821,
                54.151652
               ],
               [
                18.724184,
                54.148777
               ],
               [
                18.700916,
                54.146206
               ],
               [
                18.694298,
                54.150469
               ],
               [
                18.685974,
                54.151033
               ],
               [
                18.675231,
                54.144365
               ],
               [
                18.673284,
                54.139291
               ],
               [
                18.667734,
                54.141049
               ],
               [
                18.661796,
                54.140022
               ],
               [
                18.654338,
                54.133529
               ],
               [
                18.638689,
                54.14147
               ],
               [
                18.62887,
                54.142326
               ],
               [
                18.629894,
                54.135367
               ],
               [
                18.626914,
                54.128681
               ],
               [
                18.622414,
                54.125682
               ],
               [
                18.604211,
                54.123239
               ],
               [
                18.596919,
                54.120409
               ],
               [
                18.594502,
                54.108561
               ],
               [
                18.590701,
                54.105901
               ],
               [
                18.581267,
                54.103638
               ],
               [
                18.57576,
                54.106511
               ],
               [
                18.56272,
                54.108166
               ],
               [
                18.553477,
                54.10583
               ],
               [
                18.547352,
                54.110002
               ],
               [
                18.538847,
                54.107236
               ],
               [
                18.534186,
                54.108015
               ],
               [
                18.532001,
                54.126552
               ],
               [
                18.523981,
                54.126004
               ],
               [
                18.507603,
                54.121053
               ],
               [
                18.491355,
                54.122182
               ],
               [
                18.480785,
                54.119688
               ],
               [
                18.443859,
                54.122658
               ],
               [
                18.419885,
                54.120409
               ],
               [
                18.399652,
                54.122583
               ],
               [
                18.392038,
                54.121662
               ],
               [
                18.388532,
                54.124789
               ],
               [
                18.381828,
                54.126154
               ],
               [
                18.361116,
                54.139837
               ],
               [
                18.359239,
                54.140964
               ],
               [
                18.355355,
                54.142466
               ],
               [
                18.346567,
                54.137633
               ],
               [
                18.337577,
                54.139455
               ],
               [
                18.337871,
                54.142859
               ],
               [
                18.327239,
                54.141085
               ],
               [
                18.318348,
                54.142325
               ],
               [
                18.313877,
                54.147722
               ],
               [
                18.310041,
                54.148909
               ],
               [
                18.297802,
                54.150396
               ],
               [
                18.27789,
                54.148318
               ],
               [
                18.274537,
                54.153015
               ],
               [
                18.262235,
                54.161068
               ],
               [
                18.239158,
                54.166789
               ],
               [
                18.228617,
                54.166756
               ],
               [
                18.230822,
                54.171214
               ],
               [
                18.2293,
                54.181358
               ],
               [
                18.222867,
                54.187936
               ],
               [
                18.216086,
                54.190812
               ],
               [
                18.199141,
                54.193689
               ],
               [
                18.188223,
                54.194385
               ],
               [
                18.179794,
                54.193321
               ],
               [
                18.166099,
                54.197955
               ],
               [
                18.150099,
                54.187621
               ],
               [
                18.135188,
                54.188089
               ],
               [
                18.137596,
                54.192925
               ],
               [
                18.130138,
                54.195477
               ],
               [
                18.128278,
                54.199328
               ],
               [
                18.113212,
                54.201401
               ],
               [
                18.100891,
                54.200012
               ],
               [
                18.097883,
                54.203243
               ],
               [
                18.0942,
                54.203289
               ],
               [
                18.093237,
                54.200259
               ],
               [
                18.086062,
                54.198184
               ],
               [
                18.067775,
                54.185486
               ],
               [
                18.074367,
                54.176235
               ],
               [
                18.071846,
                54.174677
               ],
               [
                18.061669,
                54.180525
               ],
               [
                18.041125,
                54.177924
               ],
               [
                18.014994,
                54.179564
               ],
               [
                18.007308,
                54.176921
               ],
               [
                17.996559,
                54.177292
               ],
               [
                17.996213,
                54.184868
               ],
               [
                17.999694,
                54.190434
               ],
               [
                17.989667,
                54.197369
               ],
               [
                17.97741,
                54.194387
               ],
               [
                17.970768,
                54.194513
               ],
               [
                17.964118,
                54.189626
               ],
               [
                17.951055,
                54.188668
               ],
               [
                17.934728,
                54.179317
               ],
               [
                17.909997,
                54.174707
               ],
               [
                17.895852,
                54.186227
               ],
               [
                17.880903,
                54.190461
               ],
               [
                17.865357,
                54.190796
               ],
               [
                17.861904,
                54.190871
               ],
               [
                17.840001,
                54.184787
               ],
               [
                17.835127,
                54.179072
               ],
               [
                17.800194,
                54.178172
               ],
               [
                17.789988,
                54.182648
               ],
               [
                17.780449,
                54.184444
               ],
               [
                17.766437,
                54.179216
               ],
               [
                17.758094,
                54.179888
               ],
               [
                17.749311,
                54.18675
               ],
               [
                17.748701,
                54.198739
               ],
               [
                17.738739,
                54.20363
               ],
               [
                17.722386,
                54.196032
               ],
               [
                17.707306,
                54.181514
               ],
               [
                17.703877,
                54.181903
               ],
               [
                17.703605,
                54.186674
               ],
               [
                17.693874,
                54.182908
               ],
               [
                17.689192,
                54.183321
               ],
               [
                17.704765,
                54.192814
               ],
               [
                17.722488,
                54.21574
               ],
               [
                17.721343,
                54.220372
               ],
               [
                17.713971,
                54.224451
               ],
               [
                17.712169,
                54.234681
               ],
               [
                17.70252,
                54.236909
               ],
               [
                17.7002,
                54.239768
               ],
               [
                17.703048,
                54.245365
               ],
               [
                17.716962,
                54.25539
               ],
               [
                17.722302,
                54.261986
               ],
               [
                17.722425,
                54.2689
               ],
               [
                17.714722,
                54.282741
               ],
               [
                17.725939,
                54.294076
               ],
               [
                17.711128,
                54.301412
               ],
               [
                17.708389,
                54.306117
               ],
               [
                17.714506,
                54.320978
               ],
               [
                17.728814,
                54.324442
               ],
               [
                17.732661,
                54.323193
               ],
               [
                17.738993,
                54.324294
               ],
               [
                17.742189,
                54.32918
               ],
               [
                17.740261,
                54.332016
               ],
               [
                17.747257,
                54.3411
               ],
               [
                17.742582,
                54.3498
               ],
               [
                17.748938,
                54.351201
               ],
               [
                17.750393,
                54.354381
               ],
               [
                17.764484,
                54.354006
               ],
               [
                17.777107,
                54.36326
               ],
               [
                17.77887,
                54.364552
               ],
               [
                17.794919,
                54.369846
               ],
               [
                17.789892,
                54.375695
               ],
               [
                17.801007,
                54.384863
               ],
               [
                17.793148,
                54.39403
               ],
               [
                17.799848,
                54.411519
               ],
               [
                17.812799,
                54.41523
               ],
               [
                17.823679,
                54.415112
               ],
               [
                17.847791,
                54.410164
               ],
               [
                17.856908,
                54.403729
               ],
               [
                17.865357,
                54.405233
               ],
               [
                17.873848,
                54.406745
               ],
               [
                17.881238,
                54.409955
               ],
               [
                17.876612,
                54.418698
               ],
               [
                17.865357,
                54.430848
               ],
               [
                17.852314,
                54.444924
               ],
               [
                17.846098,
                54.461821
               ],
               [
                17.851263,
                54.465609
               ],
               [
                17.851146,
                54.468435
               ],
               [
                17.856932,
                54.469263
               ],
               [
                17.865357,
                54.474276
               ],
               [
                17.867832,
                54.475748
               ],
               [
                17.885929,
                54.479644
               ],
               [
                17.881231,
                54.484871
               ],
               [
                17.875922,
                54.491512
               ],
               [
                17.878914,
                54.498056
               ],
               [
                17.873342,
                54.500833
               ],
               [
                17.865357,
                54.501831
               ],
               [
                17.865357,
                54.503403
               ],
               [
                17.867747,
                54.506829
               ],
               [
                17.865357,
                54.508626
               ],
               [
                17.858129,
                54.514061
               ],
               [
                17.827299,
                54.512577
               ],
               [
                17.825168,
                54.520925
               ],
               [
                17.828592,
                54.522267
               ],
               [
                17.835943,
                54.525146
               ],
               [
                17.838915,
                54.533145
               ],
               [
                17.838247,
                54.541095
               ],
               [
                17.832368,
                54.552869
               ],
               [
                17.844205,
                54.557165
               ],
               [
                17.845532,
                54.561256
               ],
               [
                17.840874,
                54.564763
               ],
               [
                17.826446,
                54.56251
               ],
               [
                17.814061,
                54.564917
               ],
               [
                17.813041,
                54.569349
               ],
               [
                17.797798,
                54.587788
               ],
               [
                17.783769,
                54.593517
               ],
               [
                17.779417,
                54.612311
               ],
               [
                17.781102,
                54.61389
               ],
               [
                17.786701,
                54.614041
               ],
               [
                17.799213,
                54.611771
               ],
               [
                17.809645,
                54.607285
               ],
               [
                17.816141,
                54.606941
               ],
               [
                17.814812,
                54.610701
               ],
               [
                17.818914,
                54.616962
               ],
               [
                17.814857,
                54.635083
               ],
               [
                17.827437,
                54.657344
               ],
               [
                17.827587,
                54.665852
               ],
               [
                17.817599,
                54.665103
               ],
               [
                17.799146,
                54.667719
               ],
               [
                17.796497,
                54.675452
               ],
               [
                17.7885,
                54.677667
               ],
               [
                17.782025,
                54.701452
               ],
               [
                17.770211,
                54.705466
               ],
               [
                17.768415,
                54.709181
               ],
               [
                17.755819,
                54.710801
               ],
               [
                17.754335,
                54.71893
               ],
               [
                17.749144,
                54.723213
               ],
               [
                17.757458,
                54.727358
               ],
               [
                17.761995,
                54.732733
               ],
               [
                17.771734,
                54.732663
               ],
               [
                17.77056,
                54.737393
               ],
               [
                17.764601,
                54.742924
               ],
               [
                17.737614,
                54.746297
               ],
               [
                17.739353,
                54.749351
               ],
               [
                17.725431,
                54.756421
               ],
               [
                17.726072,
                54.762747
               ],
               [
                17.719769,
                54.775479
               ],
               [
                17.710492,
                54.775042
               ],
               [
                17.70399,
                54.777389
               ],
               [
                17.675687,
                54.771534
               ],
               [
                17.672537,
                54.773921
               ],
               [
                17.666607,
                54.783231
               ],
               [
                17.748015,
                54.800137
               ],
               [
                17.811163,
                54.808034
               ],
               [
                17.865357,
                54.818156
               ],
               [
                17.883468,
                54.821538
               ],
               [
                17.915473,
                54.82595
               ],
               [
                17.967824,
                54.830833
               ],
               [
                18.06886,
                54.833906
               ],
               [
                18.117226,
                54.832284
               ],
               [
                18.188223,
                54.833098
               ],
               [
                18.195014,
                54.833176
               ],
               [
                18.228428,
                54.832724
               ],
               [
                18.297581,
                54.835685
               ],
               [
                18.328031,
                54.8346
               ],
               [
                18.337933,
                54.831654
               ],
               [
                18.359239,
                54.81739
               ],
               [
                18.38869,
                54.80616
               ],
               [
                18.420338,
                54.797587
               ],
               [
                18.420721,
                54.793788
               ],
               [
                18.433597,
                54.788295
               ],
               [
                18.528481,
                54.75479
               ],
               [
                18.657851,
                54.710801
               ],
               [
                18.724184,
                54.683528
               ],
               [
                18.731773,
                54.67969
               ],
               [
                18.78211,
                54.654091
               ],
               [
                18.823259,
                54.625325
               ],
               [
                18.826621,
                54.62056
               ],
               [
                18.82859,
                54.606793
               ],
               [
                18.823458,
                54.599823
               ],
               [
                18.814483,
                54.593888
               ],
               [
                18.808859,
                54.593976
               ],
               [
                18.80458,
                54.598956
               ],
               [
                18.799917,
                54.600235
               ],
               [
                18.800758,
                54.604818
               ],
               [
                18.798204,
                54.60735
               ],
               [
                18.792534,
                54.607749
               ],
               [
                18.779231,
                54.613443
               ],
               [
                18.777244,
                54.62166
               ],
               [
                18.764668,
                54.63699
               ],
               [
                18.724184,
                54.671071
               ],
               [
                18.720202,
                54.674753
               ],
               [
                18.706615,
                54.684844
               ],
               [
                18.689413,
                54.693418
               ],
               [
                18.673966,
                54.693176
               ],
               [
                18.66738,
                54.699312
               ],
               [
                18.653768,
                54.700403
               ],
               [
                18.639083,
                54.710801
               ],
               [
                18.617377,
                54.722192
               ],
               [
                18.542646,
                54.747126
               ],
               [
                18.528921,
                54.748988
               ],
               [
                18.524924,
                54.752226
               ],
               [
                18.519982,
                54.755833
               ],
               [
                18.495694,
                54.762139
               ],
               [
                18.472864,
                54.771802
               ],
               [
                18.424228,
                54.788082
               ],
               [
                18.420352,
                54.785692
               ],
               [
                18.417235,
                54.770191
               ],
               [
                18.405495,
                54.760042
               ],
               [
                18.397032,
                54.747525
               ],
               [
                18.394135,
                54.730745
               ],
               [
                18.396984,
                54.727694
               ],
               [
                18.407473,
                54.723387
               ],
               [
                18.418823,
                54.722007
               ],
               [
                18.433776,
                54.713212
               ],
               [
                18.436363,
                54.710801
               ],
               [
                18.447865,
                54.7038
               ],
               [
                18.472145,
                54.694393
               ],
               [
                18.465776,
                54.684766
               ],
               [
                18.466544,
                54.66583
               ],
               [
                18.464054,
                54.659876
               ],
               [
                18.465599,
                54.656321
               ],
               [
                18.474467,
                54.650103
               ],
               [
                18.470933,
                54.643912
               ],
               [
                18.47468,
                54.640591
               ],
               [
                18.469147,
                54.639514
               ],
               [
                18.469993,
                54.637278
               ],
               [
                18.469404,
                54.633728
               ],
               [
                18.478854,
                54.630565
               ],
               [
                18.513787,
                54.634144
               ],
               [
                18.51077,
                54.621898
               ],
               [
                18.512867,
                54.61232
               ],
               [
                18.530644,
                54.591224
               ],
               [
                18.541727,
                54.58448
               ]
              ]
             ],
             "type": "Polygon"
            },
            "id": "PL: Gdański",
            "properties": {},
            "type": "Feature"
           },
           {
            "bbox": [
             16.699085,
             53.872226,
             17.885929,
             54.783231
            ],
            "geometry": {
             "coordinates": [
              [
               [
                17.800194,
                54.178172
               ],
               [
                17.798821,
                54.174458
               ],
               [
                17.791847,
                54.171672
               ],
               [
                17.788131,
                54.166961
               ],
               [
                17.77468,
                54.139731
               ],
               [
                17.768196,
                54.144461
               ],
               [
                17.770869,
                54.147263
               ],
               [
                17.769468,
                54.149344
               ],
               [
                17.764639,
                54.149667
               ],
               [
                17.760544,
                54.152319
               ],
               [
                17.739655,
                54.155292
               ],
               [
                17.733584,
                54.144089
               ],
               [
                17.727977,
                54.142003
               ],
               [
                17.725395,
                54.135814
               ],
               [
                17.720862,
                54.133776
               ],
               [
                17.726855,
                54.130132
               ],
               [
                17.724532,
                54.128015
               ],
               [
                17.721334,
                54.128306
               ],
               [
                17.723637,
                54.112331
               ],
               [
                17.735395,
                54.105421
               ],
               [
                17.735856,
                54.099661
               ],
               [
                17.728439,
                54.09891
               ],
               [
                17.723538,
                54.094285
               ],
               [
                17.713781,
                54.095875
               ],
               [
                17.709537,
                54.100013
               ],
               [
                17.705994,
                54.100172
               ],
               [
                17.702909,
                54.096853
               ],
               [
                17.70675,
                54.092483
               ],
               [
                17.698168,
                54.088567
               ],
               [
                17.699006,
                54.083573
               ],
               [
                17.696141,
                54.082393
               ],
               [
                17.68776,
                54.08651
               ],
               [
                17.693376,
                54.087498
               ],
               [
                17.693871,
                54.089028
               ],
               [
                17.689548,
                54.089983
               ],
               [
                17.682117,
                54.088704
               ],
               [
                17.680526,
                54.093403
               ],
               [
                17.682832,
                54.102877
               ],
               [
                17.674304,
                54.104621
               ],
               [
                17.668629,
                54.102527
               ],
               [
                17.664092,
                54.097726
               ],
               [
                17.662585,
                54.080394
               ],
               [
                17.669085,
                54.068964
               ],
               [
                17.665736,
                54.061751
               ],
               [
                17.666935,
                54.056713
               ],
               [
                17.663157,
                54.04678
               ],
               [
                17.646827,
                54.025888
               ],
               [
                17.617162,
                54.03104
               ],
               [
                17.597431,
                54.029405
               ],
               [
                17.590224,
                54.031558
               ],
               [
                17.582984,
                54.0311
               ],
               [
                17.579999,
                54.025556
               ],
               [
                17.580562,
                54.009089
               ],
               [
                17.575484,
                54.006626
               ],
               [
                17.574336,
                53.990017
               ],
               [
                17.564846,
                53.989011
               ],
               [
                17.562789,
                53.983431
               ],
               [
                17.542783,
                53.983407
               ],
               [
                17.533735,
                53.982776
               ],
               [
                17.529671,
                53.977391
               ],
               [
                17.519249,
                53.976539
               ],
               [
                17.519036,
                53.968203
               ],
               [
                17.508182,
                53.954727
               ],
               [
                17.499651,
                53.944131
               ],
               [
                17.500132,
                53.936764
               ],
               [
                17.504648,
                53.933092
               ],
               [
                17.493985,
                53.927823
               ],
               [
                17.491311,
                53.922256
               ],
               [
                17.483723,
                53.921962
               ],
               [
                17.475775,
                53.918398
               ],
               [
                17.47216,
                53.922041
               ],
               [
                17.462215,
                53.921058
               ],
               [
                17.450963,
                53.924452
               ],
               [
                17.442838,
                53.931569
               ],
               [
                17.43481,
                53.933205
               ],
               [
                17.431795,
                53.93245
               ],
               [
                17.429695,
                53.926791
               ],
               [
                17.414994,
                53.924951
               ],
               [
                17.411285,
                53.922183
               ],
               [
                17.401264,
                53.919498
               ],
               [
                17.394175,
                53.924856
               ],
               [
                17.392983,
                53.932289
               ],
               [
                17.38822,
                53.937068
               ],
               [
                17.383678,
                53.936902
               ],
               [
                17.384391,
                53.931853
               ],
               [
                17.376153,
                53.928291
               ],
               [
                17.372684,
                53.929051
               ],
               [
                17.375674,
                53.933824
               ],
               [
                17.367932,
                53.938793
               ],
               [
                17.363844,
                53.938997
               ],
               [
                17.362195,
                53.936561
               ],
               [
                17.347941,
                53.932081
               ],
               [
                17.340518,
                53.923206
               ],
               [
                17.331246,
                53.921737
               ],
               [
                17.331394,
                53.915778
               ],
               [
                17.324316,
                53.911811
               ],
               [
                17.324341,
                53.904898
               ],
               [
                17.317062,
                53.900207
               ],
               [
                17.303628,
                53.877269
               ],
               [
                17.297936,
                53.87277
               ],
               [
                17.294045,
                53.872226
               ],
               [
                17.26522,
                53.889987
               ],
               [
                17.268112,
                53.897066
               ],
               [
                17.265997,
                53.900131
               ],
               [
                17.274444,
                53.90678
               ],
               [
                17.267955,
                53.912514
               ],
               [
                17.264137,
                53.918296
               ],
               [
                17.252688,
                53.93563
               ],
               [
                17.241209,
                53.942725
               ],
               [
                17.232806,
                53.947587
               ],
               [
                17.227079,
                53.957062
               ],
               [
                17.231299,
                53.981121
               ],
               [
                17.210623,
                53.981557
               ],
               [
                17.20905,
                53.984464
               ],
               [
                17.200066,
                53.987317
               ],
               [
                17.182251,
                53.989555
               ],
               [
                17.178002,
                53.992653
               ],
               [
                17.181692,
                53.994659
               ],
               [
                17.183855,
                54.00079
               ],
               [
                17.177619,
                54.00382
               ],
               [
                17.183559,
                54.006397
               ],
               [
                17.183579,
                54.009722
               ],
               [
                17.161991,
                54.00812
               ],
               [
                17.14857,
                54.003921
               ],
               [
                17.122632,
                54.009764
               ],
               [
                17.110131,
                54.007603
               ],
               [
                17.109011,
                54.001294
               ],
               [
                17.100177,
                53.986825
               ],
               [
                17.113254,
                53.966946
               ],
               [
                17.106331,
                53.967632
               ],
               [
                17.098137,
                53.974359
               ],
               [
                17.089642,
                53.976559
               ],
               [
                17.06876,
                53.97259
               ],
               [
                17.051844,
                53.96683
               ],
               [
                17.037243,
                53.970693
               ],
               [
                17.026271,
                53.968938
               ],
               [
                17.006765,
                53.956899
               ],
               [
                17.016495,
                53.945645
               ],
               [
                17.017402,
                53.938485
               ],
               [
                17.004336,
                53.928133
               ],
               [
                16.995173,
                53.927896
               ],
               [
                16.98463,
                53.923023
               ],
               [
                16.98551,
                53.915638
               ],
               [
                16.982054,
                53.904909
               ],
               [
                16.966031,
                53.90481
               ],
               [
                16.950937,
                53.909279
               ],
               [
                16.949803,
                53.911934
               ],
               [
                16.941549,
                53.91236
               ],
               [
                16.932612,
                53.915569
               ],
               [
                16.924667,
                53.920263
               ],
               [
                16.922041,
                53.924808
               ],
               [
                16.90717,
                53.926253
               ],
               [
                16.882668,
                53.940188
               ],
               [
                16.876956,
                53.941529
               ],
               [
                16.872499,
                53.945771
               ],
               [
                16.868048,
                53.947279
               ],
               [
                16.862594,
                53.946594
               ],
               [
                16.863394,
                53.950907
               ],
               [
                16.874285,
                53.951707
               ],
               [
                16.87776,
                53.955467
               ],
               [
                16.879123,
                53.964337
               ],
               [
                16.875412,
                53.968874
               ],
               [
                16.875484,
                53.974754
               ],
               [
                16.873108,
                53.977252
               ],
               [
                16.846773,
                53.984644
               ],
               [
                16.84196,
                53.997285
               ],
               [
                16.828919,
                53.995881
               ],
               [
                16.825288,
                54.003354
               ],
               [
                16.819481,
                54.00373
               ],
               [
                16.814603,
                54.000403
               ],
               [
                16.813125,
                53.996086
               ],
               [
                16.804389,
                53.992379
               ],
               [
                16.805695,
                53.988311
               ],
               [
                16.803052,
                53.986366
               ],
               [
                16.811209,
                53.984949
               ],
               [
                16.812861,
                53.979869
               ],
               [
                16.791448,
                53.980448
               ],
               [
                16.792765,
                53.98555
               ],
               [
                16.797679,
                53.987027
               ],
               [
                16.796084,
                53.994534
               ],
               [
                16.800466,
                53.999984
               ],
               [
                16.800037,
                54.004792
               ],
               [
                16.790802,
                54.009289
               ],
               [
                16.794139,
                54.010979
               ],
               [
                16.788525,
                54.013888
               ],
               [
                16.783367,
                54.023582
               ],
               [
                16.78607,
                54.02813
               ],
               [
                16.797469,
                54.036031
               ],
               [
                16.794887,
                54.049996
               ],
               [
                16.797883,
                54.054781
               ],
               [
                16.806326,
                54.056787
               ],
               [
                16.810936,
                54.060308
               ],
               [
                16.808636,
                54.067468
               ],
               [
                16.811659,
                54.072989
               ],
               [
                16.803075,
                54.078205
               ],
               [
                16.79422,
                54.075618
               ],
               [
                16.793289,
                54.084545
               ],
               [
                16.793819,
                54.099872
               ],
               [
                16.79884,
                54.102101
               ],
               [
                16.803467,
                54.11645
               ],
               [
                16.794291,
                54.120965
               ],
               [
                16.779051,
                54.12002
               ],
               [
                16.777626,
                54.126926
               ],
               [
                16.783236,
                54.13064
               ],
               [
                16.775698,
                54.134091
               ],
               [
                16.77567,
                54.150052
               ],
               [
                16.773224,
                54.154707
               ],
               [
                16.758299,
                54.157466
               ],
               [
                16.748925,
                54.172382
               ],
               [
                16.730875,
                54.179172
               ],
               [
                16.729324,
                54.183582
               ],
               [
                16.734974,
                54.186133
               ],
               [
                16.732751,
                54.202519
               ],
               [
                16.7211,
                54.202906
               ],
               [
                16.719295,
                54.208409
               ],
               [
                16.713122,
                54.213936
               ],
               [
                16.7211,
                54.221396
               ],
               [
                16.727856,
                54.224996
               ],
               [
                16.731716,
                54.231928
               ],
               [
                16.744036,
                54.230822
               ],
               [
                16.752734,
                54.235039
               ],
               [
                16.760296,
                54.234463
               ],
               [
                16.773902,
                54.240144
               ],
               [
                16.781934,
                54.239554
               ],
               [
                16.79954,
                54.243881
               ],
               [
                16.809937,
                54.243338
               ],
               [
                16.82035,
                54.246653
               ],
               [
                16.833257,
                54.2464
               ],
               [
                16.863376,
                54.260354
               ],
               [
                16.862562,
                54.264058
               ],
               [
                16.865138,
                54.27522
               ],
               [
                16.863258,
                54.287991
               ],
               [
                16.854453,
                54.300442
               ],
               [
                16.85367,
                54.30754
               ],
               [
                16.839571,
                54.314759
               ],
               [
                16.814859,
                54.318778
               ],
               [
                16.82358,
                54.330966
               ],
               [
                16.827533,
                54.346127
               ],
               [
                16.816506,
                54.359424
               ],
               [
                16.809881,
                54.360402
               ],
               [
                16.809337,
                54.36326
               ],
               [
                16.808163,
                54.369427
               ],
               [
                16.821954,
                54.368533
               ],
               [
                16.835288,
                54.37022
               ],
               [
                16.839585,
                54.375566
               ],
               [
                16.846611,
                54.373018
               ],
               [
                16.856174,
                54.377515
               ],
               [
                16.858171,
                54.381985
               ],
               [
                16.841018,
                54.398563
               ],
               [
                16.838702,
                54.406565
               ],
               [
                16.824391,
                54.415716
               ],
               [
                16.824697,
                54.417046
               ],
               [
                16.82803,
                54.420806
               ],
               [
                16.829035,
                54.42212
               ],
               [
                16.830369,
                54.424294
               ],
               [
                16.834914,
                54.428659
               ],
               [
                16.837341,
                54.430582
               ],
               [
                16.839617,
                54.432003
               ],
               [
                16.840323,
                54.438763
               ],
               [
                16.823039,
                54.453102
               ],
               [
                16.822174,
                54.456289
               ],
               [
                16.827609,
                54.459339
               ],
               [
                16.824521,
                54.462642
               ],
               [
                16.825838,
                54.466522
               ],
               [
                16.819977,
                54.47232
               ],
               [
                16.817317,
                54.470224
               ],
               [
                16.814855,
                54.47115
               ],
               [
                16.809201,
                54.481015
               ],
               [
                16.801259,
                54.48114
               ],
               [
                16.798806,
                54.483956
               ],
               [
                16.793725,
                54.484935
               ],
               [
                16.793315,
                54.487439
               ],
               [
                16.778819,
                54.484849
               ],
               [
                16.762974,
                54.487433
               ],
               [
                16.751185,
                54.498833
               ],
               [
                16.739656,
                54.517057
               ],
               [
                16.740557,
                54.522267
               ],
               [
                16.746977,
                54.528033
               ],
               [
                16.74592,
                54.53193
               ],
               [
                16.7211,
                54.548768
               ],
               [
                16.712907,
                54.554325
               ],
               [
                16.699085,
                54.569247
               ],
               [
                16.7211,
                54.568852
               ],
               [
                16.746342,
                54.568398
               ],
               [
                16.762954,
                54.569603
               ],
               [
                16.791804,
                54.57705
               ],
               [
                16.823118,
                54.582435
               ],
               [
                16.846786,
                54.587816
               ],
               [
                16.851245,
                54.591252
               ],
               [
                16.856328,
                54.588965
               ],
               [
                16.884156,
                54.590893
               ],
               [
                16.91476,
                54.599431
               ],
               [
                16.934871,
                54.6065
               ],
               [
                16.950937,
                54.612147
               ],
               [
                17.000554,
                54.637707
               ],
               [
                17.015726,
                54.647685
               ],
               [
                17.046298,
                54.667781
               ],
               [
                17.085238,
                54.679638
               ],
               [
                17.151389,
                54.698423
               ],
               [
                17.209807,
                54.717985
               ],
               [
                17.228636,
                54.725357
               ],
               [
                17.253984,
                54.732363
               ],
               [
                17.264137,
                54.733865
               ],
               [
                17.329227,
                54.743492
               ],
               [
                17.34677,
                54.748665
               ],
               [
                17.390459,
                54.752836
               ],
               [
                17.446607,
                54.754954
               ],
               [
                17.491284,
                54.75968
               ],
               [
                17.508182,
                54.762631
               ],
               [
                17.518172,
                54.764374
               ],
               [
                17.529671,
                54.765593
               ],
               [
                17.613225,
                54.774446
               ],
               [
                17.648155,
                54.780712
               ],
               [
                17.666607,
                54.783231
               ],
               [
                17.672537,
                54.773921
               ],
               [
                17.675687,
                54.771534
               ],
               [
                17.70399,
                54.777389
               ],
               [
                17.710492,
                54.775042
               ],
               [
                17.719769,
                54.775479
               ],
               [
                17.726072,
                54.762747
               ],
               [
                17.725431,
                54.756421
               ],
               [
                17.739353,
                54.749351
               ],
               [
                17.737614,
                54.746297
               ],
               [
                17.764601,
                54.742924
               ],
               [
                17.77056,
                54.737393
               ],
               [
                17.771734,
                54.732663
               ],
               [
                17.761995,
                54.732733
               ],
               [
                17.757458,
                54.727358
               ],
               [
                17.749144,
                54.723213
               ],
               [
                17.754335,
                54.71893
               ],
               [
                17.755819,
                54.710801
               ],
               [
                17.768415,
                54.709181
               ],
               [
                17.770211,
                54.705466
               ],
               [
                17.782025,
                54.701452
               ],
               [
                17.7885,
                54.677667
               ],
               [
                17.796497,
                54.675452
               ],
               [
                17.799146,
                54.667719
               ],
               [
                17.817599,
                54.665103
               ],
               [
                17.827587,
                54.665852
               ],
               [
                17.827437,
                54.657344
               ],
               [
                17.814857,
                54.635083
               ],
               [
                17.818914,
                54.616962
               ],
               [
                17.814812,
                54.610701
               ],
               [
                17.816141,
                54.606941
               ],
               [
                17.809645,
                54.607285
               ],
               [
                17.799213,
                54.611771
               ],
               [
                17.786701,
                54.614041
               ],
               [
                17.781102,
                54.61389
               ],
               [
                17.779417,
                54.612311
               ],
               [
                17.783769,
                54.593517
               ],
               [
                17.797798,
                54.587788
               ],
               [
                17.813041,
                54.569349
               ],
               [
                17.814061,
                54.564917
               ],
               [
                17.826446,
                54.56251
               ],
               [
                17.840874,
                54.564763
               ],
               [
                17.845532,
                54.561256
               ],
               [
                17.844205,
                54.557165
               ],
               [
                17.832368,
                54.552869
               ],
               [
                17.838247,
                54.541095
               ],
               [
                17.838915,
                54.533145
               ],
               [
                17.835943,
                54.525146
               ],
               [
                17.828592,
                54.522267
               ],
               [
                17.825168,
                54.520925
               ],
               [
                17.827299,
                54.512577
               ],
               [
                17.858129,
                54.514061
               ],
               [
                17.865357,
                54.508626
               ],
               [
                17.867747,
                54.506829
               ],
               [
                17.865357,
                54.503403
               ],
               [
                17.865357,
                54.501831
               ],
               [
                17.873342,
                54.500833
               ],
               [
                17.878914,
                54.498056
               ],
               [
                17.875922,
                54.491512
               ],
               [
                17.881231,
                54.484871
               ],
               [
                17.885929,
                54.479644
               ],
               [
                17.867832,
                54.475748
               ],
               [
                17.865357,
                54.474276
               ],
               [
                17.856932,
                54.469263
               ],
               [
                17.851146,
                54.468435
               ],
               [
                17.851263,
                54.465609
               ],
               [
                17.846098,
                54.461821
               ],
               [
                17.852314,
                54.444924
               ],
               [
                17.865357,
                54.430848
               ],
               [
                17.876612,
                54.418698
               ],
               [
                17.881238,
                54.409955
               ],
               [
                17.873848,
                54.406745
               ],
               [
                17.865357,
                54.405233
               ],
               [
                17.856908,
                54.403729
               ],
               [
                17.847791,
                54.410164
               ],
               [
                17.823679,
                54.415112
               ],
               [
                17.812799,
                54.41523
               ],
               [
                17.799848,
                54.411519
               ],
               [
                17.793148,
                54.39403
               ],
               [
                17.801007,
                54.384863
               ],
               [
                17.789892,
                54.375695
               ],
               [
                17.794919,
                54.369846
               ],
               [
                17.77887,
                54.364552
               ],
               [
                17.777107,
                54.36326
               ],
               [
                17.764484,
                54.354006
               ],
               [
                17.750393,
                54.354381
               ],
               [
                17.748938,
                54.351201
               ],
               [
                17.742582,
                54.3498
               ],
               [
                17.747257,
                54.3411
               ],
               [
                17.740261,
                54.332016
               ],
               [
                17.742189,
                54.32918
               ],
               [
                17.738993,
                54.324294
               ],
               [
                17.732661,
                54.323193
               ],
               [
                17.728814,
                54.324442
               ],
               [
                17.714506,
                54.320978
               ],
               [
                17.708389,
                54.306117
               ],
               [
                17.711128,
                54.301412
               ],
               [
                17.725939,
                54.294076
               ],
               [
                17.714722,
                54.282741
               ],
               [
                17.722425,
                54.2689
               ],
               [
                17.722302,
                54.261986
               ],
               [
                17.716962,
                54.25539
               ],
               [
                17.703048,
                54.245365
               ],
               [
                17.7002,
                54.239768
               ],
               [
                17.70252,
                54.236909
               ],
               [
                17.712169,
                54.234681
               ],
               [
                17.713971,
                54.224451
               ],
               [
                17.721343,
                54.220372
               ],
               [
                17.722488,
                54.21574
               ],
               [
                17.704765,
                54.192814
               ],
               [
                17.689192,
                54.183321
               ],
               [
                17.693874,
                54.182908
               ],
               [
                17.703605,
                54.186674
               ],
               [
                17.703877,
                54.181903
               ],
               [
                17.707306,
                54.181514
               ],
               [
                17.722386,
                54.196032
               ],
               [
                17.738739,
                54.20363
               ],
               [
                17.748701,
                54.198739
               ],
               [
                17.749311,
                54.18675
               ],
               [
                17.758094,
                54.179888
               ],
               [
                17.766437,
                54.179216
               ],
               [
                17.780449,
                54.184444
               ],
               [
                17.789988,
                54.182648
               ],
               [
                17.800194,
                54.178172
               ]
              ]
             ],
             "type": "Polygon"
            },
            "id": "PL: Słupski",
            "properties": {},
            "type": "Feature"
           }
          ],
          "type": "FeatureCollection"
         },
         "hovertemplate": "Location=%{location}<br>risk_cat=%{z}<extra></extra>",
         "locations": [
          "PL: Chojnicki",
          "PL: Starogardzki",
          "PL: Trójmiejski",
          "PL: Gdański",
          "PL: Słupski"
         ],
         "name": "",
         "subplot": "mapbox",
         "type": "choroplethmapbox",
         "z": [
          1,
          4,
          2,
          1,
          1
         ]
        }
       ],
       "layout": {
        "coloraxis": {
         "cmax": 5,
         "cmin": 1,
         "colorbar": {
          "ticktext": [
           1,
           2,
           3,
           4,
           5
          ],
          "tickvals": [
           1,
           2,
           3,
           4,
           5
          ],
          "title": {
           "text": "Risk category"
          }
         },
         "colorscale": [
          [
           0,
           "rgb(255,245,240)"
          ],
          [
           0.125,
           "rgb(254,224,210)"
          ],
          [
           0.25,
           "rgb(252,187,161)"
          ],
          [
           0.375,
           "rgb(252,146,114)"
          ],
          [
           0.5,
           "rgb(251,106,74)"
          ],
          [
           0.625,
           "rgb(239,59,44)"
          ],
          [
           0.75,
           "rgb(203,24,29)"
          ],
          [
           0.875,
           "rgb(165,15,21)"
          ],
          [
           1,
           "rgb(103,0,13)"
          ]
         ]
        },
        "geo": {
         "fitbounds": "locations",
         "visible": false
        },
        "legend": {
         "tracegroupgap": 0
        },
        "mapbox": {
         "center": {
          "lat": 54.15269217170842,
          "lon": 17.974935395135105
         },
         "domain": {
          "x": [
           0,
           1
          ],
          "y": [
           0,
           1
          ]
         },
         "style": "open-street-map",
         "zoom": 5
        },
        "margin": {
         "t": 60
        },
        "template": {
         "data": {
          "bar": [
           {
            "error_x": {
             "color": "#2a3f5f"
            },
            "error_y": {
             "color": "#2a3f5f"
            },
            "marker": {
             "line": {
              "color": "#E5ECF6",
              "width": 0.5
             },
             "pattern": {
              "fillmode": "overlay",
              "size": 10,
              "solidity": 0.2
             }
            },
            "type": "bar"
           }
          ],
          "barpolar": [
           {
            "marker": {
             "line": {
              "color": "#E5ECF6",
              "width": 0.5
             },
             "pattern": {
              "fillmode": "overlay",
              "size": 10,
              "solidity": 0.2
             }
            },
            "type": "barpolar"
           }
          ],
          "carpet": [
           {
            "aaxis": {
             "endlinecolor": "#2a3f5f",
             "gridcolor": "white",
             "linecolor": "white",
             "minorgridcolor": "white",
             "startlinecolor": "#2a3f5f"
            },
            "baxis": {
             "endlinecolor": "#2a3f5f",
             "gridcolor": "white",
             "linecolor": "white",
             "minorgridcolor": "white",
             "startlinecolor": "#2a3f5f"
            },
            "type": "carpet"
           }
          ],
          "choropleth": [
           {
            "colorbar": {
             "outlinewidth": 0,
             "ticks": ""
            },
            "type": "choropleth"
           }
          ],
          "contour": [
           {
            "colorbar": {
             "outlinewidth": 0,
             "ticks": ""
            },
            "colorscale": [
             [
              0,
              "#0d0887"
             ],
             [
              0.1111111111111111,
              "#46039f"
             ],
             [
              0.2222222222222222,
              "#7201a8"
             ],
             [
              0.3333333333333333,
              "#9c179e"
             ],
             [
              0.4444444444444444,
              "#bd3786"
             ],
             [
              0.5555555555555556,
              "#d8576b"
             ],
             [
              0.6666666666666666,
              "#ed7953"
             ],
             [
              0.7777777777777778,
              "#fb9f3a"
             ],
             [
              0.8888888888888888,
              "#fdca26"
             ],
             [
              1,
              "#f0f921"
             ]
            ],
            "type": "contour"
           }
          ],
          "contourcarpet": [
           {
            "colorbar": {
             "outlinewidth": 0,
             "ticks": ""
            },
            "type": "contourcarpet"
           }
          ],
          "heatmap": [
           {
            "colorbar": {
             "outlinewidth": 0,
             "ticks": ""
            },
            "colorscale": [
             [
              0,
              "#0d0887"
             ],
             [
              0.1111111111111111,
              "#46039f"
             ],
             [
              0.2222222222222222,
              "#7201a8"
             ],
             [
              0.3333333333333333,
              "#9c179e"
             ],
             [
              0.4444444444444444,
              "#bd3786"
             ],
             [
              0.5555555555555556,
              "#d8576b"
             ],
             [
              0.6666666666666666,
              "#ed7953"
             ],
             [
              0.7777777777777778,
              "#fb9f3a"
             ],
             [
              0.8888888888888888,
              "#fdca26"
             ],
             [
              1,
              "#f0f921"
             ]
            ],
            "type": "heatmap"
           }
          ],
          "heatmapgl": [
           {
            "colorbar": {
             "outlinewidth": 0,
             "ticks": ""
            },
            "colorscale": [
             [
              0,
              "#0d0887"
             ],
             [
              0.1111111111111111,
              "#46039f"
             ],
             [
              0.2222222222222222,
              "#7201a8"
             ],
             [
              0.3333333333333333,
              "#9c179e"
             ],
             [
              0.4444444444444444,
              "#bd3786"
             ],
             [
              0.5555555555555556,
              "#d8576b"
             ],
             [
              0.6666666666666666,
              "#ed7953"
             ],
             [
              0.7777777777777778,
              "#fb9f3a"
             ],
             [
              0.8888888888888888,
              "#fdca26"
             ],
             [
              1,
              "#f0f921"
             ]
            ],
            "type": "heatmapgl"
           }
          ],
          "histogram": [
           {
            "marker": {
             "pattern": {
              "fillmode": "overlay",
              "size": 10,
              "solidity": 0.2
             }
            },
            "type": "histogram"
           }
          ],
          "histogram2d": [
           {
            "colorbar": {
             "outlinewidth": 0,
             "ticks": ""
            },
            "colorscale": [
             [
              0,
              "#0d0887"
             ],
             [
              0.1111111111111111,
              "#46039f"
             ],
             [
              0.2222222222222222,
              "#7201a8"
             ],
             [
              0.3333333333333333,
              "#9c179e"
             ],
             [
              0.4444444444444444,
              "#bd3786"
             ],
             [
              0.5555555555555556,
              "#d8576b"
             ],
             [
              0.6666666666666666,
              "#ed7953"
             ],
             [
              0.7777777777777778,
              "#fb9f3a"
             ],
             [
              0.8888888888888888,
              "#fdca26"
             ],
             [
              1,
              "#f0f921"
             ]
            ],
            "type": "histogram2d"
           }
          ],
          "histogram2dcontour": [
           {
            "colorbar": {
             "outlinewidth": 0,
             "ticks": ""
            },
            "colorscale": [
             [
              0,
              "#0d0887"
             ],
             [
              0.1111111111111111,
              "#46039f"
             ],
             [
              0.2222222222222222,
              "#7201a8"
             ],
             [
              0.3333333333333333,
              "#9c179e"
             ],
             [
              0.4444444444444444,
              "#bd3786"
             ],
             [
              0.5555555555555556,
              "#d8576b"
             ],
             [
              0.6666666666666666,
              "#ed7953"
             ],
             [
              0.7777777777777778,
              "#fb9f3a"
             ],
             [
              0.8888888888888888,
              "#fdca26"
             ],
             [
              1,
              "#f0f921"
             ]
            ],
            "type": "histogram2dcontour"
           }
          ],
          "mesh3d": [
           {
            "colorbar": {
             "outlinewidth": 0,
             "ticks": ""
            },
            "type": "mesh3d"
           }
          ],
          "parcoords": [
           {
            "line": {
             "colorbar": {
              "outlinewidth": 0,
              "ticks": ""
             }
            },
            "type": "parcoords"
           }
          ],
          "pie": [
           {
            "automargin": true,
            "type": "pie"
           }
          ],
          "scatter": [
           {
            "marker": {
             "colorbar": {
              "outlinewidth": 0,
              "ticks": ""
             }
            },
            "type": "scatter"
           }
          ],
          "scatter3d": [
           {
            "line": {
             "colorbar": {
              "outlinewidth": 0,
              "ticks": ""
             }
            },
            "marker": {
             "colorbar": {
              "outlinewidth": 0,
              "ticks": ""
             }
            },
            "type": "scatter3d"
           }
          ],
          "scattercarpet": [
           {
            "marker": {
             "colorbar": {
              "outlinewidth": 0,
              "ticks": ""
             }
            },
            "type": "scattercarpet"
           }
          ],
          "scattergeo": [
           {
            "marker": {
             "colorbar": {
              "outlinewidth": 0,
              "ticks": ""
             }
            },
            "type": "scattergeo"
           }
          ],
          "scattergl": [
           {
            "marker": {
             "colorbar": {
              "outlinewidth": 0,
              "ticks": ""
             }
            },
            "type": "scattergl"
           }
          ],
          "scattermapbox": [
           {
            "marker": {
             "colorbar": {
              "outlinewidth": 0,
              "ticks": ""
             }
            },
            "type": "scattermapbox"
           }
          ],
          "scatterpolar": [
           {
            "marker": {
             "colorbar": {
              "outlinewidth": 0,
              "ticks": ""
             }
            },
            "type": "scatterpolar"
           }
          ],
          "scatterpolargl": [
           {
            "marker": {
             "colorbar": {
              "outlinewidth": 0,
              "ticks": ""
             }
            },
            "type": "scatterpolargl"
           }
          ],
          "scatterternary": [
           {
            "marker": {
             "colorbar": {
              "outlinewidth": 0,
              "ticks": ""
             }
            },
            "type": "scatterternary"
           }
          ],
          "surface": [
           {
            "colorbar": {
             "outlinewidth": 0,
             "ticks": ""
            },
            "colorscale": [
             [
              0,
              "#0d0887"
             ],
             [
              0.1111111111111111,
              "#46039f"
             ],
             [
              0.2222222222222222,
              "#7201a8"
             ],
             [
              0.3333333333333333,
              "#9c179e"
             ],
             [
              0.4444444444444444,
              "#bd3786"
             ],
             [
              0.5555555555555556,
              "#d8576b"
             ],
             [
              0.6666666666666666,
              "#ed7953"
             ],
             [
              0.7777777777777778,
              "#fb9f3a"
             ],
             [
              0.8888888888888888,
              "#fdca26"
             ],
             [
              1,
              "#f0f921"
             ]
            ],
            "type": "surface"
           }
          ],
          "table": [
           {
            "cells": {
             "fill": {
              "color": "#EBF0F8"
             },
             "line": {
              "color": "white"
             }
            },
            "header": {
             "fill": {
              "color": "#C8D4E3"
             },
             "line": {
              "color": "white"
             }
            },
            "type": "table"
           }
          ]
         },
         "layout": {
          "annotationdefaults": {
           "arrowcolor": "#2a3f5f",
           "arrowhead": 0,
           "arrowwidth": 1
          },
          "autotypenumbers": "strict",
          "coloraxis": {
           "colorbar": {
            "outlinewidth": 0,
            "ticks": ""
           }
          },
          "colorscale": {
           "diverging": [
            [
             0,
             "#8e0152"
            ],
            [
             0.1,
             "#c51b7d"
            ],
            [
             0.2,
             "#de77ae"
            ],
            [
             0.3,
             "#f1b6da"
            ],
            [
             0.4,
             "#fde0ef"
            ],
            [
             0.5,
             "#f7f7f7"
            ],
            [
             0.6,
             "#e6f5d0"
            ],
            [
             0.7,
             "#b8e186"
            ],
            [
             0.8,
             "#7fbc41"
            ],
            [
             0.9,
             "#4d9221"
            ],
            [
             1,
             "#276419"
            ]
           ],
           "sequential": [
            [
             0,
             "#0d0887"
            ],
            [
             0.1111111111111111,
             "#46039f"
            ],
            [
             0.2222222222222222,
             "#7201a8"
            ],
            [
             0.3333333333333333,
             "#9c179e"
            ],
            [
             0.4444444444444444,
             "#bd3786"
            ],
            [
             0.5555555555555556,
             "#d8576b"
            ],
            [
             0.6666666666666666,
             "#ed7953"
            ],
            [
             0.7777777777777778,
             "#fb9f3a"
            ],
            [
             0.8888888888888888,
             "#fdca26"
            ],
            [
             1,
             "#f0f921"
            ]
           ],
           "sequentialminus": [
            [
             0,
             "#0d0887"
            ],
            [
             0.1111111111111111,
             "#46039f"
            ],
            [
             0.2222222222222222,
             "#7201a8"
            ],
            [
             0.3333333333333333,
             "#9c179e"
            ],
            [
             0.4444444444444444,
             "#bd3786"
            ],
            [
             0.5555555555555556,
             "#d8576b"
            ],
            [
             0.6666666666666666,
             "#ed7953"
            ],
            [
             0.7777777777777778,
             "#fb9f3a"
            ],
            [
             0.8888888888888888,
             "#fdca26"
            ],
            [
             1,
             "#f0f921"
            ]
           ]
          },
          "colorway": [
           "#636efa",
           "#EF553B",
           "#00cc96",
           "#ab63fa",
           "#FFA15A",
           "#19d3f3",
           "#FF6692",
           "#B6E880",
           "#FF97FF",
           "#FECB52"
          ],
          "font": {
           "color": "#2a3f5f"
          },
          "geo": {
           "bgcolor": "white",
           "lakecolor": "white",
           "landcolor": "#E5ECF6",
           "showlakes": true,
           "showland": true,
           "subunitcolor": "white"
          },
          "hoverlabel": {
           "align": "left"
          },
          "hovermode": "closest",
          "mapbox": {
           "style": "light"
          },
          "paper_bgcolor": "white",
          "plot_bgcolor": "#E5ECF6",
          "polar": {
           "angularaxis": {
            "gridcolor": "white",
            "linecolor": "white",
            "ticks": ""
           },
           "bgcolor": "#E5ECF6",
           "radialaxis": {
            "gridcolor": "white",
            "linecolor": "white",
            "ticks": ""
           }
          },
          "scene": {
           "xaxis": {
            "backgroundcolor": "#E5ECF6",
            "gridcolor": "white",
            "gridwidth": 2,
            "linecolor": "white",
            "showbackground": true,
            "ticks": "",
            "zerolinecolor": "white"
           },
           "yaxis": {
            "backgroundcolor": "#E5ECF6",
            "gridcolor": "white",
            "gridwidth": 2,
            "linecolor": "white",
            "showbackground": true,
            "ticks": "",
            "zerolinecolor": "white"
           },
           "zaxis": {
            "backgroundcolor": "#E5ECF6",
            "gridcolor": "white",
            "gridwidth": 2,
            "linecolor": "white",
            "showbackground": true,
            "ticks": "",
            "zerolinecolor": "white"
           }
          },
          "shapedefaults": {
           "line": {
            "color": "#2a3f5f"
           }
          },
          "ternary": {
           "aaxis": {
            "gridcolor": "white",
            "linecolor": "white",
            "ticks": ""
           },
           "baxis": {
            "gridcolor": "white",
            "linecolor": "white",
            "ticks": ""
           },
           "bgcolor": "#E5ECF6",
           "caxis": {
            "gridcolor": "white",
            "linecolor": "white",
            "ticks": ""
           }
          },
          "title": {
           "x": 0.05
          },
          "xaxis": {
           "automargin": true,
           "gridcolor": "white",
           "linecolor": "white",
           "ticks": "",
           "title": {
            "standoff": 15
           },
           "zerolinecolor": "white",
           "zerolinewidth": 2
          },
          "yaxis": {
           "automargin": true,
           "gridcolor": "white",
           "linecolor": "white",
           "ticks": "",
           "title": {
            "standoff": 15
           },
           "zerolinecolor": "white",
           "zerolinewidth": 2
          }
         }
        },
        "title": {
         "text": "Drought Risk"
        }
       }
      },
      "text/html": [
       "<div>                            <div id=\"71956d1a-f981-449a-a812-60243ccfa096\" class=\"plotly-graph-div\" style=\"height:525px; width:100%;\"></div>            <script type=\"text/javascript\">                require([\"plotly\"], function(Plotly) {                    window.PLOTLYENV=window.PLOTLYENV || {};                                    if (document.getElementById(\"71956d1a-f981-449a-a812-60243ccfa096\")) {                    Plotly.newPlot(                        \"71956d1a-f981-449a-a812-60243ccfa096\",                        [{\"coloraxis\":\"coloraxis\",\"geojson\":{\"bbox\":[16.699085,53.490964,19.648523,54.835685],\"features\":[{\"bbox\":[16.857654,53.490964,18.358912,54.203289],\"geometry\":{\"coordinates\":[[[18.327239,54.141085],[18.323945,54.137627],[18.330108,54.134664],[18.327938,54.128666],[18.320597,54.11374],[18.335599,54.11244],[18.351561,54.107713],[18.344863,54.097009],[18.330704,54.083263],[18.342509,54.080392],[18.347283,54.075377],[18.347308,54.066623],[18.353091,54.065613],[18.358912,54.059527],[18.344764,54.047232],[18.327793,54.0492],[18.318456,54.03966],[18.291863,54.034181],[18.289772,54.031652],[18.292846,54.025127],[18.288406,54.019442],[18.285777,54.015158],[18.293461,54.011884],[18.294504,54.009544],[18.278869,53.996227],[18.280826,53.993348],[18.303042,53.993097],[18.311269,53.995724],[18.315571,54.000555],[18.325263,54.003247],[18.336294,53.996],[18.348404,53.977531],[18.33327,53.975701],[18.317216,53.978022],[18.302387,53.965112],[18.275544,53.95408],[18.266457,53.952463],[18.262783,53.957124],[18.254755,53.96032],[18.251181,53.955862],[18.242644,53.952612],[18.240498,53.947591],[18.235231,53.948855],[18.221921,53.946628],[18.215207,53.941419],[18.199302,53.944254],[18.202943,53.951939],[18.202084,53.95613],[18.188223,53.957374],[18.178436,53.958252],[18.164739,53.961416],[18.136314,53.947798],[18.136278,53.933781],[18.123449,53.933197],[18.106378,53.925514],[18.104357,53.92137],[18.138705,53.891433],[18.136198,53.888606],[18.12913,53.887743],[18.10876,53.896805],[18.106739,53.894233],[18.097421,53.89278],[18.091677,53.888686],[18.082882,53.888287],[18.083337,53.882937],[18.072541,53.873677],[18.07553,53.869392],[18.073822,53.863817],[18.082278,53.85621],[18.082554,53.850259],[18.071,53.852197],[18.064705,53.850273],[18.066989,53.847729],[18.091599,53.832922],[18.096509,53.83163],[18.096605,53.835019],[18.111303,53.82948],[18.117441,53.831726],[18.122336,53.826869],[18.120575,53.822947],[18.100497,53.812958],[18.098519,53.812117],[18.09464,53.811021],[18.087609,53.806596],[18.083707,53.804324],[18.078566,53.800059],[18.07686,53.799136],[18.075163,53.797481],[18.074095,53.795011],[18.0731,53.791487],[18.072273,53.789991],[18.071682,53.786443],[18.072292,53.782969],[18.072037,53.781075],[18.070406,53.773784],[18.058013,53.760581],[18.050369,53.742448],[18.042233,53.739482],[18.045832,53.734984],[18.031935,53.724946],[18.027139,53.728475],[18.012982,53.724186],[17.991399,53.724974],[17.985271,53.731765],[17.975218,53.736087],[17.964369,53.738861],[17.95397,53.738692],[17.948154,53.746893],[17.942691,53.747091],[17.936061,53.743843],[17.928865,53.749801],[17.90151,53.748103],[17.88236,53.755705],[17.867807,53.759212],[17.865357,53.757684],[17.860762,53.754817],[17.865357,53.747951],[17.866138,53.746784],[17.876159,53.745355],[17.889315,53.728456],[17.902969,53.722139],[17.893264,53.716764],[17.896489,53.71103],[17.895112,53.709136],[17.87833,53.706641],[17.869655,53.697284],[17.865357,53.694925],[17.854026,53.688707],[17.833292,53.692117],[17.825807,53.691701],[17.807285,53.679621],[17.797273,53.67967],[17.77219,53.699905],[17.76382,53.694444],[17.763261,53.690833],[17.765939,53.68867],[17.763377,53.68422],[17.752537,53.679666],[17.747308,53.680301],[17.741035,53.67755],[17.743499,53.669127],[17.734008,53.662406],[17.737667,53.655624],[17.733347,53.654268],[17.731695,53.64755],[17.722334,53.640171],[17.713689,53.63756],[17.711911,53.634764],[17.712074,53.629884],[17.718177,53.623812],[17.715472,53.62056],[17.719131,53.616039],[17.71184,53.609478],[17.724543,53.609793],[17.729982,53.61371],[17.7347,53.613204],[17.735249,53.601692],[17.731051,53.59896],[17.730022,53.593698],[17.706565,53.594994],[17.70048,53.592326],[17.693233,53.59443],[17.686725,53.593188],[17.668732,53.601195],[17.657623,53.594202],[17.655555,53.589242],[17.659167,53.585998],[17.673407,53.583921],[17.674615,53.572548],[17.670891,53.570426],[17.656698,53.571152],[17.64997,53.5816],[17.605539,53.595733],[17.57961,53.579549],[17.573723,53.578495],[17.5461,53.580303],[17.529671,53.593125],[17.524561,53.604274],[17.512614,53.612467],[17.512136,53.617024],[17.508182,53.615825],[17.496074,53.607255],[17.479995,53.602556],[17.466406,53.601539],[17.457143,53.600139],[17.447477,53.60128],[17.431827,53.591919],[17.422367,53.583426],[17.424214,53.578278],[17.417783,53.56872],[17.41848,53.564618],[17.414046,53.5606],[17.419015,53.554036],[17.421771,53.550395],[17.42188,53.546001],[17.422101,53.537086],[17.418806,53.533895],[17.411692,53.533151],[17.408611,53.530416],[17.403743,53.52278],[17.402034,53.51212],[17.394176,53.507479],[17.395141,53.496615],[17.390653,53.490964],[17.387428,53.491695],[17.384355,53.49656],[17.373376,53.495196],[17.36248,53.496818],[17.351544,53.494015],[17.34035,53.495929],[17.33745,53.497748],[17.3387,53.502126],[17.326892,53.503389],[17.323807,53.51256],[17.305599,53.513342],[17.309163,53.523883],[17.306687,53.526709],[17.302435,53.52843],[17.295424,53.525365],[17.282014,53.533672],[17.269489,53.53708],[17.264137,53.53594],[17.243242,53.531815],[17.210486,53.535699],[17.197289,53.532944],[17.183903,53.534078],[17.159189,53.528313],[17.146573,53.530338],[17.132075,53.535862],[17.116804,53.537174],[17.102248,53.541915],[17.092182,53.542159],[17.058257,53.520844],[17.033176,53.516313],[17.015388,53.519472],[17.000349,53.518426],[17.000073,53.524714],[16.992701,53.526513],[16.993365,53.53093],[17.005516,53.535044],[17.001678,53.546001],[17.000395,53.549661],[16.99095,53.554352],[16.982534,53.55559],[16.96826,53.548988],[16.951729,53.545607],[16.948764,53.558036],[16.939672,53.572679],[16.939182,53.582493],[16.931492,53.587708],[16.89875,53.620605],[16.899431,53.625684],[16.895652,53.630006],[16.898584,53.642204],[16.892248,53.655869],[16.880111,53.689239],[16.876839,53.719036],[16.873686,53.723538],[16.868056,53.730668],[16.865557,53.734142],[16.862698,53.739446],[16.857654,53.747095],[16.897877,53.760398],[16.915813,53.772007],[16.930642,53.77777],[16.946356,53.804575],[16.940919,53.805563],[16.935511,53.801939],[16.920796,53.799093],[16.914441,53.800139],[16.910945,53.802263],[16.907466,53.81154],[16.910293,53.817326],[16.908538,53.820445],[16.87093,53.832243],[16.87215,53.844547],[16.864665,53.852726],[16.870482,53.858086],[16.873169,53.867637],[16.893135,53.87213],[16.89532,53.876812],[16.899928,53.875448],[16.909947,53.876568],[16.925747,53.87479],[16.950827,53.874792],[16.953032,53.875593],[16.952233,53.87894],[16.968754,53.878594],[16.975632,53.880734],[16.977386,53.88419],[16.982054,53.904909],[16.98551,53.915638],[16.98463,53.923023],[16.995173,53.927896],[17.004336,53.928133],[17.017402,53.938485],[17.016495,53.945645],[17.006765,53.956899],[17.026271,53.968938],[17.037243,53.970693],[17.051844,53.96683],[17.06876,53.97259],[17.089642,53.976559],[17.098137,53.974359],[17.106331,53.967632],[17.113254,53.966946],[17.100177,53.986825],[17.109011,54.001294],[17.110131,54.007603],[17.122632,54.009764],[17.14857,54.003921],[17.161991,54.00812],[17.183579,54.009722],[17.183559,54.006397],[17.177619,54.00382],[17.183855,54.00079],[17.181692,53.994659],[17.178002,53.992653],[17.182251,53.989555],[17.200066,53.987317],[17.20905,53.984464],[17.210623,53.981557],[17.231299,53.981121],[17.227079,53.957062],[17.232806,53.947587],[17.241209,53.942725],[17.252688,53.93563],[17.264137,53.918296],[17.267955,53.912514],[17.274444,53.90678],[17.265997,53.900131],[17.268112,53.897066],[17.26522,53.889987],[17.294045,53.872226],[17.297936,53.87277],[17.303628,53.877269],[17.317062,53.900207],[17.324341,53.904898],[17.324316,53.911811],[17.331394,53.915778],[17.331246,53.921737],[17.340518,53.923206],[17.347941,53.932081],[17.362195,53.936561],[17.363844,53.938997],[17.367932,53.938793],[17.375674,53.933824],[17.372684,53.929051],[17.376153,53.928291],[17.384391,53.931853],[17.383678,53.936902],[17.38822,53.937068],[17.392983,53.932289],[17.394175,53.924856],[17.401264,53.919498],[17.411285,53.922183],[17.414994,53.924951],[17.429695,53.926791],[17.431795,53.93245],[17.43481,53.933205],[17.442838,53.931569],[17.450963,53.924452],[17.462215,53.921058],[17.47216,53.922041],[17.475775,53.918398],[17.483723,53.921962],[17.491311,53.922256],[17.493985,53.927823],[17.504648,53.933092],[17.500132,53.936764],[17.499651,53.944131],[17.508182,53.954727],[17.519036,53.968203],[17.519249,53.976539],[17.529671,53.977391],[17.533735,53.982776],[17.542783,53.983407],[17.562789,53.983431],[17.564846,53.989011],[17.574336,53.990017],[17.575484,54.006626],[17.580562,54.009089],[17.579999,54.025556],[17.582984,54.0311],[17.590224,54.031558],[17.597431,54.029405],[17.617162,54.03104],[17.646827,54.025888],[17.663157,54.04678],[17.666935,54.056713],[17.665736,54.061751],[17.669085,54.068964],[17.662585,54.080394],[17.664092,54.097726],[17.668629,54.102527],[17.674304,54.104621],[17.682832,54.102877],[17.680526,54.093403],[17.682117,54.088704],[17.689548,54.089983],[17.693871,54.089028],[17.693376,54.087498],[17.68776,54.08651],[17.696141,54.082393],[17.699006,54.083573],[17.698168,54.088567],[17.70675,54.092483],[17.702909,54.096853],[17.705994,54.100172],[17.709537,54.100013],[17.713781,54.095875],[17.723538,54.094285],[17.728439,54.09891],[17.735856,54.099661],[17.735395,54.105421],[17.723637,54.112331],[17.721334,54.128306],[17.724532,54.128015],[17.726855,54.130132],[17.720862,54.133776],[17.725395,54.135814],[17.727977,54.142003],[17.733584,54.144089],[17.739655,54.155292],[17.760544,54.152319],[17.764639,54.149667],[17.769468,54.149344],[17.770869,54.147263],[17.768196,54.144461],[17.77468,54.139731],[17.788131,54.166961],[17.791847,54.171672],[17.798821,54.174458],[17.800194,54.178172],[17.835127,54.179072],[17.840001,54.184787],[17.861904,54.190871],[17.865357,54.190796],[17.880903,54.190461],[17.895852,54.186227],[17.909997,54.174707],[17.934728,54.179317],[17.951055,54.188668],[17.964118,54.189626],[17.970768,54.194513],[17.97741,54.194387],[17.989667,54.197369],[17.999694,54.190434],[17.996213,54.184868],[17.996559,54.177292],[18.007308,54.176921],[18.014994,54.179564],[18.041125,54.177924],[18.061669,54.180525],[18.071846,54.174677],[18.074367,54.176235],[18.067775,54.185486],[18.086062,54.198184],[18.093237,54.200259],[18.0942,54.203289],[18.097883,54.203243],[18.100891,54.200012],[18.113212,54.201401],[18.128278,54.199328],[18.130138,54.195477],[18.137596,54.192925],[18.135188,54.188089],[18.150099,54.187621],[18.166099,54.197955],[18.179794,54.193321],[18.188223,54.194385],[18.199141,54.193689],[18.216086,54.190812],[18.222867,54.187936],[18.2293,54.181358],[18.230822,54.171214],[18.228617,54.166756],[18.239158,54.166789],[18.262235,54.161068],[18.274537,54.153015],[18.27789,54.148318],[18.297802,54.150396],[18.310041,54.148909],[18.313877,54.147722],[18.318348,54.142325],[18.327239,54.141085]]],\"type\":\"Polygon\"},\"id\":\"PL: Chojnicki\",\"properties\":{},\"type\":\"Feature\"},{\"bbox\":[18.064705,53.57774,19.582042,54.182534],\"geometry\":{\"coordinates\":[[[19.217689,54.116121],[19.217285,54.11557],[19.226583,54.114533],[19.231385,54.112034],[19.254564,54.086056],[19.251883,54.083479],[19.225853,54.076871],[19.22173,54.069427],[19.23226,54.064664],[19.239535,54.063909],[19.265497,54.051571],[19.274835,54.052456],[19.282213,54.041722],[19.27174,54.041536],[19.259646,54.035335],[19.268042,54.025117],[19.271064,54.023263],[19.272031,54.017319],[19.280537,54.013238],[19.288089,54.016026],[19.293599,54.02451],[19.319496,54.026698],[19.326043,54.019732],[19.358968,54.005174],[19.366235,54.005443],[19.374372,54.00178],[19.38733,54.000888],[19.396423,54.002373],[19.405319,54.001826],[19.409393,53.999864],[19.391913,53.993068],[19.384849,53.990501],[19.378222,53.985134],[19.366654,53.961554],[19.372135,53.949354],[19.369404,53.938682],[19.375141,53.935413],[19.400342,53.934065],[19.400489,53.930216],[19.41839,53.927246],[19.441416,53.933916],[19.458939,53.941768],[19.482744,53.943428],[19.490018,53.945949],[19.503493,53.94515],[19.51489,53.946845],[19.53485,53.944844],[19.555114,53.947595],[19.557951,53.947131],[19.558971,53.9445],[19.566396,53.943923],[19.575983,53.94831],[19.575813,53.943384],[19.582042,53.938391],[19.581415,53.928319],[19.569915,53.928081],[19.56442,53.92581],[19.55703,53.925445],[19.560336,53.916676],[19.555114,53.896837],[19.544794,53.888873],[19.542785,53.884864],[19.534889,53.881565],[19.537454,53.875869],[19.531181,53.874004],[19.527748,53.870218],[19.528975,53.867779],[19.524408,53.860908],[19.514088,53.855627],[19.512421,53.848799],[19.515957,53.844693],[19.48177,53.818457],[19.481273,53.816132],[19.499394,53.806554],[19.473005,53.785438],[19.481588,53.780367],[19.480872,53.775106],[19.460983,53.783439],[19.455674,53.788804],[19.45513,53.796895],[19.431631,53.801914],[19.370962,53.814018],[19.359813,53.813062],[19.351978,53.815244],[19.322978,53.813944],[19.31045,53.802765],[19.309602,53.795201],[19.315095,53.79146],[19.310419,53.791033],[19.305374,53.787903],[19.2996,53.781116],[19.302042,53.777634],[19.299032,53.770814],[19.303157,53.767021],[19.300143,53.762176],[19.302614,53.754587],[19.294785,53.744749],[19.277508,53.732885],[19.263425,53.729287],[19.237074,53.708103],[19.225506,53.704309],[19.2139,53.692009],[19.222316,53.667929],[19.214111,53.669008],[19.214516,53.649084],[19.211026,53.647411],[19.211476,53.642898],[19.206027,53.637483],[19.202186,53.635557],[19.201098,53.638061],[19.193546,53.640709],[19.184658,53.637726],[19.178571,53.639577],[19.162356,53.624136],[19.15078,53.618986],[19.139072,53.610529],[19.130986,53.608033],[19.12841,53.60226],[19.129277,53.58826],[19.09685,53.596537],[19.078758,53.597088],[19.052579,53.596845],[19.029412,53.593375],[19.024499,53.591251],[19.016007,53.59167],[18.993027,53.595288],[18.989116,53.594487],[18.986303,53.589885],[18.977807,53.587805],[18.971164,53.588967],[18.9425,53.588296],[18.92556,53.590908],[18.915,53.579909],[18.906146,53.57774],[18.903624,53.579332],[18.907596,53.592541],[18.895176,53.596093],[18.89014,53.599497],[18.854888,53.601343],[18.831082,53.604682],[18.771576,53.606253],[18.765571,53.608394],[18.761578,53.604882],[18.740989,53.631844],[18.739684,53.645541],[18.747609,53.658451],[18.772475,53.678335],[18.788972,53.702105],[18.782717,53.703464],[18.764356,53.69897],[18.75186,53.692863],[18.747955,53.686954],[18.744655,53.687554],[18.741475,53.692288],[18.733837,53.68603],[18.72727,53.684214],[18.719067,53.688031],[18.709045,53.686583],[18.697631,53.691639],[18.695523,53.693806],[18.696553,53.699953],[18.68747,53.698656],[18.676943,53.691164],[18.664359,53.696083],[18.655132,53.694961],[18.637172,53.677991],[18.631035,53.674896],[18.607968,53.670787],[18.588389,53.673127],[18.578835,53.676995],[18.575114,53.676836],[18.568122,53.672959],[18.581788,53.666355],[18.583505,53.660032],[18.579283,53.65802],[18.560469,53.656991],[18.554755,53.6554],[18.550652,53.656225],[18.543414,53.66579],[18.536686,53.668506],[18.53311,53.666997],[18.529716,53.668183],[18.52945,53.673831],[18.532089,53.675923],[18.530373,53.678224],[18.51477,53.681475],[18.513085,53.688393],[18.522547,53.692122],[18.515449,53.703357],[18.508583,53.700491],[18.495517,53.699566],[18.488616,53.702168],[18.470129,53.703045],[18.468281,53.690249],[18.460427,53.68658],[18.455576,53.687117],[18.454326,53.693252],[18.420346,53.687622],[18.418897,53.691653],[18.401145,53.690496],[18.354589,53.687924],[18.347503,53.691961],[18.292209,53.699231],[18.263762,53.700983],[18.254866,53.710891],[18.272542,53.716483],[18.276082,53.721101],[18.266753,53.72543],[18.272898,53.731766],[18.266822,53.739006],[18.265136,53.741707],[18.256019,53.745498],[18.220183,53.740254],[18.220894,53.750578],[18.218215,53.751622],[18.215029,53.750818],[18.214441,53.747141],[18.205121,53.740687],[18.197434,53.738966],[18.194949,53.74055],[18.200363,53.744639],[18.200351,53.755978],[18.188223,53.755304],[18.182213,53.752597],[18.178773,53.745935],[18.169907,53.745968],[18.15565,53.753783],[18.150294,53.767458],[18.131892,53.768771],[18.115309,53.759644],[18.11127,53.759188],[18.108795,53.761139],[18.108371,53.768144],[18.099996,53.768451],[18.092044,53.775184],[18.072037,53.781075],[18.072292,53.782969],[18.071682,53.786443],[18.072273,53.789991],[18.0731,53.791487],[18.074095,53.795011],[18.075163,53.797481],[18.07686,53.799136],[18.078566,53.800059],[18.083707,53.804324],[18.087609,53.806596],[18.09464,53.811021],[18.098519,53.812117],[18.100497,53.812958],[18.120575,53.822947],[18.122336,53.826869],[18.117441,53.831726],[18.111303,53.82948],[18.096605,53.835019],[18.096509,53.83163],[18.091599,53.832922],[18.066989,53.847729],[18.064705,53.850273],[18.071,53.852197],[18.082554,53.850259],[18.082278,53.85621],[18.073822,53.863817],[18.07553,53.869392],[18.072541,53.873677],[18.083337,53.882937],[18.082882,53.888287],[18.091677,53.888686],[18.097421,53.89278],[18.106739,53.894233],[18.10876,53.896805],[18.12913,53.887743],[18.136198,53.888606],[18.138705,53.891433],[18.104357,53.92137],[18.106378,53.925514],[18.123449,53.933197],[18.136278,53.933781],[18.136314,53.947798],[18.164739,53.961416],[18.178436,53.958252],[18.188223,53.957374],[18.202084,53.95613],[18.202943,53.951939],[18.199302,53.944254],[18.215207,53.941419],[18.221921,53.946628],[18.235231,53.948855],[18.240498,53.947591],[18.242644,53.952612],[18.251181,53.955862],[18.254755,53.96032],[18.262783,53.957124],[18.266457,53.952463],[18.275544,53.95408],[18.302387,53.965112],[18.317216,53.978022],[18.33327,53.975701],[18.348404,53.977531],[18.336294,53.996],[18.325263,54.003247],[18.315571,54.000555],[18.311269,53.995724],[18.303042,53.993097],[18.280826,53.993348],[18.278869,53.996227],[18.294504,54.009544],[18.293461,54.011884],[18.285777,54.015158],[18.288406,54.019442],[18.292846,54.025127],[18.289772,54.031652],[18.291863,54.034181],[18.318456,54.03966],[18.327793,54.0492],[18.344764,54.047232],[18.358912,54.059527],[18.353091,54.065613],[18.347308,54.066623],[18.347283,54.075377],[18.342509,54.080392],[18.330704,54.083263],[18.344863,54.097009],[18.351561,54.107713],[18.335599,54.11244],[18.320597,54.11374],[18.327938,54.128666],[18.330108,54.134664],[18.323945,54.137627],[18.327239,54.141085],[18.337871,54.142859],[18.337577,54.139455],[18.346567,54.137633],[18.355355,54.142466],[18.359239,54.140964],[18.361116,54.139837],[18.381828,54.126154],[18.388532,54.124789],[18.392038,54.121662],[18.399652,54.122583],[18.419885,54.120409],[18.443859,54.122658],[18.480785,54.119688],[18.491355,54.122182],[18.507603,54.121053],[18.523981,54.126004],[18.532001,54.126552],[18.534186,54.108015],[18.538847,54.107236],[18.547352,54.110002],[18.553477,54.10583],[18.56272,54.108166],[18.57576,54.106511],[18.581267,54.103638],[18.590701,54.105901],[18.594502,54.108561],[18.596919,54.120409],[18.604211,54.123239],[18.622414,54.125682],[18.626914,54.128681],[18.629894,54.135367],[18.62887,54.142326],[18.638689,54.14147],[18.654338,54.133529],[18.661796,54.140022],[18.667734,54.141049],[18.673284,54.139291],[18.675231,54.144365],[18.685974,54.151033],[18.694298,54.150469],[18.700916,54.146206],[18.724184,54.148777],[18.738821,54.151652],[18.788336,54.153297],[18.791053,54.150773],[18.804461,54.153907],[18.806586,54.152638],[18.805429,54.149144],[18.812651,54.143327],[18.828174,54.141572],[18.829297,54.147806],[18.83658,54.155491],[18.862744,54.152648],[18.872093,54.156078],[18.882014,54.155912],[18.901487,54.165799],[18.913809,54.157829],[18.920721,54.165756],[18.950661,54.1773],[18.955827,54.17387],[18.964074,54.176136],[18.977296,54.167834],[18.989616,54.173338],[19.001731,54.182534],[19.030827,54.177493],[19.047107,54.171677],[19.043753,54.164882],[19.052878,54.160225],[19.056769,54.149425],[19.068857,54.144853],[19.078758,54.146047],[19.083398,54.152085],[19.09369,54.154755],[19.105517,54.144406],[19.120904,54.144046],[19.126627,54.146392],[19.129301,54.144419],[19.1433,54.146691],[19.149252,54.139069],[19.153732,54.137267],[19.166338,54.149335],[19.175718,54.140208],[19.210467,54.144923],[19.22048,54.130776],[19.214964,54.1229],[19.217033,54.120767],[19.214915,54.118063],[19.217689,54.116121]]],\"type\":\"Polygon\"},\"id\":\"PL: Starogardzki\",\"properties\":{},\"type\":\"Feature\"},{\"bbox\":[18.358159,54.275392,18.95003,54.58448],\"geometry\":{\"coordinates\":[[[18.95003,54.35831],[18.948448,54.355663],[18.946274,54.351097],[18.942901,54.342206],[18.935492,54.319707],[18.934372,54.315329],[18.933702,54.310847],[18.933482,54.307793],[18.933643,54.301709],[18.934222,54.297428],[18.934664,54.295239],[18.935302,54.292909],[18.936848,54.288354],[18.940698,54.280205],[18.93089,54.282268],[18.923104,54.287938],[18.918673,54.302559],[18.909412,54.312505],[18.898219,54.314415],[18.876128,54.310572],[18.868652,54.312145],[18.86004,54.319955],[18.839999,54.328549],[18.830136,54.339128],[18.812772,54.344857],[18.793564,54.346129],[18.776211,54.337539],[18.763393,54.333648],[18.75222,54.335321],[18.74359,54.340883],[18.728325,54.341028],[18.724184,54.336707],[18.705776,54.313636],[18.700946,54.315421],[18.687848,54.312686],[18.689391,54.301466],[18.64034,54.290809],[18.642045,54.279676],[18.636254,54.275392],[18.625862,54.278016],[18.624069,54.276725],[18.606038,54.278688],[18.606402,54.283128],[18.599513,54.284885],[18.610493,54.291895],[18.598928,54.303083],[18.592138,54.305466],[18.584915,54.302608],[18.579505,54.303223],[18.572676,54.305026],[18.571477,54.312354],[18.563579,54.317766],[18.557943,54.318471],[18.549266,54.316756],[18.545971,54.312851],[18.53703,54.316119],[18.533305,54.33497],[18.529335,54.335955],[18.516294,54.334134],[18.506007,54.335306],[18.500967,54.333768],[18.494437,54.329327],[18.491874,54.319157],[18.487985,54.317011],[18.477341,54.32653],[18.467413,54.327593],[18.457914,54.3324],[18.467712,54.348376],[18.458132,54.355921],[18.451049,54.355424],[18.442306,54.357588],[18.443447,54.36326],[18.446169,54.376782],[18.430502,54.384441],[18.464521,54.400613],[18.464082,54.407506],[18.442716,54.4087],[18.447657,54.417169],[18.44432,54.419486],[18.457121,54.435058],[18.444401,54.436223],[18.440946,54.438098],[18.449114,54.440569],[18.451045,54.443251],[18.440027,54.452225],[18.443152,54.457483],[18.438852,54.462162],[18.419425,54.470292],[18.41782,54.478917],[18.407796,54.476174],[18.391425,54.49277],[18.378932,54.494022],[18.375144,54.49117],[18.367292,54.489954],[18.359239,54.492274],[18.358159,54.493491],[18.3692,54.504329],[18.382461,54.509005],[18.38038,54.515089],[18.385802,54.522267],[18.404008,54.529408],[18.403341,54.535897],[18.390659,54.536149],[18.391117,54.542948],[18.407456,54.551887],[18.415749,54.553814],[18.413066,54.556591],[18.426956,54.559034],[18.430952,54.56652],[18.43546,54.563207],[18.441421,54.563332],[18.461014,54.557884],[18.463588,54.561905],[18.471361,54.561053],[18.483307,54.563736],[18.505309,54.563552],[18.510719,54.561931],[18.53535,54.571226],[18.537202,54.576471],[18.534383,54.581639],[18.541727,54.58448],[18.549086,54.572653],[18.552074,54.560662],[18.559084,54.551118],[18.562367,54.538056],[18.561487,54.522267],[18.561317,54.51922],[18.55066,54.514602],[18.568563,54.48652],[18.562108,54.474313],[18.561694,54.463953],[18.568842,54.449481],[18.591159,54.430185],[18.615252,54.417557],[18.635715,54.410354],[18.651387,54.408501],[18.664271,54.411491],[18.676434,54.408074],[18.703227,54.386989],[18.712494,54.38506],[18.723935,54.377538],[18.737292,54.374526],[18.780958,54.370416],[18.807004,54.36326],[18.83292,54.356138],[18.880637,54.348107],[18.921808,54.347073],[18.935499,54.351796],[18.94428,54.361104],[18.95003,54.35831]]],\"type\":\"Polygon\"},\"id\":\"PL: Tr\\u00f3jmiejski\",\"properties\":{},\"type\":\"Feature\"},{\"bbox\":[17.666607,54.103638,19.648523,54.835685],\"geometry\":{\"coordinates\":[[[18.541727,54.58448],[18.534383,54.581639],[18.537202,54.576471],[18.53535,54.571226],[18.510719,54.561931],[18.505309,54.563552],[18.483307,54.563736],[18.471361,54.561053],[18.463588,54.561905],[18.461014,54.557884],[18.441421,54.563332],[18.43546,54.563207],[18.430952,54.56652],[18.426956,54.559034],[18.413066,54.556591],[18.415749,54.553814],[18.407456,54.551887],[18.391117,54.542948],[18.390659,54.536149],[18.403341,54.535897],[18.404008,54.529408],[18.385802,54.522267],[18.38038,54.515089],[18.382461,54.509005],[18.3692,54.504329],[18.358159,54.493491],[18.359239,54.492274],[18.367292,54.489954],[18.375144,54.49117],[18.378932,54.494022],[18.391425,54.49277],[18.407796,54.476174],[18.41782,54.478917],[18.419425,54.470292],[18.438852,54.462162],[18.443152,54.457483],[18.440027,54.452225],[18.451045,54.443251],[18.449114,54.440569],[18.440946,54.438098],[18.444401,54.436223],[18.457121,54.435058],[18.44432,54.419486],[18.447657,54.417169],[18.442716,54.4087],[18.464082,54.407506],[18.464521,54.400613],[18.430502,54.384441],[18.446169,54.376782],[18.443447,54.36326],[18.442306,54.357588],[18.451049,54.355424],[18.458132,54.355921],[18.467712,54.348376],[18.457914,54.3324],[18.467413,54.327593],[18.477341,54.32653],[18.487985,54.317011],[18.491874,54.319157],[18.494437,54.329327],[18.500967,54.333768],[18.506007,54.335306],[18.516294,54.334134],[18.529335,54.335955],[18.533305,54.33497],[18.53703,54.316119],[18.545971,54.312851],[18.549266,54.316756],[18.557943,54.318471],[18.563579,54.317766],[18.571477,54.312354],[18.572676,54.305026],[18.579505,54.303223],[18.584915,54.302608],[18.592138,54.305466],[18.598928,54.303083],[18.610493,54.291895],[18.599513,54.284885],[18.606402,54.283128],[18.606038,54.278688],[18.624069,54.276725],[18.625862,54.278016],[18.636254,54.275392],[18.642045,54.279676],[18.64034,54.290809],[18.689391,54.301466],[18.687848,54.312686],[18.700946,54.315421],[18.705776,54.313636],[18.724184,54.336707],[18.728325,54.341028],[18.74359,54.340883],[18.75222,54.335321],[18.763393,54.333648],[18.776211,54.337539],[18.793564,54.346129],[18.812772,54.344857],[18.830136,54.339128],[18.839999,54.328549],[18.86004,54.319955],[18.868652,54.312145],[18.876128,54.310572],[18.898219,54.314415],[18.909412,54.312505],[18.918673,54.302559],[18.923104,54.287938],[18.93089,54.282268],[18.940698,54.280205],[18.936848,54.288354],[18.935302,54.292909],[18.934664,54.295239],[18.934222,54.297428],[18.933643,54.301709],[18.933482,54.307793],[18.933702,54.310847],[18.934372,54.315329],[18.935492,54.319707],[18.942901,54.342206],[18.946274,54.351097],[18.948448,54.355663],[18.95003,54.35831],[18.955589,54.36],[18.96877,54.350075],[18.989136,54.34528],[19.078758,54.345697],[19.144921,54.349049],[19.227462,54.354613],[19.301758,54.36326],[19.33137,54.366705],[19.383665,54.375412],[19.443514,54.388126],[19.494379,54.401315],[19.549968,54.419131],[19.555114,54.421176],[19.598915,54.438575],[19.639032,54.458294],[19.648523,54.453339],[19.592502,54.424634],[19.555114,54.411204],[19.537162,54.404755],[19.463757,54.386557],[19.443514,54.376863],[19.423289,54.372218],[19.41002,54.367048],[19.388173,54.36326],[19.382873,54.362341],[19.361861,54.354001],[19.345372,54.352117],[19.305247,54.352264],[19.281573,54.350314],[19.24757,54.343709],[19.22563,54.336058],[19.224808,54.332864],[19.227915,54.330213],[19.243272,54.330337],[19.24795,54.328674],[19.249592,54.318235],[19.256932,54.314799],[19.259,54.308121],[19.263494,54.304497],[19.25293,54.299073],[19.24678,54.292342],[19.258334,54.283919],[19.256953,54.27846],[19.253433,54.270276],[19.256602,54.268163],[19.25875,54.267082],[19.288313,54.254611],[19.299103,54.246688],[19.304048,54.23607],[19.316542,54.22602],[19.314473,54.219319],[19.323776,54.210896],[19.326267,54.205215],[19.325143,54.198273],[19.319712,54.191446],[19.31306,54.189276],[19.285313,54.186244],[19.273989,54.18009],[19.260336,54.175869],[19.248004,54.167321],[19.247247,54.161767],[19.257495,54.155538],[19.256596,54.149815],[19.23802,54.1272],[19.217689,54.116121],[19.214915,54.118063],[19.217033,54.120767],[19.214964,54.1229],[19.22048,54.130776],[19.210467,54.144923],[19.175718,54.140208],[19.166338,54.149335],[19.153732,54.137267],[19.149252,54.139069],[19.1433,54.146691],[19.129301,54.144419],[19.126627,54.146392],[19.120904,54.144046],[19.105517,54.144406],[19.09369,54.154755],[19.083398,54.152085],[19.078758,54.146047],[19.068857,54.144853],[19.056769,54.149425],[19.052878,54.160225],[19.043753,54.164882],[19.047107,54.171677],[19.030827,54.177493],[19.001731,54.182534],[18.989616,54.173338],[18.977296,54.167834],[18.964074,54.176136],[18.955827,54.17387],[18.950661,54.1773],[18.920721,54.165756],[18.913809,54.157829],[18.901487,54.165799],[18.882014,54.155912],[18.872093,54.156078],[18.862744,54.152648],[18.83658,54.155491],[18.829297,54.147806],[18.828174,54.141572],[18.812651,54.143327],[18.805429,54.149144],[18.806586,54.152638],[18.804461,54.153907],[18.791053,54.150773],[18.788336,54.153297],[18.738821,54.151652],[18.724184,54.148777],[18.700916,54.146206],[18.694298,54.150469],[18.685974,54.151033],[18.675231,54.144365],[18.673284,54.139291],[18.667734,54.141049],[18.661796,54.140022],[18.654338,54.133529],[18.638689,54.14147],[18.62887,54.142326],[18.629894,54.135367],[18.626914,54.128681],[18.622414,54.125682],[18.604211,54.123239],[18.596919,54.120409],[18.594502,54.108561],[18.590701,54.105901],[18.581267,54.103638],[18.57576,54.106511],[18.56272,54.108166],[18.553477,54.10583],[18.547352,54.110002],[18.538847,54.107236],[18.534186,54.108015],[18.532001,54.126552],[18.523981,54.126004],[18.507603,54.121053],[18.491355,54.122182],[18.480785,54.119688],[18.443859,54.122658],[18.419885,54.120409],[18.399652,54.122583],[18.392038,54.121662],[18.388532,54.124789],[18.381828,54.126154],[18.361116,54.139837],[18.359239,54.140964],[18.355355,54.142466],[18.346567,54.137633],[18.337577,54.139455],[18.337871,54.142859],[18.327239,54.141085],[18.318348,54.142325],[18.313877,54.147722],[18.310041,54.148909],[18.297802,54.150396],[18.27789,54.148318],[18.274537,54.153015],[18.262235,54.161068],[18.239158,54.166789],[18.228617,54.166756],[18.230822,54.171214],[18.2293,54.181358],[18.222867,54.187936],[18.216086,54.190812],[18.199141,54.193689],[18.188223,54.194385],[18.179794,54.193321],[18.166099,54.197955],[18.150099,54.187621],[18.135188,54.188089],[18.137596,54.192925],[18.130138,54.195477],[18.128278,54.199328],[18.113212,54.201401],[18.100891,54.200012],[18.097883,54.203243],[18.0942,54.203289],[18.093237,54.200259],[18.086062,54.198184],[18.067775,54.185486],[18.074367,54.176235],[18.071846,54.174677],[18.061669,54.180525],[18.041125,54.177924],[18.014994,54.179564],[18.007308,54.176921],[17.996559,54.177292],[17.996213,54.184868],[17.999694,54.190434],[17.989667,54.197369],[17.97741,54.194387],[17.970768,54.194513],[17.964118,54.189626],[17.951055,54.188668],[17.934728,54.179317],[17.909997,54.174707],[17.895852,54.186227],[17.880903,54.190461],[17.865357,54.190796],[17.861904,54.190871],[17.840001,54.184787],[17.835127,54.179072],[17.800194,54.178172],[17.789988,54.182648],[17.780449,54.184444],[17.766437,54.179216],[17.758094,54.179888],[17.749311,54.18675],[17.748701,54.198739],[17.738739,54.20363],[17.722386,54.196032],[17.707306,54.181514],[17.703877,54.181903],[17.703605,54.186674],[17.693874,54.182908],[17.689192,54.183321],[17.704765,54.192814],[17.722488,54.21574],[17.721343,54.220372],[17.713971,54.224451],[17.712169,54.234681],[17.70252,54.236909],[17.7002,54.239768],[17.703048,54.245365],[17.716962,54.25539],[17.722302,54.261986],[17.722425,54.2689],[17.714722,54.282741],[17.725939,54.294076],[17.711128,54.301412],[17.708389,54.306117],[17.714506,54.320978],[17.728814,54.324442],[17.732661,54.323193],[17.738993,54.324294],[17.742189,54.32918],[17.740261,54.332016],[17.747257,54.3411],[17.742582,54.3498],[17.748938,54.351201],[17.750393,54.354381],[17.764484,54.354006],[17.777107,54.36326],[17.77887,54.364552],[17.794919,54.369846],[17.789892,54.375695],[17.801007,54.384863],[17.793148,54.39403],[17.799848,54.411519],[17.812799,54.41523],[17.823679,54.415112],[17.847791,54.410164],[17.856908,54.403729],[17.865357,54.405233],[17.873848,54.406745],[17.881238,54.409955],[17.876612,54.418698],[17.865357,54.430848],[17.852314,54.444924],[17.846098,54.461821],[17.851263,54.465609],[17.851146,54.468435],[17.856932,54.469263],[17.865357,54.474276],[17.867832,54.475748],[17.885929,54.479644],[17.881231,54.484871],[17.875922,54.491512],[17.878914,54.498056],[17.873342,54.500833],[17.865357,54.501831],[17.865357,54.503403],[17.867747,54.506829],[17.865357,54.508626],[17.858129,54.514061],[17.827299,54.512577],[17.825168,54.520925],[17.828592,54.522267],[17.835943,54.525146],[17.838915,54.533145],[17.838247,54.541095],[17.832368,54.552869],[17.844205,54.557165],[17.845532,54.561256],[17.840874,54.564763],[17.826446,54.56251],[17.814061,54.564917],[17.813041,54.569349],[17.797798,54.587788],[17.783769,54.593517],[17.779417,54.612311],[17.781102,54.61389],[17.786701,54.614041],[17.799213,54.611771],[17.809645,54.607285],[17.816141,54.606941],[17.814812,54.610701],[17.818914,54.616962],[17.814857,54.635083],[17.827437,54.657344],[17.827587,54.665852],[17.817599,54.665103],[17.799146,54.667719],[17.796497,54.675452],[17.7885,54.677667],[17.782025,54.701452],[17.770211,54.705466],[17.768415,54.709181],[17.755819,54.710801],[17.754335,54.71893],[17.749144,54.723213],[17.757458,54.727358],[17.761995,54.732733],[17.771734,54.732663],[17.77056,54.737393],[17.764601,54.742924],[17.737614,54.746297],[17.739353,54.749351],[17.725431,54.756421],[17.726072,54.762747],[17.719769,54.775479],[17.710492,54.775042],[17.70399,54.777389],[17.675687,54.771534],[17.672537,54.773921],[17.666607,54.783231],[17.748015,54.800137],[17.811163,54.808034],[17.865357,54.818156],[17.883468,54.821538],[17.915473,54.82595],[17.967824,54.830833],[18.06886,54.833906],[18.117226,54.832284],[18.188223,54.833098],[18.195014,54.833176],[18.228428,54.832724],[18.297581,54.835685],[18.328031,54.8346],[18.337933,54.831654],[18.359239,54.81739],[18.38869,54.80616],[18.420338,54.797587],[18.420721,54.793788],[18.433597,54.788295],[18.528481,54.75479],[18.657851,54.710801],[18.724184,54.683528],[18.731773,54.67969],[18.78211,54.654091],[18.823259,54.625325],[18.826621,54.62056],[18.82859,54.606793],[18.823458,54.599823],[18.814483,54.593888],[18.808859,54.593976],[18.80458,54.598956],[18.799917,54.600235],[18.800758,54.604818],[18.798204,54.60735],[18.792534,54.607749],[18.779231,54.613443],[18.777244,54.62166],[18.764668,54.63699],[18.724184,54.671071],[18.720202,54.674753],[18.706615,54.684844],[18.689413,54.693418],[18.673966,54.693176],[18.66738,54.699312],[18.653768,54.700403],[18.639083,54.710801],[18.617377,54.722192],[18.542646,54.747126],[18.528921,54.748988],[18.524924,54.752226],[18.519982,54.755833],[18.495694,54.762139],[18.472864,54.771802],[18.424228,54.788082],[18.420352,54.785692],[18.417235,54.770191],[18.405495,54.760042],[18.397032,54.747525],[18.394135,54.730745],[18.396984,54.727694],[18.407473,54.723387],[18.418823,54.722007],[18.433776,54.713212],[18.436363,54.710801],[18.447865,54.7038],[18.472145,54.694393],[18.465776,54.684766],[18.466544,54.66583],[18.464054,54.659876],[18.465599,54.656321],[18.474467,54.650103],[18.470933,54.643912],[18.47468,54.640591],[18.469147,54.639514],[18.469993,54.637278],[18.469404,54.633728],[18.478854,54.630565],[18.513787,54.634144],[18.51077,54.621898],[18.512867,54.61232],[18.530644,54.591224],[18.541727,54.58448]]],\"type\":\"Polygon\"},\"id\":\"PL: Gda\\u0144ski\",\"properties\":{},\"type\":\"Feature\"},{\"bbox\":[16.699085,53.872226,17.885929,54.783231],\"geometry\":{\"coordinates\":[[[17.800194,54.178172],[17.798821,54.174458],[17.791847,54.171672],[17.788131,54.166961],[17.77468,54.139731],[17.768196,54.144461],[17.770869,54.147263],[17.769468,54.149344],[17.764639,54.149667],[17.760544,54.152319],[17.739655,54.155292],[17.733584,54.144089],[17.727977,54.142003],[17.725395,54.135814],[17.720862,54.133776],[17.726855,54.130132],[17.724532,54.128015],[17.721334,54.128306],[17.723637,54.112331],[17.735395,54.105421],[17.735856,54.099661],[17.728439,54.09891],[17.723538,54.094285],[17.713781,54.095875],[17.709537,54.100013],[17.705994,54.100172],[17.702909,54.096853],[17.70675,54.092483],[17.698168,54.088567],[17.699006,54.083573],[17.696141,54.082393],[17.68776,54.08651],[17.693376,54.087498],[17.693871,54.089028],[17.689548,54.089983],[17.682117,54.088704],[17.680526,54.093403],[17.682832,54.102877],[17.674304,54.104621],[17.668629,54.102527],[17.664092,54.097726],[17.662585,54.080394],[17.669085,54.068964],[17.665736,54.061751],[17.666935,54.056713],[17.663157,54.04678],[17.646827,54.025888],[17.617162,54.03104],[17.597431,54.029405],[17.590224,54.031558],[17.582984,54.0311],[17.579999,54.025556],[17.580562,54.009089],[17.575484,54.006626],[17.574336,53.990017],[17.564846,53.989011],[17.562789,53.983431],[17.542783,53.983407],[17.533735,53.982776],[17.529671,53.977391],[17.519249,53.976539],[17.519036,53.968203],[17.508182,53.954727],[17.499651,53.944131],[17.500132,53.936764],[17.504648,53.933092],[17.493985,53.927823],[17.491311,53.922256],[17.483723,53.921962],[17.475775,53.918398],[17.47216,53.922041],[17.462215,53.921058],[17.450963,53.924452],[17.442838,53.931569],[17.43481,53.933205],[17.431795,53.93245],[17.429695,53.926791],[17.414994,53.924951],[17.411285,53.922183],[17.401264,53.919498],[17.394175,53.924856],[17.392983,53.932289],[17.38822,53.937068],[17.383678,53.936902],[17.384391,53.931853],[17.376153,53.928291],[17.372684,53.929051],[17.375674,53.933824],[17.367932,53.938793],[17.363844,53.938997],[17.362195,53.936561],[17.347941,53.932081],[17.340518,53.923206],[17.331246,53.921737],[17.331394,53.915778],[17.324316,53.911811],[17.324341,53.904898],[17.317062,53.900207],[17.303628,53.877269],[17.297936,53.87277],[17.294045,53.872226],[17.26522,53.889987],[17.268112,53.897066],[17.265997,53.900131],[17.274444,53.90678],[17.267955,53.912514],[17.264137,53.918296],[17.252688,53.93563],[17.241209,53.942725],[17.232806,53.947587],[17.227079,53.957062],[17.231299,53.981121],[17.210623,53.981557],[17.20905,53.984464],[17.200066,53.987317],[17.182251,53.989555],[17.178002,53.992653],[17.181692,53.994659],[17.183855,54.00079],[17.177619,54.00382],[17.183559,54.006397],[17.183579,54.009722],[17.161991,54.00812],[17.14857,54.003921],[17.122632,54.009764],[17.110131,54.007603],[17.109011,54.001294],[17.100177,53.986825],[17.113254,53.966946],[17.106331,53.967632],[17.098137,53.974359],[17.089642,53.976559],[17.06876,53.97259],[17.051844,53.96683],[17.037243,53.970693],[17.026271,53.968938],[17.006765,53.956899],[17.016495,53.945645],[17.017402,53.938485],[17.004336,53.928133],[16.995173,53.927896],[16.98463,53.923023],[16.98551,53.915638],[16.982054,53.904909],[16.966031,53.90481],[16.950937,53.909279],[16.949803,53.911934],[16.941549,53.91236],[16.932612,53.915569],[16.924667,53.920263],[16.922041,53.924808],[16.90717,53.926253],[16.882668,53.940188],[16.876956,53.941529],[16.872499,53.945771],[16.868048,53.947279],[16.862594,53.946594],[16.863394,53.950907],[16.874285,53.951707],[16.87776,53.955467],[16.879123,53.964337],[16.875412,53.968874],[16.875484,53.974754],[16.873108,53.977252],[16.846773,53.984644],[16.84196,53.997285],[16.828919,53.995881],[16.825288,54.003354],[16.819481,54.00373],[16.814603,54.000403],[16.813125,53.996086],[16.804389,53.992379],[16.805695,53.988311],[16.803052,53.986366],[16.811209,53.984949],[16.812861,53.979869],[16.791448,53.980448],[16.792765,53.98555],[16.797679,53.987027],[16.796084,53.994534],[16.800466,53.999984],[16.800037,54.004792],[16.790802,54.009289],[16.794139,54.010979],[16.788525,54.013888],[16.783367,54.023582],[16.78607,54.02813],[16.797469,54.036031],[16.794887,54.049996],[16.797883,54.054781],[16.806326,54.056787],[16.810936,54.060308],[16.808636,54.067468],[16.811659,54.072989],[16.803075,54.078205],[16.79422,54.075618],[16.793289,54.084545],[16.793819,54.099872],[16.79884,54.102101],[16.803467,54.11645],[16.794291,54.120965],[16.779051,54.12002],[16.777626,54.126926],[16.783236,54.13064],[16.775698,54.134091],[16.77567,54.150052],[16.773224,54.154707],[16.758299,54.157466],[16.748925,54.172382],[16.730875,54.179172],[16.729324,54.183582],[16.734974,54.186133],[16.732751,54.202519],[16.7211,54.202906],[16.719295,54.208409],[16.713122,54.213936],[16.7211,54.221396],[16.727856,54.224996],[16.731716,54.231928],[16.744036,54.230822],[16.752734,54.235039],[16.760296,54.234463],[16.773902,54.240144],[16.781934,54.239554],[16.79954,54.243881],[16.809937,54.243338],[16.82035,54.246653],[16.833257,54.2464],[16.863376,54.260354],[16.862562,54.264058],[16.865138,54.27522],[16.863258,54.287991],[16.854453,54.300442],[16.85367,54.30754],[16.839571,54.314759],[16.814859,54.318778],[16.82358,54.330966],[16.827533,54.346127],[16.816506,54.359424],[16.809881,54.360402],[16.809337,54.36326],[16.808163,54.369427],[16.821954,54.368533],[16.835288,54.37022],[16.839585,54.375566],[16.846611,54.373018],[16.856174,54.377515],[16.858171,54.381985],[16.841018,54.398563],[16.838702,54.406565],[16.824391,54.415716],[16.824697,54.417046],[16.82803,54.420806],[16.829035,54.42212],[16.830369,54.424294],[16.834914,54.428659],[16.837341,54.430582],[16.839617,54.432003],[16.840323,54.438763],[16.823039,54.453102],[16.822174,54.456289],[16.827609,54.459339],[16.824521,54.462642],[16.825838,54.466522],[16.819977,54.47232],[16.817317,54.470224],[16.814855,54.47115],[16.809201,54.481015],[16.801259,54.48114],[16.798806,54.483956],[16.793725,54.484935],[16.793315,54.487439],[16.778819,54.484849],[16.762974,54.487433],[16.751185,54.498833],[16.739656,54.517057],[16.740557,54.522267],[16.746977,54.528033],[16.74592,54.53193],[16.7211,54.548768],[16.712907,54.554325],[16.699085,54.569247],[16.7211,54.568852],[16.746342,54.568398],[16.762954,54.569603],[16.791804,54.57705],[16.823118,54.582435],[16.846786,54.587816],[16.851245,54.591252],[16.856328,54.588965],[16.884156,54.590893],[16.91476,54.599431],[16.934871,54.6065],[16.950937,54.612147],[17.000554,54.637707],[17.015726,54.647685],[17.046298,54.667781],[17.085238,54.679638],[17.151389,54.698423],[17.209807,54.717985],[17.228636,54.725357],[17.253984,54.732363],[17.264137,54.733865],[17.329227,54.743492],[17.34677,54.748665],[17.390459,54.752836],[17.446607,54.754954],[17.491284,54.75968],[17.508182,54.762631],[17.518172,54.764374],[17.529671,54.765593],[17.613225,54.774446],[17.648155,54.780712],[17.666607,54.783231],[17.672537,54.773921],[17.675687,54.771534],[17.70399,54.777389],[17.710492,54.775042],[17.719769,54.775479],[17.726072,54.762747],[17.725431,54.756421],[17.739353,54.749351],[17.737614,54.746297],[17.764601,54.742924],[17.77056,54.737393],[17.771734,54.732663],[17.761995,54.732733],[17.757458,54.727358],[17.749144,54.723213],[17.754335,54.71893],[17.755819,54.710801],[17.768415,54.709181],[17.770211,54.705466],[17.782025,54.701452],[17.7885,54.677667],[17.796497,54.675452],[17.799146,54.667719],[17.817599,54.665103],[17.827587,54.665852],[17.827437,54.657344],[17.814857,54.635083],[17.818914,54.616962],[17.814812,54.610701],[17.816141,54.606941],[17.809645,54.607285],[17.799213,54.611771],[17.786701,54.614041],[17.781102,54.61389],[17.779417,54.612311],[17.783769,54.593517],[17.797798,54.587788],[17.813041,54.569349],[17.814061,54.564917],[17.826446,54.56251],[17.840874,54.564763],[17.845532,54.561256],[17.844205,54.557165],[17.832368,54.552869],[17.838247,54.541095],[17.838915,54.533145],[17.835943,54.525146],[17.828592,54.522267],[17.825168,54.520925],[17.827299,54.512577],[17.858129,54.514061],[17.865357,54.508626],[17.867747,54.506829],[17.865357,54.503403],[17.865357,54.501831],[17.873342,54.500833],[17.878914,54.498056],[17.875922,54.491512],[17.881231,54.484871],[17.885929,54.479644],[17.867832,54.475748],[17.865357,54.474276],[17.856932,54.469263],[17.851146,54.468435],[17.851263,54.465609],[17.846098,54.461821],[17.852314,54.444924],[17.865357,54.430848],[17.876612,54.418698],[17.881238,54.409955],[17.873848,54.406745],[17.865357,54.405233],[17.856908,54.403729],[17.847791,54.410164],[17.823679,54.415112],[17.812799,54.41523],[17.799848,54.411519],[17.793148,54.39403],[17.801007,54.384863],[17.789892,54.375695],[17.794919,54.369846],[17.77887,54.364552],[17.777107,54.36326],[17.764484,54.354006],[17.750393,54.354381],[17.748938,54.351201],[17.742582,54.3498],[17.747257,54.3411],[17.740261,54.332016],[17.742189,54.32918],[17.738993,54.324294],[17.732661,54.323193],[17.728814,54.324442],[17.714506,54.320978],[17.708389,54.306117],[17.711128,54.301412],[17.725939,54.294076],[17.714722,54.282741],[17.722425,54.2689],[17.722302,54.261986],[17.716962,54.25539],[17.703048,54.245365],[17.7002,54.239768],[17.70252,54.236909],[17.712169,54.234681],[17.713971,54.224451],[17.721343,54.220372],[17.722488,54.21574],[17.704765,54.192814],[17.689192,54.183321],[17.693874,54.182908],[17.703605,54.186674],[17.703877,54.181903],[17.707306,54.181514],[17.722386,54.196032],[17.738739,54.20363],[17.748701,54.198739],[17.749311,54.18675],[17.758094,54.179888],[17.766437,54.179216],[17.780449,54.184444],[17.789988,54.182648],[17.800194,54.178172]]],\"type\":\"Polygon\"},\"id\":\"PL: S\\u0142upski\",\"properties\":{},\"type\":\"Feature\"}],\"type\":\"FeatureCollection\"},\"hovertemplate\":\"Location=%{location}<br>risk_cat=%{z}<extra></extra>\",\"locations\":[\"PL: Chojnicki\",\"PL: Starogardzki\",\"PL: Tr\\u00f3jmiejski\",\"PL: Gda\\u0144ski\",\"PL: S\\u0142upski\"],\"name\":\"\",\"subplot\":\"mapbox\",\"type\":\"choroplethmapbox\",\"z\":[1,4,2,1,1]}],                        {\"coloraxis\":{\"cmax\":5,\"cmin\":1,\"colorbar\":{\"ticktext\":[1,2,3,4,5],\"tickvals\":[1,2,3,4,5],\"title\":{\"text\":\"Risk category\"}},\"colorscale\":[[0.0,\"rgb(255,245,240)\"],[0.125,\"rgb(254,224,210)\"],[0.25,\"rgb(252,187,161)\"],[0.375,\"rgb(252,146,114)\"],[0.5,\"rgb(251,106,74)\"],[0.625,\"rgb(239,59,44)\"],[0.75,\"rgb(203,24,29)\"],[0.875,\"rgb(165,15,21)\"],[1.0,\"rgb(103,0,13)\"]]},\"geo\":{\"fitbounds\":\"locations\",\"visible\":false},\"legend\":{\"tracegroupgap\":0},\"mapbox\":{\"center\":{\"lat\":54.15269217170842,\"lon\":17.974935395135105},\"domain\":{\"x\":[0.0,1.0],\"y\":[0.0,1.0]},\"style\":\"open-street-map\",\"zoom\":5},\"margin\":{\"t\":60},\"template\":{\"data\":{\"bar\":[{\"error_x\":{\"color\":\"#2a3f5f\"},\"error_y\":{\"color\":\"#2a3f5f\"},\"marker\":{\"line\":{\"color\":\"#E5ECF6\",\"width\":0.5},\"pattern\":{\"fillmode\":\"overlay\",\"size\":10,\"solidity\":0.2}},\"type\":\"bar\"}],\"barpolar\":[{\"marker\":{\"line\":{\"color\":\"#E5ECF6\",\"width\":0.5},\"pattern\":{\"fillmode\":\"overlay\",\"size\":10,\"solidity\":0.2}},\"type\":\"barpolar\"}],\"carpet\":[{\"aaxis\":{\"endlinecolor\":\"#2a3f5f\",\"gridcolor\":\"white\",\"linecolor\":\"white\",\"minorgridcolor\":\"white\",\"startlinecolor\":\"#2a3f5f\"},\"baxis\":{\"endlinecolor\":\"#2a3f5f\",\"gridcolor\":\"white\",\"linecolor\":\"white\",\"minorgridcolor\":\"white\",\"startlinecolor\":\"#2a3f5f\"},\"type\":\"carpet\"}],\"choropleth\":[{\"colorbar\":{\"outlinewidth\":0,\"ticks\":\"\"},\"type\":\"choropleth\"}],\"contour\":[{\"colorbar\":{\"outlinewidth\":0,\"ticks\":\"\"},\"colorscale\":[[0.0,\"#0d0887\"],[0.1111111111111111,\"#46039f\"],[0.2222222222222222,\"#7201a8\"],[0.3333333333333333,\"#9c179e\"],[0.4444444444444444,\"#bd3786\"],[0.5555555555555556,\"#d8576b\"],[0.6666666666666666,\"#ed7953\"],[0.7777777777777778,\"#fb9f3a\"],[0.8888888888888888,\"#fdca26\"],[1.0,\"#f0f921\"]],\"type\":\"contour\"}],\"contourcarpet\":[{\"colorbar\":{\"outlinewidth\":0,\"ticks\":\"\"},\"type\":\"contourcarpet\"}],\"heatmap\":[{\"colorbar\":{\"outlinewidth\":0,\"ticks\":\"\"},\"colorscale\":[[0.0,\"#0d0887\"],[0.1111111111111111,\"#46039f\"],[0.2222222222222222,\"#7201a8\"],[0.3333333333333333,\"#9c179e\"],[0.4444444444444444,\"#bd3786\"],[0.5555555555555556,\"#d8576b\"],[0.6666666666666666,\"#ed7953\"],[0.7777777777777778,\"#fb9f3a\"],[0.8888888888888888,\"#fdca26\"],[1.0,\"#f0f921\"]],\"type\":\"heatmap\"}],\"heatmapgl\":[{\"colorbar\":{\"outlinewidth\":0,\"ticks\":\"\"},\"colorscale\":[[0.0,\"#0d0887\"],[0.1111111111111111,\"#46039f\"],[0.2222222222222222,\"#7201a8\"],[0.3333333333333333,\"#9c179e\"],[0.4444444444444444,\"#bd3786\"],[0.5555555555555556,\"#d8576b\"],[0.6666666666666666,\"#ed7953\"],[0.7777777777777778,\"#fb9f3a\"],[0.8888888888888888,\"#fdca26\"],[1.0,\"#f0f921\"]],\"type\":\"heatmapgl\"}],\"histogram\":[{\"marker\":{\"pattern\":{\"fillmode\":\"overlay\",\"size\":10,\"solidity\":0.2}},\"type\":\"histogram\"}],\"histogram2d\":[{\"colorbar\":{\"outlinewidth\":0,\"ticks\":\"\"},\"colorscale\":[[0.0,\"#0d0887\"],[0.1111111111111111,\"#46039f\"],[0.2222222222222222,\"#7201a8\"],[0.3333333333333333,\"#9c179e\"],[0.4444444444444444,\"#bd3786\"],[0.5555555555555556,\"#d8576b\"],[0.6666666666666666,\"#ed7953\"],[0.7777777777777778,\"#fb9f3a\"],[0.8888888888888888,\"#fdca26\"],[1.0,\"#f0f921\"]],\"type\":\"histogram2d\"}],\"histogram2dcontour\":[{\"colorbar\":{\"outlinewidth\":0,\"ticks\":\"\"},\"colorscale\":[[0.0,\"#0d0887\"],[0.1111111111111111,\"#46039f\"],[0.2222222222222222,\"#7201a8\"],[0.3333333333333333,\"#9c179e\"],[0.4444444444444444,\"#bd3786\"],[0.5555555555555556,\"#d8576b\"],[0.6666666666666666,\"#ed7953\"],[0.7777777777777778,\"#fb9f3a\"],[0.8888888888888888,\"#fdca26\"],[1.0,\"#f0f921\"]],\"type\":\"histogram2dcontour\"}],\"mesh3d\":[{\"colorbar\":{\"outlinewidth\":0,\"ticks\":\"\"},\"type\":\"mesh3d\"}],\"parcoords\":[{\"line\":{\"colorbar\":{\"outlinewidth\":0,\"ticks\":\"\"}},\"type\":\"parcoords\"}],\"pie\":[{\"automargin\":true,\"type\":\"pie\"}],\"scatter\":[{\"marker\":{\"colorbar\":{\"outlinewidth\":0,\"ticks\":\"\"}},\"type\":\"scatter\"}],\"scatter3d\":[{\"line\":{\"colorbar\":{\"outlinewidth\":0,\"ticks\":\"\"}},\"marker\":{\"colorbar\":{\"outlinewidth\":0,\"ticks\":\"\"}},\"type\":\"scatter3d\"}],\"scattercarpet\":[{\"marker\":{\"colorbar\":{\"outlinewidth\":0,\"ticks\":\"\"}},\"type\":\"scattercarpet\"}],\"scattergeo\":[{\"marker\":{\"colorbar\":{\"outlinewidth\":0,\"ticks\":\"\"}},\"type\":\"scattergeo\"}],\"scattergl\":[{\"marker\":{\"colorbar\":{\"outlinewidth\":0,\"ticks\":\"\"}},\"type\":\"scattergl\"}],\"scattermapbox\":[{\"marker\":{\"colorbar\":{\"outlinewidth\":0,\"ticks\":\"\"}},\"type\":\"scattermapbox\"}],\"scatterpolar\":[{\"marker\":{\"colorbar\":{\"outlinewidth\":0,\"ticks\":\"\"}},\"type\":\"scatterpolar\"}],\"scatterpolargl\":[{\"marker\":{\"colorbar\":{\"outlinewidth\":0,\"ticks\":\"\"}},\"type\":\"scatterpolargl\"}],\"scatterternary\":[{\"marker\":{\"colorbar\":{\"outlinewidth\":0,\"ticks\":\"\"}},\"type\":\"scatterternary\"}],\"surface\":[{\"colorbar\":{\"outlinewidth\":0,\"ticks\":\"\"},\"colorscale\":[[0.0,\"#0d0887\"],[0.1111111111111111,\"#46039f\"],[0.2222222222222222,\"#7201a8\"],[0.3333333333333333,\"#9c179e\"],[0.4444444444444444,\"#bd3786\"],[0.5555555555555556,\"#d8576b\"],[0.6666666666666666,\"#ed7953\"],[0.7777777777777778,\"#fb9f3a\"],[0.8888888888888888,\"#fdca26\"],[1.0,\"#f0f921\"]],\"type\":\"surface\"}],\"table\":[{\"cells\":{\"fill\":{\"color\":\"#EBF0F8\"},\"line\":{\"color\":\"white\"}},\"header\":{\"fill\":{\"color\":\"#C8D4E3\"},\"line\":{\"color\":\"white\"}},\"type\":\"table\"}]},\"layout\":{\"annotationdefaults\":{\"arrowcolor\":\"#2a3f5f\",\"arrowhead\":0,\"arrowwidth\":1},\"autotypenumbers\":\"strict\",\"coloraxis\":{\"colorbar\":{\"outlinewidth\":0,\"ticks\":\"\"}},\"colorscale\":{\"diverging\":[[0,\"#8e0152\"],[0.1,\"#c51b7d\"],[0.2,\"#de77ae\"],[0.3,\"#f1b6da\"],[0.4,\"#fde0ef\"],[0.5,\"#f7f7f7\"],[0.6,\"#e6f5d0\"],[0.7,\"#b8e186\"],[0.8,\"#7fbc41\"],[0.9,\"#4d9221\"],[1,\"#276419\"]],\"sequential\":[[0.0,\"#0d0887\"],[0.1111111111111111,\"#46039f\"],[0.2222222222222222,\"#7201a8\"],[0.3333333333333333,\"#9c179e\"],[0.4444444444444444,\"#bd3786\"],[0.5555555555555556,\"#d8576b\"],[0.6666666666666666,\"#ed7953\"],[0.7777777777777778,\"#fb9f3a\"],[0.8888888888888888,\"#fdca26\"],[1.0,\"#f0f921\"]],\"sequentialminus\":[[0.0,\"#0d0887\"],[0.1111111111111111,\"#46039f\"],[0.2222222222222222,\"#7201a8\"],[0.3333333333333333,\"#9c179e\"],[0.4444444444444444,\"#bd3786\"],[0.5555555555555556,\"#d8576b\"],[0.6666666666666666,\"#ed7953\"],[0.7777777777777778,\"#fb9f3a\"],[0.8888888888888888,\"#fdca26\"],[1.0,\"#f0f921\"]]},\"colorway\":[\"#636efa\",\"#EF553B\",\"#00cc96\",\"#ab63fa\",\"#FFA15A\",\"#19d3f3\",\"#FF6692\",\"#B6E880\",\"#FF97FF\",\"#FECB52\"],\"font\":{\"color\":\"#2a3f5f\"},\"geo\":{\"bgcolor\":\"white\",\"lakecolor\":\"white\",\"landcolor\":\"#E5ECF6\",\"showlakes\":true,\"showland\":true,\"subunitcolor\":\"white\"},\"hoverlabel\":{\"align\":\"left\"},\"hovermode\":\"closest\",\"mapbox\":{\"style\":\"light\"},\"paper_bgcolor\":\"white\",\"plot_bgcolor\":\"#E5ECF6\",\"polar\":{\"angularaxis\":{\"gridcolor\":\"white\",\"linecolor\":\"white\",\"ticks\":\"\"},\"bgcolor\":\"#E5ECF6\",\"radialaxis\":{\"gridcolor\":\"white\",\"linecolor\":\"white\",\"ticks\":\"\"}},\"scene\":{\"xaxis\":{\"backgroundcolor\":\"#E5ECF6\",\"gridcolor\":\"white\",\"gridwidth\":2,\"linecolor\":\"white\",\"showbackground\":true,\"ticks\":\"\",\"zerolinecolor\":\"white\"},\"yaxis\":{\"backgroundcolor\":\"#E5ECF6\",\"gridcolor\":\"white\",\"gridwidth\":2,\"linecolor\":\"white\",\"showbackground\":true,\"ticks\":\"\",\"zerolinecolor\":\"white\"},\"zaxis\":{\"backgroundcolor\":\"#E5ECF6\",\"gridcolor\":\"white\",\"gridwidth\":2,\"linecolor\":\"white\",\"showbackground\":true,\"ticks\":\"\",\"zerolinecolor\":\"white\"}},\"shapedefaults\":{\"line\":{\"color\":\"#2a3f5f\"}},\"ternary\":{\"aaxis\":{\"gridcolor\":\"white\",\"linecolor\":\"white\",\"ticks\":\"\"},\"baxis\":{\"gridcolor\":\"white\",\"linecolor\":\"white\",\"ticks\":\"\"},\"bgcolor\":\"#E5ECF6\",\"caxis\":{\"gridcolor\":\"white\",\"linecolor\":\"white\",\"ticks\":\"\"}},\"title\":{\"x\":0.05},\"xaxis\":{\"automargin\":true,\"gridcolor\":\"white\",\"linecolor\":\"white\",\"ticks\":\"\",\"title\":{\"standoff\":15},\"zerolinecolor\":\"white\",\"zerolinewidth\":2},\"yaxis\":{\"automargin\":true,\"gridcolor\":\"white\",\"linecolor\":\"white\",\"ticks\":\"\",\"title\":{\"standoff\":15},\"zerolinecolor\":\"white\",\"zerolinewidth\":2}}},\"title\":{\"text\":\"Drought Risk\"}},                        {\"responsive\": true}                    ).then(function(){\n",
       "                            \n",
       "var gd = document.getElementById('71956d1a-f981-449a-a812-60243ccfa096');\n",
       "var x = new MutationObserver(function (mutations, observer) {{\n",
       "        var display = window.getComputedStyle(gd).display;\n",
       "        if (!display || display === 'none') {{\n",
       "            console.log([gd, 'removed!']);\n",
       "            Plotly.purge(gd);\n",
       "            observer.disconnect();\n",
       "        }}\n",
       "}});\n",
       "\n",
       "// Listen for the removal of the full notebook cells\n",
       "var notebookContainer = gd.closest('#notebook-container');\n",
       "if (notebookContainer) {{\n",
       "    x.observe(notebookContainer, {childList: true});\n",
       "}}\n",
       "\n",
       "// Listen for the clearing of the current output cell\n",
       "var outputEl = gd.closest('.output');\n",
       "if (outputEl) {{\n",
       "    x.observe(outputEl, {childList: true});\n",
       "}}\n",
       "\n",
       "                        })                };                });            </script>        </div>"
      ]
     },
     "metadata": {},
     "output_type": "display_data"
    },
    {
     "name": "stdout",
     "output_type": "stream",
     "text": [
      "\n",
      "\n",
      "Explore drought risk dimensions (marker size indicates risk category): \n",
      "Deselect specific countries by click on the country codes on the right.\n",
      "Select a specific country by double clicking on it.\n"
     ]
    },
    {
     "data": {
      "application/vnd.plotly.v1+json": {
       "config": {
        "plotlyServerURL": "https://plot.ly"
       },
       "data": [
        {
         "hovertemplate": "CNTR_CODE=PL<br>hazard_raw=%{x}<br>exposure_raw=%{y}<br>vulnerability_raw=%{z}<br>risk_cat=%{marker.size}<extra></extra>",
         "legendgroup": "PL",
         "marker": {
          "color": "#636efa",
          "size": [
           1,
           4,
           2,
           1,
           1
          ],
          "sizemode": "area",
          "sizeref": 0.01,
          "symbol": "circle"
         },
         "mode": "markers",
         "name": "PL",
         "scene": "scene",
         "showlegend": true,
         "type": "scatter3d",
         "x": [
          0.746,
          0.748,
          0.762,
          0.72,
          0.719
         ],
         "y": [
          0.201,
          0.997,
          1,
          1,
          0.886
         ],
         "z": [
          0.01,
          1,
          0.462,
          0.27,
          0.271
         ]
        }
       ],
       "layout": {
        "height": 700,
        "legend": {
         "itemsizing": "constant",
         "title": {
          "text": "Country code"
         },
         "tracegroupgap": 0
        },
        "margin": {
         "t": 60
        },
        "scene": {
         "aspectmode": "manual",
         "aspectratio": {
          "x": 0.9,
          "y": 0.9,
          "z": 0.9
         },
         "domain": {
          "x": [
           0,
           1
          ],
          "y": [
           0,
           1
          ]
         },
         "xaxis": {
          "nticks": 6,
          "range": [
           0,
           1
          ],
          "title": {
           "text": "Hazard"
          }
         },
         "yaxis": {
          "nticks": 6,
          "range": [
           0,
           1
          ],
          "title": {
           "text": "Exposure"
          }
         },
         "zaxis": {
          "nticks": 6,
          "range": [
           0,
           1
          ],
          "title": {
           "text": "Vulnerability"
          }
         }
        },
        "template": {
         "data": {
          "bar": [
           {
            "error_x": {
             "color": "#2a3f5f"
            },
            "error_y": {
             "color": "#2a3f5f"
            },
            "marker": {
             "line": {
              "color": "#E5ECF6",
              "width": 0.5
             },
             "pattern": {
              "fillmode": "overlay",
              "size": 10,
              "solidity": 0.2
             }
            },
            "type": "bar"
           }
          ],
          "barpolar": [
           {
            "marker": {
             "line": {
              "color": "#E5ECF6",
              "width": 0.5
             },
             "pattern": {
              "fillmode": "overlay",
              "size": 10,
              "solidity": 0.2
             }
            },
            "type": "barpolar"
           }
          ],
          "carpet": [
           {
            "aaxis": {
             "endlinecolor": "#2a3f5f",
             "gridcolor": "white",
             "linecolor": "white",
             "minorgridcolor": "white",
             "startlinecolor": "#2a3f5f"
            },
            "baxis": {
             "endlinecolor": "#2a3f5f",
             "gridcolor": "white",
             "linecolor": "white",
             "minorgridcolor": "white",
             "startlinecolor": "#2a3f5f"
            },
            "type": "carpet"
           }
          ],
          "choropleth": [
           {
            "colorbar": {
             "outlinewidth": 0,
             "ticks": ""
            },
            "type": "choropleth"
           }
          ],
          "contour": [
           {
            "colorbar": {
             "outlinewidth": 0,
             "ticks": ""
            },
            "colorscale": [
             [
              0,
              "#0d0887"
             ],
             [
              0.1111111111111111,
              "#46039f"
             ],
             [
              0.2222222222222222,
              "#7201a8"
             ],
             [
              0.3333333333333333,
              "#9c179e"
             ],
             [
              0.4444444444444444,
              "#bd3786"
             ],
             [
              0.5555555555555556,
              "#d8576b"
             ],
             [
              0.6666666666666666,
              "#ed7953"
             ],
             [
              0.7777777777777778,
              "#fb9f3a"
             ],
             [
              0.8888888888888888,
              "#fdca26"
             ],
             [
              1,
              "#f0f921"
             ]
            ],
            "type": "contour"
           }
          ],
          "contourcarpet": [
           {
            "colorbar": {
             "outlinewidth": 0,
             "ticks": ""
            },
            "type": "contourcarpet"
           }
          ],
          "heatmap": [
           {
            "colorbar": {
             "outlinewidth": 0,
             "ticks": ""
            },
            "colorscale": [
             [
              0,
              "#0d0887"
             ],
             [
              0.1111111111111111,
              "#46039f"
             ],
             [
              0.2222222222222222,
              "#7201a8"
             ],
             [
              0.3333333333333333,
              "#9c179e"
             ],
             [
              0.4444444444444444,
              "#bd3786"
             ],
             [
              0.5555555555555556,
              "#d8576b"
             ],
             [
              0.6666666666666666,
              "#ed7953"
             ],
             [
              0.7777777777777778,
              "#fb9f3a"
             ],
             [
              0.8888888888888888,
              "#fdca26"
             ],
             [
              1,
              "#f0f921"
             ]
            ],
            "type": "heatmap"
           }
          ],
          "heatmapgl": [
           {
            "colorbar": {
             "outlinewidth": 0,
             "ticks": ""
            },
            "colorscale": [
             [
              0,
              "#0d0887"
             ],
             [
              0.1111111111111111,
              "#46039f"
             ],
             [
              0.2222222222222222,
              "#7201a8"
             ],
             [
              0.3333333333333333,
              "#9c179e"
             ],
             [
              0.4444444444444444,
              "#bd3786"
             ],
             [
              0.5555555555555556,
              "#d8576b"
             ],
             [
              0.6666666666666666,
              "#ed7953"
             ],
             [
              0.7777777777777778,
              "#fb9f3a"
             ],
             [
              0.8888888888888888,
              "#fdca26"
             ],
             [
              1,
              "#f0f921"
             ]
            ],
            "type": "heatmapgl"
           }
          ],
          "histogram": [
           {
            "marker": {
             "pattern": {
              "fillmode": "overlay",
              "size": 10,
              "solidity": 0.2
             }
            },
            "type": "histogram"
           }
          ],
          "histogram2d": [
           {
            "colorbar": {
             "outlinewidth": 0,
             "ticks": ""
            },
            "colorscale": [
             [
              0,
              "#0d0887"
             ],
             [
              0.1111111111111111,
              "#46039f"
             ],
             [
              0.2222222222222222,
              "#7201a8"
             ],
             [
              0.3333333333333333,
              "#9c179e"
             ],
             [
              0.4444444444444444,
              "#bd3786"
             ],
             [
              0.5555555555555556,
              "#d8576b"
             ],
             [
              0.6666666666666666,
              "#ed7953"
             ],
             [
              0.7777777777777778,
              "#fb9f3a"
             ],
             [
              0.8888888888888888,
              "#fdca26"
             ],
             [
              1,
              "#f0f921"
             ]
            ],
            "type": "histogram2d"
           }
          ],
          "histogram2dcontour": [
           {
            "colorbar": {
             "outlinewidth": 0,
             "ticks": ""
            },
            "colorscale": [
             [
              0,
              "#0d0887"
             ],
             [
              0.1111111111111111,
              "#46039f"
             ],
             [
              0.2222222222222222,
              "#7201a8"
             ],
             [
              0.3333333333333333,
              "#9c179e"
             ],
             [
              0.4444444444444444,
              "#bd3786"
             ],
             [
              0.5555555555555556,
              "#d8576b"
             ],
             [
              0.6666666666666666,
              "#ed7953"
             ],
             [
              0.7777777777777778,
              "#fb9f3a"
             ],
             [
              0.8888888888888888,
              "#fdca26"
             ],
             [
              1,
              "#f0f921"
             ]
            ],
            "type": "histogram2dcontour"
           }
          ],
          "mesh3d": [
           {
            "colorbar": {
             "outlinewidth": 0,
             "ticks": ""
            },
            "type": "mesh3d"
           }
          ],
          "parcoords": [
           {
            "line": {
             "colorbar": {
              "outlinewidth": 0,
              "ticks": ""
             }
            },
            "type": "parcoords"
           }
          ],
          "pie": [
           {
            "automargin": true,
            "type": "pie"
           }
          ],
          "scatter": [
           {
            "marker": {
             "colorbar": {
              "outlinewidth": 0,
              "ticks": ""
             }
            },
            "type": "scatter"
           }
          ],
          "scatter3d": [
           {
            "line": {
             "colorbar": {
              "outlinewidth": 0,
              "ticks": ""
             }
            },
            "marker": {
             "colorbar": {
              "outlinewidth": 0,
              "ticks": ""
             }
            },
            "type": "scatter3d"
           }
          ],
          "scattercarpet": [
           {
            "marker": {
             "colorbar": {
              "outlinewidth": 0,
              "ticks": ""
             }
            },
            "type": "scattercarpet"
           }
          ],
          "scattergeo": [
           {
            "marker": {
             "colorbar": {
              "outlinewidth": 0,
              "ticks": ""
             }
            },
            "type": "scattergeo"
           }
          ],
          "scattergl": [
           {
            "marker": {
             "colorbar": {
              "outlinewidth": 0,
              "ticks": ""
             }
            },
            "type": "scattergl"
           }
          ],
          "scattermapbox": [
           {
            "marker": {
             "colorbar": {
              "outlinewidth": 0,
              "ticks": ""
             }
            },
            "type": "scattermapbox"
           }
          ],
          "scatterpolar": [
           {
            "marker": {
             "colorbar": {
              "outlinewidth": 0,
              "ticks": ""
             }
            },
            "type": "scatterpolar"
           }
          ],
          "scatterpolargl": [
           {
            "marker": {
             "colorbar": {
              "outlinewidth": 0,
              "ticks": ""
             }
            },
            "type": "scatterpolargl"
           }
          ],
          "scatterternary": [
           {
            "marker": {
             "colorbar": {
              "outlinewidth": 0,
              "ticks": ""
             }
            },
            "type": "scatterternary"
           }
          ],
          "surface": [
           {
            "colorbar": {
             "outlinewidth": 0,
             "ticks": ""
            },
            "colorscale": [
             [
              0,
              "#0d0887"
             ],
             [
              0.1111111111111111,
              "#46039f"
             ],
             [
              0.2222222222222222,
              "#7201a8"
             ],
             [
              0.3333333333333333,
              "#9c179e"
             ],
             [
              0.4444444444444444,
              "#bd3786"
             ],
             [
              0.5555555555555556,
              "#d8576b"
             ],
             [
              0.6666666666666666,
              "#ed7953"
             ],
             [
              0.7777777777777778,
              "#fb9f3a"
             ],
             [
              0.8888888888888888,
              "#fdca26"
             ],
             [
              1,
              "#f0f921"
             ]
            ],
            "type": "surface"
           }
          ],
          "table": [
           {
            "cells": {
             "fill": {
              "color": "#EBF0F8"
             },
             "line": {
              "color": "white"
             }
            },
            "header": {
             "fill": {
              "color": "#C8D4E3"
             },
             "line": {
              "color": "white"
             }
            },
            "type": "table"
           }
          ]
         },
         "layout": {
          "annotationdefaults": {
           "arrowcolor": "#2a3f5f",
           "arrowhead": 0,
           "arrowwidth": 1
          },
          "autotypenumbers": "strict",
          "coloraxis": {
           "colorbar": {
            "outlinewidth": 0,
            "ticks": ""
           }
          },
          "colorscale": {
           "diverging": [
            [
             0,
             "#8e0152"
            ],
            [
             0.1,
             "#c51b7d"
            ],
            [
             0.2,
             "#de77ae"
            ],
            [
             0.3,
             "#f1b6da"
            ],
            [
             0.4,
             "#fde0ef"
            ],
            [
             0.5,
             "#f7f7f7"
            ],
            [
             0.6,
             "#e6f5d0"
            ],
            [
             0.7,
             "#b8e186"
            ],
            [
             0.8,
             "#7fbc41"
            ],
            [
             0.9,
             "#4d9221"
            ],
            [
             1,
             "#276419"
            ]
           ],
           "sequential": [
            [
             0,
             "#0d0887"
            ],
            [
             0.1111111111111111,
             "#46039f"
            ],
            [
             0.2222222222222222,
             "#7201a8"
            ],
            [
             0.3333333333333333,
             "#9c179e"
            ],
            [
             0.4444444444444444,
             "#bd3786"
            ],
            [
             0.5555555555555556,
             "#d8576b"
            ],
            [
             0.6666666666666666,
             "#ed7953"
            ],
            [
             0.7777777777777778,
             "#fb9f3a"
            ],
            [
             0.8888888888888888,
             "#fdca26"
            ],
            [
             1,
             "#f0f921"
            ]
           ],
           "sequentialminus": [
            [
             0,
             "#0d0887"
            ],
            [
             0.1111111111111111,
             "#46039f"
            ],
            [
             0.2222222222222222,
             "#7201a8"
            ],
            [
             0.3333333333333333,
             "#9c179e"
            ],
            [
             0.4444444444444444,
             "#bd3786"
            ],
            [
             0.5555555555555556,
             "#d8576b"
            ],
            [
             0.6666666666666666,
             "#ed7953"
            ],
            [
             0.7777777777777778,
             "#fb9f3a"
            ],
            [
             0.8888888888888888,
             "#fdca26"
            ],
            [
             1,
             "#f0f921"
            ]
           ]
          },
          "colorway": [
           "#636efa",
           "#EF553B",
           "#00cc96",
           "#ab63fa",
           "#FFA15A",
           "#19d3f3",
           "#FF6692",
           "#B6E880",
           "#FF97FF",
           "#FECB52"
          ],
          "font": {
           "color": "#2a3f5f"
          },
          "geo": {
           "bgcolor": "white",
           "lakecolor": "white",
           "landcolor": "#E5ECF6",
           "showlakes": true,
           "showland": true,
           "subunitcolor": "white"
          },
          "hoverlabel": {
           "align": "left"
          },
          "hovermode": "closest",
          "mapbox": {
           "style": "light"
          },
          "paper_bgcolor": "white",
          "plot_bgcolor": "#E5ECF6",
          "polar": {
           "angularaxis": {
            "gridcolor": "white",
            "linecolor": "white",
            "ticks": ""
           },
           "bgcolor": "#E5ECF6",
           "radialaxis": {
            "gridcolor": "white",
            "linecolor": "white",
            "ticks": ""
           }
          },
          "scene": {
           "xaxis": {
            "backgroundcolor": "#E5ECF6",
            "gridcolor": "white",
            "gridwidth": 2,
            "linecolor": "white",
            "showbackground": true,
            "ticks": "",
            "zerolinecolor": "white"
           },
           "yaxis": {
            "backgroundcolor": "#E5ECF6",
            "gridcolor": "white",
            "gridwidth": 2,
            "linecolor": "white",
            "showbackground": true,
            "ticks": "",
            "zerolinecolor": "white"
           },
           "zaxis": {
            "backgroundcolor": "#E5ECF6",
            "gridcolor": "white",
            "gridwidth": 2,
            "linecolor": "white",
            "showbackground": true,
            "ticks": "",
            "zerolinecolor": "white"
           }
          },
          "shapedefaults": {
           "line": {
            "color": "#2a3f5f"
           }
          },
          "ternary": {
           "aaxis": {
            "gridcolor": "white",
            "linecolor": "white",
            "ticks": ""
           },
           "baxis": {
            "gridcolor": "white",
            "linecolor": "white",
            "ticks": ""
           },
           "bgcolor": "#E5ECF6",
           "caxis": {
            "gridcolor": "white",
            "linecolor": "white",
            "ticks": ""
           }
          },
          "title": {
           "x": 0.05
          },
          "xaxis": {
           "automargin": true,
           "gridcolor": "white",
           "linecolor": "white",
           "ticks": "",
           "title": {
            "standoff": 15
           },
           "zerolinecolor": "white",
           "zerolinewidth": 2
          },
          "yaxis": {
           "automargin": true,
           "gridcolor": "white",
           "linecolor": "white",
           "ticks": "",
           "title": {
            "standoff": 15
           },
           "zerolinecolor": "white",
           "zerolinewidth": 2
          }
         }
        }
       }
      },
      "text/html": [
       "<div>                            <div id=\"ca521cae-554e-4d10-be4f-4bad3b2809c1\" class=\"plotly-graph-div\" style=\"height:700px; width:100%;\"></div>            <script type=\"text/javascript\">                require([\"plotly\"], function(Plotly) {                    window.PLOTLYENV=window.PLOTLYENV || {};                                    if (document.getElementById(\"ca521cae-554e-4d10-be4f-4bad3b2809c1\")) {                    Plotly.newPlot(                        \"ca521cae-554e-4d10-be4f-4bad3b2809c1\",                        [{\"hovertemplate\":\"CNTR_CODE=PL<br>hazard_raw=%{x}<br>exposure_raw=%{y}<br>vulnerability_raw=%{z}<br>risk_cat=%{marker.size}<extra></extra>\",\"legendgroup\":\"PL\",\"marker\":{\"color\":\"#636efa\",\"size\":[1,4,2,1,1],\"sizemode\":\"area\",\"sizeref\":0.01,\"symbol\":\"circle\"},\"mode\":\"markers\",\"name\":\"PL\",\"scene\":\"scene\",\"showlegend\":true,\"type\":\"scatter3d\",\"x\":[0.746,0.748,0.762,0.72,0.719],\"y\":[0.201,0.997,1.0,1.0,0.886],\"z\":[0.01,1.0,0.462,0.27,0.271]}],                        {\"height\":700,\"legend\":{\"itemsizing\":\"constant\",\"title\":{\"text\":\"Country code\"},\"tracegroupgap\":0},\"margin\":{\"t\":60},\"scene\":{\"aspectmode\":\"manual\",\"aspectratio\":{\"x\":0.9,\"y\":0.9,\"z\":0.9},\"domain\":{\"x\":[0.0,1.0],\"y\":[0.0,1.0]},\"xaxis\":{\"nticks\":6,\"range\":[0,1],\"title\":{\"text\":\"Hazard\"}},\"yaxis\":{\"nticks\":6,\"range\":[0,1],\"title\":{\"text\":\"Exposure\"}},\"zaxis\":{\"nticks\":6,\"range\":[0,1],\"title\":{\"text\":\"Vulnerability\"}}},\"template\":{\"data\":{\"bar\":[{\"error_x\":{\"color\":\"#2a3f5f\"},\"error_y\":{\"color\":\"#2a3f5f\"},\"marker\":{\"line\":{\"color\":\"#E5ECF6\",\"width\":0.5},\"pattern\":{\"fillmode\":\"overlay\",\"size\":10,\"solidity\":0.2}},\"type\":\"bar\"}],\"barpolar\":[{\"marker\":{\"line\":{\"color\":\"#E5ECF6\",\"width\":0.5},\"pattern\":{\"fillmode\":\"overlay\",\"size\":10,\"solidity\":0.2}},\"type\":\"barpolar\"}],\"carpet\":[{\"aaxis\":{\"endlinecolor\":\"#2a3f5f\",\"gridcolor\":\"white\",\"linecolor\":\"white\",\"minorgridcolor\":\"white\",\"startlinecolor\":\"#2a3f5f\"},\"baxis\":{\"endlinecolor\":\"#2a3f5f\",\"gridcolor\":\"white\",\"linecolor\":\"white\",\"minorgridcolor\":\"white\",\"startlinecolor\":\"#2a3f5f\"},\"type\":\"carpet\"}],\"choropleth\":[{\"colorbar\":{\"outlinewidth\":0,\"ticks\":\"\"},\"type\":\"choropleth\"}],\"contour\":[{\"colorbar\":{\"outlinewidth\":0,\"ticks\":\"\"},\"colorscale\":[[0.0,\"#0d0887\"],[0.1111111111111111,\"#46039f\"],[0.2222222222222222,\"#7201a8\"],[0.3333333333333333,\"#9c179e\"],[0.4444444444444444,\"#bd3786\"],[0.5555555555555556,\"#d8576b\"],[0.6666666666666666,\"#ed7953\"],[0.7777777777777778,\"#fb9f3a\"],[0.8888888888888888,\"#fdca26\"],[1.0,\"#f0f921\"]],\"type\":\"contour\"}],\"contourcarpet\":[{\"colorbar\":{\"outlinewidth\":0,\"ticks\":\"\"},\"type\":\"contourcarpet\"}],\"heatmap\":[{\"colorbar\":{\"outlinewidth\":0,\"ticks\":\"\"},\"colorscale\":[[0.0,\"#0d0887\"],[0.1111111111111111,\"#46039f\"],[0.2222222222222222,\"#7201a8\"],[0.3333333333333333,\"#9c179e\"],[0.4444444444444444,\"#bd3786\"],[0.5555555555555556,\"#d8576b\"],[0.6666666666666666,\"#ed7953\"],[0.7777777777777778,\"#fb9f3a\"],[0.8888888888888888,\"#fdca26\"],[1.0,\"#f0f921\"]],\"type\":\"heatmap\"}],\"heatmapgl\":[{\"colorbar\":{\"outlinewidth\":0,\"ticks\":\"\"},\"colorscale\":[[0.0,\"#0d0887\"],[0.1111111111111111,\"#46039f\"],[0.2222222222222222,\"#7201a8\"],[0.3333333333333333,\"#9c179e\"],[0.4444444444444444,\"#bd3786\"],[0.5555555555555556,\"#d8576b\"],[0.6666666666666666,\"#ed7953\"],[0.7777777777777778,\"#fb9f3a\"],[0.8888888888888888,\"#fdca26\"],[1.0,\"#f0f921\"]],\"type\":\"heatmapgl\"}],\"histogram\":[{\"marker\":{\"pattern\":{\"fillmode\":\"overlay\",\"size\":10,\"solidity\":0.2}},\"type\":\"histogram\"}],\"histogram2d\":[{\"colorbar\":{\"outlinewidth\":0,\"ticks\":\"\"},\"colorscale\":[[0.0,\"#0d0887\"],[0.1111111111111111,\"#46039f\"],[0.2222222222222222,\"#7201a8\"],[0.3333333333333333,\"#9c179e\"],[0.4444444444444444,\"#bd3786\"],[0.5555555555555556,\"#d8576b\"],[0.6666666666666666,\"#ed7953\"],[0.7777777777777778,\"#fb9f3a\"],[0.8888888888888888,\"#fdca26\"],[1.0,\"#f0f921\"]],\"type\":\"histogram2d\"}],\"histogram2dcontour\":[{\"colorbar\":{\"outlinewidth\":0,\"ticks\":\"\"},\"colorscale\":[[0.0,\"#0d0887\"],[0.1111111111111111,\"#46039f\"],[0.2222222222222222,\"#7201a8\"],[0.3333333333333333,\"#9c179e\"],[0.4444444444444444,\"#bd3786\"],[0.5555555555555556,\"#d8576b\"],[0.6666666666666666,\"#ed7953\"],[0.7777777777777778,\"#fb9f3a\"],[0.8888888888888888,\"#fdca26\"],[1.0,\"#f0f921\"]],\"type\":\"histogram2dcontour\"}],\"mesh3d\":[{\"colorbar\":{\"outlinewidth\":0,\"ticks\":\"\"},\"type\":\"mesh3d\"}],\"parcoords\":[{\"line\":{\"colorbar\":{\"outlinewidth\":0,\"ticks\":\"\"}},\"type\":\"parcoords\"}],\"pie\":[{\"automargin\":true,\"type\":\"pie\"}],\"scatter\":[{\"marker\":{\"colorbar\":{\"outlinewidth\":0,\"ticks\":\"\"}},\"type\":\"scatter\"}],\"scatter3d\":[{\"line\":{\"colorbar\":{\"outlinewidth\":0,\"ticks\":\"\"}},\"marker\":{\"colorbar\":{\"outlinewidth\":0,\"ticks\":\"\"}},\"type\":\"scatter3d\"}],\"scattercarpet\":[{\"marker\":{\"colorbar\":{\"outlinewidth\":0,\"ticks\":\"\"}},\"type\":\"scattercarpet\"}],\"scattergeo\":[{\"marker\":{\"colorbar\":{\"outlinewidth\":0,\"ticks\":\"\"}},\"type\":\"scattergeo\"}],\"scattergl\":[{\"marker\":{\"colorbar\":{\"outlinewidth\":0,\"ticks\":\"\"}},\"type\":\"scattergl\"}],\"scattermapbox\":[{\"marker\":{\"colorbar\":{\"outlinewidth\":0,\"ticks\":\"\"}},\"type\":\"scattermapbox\"}],\"scatterpolar\":[{\"marker\":{\"colorbar\":{\"outlinewidth\":0,\"ticks\":\"\"}},\"type\":\"scatterpolar\"}],\"scatterpolargl\":[{\"marker\":{\"colorbar\":{\"outlinewidth\":0,\"ticks\":\"\"}},\"type\":\"scatterpolargl\"}],\"scatterternary\":[{\"marker\":{\"colorbar\":{\"outlinewidth\":0,\"ticks\":\"\"}},\"type\":\"scatterternary\"}],\"surface\":[{\"colorbar\":{\"outlinewidth\":0,\"ticks\":\"\"},\"colorscale\":[[0.0,\"#0d0887\"],[0.1111111111111111,\"#46039f\"],[0.2222222222222222,\"#7201a8\"],[0.3333333333333333,\"#9c179e\"],[0.4444444444444444,\"#bd3786\"],[0.5555555555555556,\"#d8576b\"],[0.6666666666666666,\"#ed7953\"],[0.7777777777777778,\"#fb9f3a\"],[0.8888888888888888,\"#fdca26\"],[1.0,\"#f0f921\"]],\"type\":\"surface\"}],\"table\":[{\"cells\":{\"fill\":{\"color\":\"#EBF0F8\"},\"line\":{\"color\":\"white\"}},\"header\":{\"fill\":{\"color\":\"#C8D4E3\"},\"line\":{\"color\":\"white\"}},\"type\":\"table\"}]},\"layout\":{\"annotationdefaults\":{\"arrowcolor\":\"#2a3f5f\",\"arrowhead\":0,\"arrowwidth\":1},\"autotypenumbers\":\"strict\",\"coloraxis\":{\"colorbar\":{\"outlinewidth\":0,\"ticks\":\"\"}},\"colorscale\":{\"diverging\":[[0,\"#8e0152\"],[0.1,\"#c51b7d\"],[0.2,\"#de77ae\"],[0.3,\"#f1b6da\"],[0.4,\"#fde0ef\"],[0.5,\"#f7f7f7\"],[0.6,\"#e6f5d0\"],[0.7,\"#b8e186\"],[0.8,\"#7fbc41\"],[0.9,\"#4d9221\"],[1,\"#276419\"]],\"sequential\":[[0.0,\"#0d0887\"],[0.1111111111111111,\"#46039f\"],[0.2222222222222222,\"#7201a8\"],[0.3333333333333333,\"#9c179e\"],[0.4444444444444444,\"#bd3786\"],[0.5555555555555556,\"#d8576b\"],[0.6666666666666666,\"#ed7953\"],[0.7777777777777778,\"#fb9f3a\"],[0.8888888888888888,\"#fdca26\"],[1.0,\"#f0f921\"]],\"sequentialminus\":[[0.0,\"#0d0887\"],[0.1111111111111111,\"#46039f\"],[0.2222222222222222,\"#7201a8\"],[0.3333333333333333,\"#9c179e\"],[0.4444444444444444,\"#bd3786\"],[0.5555555555555556,\"#d8576b\"],[0.6666666666666666,\"#ed7953\"],[0.7777777777777778,\"#fb9f3a\"],[0.8888888888888888,\"#fdca26\"],[1.0,\"#f0f921\"]]},\"colorway\":[\"#636efa\",\"#EF553B\",\"#00cc96\",\"#ab63fa\",\"#FFA15A\",\"#19d3f3\",\"#FF6692\",\"#B6E880\",\"#FF97FF\",\"#FECB52\"],\"font\":{\"color\":\"#2a3f5f\"},\"geo\":{\"bgcolor\":\"white\",\"lakecolor\":\"white\",\"landcolor\":\"#E5ECF6\",\"showlakes\":true,\"showland\":true,\"subunitcolor\":\"white\"},\"hoverlabel\":{\"align\":\"left\"},\"hovermode\":\"closest\",\"mapbox\":{\"style\":\"light\"},\"paper_bgcolor\":\"white\",\"plot_bgcolor\":\"#E5ECF6\",\"polar\":{\"angularaxis\":{\"gridcolor\":\"white\",\"linecolor\":\"white\",\"ticks\":\"\"},\"bgcolor\":\"#E5ECF6\",\"radialaxis\":{\"gridcolor\":\"white\",\"linecolor\":\"white\",\"ticks\":\"\"}},\"scene\":{\"xaxis\":{\"backgroundcolor\":\"#E5ECF6\",\"gridcolor\":\"white\",\"gridwidth\":2,\"linecolor\":\"white\",\"showbackground\":true,\"ticks\":\"\",\"zerolinecolor\":\"white\"},\"yaxis\":{\"backgroundcolor\":\"#E5ECF6\",\"gridcolor\":\"white\",\"gridwidth\":2,\"linecolor\":\"white\",\"showbackground\":true,\"ticks\":\"\",\"zerolinecolor\":\"white\"},\"zaxis\":{\"backgroundcolor\":\"#E5ECF6\",\"gridcolor\":\"white\",\"gridwidth\":2,\"linecolor\":\"white\",\"showbackground\":true,\"ticks\":\"\",\"zerolinecolor\":\"white\"}},\"shapedefaults\":{\"line\":{\"color\":\"#2a3f5f\"}},\"ternary\":{\"aaxis\":{\"gridcolor\":\"white\",\"linecolor\":\"white\",\"ticks\":\"\"},\"baxis\":{\"gridcolor\":\"white\",\"linecolor\":\"white\",\"ticks\":\"\"},\"bgcolor\":\"#E5ECF6\",\"caxis\":{\"gridcolor\":\"white\",\"linecolor\":\"white\",\"ticks\":\"\"}},\"title\":{\"x\":0.05},\"xaxis\":{\"automargin\":true,\"gridcolor\":\"white\",\"linecolor\":\"white\",\"ticks\":\"\",\"title\":{\"standoff\":15},\"zerolinecolor\":\"white\",\"zerolinewidth\":2},\"yaxis\":{\"automargin\":true,\"gridcolor\":\"white\",\"linecolor\":\"white\",\"ticks\":\"\",\"title\":{\"standoff\":15},\"zerolinecolor\":\"white\",\"zerolinewidth\":2}}}},                        {\"responsive\": true}                    ).then(function(){\n",
       "                            \n",
       "var gd = document.getElementById('ca521cae-554e-4d10-be4f-4bad3b2809c1');\n",
       "var x = new MutationObserver(function (mutations, observer) {{\n",
       "        var display = window.getComputedStyle(gd).display;\n",
       "        if (!display || display === 'none') {{\n",
       "            console.log([gd, 'removed!']);\n",
       "            Plotly.purge(gd);\n",
       "            observer.disconnect();\n",
       "        }}\n",
       "}});\n",
       "\n",
       "// Listen for the removal of the full notebook cells\n",
       "var notebookContainer = gd.closest('#notebook-container');\n",
       "if (notebookContainer) {{\n",
       "    x.observe(notebookContainer, {childList: true});\n",
       "}}\n",
       "\n",
       "// Listen for the clearing of the current output cell\n",
       "var outputEl = gd.closest('.output');\n",
       "if (outputEl) {{\n",
       "    x.observe(outputEl, {childList: true});\n",
       "}}\n",
       "\n",
       "                        })                };                });            </script>        </div>"
      ]
     },
     "metadata": {},
     "output_type": "display_data"
    },
    {
     "name": "stdout",
     "output_type": "stream",
     "text": [
      "\n",
      "\n"
     ]
    }
   ],
   "source": [
    "print('\\n')\n",
    "\n",
    "print(\"NUTS2 with the highest drought risk (TOP 15): \")\n",
    "print(pd.DataFrame(nuts.drop(columns='geometry')).sort_values(by=['risk_raw'],\\\n",
    "                      ascending = False)[['NUTS_ID', 'hazard_raw', 'exposure_raw',\\\n",
    "                                         'vulnerability_raw', 'risk_raw', 'risk_cat']].head(15))\n",
    "\n",
    "print('\\n')\n",
    "\n",
    "# plot risk map\n",
    "\n",
    "x_nuts, y_nuts = gpd.GeoSeries(nuts.geometry).unary_union.centroid.xy\n",
    "fig = px.choropleth_mapbox(nuts, geojson=nuts.geometry, locations=nuts.index, color='risk_cat',\\\n",
    "                  color_continuous_scale=\"reds\", range_color = [1,5], mapbox_style=\"open-street-map\")\n",
    "\n",
    "fig.update_geos(fitbounds=\"locations\", visible=False)\n",
    "fig.update_layout(title=\"Drought Risk\",\n",
    "                  mapbox_center = {\"lat\": list(y_nuts)[0], \"lon\": list(x_nuts)[0]},\n",
    "                  mapbox_zoom=5,\n",
    "                 coloraxis_colorbar=dict(\n",
    "                    title= \"Risk category\",\n",
    "                    tickvals = [1, 2, 3, 4, 5],\n",
    "                    ticktext = [1, 2, 3, 4, 5]\n",
    "                 ))\n",
    "\n",
    "fig.show()\n",
    "\n",
    "\n",
    "# plot risk components scatter plot\n",
    "print('\\n')\n",
    "print('Explore drought risk dimensions (marker size indicates risk category): ')\n",
    "print('Deselect specific countries by click on the country codes on the right.')\n",
    "print('Select a specific country by double clicking on it.')\n",
    "fig2 = px.scatter_3d(nuts, x='hazard_raw',\\\n",
    "                     y='exposure_raw',\\\n",
    "                     z='vulnerability_raw',\\\n",
    "                     size = 'risk_cat',\\\n",
    "                    color='CNTR_CODE') # nuts.index\n",
    "fig2.update_layout(\n",
    "    scene = dict(\n",
    "        xaxis = dict(nticks=6, range=[0,1]),\\\n",
    "        xaxis_title = 'Hazard',\\\n",
    "        yaxis = dict(nticks=6, range=[0,1]),\\\n",
    "        yaxis_title = 'Exposure',\\\n",
    "        zaxis = dict(nticks=6, range=[0,1]),\n",
    "        zaxis_title='Vulnerability',\\\n",
    "        aspectmode = \"manual\",\n",
    "        aspectratio = dict(x = 0.9, y = 0.9, z = 0.9)),\n",
    "    legend = dict(title = \"Country code\"),\n",
    "    height = 700)\n",
    "\n",
    "fig2.show()\n",
    "\n",
    "print('\\n')\n",
    "\n",
    "output.to_csv(os.path.join(workflow_folder, 'outputs', 'droughtrisk_' + ccode + '.csv'))\n",
    "\n"
   ]
  },
  {
   "cell_type": "markdown",
   "id": "9894fe05-7206-4468-9441-6d974a1a2e27",
   "metadata": {},
   "source": [
    "## Conclusions\n",
    "\n",
    "The above workflow estimates the relative drought risk of European NUTS2 regions as the product of drought hazard, exposure, and vulnerability. It results in relative drought risk classes ranging between 1 (low risk, 0 -0.2 risk) to 5 (high risk, 0.8 -1).\n",
    "The European drought risk map shows hotspots with higher drought risk (class 2 -3) in Southern Spain, Northern France, Italy, Hungary, Serbia, and Romania. In the Northern parts of Europe, higher drought risk is shown in Poland, North Germany, Denmark, and parts of the Netherlands and Belgium.\n",
    "\n",
    "Half of the NUTS2 units' hazard scores are high, ranging between 0.73 -0.8. The vulnerability is also relatively homogenous across the region, as half of the NUTS2 units range between 0.8 -0.88. The Balkan is the most vulnerable region having a minimum vulnerability score of 0.89. It means that the overall drought risk is limited mainly by exposure, which do not exceed 0.43 for 75% of the NUTS2 units.\n",
    "\n",
    "A comparison with published literature$^2$ overall approves the current drought risk map. Although some discrepancies are evident, particularly in NUTS2 units in the Netherlands and Belgium, they may be associated with differences in precipitation data, temporal coverage, spatial resolution, and spatial coverage. Though different input data largely result in consistent drought hazard estimates, it may lead to local discrepancies in different regions (e.g., Central and Northern Europe)$^6$."
   ]
  },
  {
   "cell_type": "markdown",
   "id": "58a12200-0053-4e52-945e-844b6ad72543",
   "metadata": {},
   "source": [
    "## Contributors\n",
    "The workflow has beend developed by [Silvia Artuso](https://iiasa.ac.at/staff/silvia-artuso) and [Dor Fridman](https://iiasa.ac.at/staff/dor-fridman) from [IIASA's Water Security Research Group](https://iiasa.ac.at/programs/biodiversity-and-natural-resources-bnr/water-security), and supported by [Michaela Bachmann](https://iiasa.ac.at/staff/michaela-bachmann) from [IIASA's Systemic Risk and Reslience Research Group](https://iiasa.ac.at/programs/advancing-systems-analysis-asa/systemic-risk-and-resilience)."
   ]
  },
  {
   "cell_type": "markdown",
   "id": "9772f1a6",
   "metadata": {},
   "source": [
    "## References\n",
    "\n",
    "[1] Zargar, A., Sadiq, R., Naser, B., & Khan, F. I. (2011). A review of drought indices. *Environmental Reviews*, 19: 333-349.\n",
    "\n",
    "[2] Carrão, H., Naumann, G., & Barbosa, P. (2016). Mapping global patterns of drought risk: An empirical framework based on sub-national estimates of hazard, exposure and vulnerability. *Global Environmental Change*, 39, 108-124.\n",
    "\n",
    "[3] Lyon, B., & Barnston, A. G. (2005). ENSO and the spatial extent of interannual precipitation extremes in tropical land areas. *Journal of climate*, 18(23), 5095-5109.\n",
    "\n",
    "[4] Carrão, H., Singleton, A., Naumann, G., Barbosa, P., & Vogt, J. V. (2014). An optimized system for the classification of meteorological drought intensity with applications in drought frequency analysis. *Journal of Applied Meteorology and Climatology*, 53(8), 1943-1960.\n",
    "\n",
    "[5] Sherman, H. D., & Zhu, J. (2006). Service productivity management: Improving service performance using data envelopment analysis (DEA). Springer science & business media.\n",
    "\n",
    "[6] Carrão, H., Naumann, G. & Barbosa, P. (2018). Global projections of drought hazard in a warming climate: a prime for disaster risk management. *Clim Dyn* 50: 2137–2155.\n"
   ]
  },
  {
   "cell_type": "code",
   "execution_count": null,
   "id": "35e275e8",
   "metadata": {},
   "outputs": [],
   "source": []
  }
 ],
 "metadata": {
  "kernelspec": {
   "display_name": "Python 3 (ipykernel)",
   "language": "python",
   "name": "python3"
  },
  "language_info": {
   "codemirror_mode": {
    "name": "ipython",
    "version": 3
   },
   "file_extension": ".py",
   "mimetype": "text/x-python",
   "name": "python",
   "nbconvert_exporter": "python",
   "pygments_lexer": "ipython3",
   "version": "3.8.10"
  }
 },
 "nbformat": 4,
 "nbformat_minor": 5
}
